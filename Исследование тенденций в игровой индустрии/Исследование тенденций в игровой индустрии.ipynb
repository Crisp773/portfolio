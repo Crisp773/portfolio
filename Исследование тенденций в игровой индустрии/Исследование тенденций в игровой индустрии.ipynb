{
 "cells": [
  {
   "cell_type": "markdown",
   "metadata": {},
   "source": [
    "# Исследование тенденций в игровой индустрии \n",
    "Исследование проводится для интернет-магазина \"Стримчик\". В рамках работы планируется изучить данные о продажах игр, оценках пользователей и экспертов для поиска закономерностей, определяющих успешность игр. Выявленные закономерности будут использованы при планировании будущей работы магазина.\n",
    "Исследование состоит из следующих этапов:\n",
    "1. Загрузка и предобработка данных;\n",
    "2. Исследовательский анализ имеющихся данных\n",
    "    1. Определение актуальности данных;\n",
    "    2. Анализ существующих платформ;\n",
    "    3. Анализ распределения игр по жанрам.\n",
    "3. Составление портрета пользователя для каждого региона\n",
    "4. Проверка гипотез\n",
    "5. Общий вывод"
   ]
  },
  {
   "cell_type": "code",
   "execution_count": 1,
   "metadata": {},
   "outputs": [],
   "source": [
    "import pandas as pd\n",
    "from scipy import stats as st\n",
    "import numpy as np\n",
    "import matplotlib.pyplot as plt\n",
    "import seaborn as sns"
   ]
  },
  {
   "cell_type": "markdown",
   "metadata": {},
   "source": [
    "#### Шаг. Загрузка и предобработка данных"
   ]
  },
  {
   "cell_type": "code",
   "execution_count": 2,
   "metadata": {},
   "outputs": [],
   "source": [
    "def check_df (df):\n",
    "\n",
    "    display(df.info())\n",
    "\n",
    "    display(df.head())"
   ]
  },
  {
   "cell_type": "code",
   "execution_count": 3,
   "metadata": {},
   "outputs": [],
   "source": [
    "df = pd.read_csv('/datasets/games.csv')"
   ]
  },
  {
   "cell_type": "code",
   "execution_count": 4,
   "metadata": {},
   "outputs": [
    {
     "name": "stdout",
     "output_type": "stream",
     "text": [
      "<class 'pandas.core.frame.DataFrame'>\n",
      "RangeIndex: 16715 entries, 0 to 16714\n",
      "Data columns (total 11 columns):\n",
      " #   Column           Non-Null Count  Dtype  \n",
      "---  ------           --------------  -----  \n",
      " 0   Name             16713 non-null  object \n",
      " 1   Platform         16715 non-null  object \n",
      " 2   Year_of_Release  16446 non-null  float64\n",
      " 3   Genre            16713 non-null  object \n",
      " 4   NA_sales         16715 non-null  float64\n",
      " 5   EU_sales         16715 non-null  float64\n",
      " 6   JP_sales         16715 non-null  float64\n",
      " 7   Other_sales      16715 non-null  float64\n",
      " 8   Critic_Score     8137 non-null   float64\n",
      " 9   User_Score       10014 non-null  object \n",
      " 10  Rating           9949 non-null   object \n",
      "dtypes: float64(6), object(5)\n",
      "memory usage: 1.4+ MB\n"
     ]
    },
    {
     "data": {
      "text/plain": [
       "None"
      ]
     },
     "metadata": {},
     "output_type": "display_data"
    },
    {
     "data": {
      "text/html": [
       "<div>\n",
       "<style scoped>\n",
       "    .dataframe tbody tr th:only-of-type {\n",
       "        vertical-align: middle;\n",
       "    }\n",
       "\n",
       "    .dataframe tbody tr th {\n",
       "        vertical-align: top;\n",
       "    }\n",
       "\n",
       "    .dataframe thead th {\n",
       "        text-align: right;\n",
       "    }\n",
       "</style>\n",
       "<table border=\"1\" class=\"dataframe\">\n",
       "  <thead>\n",
       "    <tr style=\"text-align: right;\">\n",
       "      <th></th>\n",
       "      <th>Name</th>\n",
       "      <th>Platform</th>\n",
       "      <th>Year_of_Release</th>\n",
       "      <th>Genre</th>\n",
       "      <th>NA_sales</th>\n",
       "      <th>EU_sales</th>\n",
       "      <th>JP_sales</th>\n",
       "      <th>Other_sales</th>\n",
       "      <th>Critic_Score</th>\n",
       "      <th>User_Score</th>\n",
       "      <th>Rating</th>\n",
       "    </tr>\n",
       "  </thead>\n",
       "  <tbody>\n",
       "    <tr>\n",
       "      <th>0</th>\n",
       "      <td>Wii Sports</td>\n",
       "      <td>Wii</td>\n",
       "      <td>2006.0</td>\n",
       "      <td>Sports</td>\n",
       "      <td>41.36</td>\n",
       "      <td>28.96</td>\n",
       "      <td>3.77</td>\n",
       "      <td>8.45</td>\n",
       "      <td>76.0</td>\n",
       "      <td>8</td>\n",
       "      <td>E</td>\n",
       "    </tr>\n",
       "    <tr>\n",
       "      <th>1</th>\n",
       "      <td>Super Mario Bros.</td>\n",
       "      <td>NES</td>\n",
       "      <td>1985.0</td>\n",
       "      <td>Platform</td>\n",
       "      <td>29.08</td>\n",
       "      <td>3.58</td>\n",
       "      <td>6.81</td>\n",
       "      <td>0.77</td>\n",
       "      <td>NaN</td>\n",
       "      <td>NaN</td>\n",
       "      <td>NaN</td>\n",
       "    </tr>\n",
       "    <tr>\n",
       "      <th>2</th>\n",
       "      <td>Mario Kart Wii</td>\n",
       "      <td>Wii</td>\n",
       "      <td>2008.0</td>\n",
       "      <td>Racing</td>\n",
       "      <td>15.68</td>\n",
       "      <td>12.76</td>\n",
       "      <td>3.79</td>\n",
       "      <td>3.29</td>\n",
       "      <td>82.0</td>\n",
       "      <td>8.3</td>\n",
       "      <td>E</td>\n",
       "    </tr>\n",
       "    <tr>\n",
       "      <th>3</th>\n",
       "      <td>Wii Sports Resort</td>\n",
       "      <td>Wii</td>\n",
       "      <td>2009.0</td>\n",
       "      <td>Sports</td>\n",
       "      <td>15.61</td>\n",
       "      <td>10.93</td>\n",
       "      <td>3.28</td>\n",
       "      <td>2.95</td>\n",
       "      <td>80.0</td>\n",
       "      <td>8</td>\n",
       "      <td>E</td>\n",
       "    </tr>\n",
       "    <tr>\n",
       "      <th>4</th>\n",
       "      <td>Pokemon Red/Pokemon Blue</td>\n",
       "      <td>GB</td>\n",
       "      <td>1996.0</td>\n",
       "      <td>Role-Playing</td>\n",
       "      <td>11.27</td>\n",
       "      <td>8.89</td>\n",
       "      <td>10.22</td>\n",
       "      <td>1.00</td>\n",
       "      <td>NaN</td>\n",
       "      <td>NaN</td>\n",
       "      <td>NaN</td>\n",
       "    </tr>\n",
       "  </tbody>\n",
       "</table>\n",
       "</div>"
      ],
      "text/plain": [
       "                       Name Platform  Year_of_Release         Genre  NA_sales  \\\n",
       "0                Wii Sports      Wii           2006.0        Sports     41.36   \n",
       "1         Super Mario Bros.      NES           1985.0      Platform     29.08   \n",
       "2            Mario Kart Wii      Wii           2008.0        Racing     15.68   \n",
       "3         Wii Sports Resort      Wii           2009.0        Sports     15.61   \n",
       "4  Pokemon Red/Pokemon Blue       GB           1996.0  Role-Playing     11.27   \n",
       "\n",
       "   EU_sales  JP_sales  Other_sales  Critic_Score User_Score Rating  \n",
       "0     28.96      3.77         8.45          76.0          8      E  \n",
       "1      3.58      6.81         0.77           NaN        NaN    NaN  \n",
       "2     12.76      3.79         3.29          82.0        8.3      E  \n",
       "3     10.93      3.28         2.95          80.0          8      E  \n",
       "4      8.89     10.22         1.00           NaN        NaN    NaN  "
      ]
     },
     "metadata": {},
     "output_type": "display_data"
    }
   ],
   "source": [
    "check_df(df)"
   ]
  },
  {
   "cell_type": "markdown",
   "metadata": {},
   "source": [
    "При первоначальном анализе можно обнаружить пропуски в столбцах critic_score, user_score, rating. Пропуски в данных столбцах не представляется возможным заполнить из-за их участия в дальнейших расчетах и специфической форме, все эти столбцы содержат оценки игр, которые нельзя заменить просто подставив среднее или медианное значение без вреда для выборки."
   ]
  },
  {
   "cell_type": "code",
   "execution_count": 5,
   "metadata": {},
   "outputs": [
    {
     "data": {
      "image/png": "[encoded data removed]",
      "text/plain": [
       "<Figure size 648x864 with 6 Axes>"
      ]
     },
     "metadata": {
      "needs_background": "light"
     },
     "output_type": "display_data"
    }
   ],
   "source": [
    "df.hist(figsize=(9,12))\n",
    "plt.show()"
   ]
  },
  {
   "cell_type": "code",
   "execution_count": 6,
   "metadata": {},
   "outputs": [
    {
     "name": "stdout",
     "output_type": "stream",
     "text": [
      "<class 'pandas.core.frame.DataFrame'>\n",
      "RangeIndex: 16715 entries, 0 to 16714\n",
      "Data columns (total 11 columns):\n",
      " #   Column           Non-Null Count  Dtype  \n",
      "---  ------           --------------  -----  \n",
      " 0   name             16713 non-null  object \n",
      " 1   platform         16715 non-null  object \n",
      " 2   year_of_release  16446 non-null  float64\n",
      " 3   genre            16713 non-null  object \n",
      " 4   na_sales         16715 non-null  float64\n",
      " 5   eu_sales         16715 non-null  float64\n",
      " 6   jp_sales         16715 non-null  float64\n",
      " 7   other_sales      16715 non-null  float64\n",
      " 8   critic_score     8137 non-null   float64\n",
      " 9   user_score       10014 non-null  object \n",
      " 10  rating           9949 non-null   object \n",
      "dtypes: float64(6), object(5)\n",
      "memory usage: 1.4+ MB\n"
     ]
    }
   ],
   "source": [
    "df = df.rename(columns={'Name': 'name',\n",
    "                        'Platform': 'platform',\n",
    "                        'Year_of_Release':'year_of_release',\n",
    "                        'Genre': 'genre',\n",
    "                        'NA_sales': 'na_sales',\n",
    "                        'EU_sales': 'eu_sales',\n",
    "                        'JP_sales': 'jp_sales',\n",
    "                        'Other_sales': 'other_sales',\n",
    "                        'Critic_Score': 'critic_score',\n",
    "                        'User_Score': 'user_score',\n",
    "                        'Rating': 'rating'})\n",
    "df.info()"
   ]
  },
  {
   "cell_type": "markdown",
   "metadata": {},
   "source": [
    "Изменим тип данных в столбцах year_of_release на int64, т.к. год издания не может быть вещественным числом, user_score на float32 т.к. оценка происходит в вещественных числах, а тип object в дальнейшем может помешать расчетам."
   ]
  },
  {
   "cell_type": "code",
   "execution_count": 7,
   "metadata": {
    "scrolled": true
   },
   "outputs": [
    {
     "name": "stdout",
     "output_type": "stream",
     "text": [
      "could not convert string to float: 'tbd'\n"
     ]
    }
   ],
   "source": [
    "try:\n",
    "    df.astype({'user_score':'float32'})\n",
    "except Exception as e: print(e)"
   ]
  },
  {
   "cell_type": "markdown",
   "metadata": {},
   "source": [
    "Среди оценок встречается строка tbd, этa аббревиатура означает to be determined, оценку еще не поставили, заменим эти значения на пропуски."
   ]
  },
  {
   "cell_type": "code",
   "execution_count": 8,
   "metadata": {},
   "outputs": [],
   "source": [
    "df['user_score'] = df['user_score'].replace('tbd', np.nan)\n",
    "try:\n",
    "    df = df.astype({'user_score':'float32'})\n",
    "except Exception as e: print(e)"
   ]
  },
  {
   "cell_type": "code",
   "execution_count": 9,
   "metadata": {},
   "outputs": [
    {
     "name": "stdout",
     "output_type": "stream",
     "text": [
      "<class 'pandas.core.frame.DataFrame'>\n",
      "RangeIndex: 16715 entries, 0 to 16714\n",
      "Data columns (total 11 columns):\n",
      " #   Column           Non-Null Count  Dtype  \n",
      "---  ------           --------------  -----  \n",
      " 0   name             16713 non-null  object \n",
      " 1   platform         16715 non-null  object \n",
      " 2   year_of_release  16446 non-null  float64\n",
      " 3   genre            16713 non-null  object \n",
      " 4   na_sales         16715 non-null  float64\n",
      " 5   eu_sales         16715 non-null  float64\n",
      " 6   jp_sales         16715 non-null  float64\n",
      " 7   other_sales      16715 non-null  float64\n",
      " 8   critic_score     8137 non-null   float64\n",
      " 9   user_score       7590 non-null   float32\n",
      " 10  rating           9949 non-null   object \n",
      "dtypes: float32(1), float64(6), object(4)\n",
      "memory usage: 1.3+ MB\n"
     ]
    }
   ],
   "source": [
    "df.info()"
   ]
  },
  {
   "cell_type": "code",
   "execution_count": 10,
   "metadata": {
    "scrolled": true
   },
   "outputs": [
    {
     "name": "stdout",
     "output_type": "stream",
     "text": [
      "<class 'pandas.core.frame.DataFrame'>\n",
      "RangeIndex: 16715 entries, 0 to 16714\n",
      "Data columns (total 12 columns):\n",
      " #   Column           Non-Null Count  Dtype  \n",
      "---  ------           --------------  -----  \n",
      " 0   name             16713 non-null  object \n",
      " 1   platform         16715 non-null  object \n",
      " 2   year_of_release  16446 non-null  float64\n",
      " 3   genre            16713 non-null  object \n",
      " 4   na_sales         16715 non-null  float64\n",
      " 5   eu_sales         16715 non-null  float64\n",
      " 6   jp_sales         16715 non-null  float64\n",
      " 7   other_sales      16715 non-null  float64\n",
      " 8   critic_score     8137 non-null   float64\n",
      " 9   user_score       7590 non-null   float32\n",
      " 10  rating           9949 non-null   object \n",
      " 11  global_sales     16715 non-null  float64\n",
      "dtypes: float32(1), float64(7), object(4)\n",
      "memory usage: 1.5+ MB\n"
     ]
    },
    {
     "data": {
      "text/plain": [
       "None"
      ]
     },
     "metadata": {},
     "output_type": "display_data"
    },
    {
     "data": {
      "text/html": [
       "<div>\n",
       "<style scoped>\n",
       "    .dataframe tbody tr th:only-of-type {\n",
       "        vertical-align: middle;\n",
       "    }\n",
       "\n",
       "    .dataframe tbody tr th {\n",
       "        vertical-align: top;\n",
       "    }\n",
       "\n",
       "    .dataframe thead th {\n",
       "        text-align: right;\n",
       "    }\n",
       "</style>\n",
       "<table border=\"1\" class=\"dataframe\">\n",
       "  <thead>\n",
       "    <tr style=\"text-align: right;\">\n",
       "      <th></th>\n",
       "      <th>name</th>\n",
       "      <th>platform</th>\n",
       "      <th>year_of_release</th>\n",
       "      <th>genre</th>\n",
       "      <th>na_sales</th>\n",
       "      <th>eu_sales</th>\n",
       "      <th>jp_sales</th>\n",
       "      <th>other_sales</th>\n",
       "      <th>critic_score</th>\n",
       "      <th>user_score</th>\n",
       "      <th>rating</th>\n",
       "      <th>global_sales</th>\n",
       "    </tr>\n",
       "  </thead>\n",
       "  <tbody>\n",
       "    <tr>\n",
       "      <th>0</th>\n",
       "      <td>Wii Sports</td>\n",
       "      <td>Wii</td>\n",
       "      <td>2006.0</td>\n",
       "      <td>Sports</td>\n",
       "      <td>41.36</td>\n",
       "      <td>28.96</td>\n",
       "      <td>3.77</td>\n",
       "      <td>8.45</td>\n",
       "      <td>76.0</td>\n",
       "      <td>8.0</td>\n",
       "      <td>E</td>\n",
       "      <td>82.54</td>\n",
       "    </tr>\n",
       "    <tr>\n",
       "      <th>1</th>\n",
       "      <td>Super Mario Bros.</td>\n",
       "      <td>NES</td>\n",
       "      <td>1985.0</td>\n",
       "      <td>Platform</td>\n",
       "      <td>29.08</td>\n",
       "      <td>3.58</td>\n",
       "      <td>6.81</td>\n",
       "      <td>0.77</td>\n",
       "      <td>NaN</td>\n",
       "      <td>NaN</td>\n",
       "      <td>NaN</td>\n",
       "      <td>40.24</td>\n",
       "    </tr>\n",
       "    <tr>\n",
       "      <th>2</th>\n",
       "      <td>Mario Kart Wii</td>\n",
       "      <td>Wii</td>\n",
       "      <td>2008.0</td>\n",
       "      <td>Racing</td>\n",
       "      <td>15.68</td>\n",
       "      <td>12.76</td>\n",
       "      <td>3.79</td>\n",
       "      <td>3.29</td>\n",
       "      <td>82.0</td>\n",
       "      <td>8.3</td>\n",
       "      <td>E</td>\n",
       "      <td>35.52</td>\n",
       "    </tr>\n",
       "    <tr>\n",
       "      <th>3</th>\n",
       "      <td>Wii Sports Resort</td>\n",
       "      <td>Wii</td>\n",
       "      <td>2009.0</td>\n",
       "      <td>Sports</td>\n",
       "      <td>15.61</td>\n",
       "      <td>10.93</td>\n",
       "      <td>3.28</td>\n",
       "      <td>2.95</td>\n",
       "      <td>80.0</td>\n",
       "      <td>8.0</td>\n",
       "      <td>E</td>\n",
       "      <td>32.77</td>\n",
       "    </tr>\n",
       "    <tr>\n",
       "      <th>4</th>\n",
       "      <td>Pokemon Red/Pokemon Blue</td>\n",
       "      <td>GB</td>\n",
       "      <td>1996.0</td>\n",
       "      <td>Role-Playing</td>\n",
       "      <td>11.27</td>\n",
       "      <td>8.89</td>\n",
       "      <td>10.22</td>\n",
       "      <td>1.00</td>\n",
       "      <td>NaN</td>\n",
       "      <td>NaN</td>\n",
       "      <td>NaN</td>\n",
       "      <td>31.38</td>\n",
       "    </tr>\n",
       "  </tbody>\n",
       "</table>\n",
       "</div>"
      ],
      "text/plain": [
       "                       name platform  year_of_release         genre  na_sales  \\\n",
       "0                Wii Sports      Wii           2006.0        Sports     41.36   \n",
       "1         Super Mario Bros.      NES           1985.0      Platform     29.08   \n",
       "2            Mario Kart Wii      Wii           2008.0        Racing     15.68   \n",
       "3         Wii Sports Resort      Wii           2009.0        Sports     15.61   \n",
       "4  Pokemon Red/Pokemon Blue       GB           1996.0  Role-Playing     11.27   \n",
       "\n",
       "   eu_sales  jp_sales  other_sales  critic_score  user_score rating  \\\n",
       "0     28.96      3.77         8.45          76.0         8.0      E   \n",
       "1      3.58      6.81         0.77           NaN         NaN    NaN   \n",
       "2     12.76      3.79         3.29          82.0         8.3      E   \n",
       "3     10.93      3.28         2.95          80.0         8.0      E   \n",
       "4      8.89     10.22         1.00           NaN         NaN    NaN   \n",
       "\n",
       "   global_sales  \n",
       "0         82.54  \n",
       "1         40.24  \n",
       "2         35.52  \n",
       "3         32.77  \n",
       "4         31.38  "
      ]
     },
     "metadata": {},
     "output_type": "display_data"
    }
   ],
   "source": [
    "# Добавим столбец с суммарными продажами по всем регионам\n",
    "df['global_sales'] = (df['na_sales'] + df['eu_sales'] + df['jp_sales'] + df['other_sales'])\n",
    "check_df(df)"
   ]
  },
  {
   "cell_type": "code",
   "execution_count": 11,
   "metadata": {},
   "outputs": [
    {
     "data": {
      "text/html": [
       "<div>\n",
       "<style scoped>\n",
       "    .dataframe tbody tr th:only-of-type {\n",
       "        vertical-align: middle;\n",
       "    }\n",
       "\n",
       "    .dataframe tbody tr th {\n",
       "        vertical-align: top;\n",
       "    }\n",
       "\n",
       "    .dataframe thead th {\n",
       "        text-align: right;\n",
       "    }\n",
       "</style>\n",
       "<table border=\"1\" class=\"dataframe\">\n",
       "  <thead>\n",
       "    <tr style=\"text-align: right;\">\n",
       "      <th></th>\n",
       "      <th>name</th>\n",
       "      <th>platform</th>\n",
       "      <th>year_of_release</th>\n",
       "      <th>genre</th>\n",
       "      <th>na_sales</th>\n",
       "      <th>eu_sales</th>\n",
       "      <th>jp_sales</th>\n",
       "      <th>other_sales</th>\n",
       "      <th>critic_score</th>\n",
       "      <th>user_score</th>\n",
       "      <th>rating</th>\n",
       "      <th>global_sales</th>\n",
       "    </tr>\n",
       "  </thead>\n",
       "  <tbody>\n",
       "    <tr>\n",
       "      <th>659</th>\n",
       "      <td>NaN</td>\n",
       "      <td>GEN</td>\n",
       "      <td>1993.0</td>\n",
       "      <td>NaN</td>\n",
       "      <td>1.78</td>\n",
       "      <td>0.53</td>\n",
       "      <td>0.00</td>\n",
       "      <td>0.08</td>\n",
       "      <td>NaN</td>\n",
       "      <td>NaN</td>\n",
       "      <td>NaN</td>\n",
       "      <td>2.39</td>\n",
       "    </tr>\n",
       "    <tr>\n",
       "      <th>14244</th>\n",
       "      <td>NaN</td>\n",
       "      <td>GEN</td>\n",
       "      <td>1993.0</td>\n",
       "      <td>NaN</td>\n",
       "      <td>0.00</td>\n",
       "      <td>0.00</td>\n",
       "      <td>0.03</td>\n",
       "      <td>0.00</td>\n",
       "      <td>NaN</td>\n",
       "      <td>NaN</td>\n",
       "      <td>NaN</td>\n",
       "      <td>0.03</td>\n",
       "    </tr>\n",
       "  </tbody>\n",
       "</table>\n",
       "</div>"
      ],
      "text/plain": [
       "      name platform  year_of_release genre  na_sales  eu_sales  jp_sales  \\\n",
       "659    NaN      GEN           1993.0   NaN      1.78      0.53      0.00   \n",
       "14244  NaN      GEN           1993.0   NaN      0.00      0.00      0.03   \n",
       "\n",
       "       other_sales  critic_score  user_score rating  global_sales  \n",
       "659           0.08           NaN         NaN    NaN          2.39  \n",
       "14244         0.00           NaN         NaN    NaN          0.03  "
      ]
     },
     "metadata": {},
     "output_type": "display_data"
    }
   ],
   "source": [
    "display(df.loc[df['name'].isna() == True])"
   ]
  },
  {
   "cell_type": "code",
   "execution_count": 12,
   "metadata": {
    "scrolled": true
   },
   "outputs": [
    {
     "data": {
      "text/html": [
       "<div>\n",
       "<style scoped>\n",
       "    .dataframe tbody tr th:only-of-type {\n",
       "        vertical-align: middle;\n",
       "    }\n",
       "\n",
       "    .dataframe tbody tr th {\n",
       "        vertical-align: top;\n",
       "    }\n",
       "\n",
       "    .dataframe thead th {\n",
       "        text-align: right;\n",
       "    }\n",
       "</style>\n",
       "<table border=\"1\" class=\"dataframe\">\n",
       "  <thead>\n",
       "    <tr style=\"text-align: right;\">\n",
       "      <th></th>\n",
       "      <th>name</th>\n",
       "      <th>platform</th>\n",
       "      <th>year_of_release</th>\n",
       "      <th>genre</th>\n",
       "      <th>na_sales</th>\n",
       "      <th>eu_sales</th>\n",
       "      <th>jp_sales</th>\n",
       "      <th>other_sales</th>\n",
       "      <th>critic_score</th>\n",
       "      <th>user_score</th>\n",
       "      <th>rating</th>\n",
       "      <th>global_sales</th>\n",
       "    </tr>\n",
       "  </thead>\n",
       "  <tbody>\n",
       "    <tr>\n",
       "      <th>183</th>\n",
       "      <td>Madden NFL 2004</td>\n",
       "      <td>PS2</td>\n",
       "      <td>NaN</td>\n",
       "      <td>Sports</td>\n",
       "      <td>4.26</td>\n",
       "      <td>0.26</td>\n",
       "      <td>0.01</td>\n",
       "      <td>0.71</td>\n",
       "      <td>94.0</td>\n",
       "      <td>8.5</td>\n",
       "      <td>E</td>\n",
       "      <td>5.24</td>\n",
       "    </tr>\n",
       "    <tr>\n",
       "      <th>377</th>\n",
       "      <td>FIFA Soccer 2004</td>\n",
       "      <td>PS2</td>\n",
       "      <td>NaN</td>\n",
       "      <td>Sports</td>\n",
       "      <td>0.59</td>\n",
       "      <td>2.36</td>\n",
       "      <td>0.04</td>\n",
       "      <td>0.51</td>\n",
       "      <td>84.0</td>\n",
       "      <td>6.4</td>\n",
       "      <td>E</td>\n",
       "      <td>3.50</td>\n",
       "    </tr>\n",
       "    <tr>\n",
       "      <th>456</th>\n",
       "      <td>LEGO Batman: The Videogame</td>\n",
       "      <td>Wii</td>\n",
       "      <td>NaN</td>\n",
       "      <td>Action</td>\n",
       "      <td>1.80</td>\n",
       "      <td>0.97</td>\n",
       "      <td>0.00</td>\n",
       "      <td>0.29</td>\n",
       "      <td>74.0</td>\n",
       "      <td>7.9</td>\n",
       "      <td>E10+</td>\n",
       "      <td>3.06</td>\n",
       "    </tr>\n",
       "    <tr>\n",
       "      <th>475</th>\n",
       "      <td>wwe Smackdown vs. Raw 2006</td>\n",
       "      <td>PS2</td>\n",
       "      <td>NaN</td>\n",
       "      <td>Fighting</td>\n",
       "      <td>1.57</td>\n",
       "      <td>1.02</td>\n",
       "      <td>0.00</td>\n",
       "      <td>0.41</td>\n",
       "      <td>NaN</td>\n",
       "      <td>NaN</td>\n",
       "      <td>NaN</td>\n",
       "      <td>3.00</td>\n",
       "    </tr>\n",
       "    <tr>\n",
       "      <th>609</th>\n",
       "      <td>Space Invaders</td>\n",
       "      <td>2600</td>\n",
       "      <td>NaN</td>\n",
       "      <td>Shooter</td>\n",
       "      <td>2.36</td>\n",
       "      <td>0.14</td>\n",
       "      <td>0.00</td>\n",
       "      <td>0.03</td>\n",
       "      <td>NaN</td>\n",
       "      <td>NaN</td>\n",
       "      <td>NaN</td>\n",
       "      <td>2.53</td>\n",
       "    </tr>\n",
       "    <tr>\n",
       "      <th>...</th>\n",
       "      <td>...</td>\n",
       "      <td>...</td>\n",
       "      <td>...</td>\n",
       "      <td>...</td>\n",
       "      <td>...</td>\n",
       "      <td>...</td>\n",
       "      <td>...</td>\n",
       "      <td>...</td>\n",
       "      <td>...</td>\n",
       "      <td>...</td>\n",
       "      <td>...</td>\n",
       "      <td>...</td>\n",
       "    </tr>\n",
       "    <tr>\n",
       "      <th>16373</th>\n",
       "      <td>PDC World Championship Darts 2008</td>\n",
       "      <td>PSP</td>\n",
       "      <td>NaN</td>\n",
       "      <td>Sports</td>\n",
       "      <td>0.01</td>\n",
       "      <td>0.00</td>\n",
       "      <td>0.00</td>\n",
       "      <td>0.00</td>\n",
       "      <td>43.0</td>\n",
       "      <td>NaN</td>\n",
       "      <td>E10+</td>\n",
       "      <td>0.01</td>\n",
       "    </tr>\n",
       "    <tr>\n",
       "      <th>16405</th>\n",
       "      <td>Freaky Flyers</td>\n",
       "      <td>GC</td>\n",
       "      <td>NaN</td>\n",
       "      <td>Racing</td>\n",
       "      <td>0.01</td>\n",
       "      <td>0.00</td>\n",
       "      <td>0.00</td>\n",
       "      <td>0.00</td>\n",
       "      <td>69.0</td>\n",
       "      <td>6.5</td>\n",
       "      <td>T</td>\n",
       "      <td>0.01</td>\n",
       "    </tr>\n",
       "    <tr>\n",
       "      <th>16448</th>\n",
       "      <td>Inversion</td>\n",
       "      <td>PC</td>\n",
       "      <td>NaN</td>\n",
       "      <td>Shooter</td>\n",
       "      <td>0.01</td>\n",
       "      <td>0.00</td>\n",
       "      <td>0.00</td>\n",
       "      <td>0.00</td>\n",
       "      <td>59.0</td>\n",
       "      <td>6.7</td>\n",
       "      <td>M</td>\n",
       "      <td>0.01</td>\n",
       "    </tr>\n",
       "    <tr>\n",
       "      <th>16458</th>\n",
       "      <td>Hakuouki: Shinsengumi Kitan</td>\n",
       "      <td>PS3</td>\n",
       "      <td>NaN</td>\n",
       "      <td>Adventure</td>\n",
       "      <td>0.01</td>\n",
       "      <td>0.00</td>\n",
       "      <td>0.00</td>\n",
       "      <td>0.00</td>\n",
       "      <td>NaN</td>\n",
       "      <td>NaN</td>\n",
       "      <td>NaN</td>\n",
       "      <td>0.01</td>\n",
       "    </tr>\n",
       "    <tr>\n",
       "      <th>16522</th>\n",
       "      <td>Virtua Quest</td>\n",
       "      <td>GC</td>\n",
       "      <td>NaN</td>\n",
       "      <td>Role-Playing</td>\n",
       "      <td>0.01</td>\n",
       "      <td>0.00</td>\n",
       "      <td>0.00</td>\n",
       "      <td>0.00</td>\n",
       "      <td>55.0</td>\n",
       "      <td>5.5</td>\n",
       "      <td>T</td>\n",
       "      <td>0.01</td>\n",
       "    </tr>\n",
       "  </tbody>\n",
       "</table>\n",
       "<p>269 rows × 12 columns</p>\n",
       "</div>"
      ],
      "text/plain": [
       "                                    name platform  year_of_release  \\\n",
       "183                      Madden NFL 2004      PS2              NaN   \n",
       "377                     FIFA Soccer 2004      PS2              NaN   \n",
       "456           LEGO Batman: The Videogame      Wii              NaN   \n",
       "475           wwe Smackdown vs. Raw 2006      PS2              NaN   \n",
       "609                       Space Invaders     2600              NaN   \n",
       "...                                  ...      ...              ...   \n",
       "16373  PDC World Championship Darts 2008      PSP              NaN   \n",
       "16405                      Freaky Flyers       GC              NaN   \n",
       "16448                          Inversion       PC              NaN   \n",
       "16458        Hakuouki: Shinsengumi Kitan      PS3              NaN   \n",
       "16522                       Virtua Quest       GC              NaN   \n",
       "\n",
       "              genre  na_sales  eu_sales  jp_sales  other_sales  critic_score  \\\n",
       "183          Sports      4.26      0.26      0.01         0.71          94.0   \n",
       "377          Sports      0.59      2.36      0.04         0.51          84.0   \n",
       "456          Action      1.80      0.97      0.00         0.29          74.0   \n",
       "475        Fighting      1.57      1.02      0.00         0.41           NaN   \n",
       "609         Shooter      2.36      0.14      0.00         0.03           NaN   \n",
       "...             ...       ...       ...       ...          ...           ...   \n",
       "16373        Sports      0.01      0.00      0.00         0.00          43.0   \n",
       "16405        Racing      0.01      0.00      0.00         0.00          69.0   \n",
       "16448       Shooter      0.01      0.00      0.00         0.00          59.0   \n",
       "16458     Adventure      0.01      0.00      0.00         0.00           NaN   \n",
       "16522  Role-Playing      0.01      0.00      0.00         0.00          55.0   \n",
       "\n",
       "       user_score rating  global_sales  \n",
       "183           8.5      E          5.24  \n",
       "377           6.4      E          3.50  \n",
       "456           7.9   E10+          3.06  \n",
       "475           NaN    NaN          3.00  \n",
       "609           NaN    NaN          2.53  \n",
       "...           ...    ...           ...  \n",
       "16373         NaN   E10+          0.01  \n",
       "16405         6.5      T          0.01  \n",
       "16448         6.7      M          0.01  \n",
       "16458         NaN    NaN          0.01  \n",
       "16522         5.5      T          0.01  \n",
       "\n",
       "[269 rows x 12 columns]"
      ]
     },
     "metadata": {},
     "output_type": "display_data"
    }
   ],
   "source": [
    "display(df.loc[df['year_of_release'].isna() == True])"
   ]
  },
  {
   "cell_type": "markdown",
   "metadata": {},
   "source": [
    "Пропуски в столбцах name и genre обусловлены двумя играми на платформе GEN, их год выпуска 1993, это точно не наш актуальный период.\n",
    "Пропуски же в столбце year_of_release, решено оставить, заменять их вручную слишком долго, даже первая игра Madden NFL 2004, содержащая в названии год, была выпущена в 2003 году, а не в 2004. 269 строк с пропуском в столбце year_of_release не окажут сильного влияния на дальнейший анализ.\n",
    "Пропуски в столбце rating могут быть обусловлены тем, что ассоциями ESRB осуществляет свою деятельность в основном в США, Мексике и Канаде, отсюда и появляются пропуски в данных."
   ]
  },
  {
   "cell_type": "markdown",
   "metadata": {},
   "source": [
    "#### Шаг. Исследовательский анализ данных"
   ]
  },
  {
   "cell_type": "markdown",
   "metadata": {},
   "source": [
    "##### Выбор актуального периода"
   ]
  },
  {
   "cell_type": "code",
   "execution_count": 13,
   "metadata": {
    "scrolled": false
   },
   "outputs": [
    {
     "data": {
      "text/html": [
       "<div>\n",
       "<style scoped>\n",
       "    .dataframe tbody tr th:only-of-type {\n",
       "        vertical-align: middle;\n",
       "    }\n",
       "\n",
       "    .dataframe tbody tr th {\n",
       "        vertical-align: top;\n",
       "    }\n",
       "\n",
       "    .dataframe thead th {\n",
       "        text-align: right;\n",
       "    }\n",
       "</style>\n",
       "<table border=\"1\" class=\"dataframe\">\n",
       "  <thead>\n",
       "    <tr style=\"text-align: right;\">\n",
       "      <th></th>\n",
       "      <th>global_sales</th>\n",
       "    </tr>\n",
       "    <tr>\n",
       "      <th>year_of_release</th>\n",
       "      <th></th>\n",
       "    </tr>\n",
       "  </thead>\n",
       "  <tbody>\n",
       "    <tr>\n",
       "      <th>1980.0</th>\n",
       "      <td>11.38</td>\n",
       "    </tr>\n",
       "    <tr>\n",
       "      <th>1981.0</th>\n",
       "      <td>35.68</td>\n",
       "    </tr>\n",
       "    <tr>\n",
       "      <th>1982.0</th>\n",
       "      <td>28.88</td>\n",
       "    </tr>\n",
       "    <tr>\n",
       "      <th>1983.0</th>\n",
       "      <td>16.80</td>\n",
       "    </tr>\n",
       "    <tr>\n",
       "      <th>1984.0</th>\n",
       "      <td>50.35</td>\n",
       "    </tr>\n",
       "    <tr>\n",
       "      <th>1985.0</th>\n",
       "      <td>53.95</td>\n",
       "    </tr>\n",
       "    <tr>\n",
       "      <th>1986.0</th>\n",
       "      <td>37.08</td>\n",
       "    </tr>\n",
       "    <tr>\n",
       "      <th>1987.0</th>\n",
       "      <td>21.70</td>\n",
       "    </tr>\n",
       "    <tr>\n",
       "      <th>1988.0</th>\n",
       "      <td>47.21</td>\n",
       "    </tr>\n",
       "    <tr>\n",
       "      <th>1989.0</th>\n",
       "      <td>73.45</td>\n",
       "    </tr>\n",
       "    <tr>\n",
       "      <th>1990.0</th>\n",
       "      <td>49.37</td>\n",
       "    </tr>\n",
       "    <tr>\n",
       "      <th>1991.0</th>\n",
       "      <td>32.23</td>\n",
       "    </tr>\n",
       "    <tr>\n",
       "      <th>1992.0</th>\n",
       "      <td>76.16</td>\n",
       "    </tr>\n",
       "    <tr>\n",
       "      <th>1993.0</th>\n",
       "      <td>48.41</td>\n",
       "    </tr>\n",
       "    <tr>\n",
       "      <th>1994.0</th>\n",
       "      <td>79.23</td>\n",
       "    </tr>\n",
       "    <tr>\n",
       "      <th>1995.0</th>\n",
       "      <td>88.12</td>\n",
       "    </tr>\n",
       "    <tr>\n",
       "      <th>1996.0</th>\n",
       "      <td>199.15</td>\n",
       "    </tr>\n",
       "    <tr>\n",
       "      <th>1997.0</th>\n",
       "      <td>201.07</td>\n",
       "    </tr>\n",
       "    <tr>\n",
       "      <th>1998.0</th>\n",
       "      <td>256.31</td>\n",
       "    </tr>\n",
       "    <tr>\n",
       "      <th>1999.0</th>\n",
       "      <td>251.11</td>\n",
       "    </tr>\n",
       "    <tr>\n",
       "      <th>2000.0</th>\n",
       "      <td>201.66</td>\n",
       "    </tr>\n",
       "    <tr>\n",
       "      <th>2001.0</th>\n",
       "      <td>331.46</td>\n",
       "    </tr>\n",
       "    <tr>\n",
       "      <th>2002.0</th>\n",
       "      <td>394.97</td>\n",
       "    </tr>\n",
       "    <tr>\n",
       "      <th>2003.0</th>\n",
       "      <td>357.54</td>\n",
       "    </tr>\n",
       "    <tr>\n",
       "      <th>2004.0</th>\n",
       "      <td>418.68</td>\n",
       "    </tr>\n",
       "    <tr>\n",
       "      <th>2005.0</th>\n",
       "      <td>457.82</td>\n",
       "    </tr>\n",
       "    <tr>\n",
       "      <th>2006.0</th>\n",
       "      <td>517.71</td>\n",
       "    </tr>\n",
       "    <tr>\n",
       "      <th>2007.0</th>\n",
       "      <td>604.75</td>\n",
       "    </tr>\n",
       "    <tr>\n",
       "      <th>2008.0</th>\n",
       "      <td>671.50</td>\n",
       "    </tr>\n",
       "    <tr>\n",
       "      <th>2009.0</th>\n",
       "      <td>658.82</td>\n",
       "    </tr>\n",
       "    <tr>\n",
       "      <th>2010.0</th>\n",
       "      <td>590.13</td>\n",
       "    </tr>\n",
       "    <tr>\n",
       "      <th>2011.0</th>\n",
       "      <td>507.58</td>\n",
       "    </tr>\n",
       "    <tr>\n",
       "      <th>2012.0</th>\n",
       "      <td>355.84</td>\n",
       "    </tr>\n",
       "    <tr>\n",
       "      <th>2013.0</th>\n",
       "      <td>361.24</td>\n",
       "    </tr>\n",
       "    <tr>\n",
       "      <th>2014.0</th>\n",
       "      <td>331.53</td>\n",
       "    </tr>\n",
       "    <tr>\n",
       "      <th>2015.0</th>\n",
       "      <td>267.98</td>\n",
       "    </tr>\n",
       "    <tr>\n",
       "      <th>2016.0</th>\n",
       "      <td>129.94</td>\n",
       "    </tr>\n",
       "  </tbody>\n",
       "</table>\n",
       "</div>"
      ],
      "text/plain": [
       "                 global_sales\n",
       "year_of_release              \n",
       "1980.0                  11.38\n",
       "1981.0                  35.68\n",
       "1982.0                  28.88\n",
       "1983.0                  16.80\n",
       "1984.0                  50.35\n",
       "1985.0                  53.95\n",
       "1986.0                  37.08\n",
       "1987.0                  21.70\n",
       "1988.0                  47.21\n",
       "1989.0                  73.45\n",
       "1990.0                  49.37\n",
       "1991.0                  32.23\n",
       "1992.0                  76.16\n",
       "1993.0                  48.41\n",
       "1994.0                  79.23\n",
       "1995.0                  88.12\n",
       "1996.0                 199.15\n",
       "1997.0                 201.07\n",
       "1998.0                 256.31\n",
       "1999.0                 251.11\n",
       "2000.0                 201.66\n",
       "2001.0                 331.46\n",
       "2002.0                 394.97\n",
       "2003.0                 357.54\n",
       "2004.0                 418.68\n",
       "2005.0                 457.82\n",
       "2006.0                 517.71\n",
       "2007.0                 604.75\n",
       "2008.0                 671.50\n",
       "2009.0                 658.82\n",
       "2010.0                 590.13\n",
       "2011.0                 507.58\n",
       "2012.0                 355.84\n",
       "2013.0                 361.24\n",
       "2014.0                 331.53\n",
       "2015.0                 267.98\n",
       "2016.0                 129.94"
      ]
     },
     "metadata": {},
     "output_type": "display_data"
    },
    {
     "data": {
      "image/png": "[encoded data removed]",
      "text/plain": [
       "<Figure size 648x864 with 1 Axes>"
      ]
     },
     "metadata": {
      "needs_background": "light"
     },
     "output_type": "display_data"
    }
   ],
   "source": [
    "sales_for_year = df.pivot_table(values='global_sales', index='year_of_release', aggfunc='sum')\n",
    "display(sales_for_year)\n",
    "sales_for_year.plot(kind='bar', figsize=(9, 12))\n",
    "plt.title('Количество продаж игр по годам')\n",
    "plt.xlabel('Год выпуска')\n",
    "plt.ylabel('Количество продаж (в миллионах)')\n",
    "plt.show()"
   ]
  },
  {
   "cell_type": "markdown",
   "metadata": {},
   "source": [
    "Рост с начала 2000-ых годов можно объяснить переходом игр в 3D, появлением новых технологичных игр и выходом консолей новых поколений, а вот спад после 2010 можно объяснить влиянием финансового кризиза 2008 года.\n",
    "На графике видно, что по продажам самые удачные года были с 2007 по 2010, затем идет спад общих продаж. 2016 год оказался в 7 раз меньше 2008, стоит помнить, что информация за 2016 год у нас неполная, что и объясняет столь большой спад (в 2015 году продажи на 137 миллионов больше, разрыв более чем двукратный).\n"
   ]
  },
  {
   "cell_type": "code",
   "execution_count": 14,
   "metadata": {},
   "outputs": [
    {
     "data": {
      "text/plain": [
       "array(['Wii', 'NES', 'GB', 'DS', 'X360', 'PS3', 'PS2', 'SNES', 'GBA',\n",
       "       'PS4', '3DS', 'N64', 'PS', 'XB', 'PC', '2600', 'PSP', 'XOne',\n",
       "       'WiiU', 'GC', 'GEN', 'DC', 'PSV', 'SAT', 'SCD', 'WS', 'NG', 'TG16',\n",
       "       '3DO', 'GG', 'PCFX'], dtype=object)"
      ]
     },
     "metadata": {},
     "output_type": "display_data"
    }
   ],
   "source": [
    "display(df['platform'].unique())"
   ]
  },
  {
   "cell_type": "code",
   "execution_count": 15,
   "metadata": {
    "scrolled": false
   },
   "outputs": [
    {
     "data": {
      "text/plain": [
       "platform\n",
       "PS2     1255.77\n",
       "X360     971.42\n",
       "PS3      939.65\n",
       "Wii      907.51\n",
       "DS       806.12\n",
       "Name: global_sales, dtype: float64"
      ]
     },
     "metadata": {},
     "output_type": "display_data"
    }
   ],
   "source": [
    "display(df.groupby('platform')['global_sales'].sum().sort_values(ascending=False).head())"
   ]
  },
  {
   "cell_type": "code",
   "execution_count": 16,
   "metadata": {},
   "outputs": [],
   "source": [
    "# Создадим функцию, которая поможет нам узнать как меняются продажи на платформах по годам\n",
    "def platform_sales_by_years(platform):\n",
    "    data_by_years = df.query('platform == @platform').groupby(['platform', 'year_of_release']).sum()['global_sales']\n",
    "    data_by_years.plot(kind='bar', figsize=(9, 9))\n",
    "    plt.title(f'Количество продаж игр на платфоре {platform} по годам')\n",
    "    plt.xlabel('Год выпуска')\n",
    "    plt.ylabel('Количество продаж (в миллионах)')\n",
    "    plt.show()"
   ]
  },
  {
   "cell_type": "code",
   "execution_count": 17,
   "metadata": {},
   "outputs": [
    {
     "data": {
      "image/png": "[encoded data removed]",
      "text/plain": [
       "<Figure size 648x648 with 1 Axes>"
      ]
     },
     "metadata": {
      "needs_background": "light"
     },
     "output_type": "display_data"
    }
   ],
   "source": [
    "platform_sales_by_years('PS2')"
   ]
  },
  {
   "cell_type": "code",
   "execution_count": 18,
   "metadata": {},
   "outputs": [
    {
     "data": {
      "image/png": "[encoded data removed]",
      "text/plain": [
       "<Figure size 648x648 with 1 Axes>"
      ]
     },
     "metadata": {
      "needs_background": "light"
     },
     "output_type": "display_data"
    }
   ],
   "source": [
    "platform_sales_by_years('X360')"
   ]
  },
  {
   "cell_type": "code",
   "execution_count": 19,
   "metadata": {
    "scrolled": false
   },
   "outputs": [
    {
     "data": {
      "image/png": "[encoded data removed]",
      "text/plain": [
       "<Figure size 648x648 with 1 Axes>"
      ]
     },
     "metadata": {
      "needs_background": "light"
     },
     "output_type": "display_data"
    }
   ],
   "source": [
    "platform_sales_by_years('PS3')"
   ]
  },
  {
   "cell_type": "code",
   "execution_count": 20,
   "metadata": {},
   "outputs": [
    {
     "data": {
      "image/png": "[encoded data removed]",
      "text/plain": [
       "<Figure size 648x648 with 1 Axes>"
      ]
     },
     "metadata": {
      "needs_background": "light"
     },
     "output_type": "display_data"
    }
   ],
   "source": [
    "platform_sales_by_years('Wii')"
   ]
  },
  {
   "cell_type": "code",
   "execution_count": 21,
   "metadata": {},
   "outputs": [
    {
     "data": {
      "image/png": "[encoded data removed]",
      "text/plain": [
       "<Figure size 648x648 with 1 Axes>"
      ]
     },
     "metadata": {
      "needs_background": "light"
     },
     "output_type": "display_data"
    }
   ],
   "source": [
    "platform_sales_by_years('DC')"
   ]
  },
  {
   "cell_type": "code",
   "execution_count": 22,
   "metadata": {
    "scrolled": false
   },
   "outputs": [
    {
     "data": {
      "image/png": "[encoded data removed]",
      "text/plain": [
       "<Figure size 648x648 with 1 Axes>"
      ]
     },
     "metadata": {
      "needs_background": "light"
     },
     "output_type": "display_data"
    }
   ],
   "source": [
    "platform_sales_by_years('XOne')"
   ]
  },
  {
   "cell_type": "code",
   "execution_count": 23,
   "metadata": {
    "scrolled": false
   },
   "outputs": [
    {
     "data": {
      "image/png": "[encoded data removed]",
      "text/plain": [
       "<Figure size 648x648 with 1 Axes>"
      ]
     },
     "metadata": {
      "needs_background": "light"
     },
     "output_type": "display_data"
    }
   ],
   "source": [
    "platform_sales_by_years('PS4')"
   ]
  },
  {
   "cell_type": "markdown",
   "metadata": {},
   "source": [
    "Обращая внимание на графики, можно заметить, что период наибольшей популярности у платформ длится 3-4 года, в некоторых случаях 5 лет. В среднем платформы \"живут\" около 6-7 лет.\n",
    "\n",
    "Так, платформа DC росла с 1998 года, была на пике в 2000 и практически в 6 раз упала в 2001. Wii росла с 2006 года и была на пике в 2010, после чего продажи стремительно стали падать.\n",
    "\n",
    "Основываясь на данных результатах, в качестве актуального периода для прогнозирования на 2017 год выберем последние три года (2014, 2015, 2016).\n"
   ]
  },
  {
   "cell_type": "code",
   "execution_count": 24,
   "metadata": {
    "scrolled": true
   },
   "outputs": [
    {
     "name": "stdout",
     "output_type": "stream",
     "text": [
      "<class 'pandas.core.frame.DataFrame'>\n",
      "Int64Index: 1689 entries, 31 to 16714\n",
      "Data columns (total 12 columns):\n",
      " #   Column           Non-Null Count  Dtype  \n",
      "---  ------           --------------  -----  \n",
      " 0   name             1689 non-null   object \n",
      " 1   platform         1689 non-null   object \n",
      " 2   year_of_release  1689 non-null   float64\n",
      " 3   genre            1689 non-null   object \n",
      " 4   na_sales         1689 non-null   float64\n",
      " 5   eu_sales         1689 non-null   float64\n",
      " 6   jp_sales         1689 non-null   float64\n",
      " 7   other_sales      1689 non-null   float64\n",
      " 8   critic_score     718 non-null    float64\n",
      " 9   user_score       888 non-null    float32\n",
      " 10  rating           940 non-null    object \n",
      " 11  global_sales     1689 non-null   float64\n",
      "dtypes: float32(1), float64(7), object(4)\n",
      "memory usage: 164.9+ KB\n"
     ]
    }
   ],
   "source": [
    "df = df.query('year_of_release >= 2014')\n",
    "df.info()"
   ]
  },
  {
   "cell_type": "markdown",
   "metadata": {},
   "source": [
    "##### Анализ продаж по платформам"
   ]
  },
  {
   "cell_type": "code",
   "execution_count": 25,
   "metadata": {
    "scrolled": false
   },
   "outputs": [
    {
     "data": {
      "text/plain": [
       "array(['PS4', '3DS', 'XOne', 'WiiU', 'PS3', 'X360', 'PC', 'Wii', 'PSV',\n",
       "       'PSP'], dtype=object)"
      ]
     },
     "metadata": {},
     "output_type": "display_data"
    }
   ],
   "source": [
    "display(df['platform'].unique())"
   ]
  },
  {
   "cell_type": "code",
   "execution_count": 26,
   "metadata": {
    "scrolled": false
   },
   "outputs": [
    {
     "data": {
      "image/png": "[encoded data removed]",
      "text/plain": [
       "<Figure size 648x648 with 1 Axes>"
      ]
     },
     "metadata": {
      "needs_background": "light"
     },
     "output_type": "display_data"
    },
    {
     "data": {
      "text/plain": [
       "None"
      ]
     },
     "metadata": {},
     "output_type": "display_data"
    },
    {
     "data": {
      "image/png": "[encoded data removed]",
      "text/plain": [
       "<Figure size 648x648 with 1 Axes>"
      ]
     },
     "metadata": {
      "needs_background": "light"
     },
     "output_type": "display_data"
    },
    {
     "data": {
      "text/plain": [
       "None"
      ]
     },
     "metadata": {},
     "output_type": "display_data"
    },
    {
     "data": {
      "image/png": "[encoded data removed]",
      "text/plain": [
       "<Figure size 648x648 with 1 Axes>"
      ]
     },
     "metadata": {
      "needs_background": "light"
     },
     "output_type": "display_data"
    },
    {
     "data": {
      "text/plain": [
       "None"
      ]
     },
     "metadata": {},
     "output_type": "display_data"
    },
    {
     "data": {
      "image/png": "[encoded data removed]",
      "text/plain": [
       "<Figure size 648x648 with 1 Axes>"
      ]
     },
     "metadata": {
      "needs_background": "light"
     },
     "output_type": "display_data"
    },
    {
     "data": {
      "text/plain": [
       "None"
      ]
     },
     "metadata": {},
     "output_type": "display_data"
    },
    {
     "data": {
      "image/png": "[encoded data removed]",
      "text/plain": [
       "<Figure size 648x648 with 1 Axes>"
      ]
     },
     "metadata": {
      "needs_background": "light"
     },
     "output_type": "display_data"
    },
    {
     "data": {
      "text/plain": [
       "None"
      ]
     },
     "metadata": {},
     "output_type": "display_data"
    },
    {
     "data": {
      "image/png": "[encoded data removed]",
      "text/plain": [
       "<Figure size 648x648 with 1 Axes>"
      ]
     },
     "metadata": {
      "needs_background": "light"
     },
     "output_type": "display_data"
    },
    {
     "data": {
      "text/plain": [
       "None"
      ]
     },
     "metadata": {},
     "output_type": "display_data"
    },
    {
     "data": {
      "image/png": "[encoded data removed]",
      "text/plain": [
       "<Figure size 648x648 with 1 Axes>"
      ]
     },
     "metadata": {
      "needs_background": "light"
     },
     "output_type": "display_data"
    },
    {
     "data": {
      "text/plain": [
       "None"
      ]
     },
     "metadata": {},
     "output_type": "display_data"
    },
    {
     "data": {
      "image/png": "[encoded data removed]",
      "text/plain": [
       "<Figure size 648x648 with 1 Axes>"
      ]
     },
     "metadata": {
      "needs_background": "light"
     },
     "output_type": "display_data"
    },
    {
     "data": {
      "text/plain": [
       "None"
      ]
     },
     "metadata": {},
     "output_type": "display_data"
    }
   ],
   "source": [
    "display(platform_sales_by_years('PS4'))\n",
    "display(platform_sales_by_years('3DS'))\n",
    "display(platform_sales_by_years('WiiU'))\n",
    "display(platform_sales_by_years('XOne'))\n",
    "display(platform_sales_by_years('PS3'))\n",
    "display(platform_sales_by_years('PC'))\n",
    "display(platform_sales_by_years('Wii'))\n",
    "display(platform_sales_by_years('X360'))"
   ]
  },
  {
   "cell_type": "markdown",
   "metadata": {},
   "source": [
    "Из пяти крупнейших платформ: PS4, XOne, 3DS, PS3, X360 - рост в 2015 году по сравнению с 2014 показали только PS4 и XOne. Продажи PS3 и XOne сократились в 2,5 раза, 3DS и WiiU - на 25%.\n",
    "\n",
    "Таким образом, обозначим, как потенциально прибыльные, следующие платформы - PS4, XOne, 3DS и WiiU."
   ]
  },
  {
   "cell_type": "code",
   "execution_count": 27,
   "metadata": {},
   "outputs": [
    {
     "name": "stdout",
     "output_type": "stream",
     "text": [
      "Потенциально прибыльные платформы:\n",
      " platform\n",
      "PS4     288.15\n",
      "XOne    140.36\n",
      "3DS      86.68\n",
      "WiiU     42.98\n",
      "Name: global_sales, dtype: float64\n"
     ]
    }
   ],
   "source": [
    "platform_sales = df.groupby(['platform', 'year_of_release'])['global_sales'].sum().reset_index()\n",
    "platform_sales = platform_sales.query('platform in [\"PS4\", \"XOne\", \"3DS\", \"WiiU\"]')\n",
    "# Определение потенциально прибыльных платформ\n",
    "profitable_platforms = platform_sales.groupby('platform')['global_sales'].sum().sort_values(ascending=False)\n",
    "\n",
    "print(\"Потенциально прибыльные платформы:\\n\", profitable_platforms)"
   ]
  },
  {
   "cell_type": "code",
   "execution_count": 28,
   "metadata": {
    "scrolled": false
   },
   "outputs": [
    {
     "data": {
      "image/png": "[encoded data removed]",
      "text/plain": [
       "<Figure size 864x432 with 1 Axes>"
      ]
     },
     "metadata": {
      "needs_background": "light"
     },
     "output_type": "display_data"
    }
   ],
   "source": [
    "# Построим диаграмму размаха для глобальных продаж по платформам\n",
    "plt.figure(figsize=(12, 6))\n",
    "sns.boxplot(data=df, x='platform', y='global_sales')\n",
    "plt.title('Глобальные продажи игр в разбивке по платформам')\n",
    "plt.ylabel('Глобальные продажи')\n",
    "plt.xlabel('Платформа')\n",
    "plt.xticks(rotation=90)\n",
    "plt.show()"
   ]
  },
  {
   "cell_type": "code",
   "execution_count": 29,
   "metadata": {},
   "outputs": [
    {
     "data": {
      "image/png": "[encoded data removed]",
      "text/plain": [
       "<Figure size 864x432 with 1 Axes>"
      ]
     },
     "metadata": {
      "needs_background": "light"
     },
     "output_type": "display_data"
    }
   ],
   "source": [
    "# Построим диаграмму размаха для глобальных продаж по платформам\n",
    "plt.figure(figsize=(12, 6))\n",
    "sns.boxplot(data=df, x='platform', y='global_sales', showfliers=False)\n",
    "plt.title('Глобальные продажи игр в разбивке по платформам')\n",
    "plt.ylabel('Глобальные продажи')\n",
    "plt.xlabel('Платформа')\n",
    "plt.xticks(rotation=90)\n",
    "plt.show()"
   ]
  },
  {
   "cell_type": "markdown",
   "metadata": {},
   "source": [
    "За выбранный период наибольшее медианное количество продаж показали платформы PS4, XOne, WiiU, Wii, X360. \n",
    "\n",
    "Результаты диаграммы размаха показывают, что на платформе медиана почти вдвое меньше, чем в выделенных вместе с ней PS4 и XOne, что заставляет усомниться в рекомендации данной платформы на 2017 год. В свою очередь остальные платформы из выбранных нами, как потенциально прибыльные, имеют достаточно похожую диаграмму."
   ]
  },
  {
   "cell_type": "code",
   "execution_count": 30,
   "metadata": {
    "scrolled": false
   },
   "outputs": [
    {
     "data": {
      "image/png": "[encoded data removed]",
      "text/plain": [
       "<Figure size 864x432 with 1 Axes>"
      ]
     },
     "metadata": {
      "needs_background": "light"
     },
     "output_type": "display_data"
    },
    {
     "data": {
      "image/png": "[encoded data removed]",
      "text/plain": [
       "<Figure size 864x432 with 1 Axes>"
      ]
     },
     "metadata": {
      "needs_background": "light"
     },
     "output_type": "display_data"
    },
    {
     "name": "stdout",
     "output_type": "stream",
     "text": [
      "Корреляция между оценками критиков и продажами для PS4 : 0.40266141068104144\n",
      "Корреляция между оценками пользователей и продажами для PS4 : -0.04013158973737978\n"
     ]
    }
   ],
   "source": [
    "# Влияние отзывов критиков и пользователей на продажи для популярной платформы\n",
    "\n",
    "popular_platform = profitable_platforms.index[0]\n",
    "platform_df = df[df['platform'] == popular_platform]\n",
    "\n",
    "# Построение диаграммы рассеяния для оценок критиков\n",
    "plt.figure(figsize=(12, 6))\n",
    "sns.scatterplot(data=platform_df, x='critic_score', y='global_sales', label='critic_score')\n",
    "plt.title(f'Корреляция между отзывами и продажами для платформы {popular_platform}')\n",
    "plt.ylabel('Глобальные продажи')\n",
    "plt.xlabel('Оценка критиков')\n",
    "plt.show()\n",
    "\n",
    "# Построение диаграммы рассеяния для оценок критиков\n",
    "plt.figure(figsize=(12, 6))\n",
    "sns.scatterplot(data=platform_df, x='user_score', y='global_sales', label='user_score', color='red')\n",
    "plt.title(f'Корреляция между отзывами и продажами для платформы {popular_platform}')\n",
    "plt.ylabel('Глобальные продажи')\n",
    "plt.xlabel('Оценка ')\n",
    "plt.show()\n",
    "# Создадим функцию для расчета корреляции между отзывами и продажами\n",
    "def corr_score_sales(number):\n",
    "    popular_platform = profitable_platforms.index[number]\n",
    "    platform_df = df[df['platform'] == popular_platform]\n",
    "    \n",
    "    critic_corr = platform_df[['critic_score', 'global_sales']].corr(method='pearson')\n",
    "    user_corr = platform_df[['user_score', 'global_sales']].corr(method='pearson')\n",
    "    \n",
    "    print(f\"Корреляция между оценками критиков и продажами для {popular_platform} : {critic_corr.loc['global_sales', 'critic_score']}\")\n",
    "    print(f\"Корреляция между оценками пользователей и продажами для {popular_platform} : {user_corr.loc['global_sales', 'user_score']}\")\n",
    "    return\n",
    "\n",
    "corr_score_sales(0)"
   ]
  },
  {
   "cell_type": "code",
   "execution_count": 31,
   "metadata": {},
   "outputs": [
    {
     "name": "stdout",
     "output_type": "stream",
     "text": [
      "Корреляция между оценками критиков и продажами для XOne : 0.42867694370333287\n",
      "Корреляция между оценками пользователей и продажами для XOne : -0.07038393161528549\n"
     ]
    },
    {
     "data": {
      "text/plain": [
       "None"
      ]
     },
     "metadata": {},
     "output_type": "display_data"
    },
    {
     "name": "stdout",
     "output_type": "stream",
     "text": [
      "Корреляция между оценками критиков и продажами для 3DS : 0.31411749286905155\n",
      "Корреляция между оценками пользователей и продажами для 3DS : 0.21519327471370098\n"
     ]
    },
    {
     "data": {
      "text/plain": [
       "None"
      ]
     },
     "metadata": {},
     "output_type": "display_data"
    },
    {
     "name": "stdout",
     "output_type": "stream",
     "text": [
      "Корреляция между оценками критиков и продажами для WiiU : 0.3702014124808842\n",
      "Корреляция между оценками пользователей и продажами для WiiU : 0.4079264698680881\n"
     ]
    },
    {
     "data": {
      "text/plain": [
       "None"
      ]
     },
     "metadata": {},
     "output_type": "display_data"
    }
   ],
   "source": [
    "display(corr_score_sales(1))\n",
    "display(corr_score_sales(2))\n",
    "display(corr_score_sales(3))"
   ]
  },
  {
   "cell_type": "markdown",
   "metadata": {},
   "source": [
    "**Выводы:**\n",
    "\n",
    "Сравнение корреляций показывает, что оценка критиков имеет умеренную связь с количеством продаж (наибольшее значение 0.42 на платформе XOne). В свою очередь значение корреляции между оценкой пользователей и количеством продаж не дает говорить даже о наличии умеренной связи, исключение WiiU, где значение корреляции составило 0,4, но даже это позволяет говорить о наличии лишь умеренной связи и то более слабой, чем позволила бы нам делать какие-либо выводы."
   ]
  },
  {
   "cell_type": "markdown",
   "metadata": {},
   "source": [
    "##### Распределение по жанрам"
   ]
  },
  {
   "cell_type": "code",
   "execution_count": 32,
   "metadata": {
    "scrolled": false
   },
   "outputs": [
    {
     "data": {
      "image/png": "[encoded data removed]",
      "text/plain": [
       "<Figure size 648x864 with 1 Axes>"
      ]
     },
     "metadata": {
      "needs_background": "light"
     },
     "output_type": "display_data"
    }
   ],
   "source": [
    "genre_allocation = df.pivot_table(values='platform', index='genre', aggfunc='count').sort_values(by='platform', ascending=False)\n",
    "genre_allocation['platform'].plot(kind='bar', figsize=(9, 12))\n",
    "plt.title('Распределение игр по жанрам')\n",
    "plt.ylabel('Количество выпущенных игр')\n",
    "plt.xlabel('Жанр игр')\n",
    "plt.show()"
   ]
  },
  {
   "cell_type": "code",
   "execution_count": 33,
   "metadata": {
    "scrolled": false
   },
   "outputs": [
    {
     "data": {
      "image/png": "[encoded data removed]",
      "text/plain": [
       "<Figure size 864x432 with 1 Axes>"
      ]
     },
     "metadata": {
      "needs_background": "light"
     },
     "output_type": "display_data"
    },
    {
     "name": "stdout",
     "output_type": "stream",
     "text": [
      "Жанры с наибольшими продажами:\n",
      " genre\n",
      "Action          199.36\n",
      "Shooter         170.94\n",
      "Sports          109.48\n",
      "Role-Playing    101.44\n",
      "Misc             37.55\n",
      "Name: global_sales, dtype: float64\n"
     ]
    }
   ],
   "source": [
    "# Распределение продаж игр по жанрам\n",
    "genre_sales = df.groupby('genre')['global_sales'].sum().sort_values(ascending=False)\n",
    "\n",
    "plt.figure(figsize=(12, 6))\n",
    "sns.barplot(x=genre_sales.index, y=genre_sales.values)\n",
    "plt.title('Распределение продаж по жанрам')\n",
    "plt.ylabel('Количество продаж (в миллионах)')\n",
    "plt.xlabel('Жанр игр')\n",
    "plt.xticks(rotation=90)\n",
    "plt.show()\n",
    "\n",
    "print(\"Жанры с наибольшими продажами:\\n\", genre_sales.head())"
   ]
  },
  {
   "cell_type": "markdown",
   "metadata": {},
   "source": [
    "График количества выпущенных игр показывает, что наибольшее количество игр выпущено в жанре экшен, разница между первым и вторым местом около 400 игр, после жанра экшен идут ролевые игры, приключения, спорт, шутеры и misc. После этих шести жанров наблюдается резкий спад в два раза, на последнем месте здесь идут головоломки. Разница между количеством выпущенных игр жанра экшен и головоломка составляет около 600.\n",
    "\n",
    "По графику с количеством продаж по жанрам можно заметить, что лидером также остаются экшен-игры, однако отрыв, который был более чем в два раза, сократился до 13%. Ролевые игры со второго места перешли на четвертое, шутеры с пятого места оказались на втором. Самое заметное изменение это игры-приключения занимая третье место по выпущенным играм, они оказались на четвертом месте с конца по количеству продаж, данный жанр игр мы точно не будем рассматривать как перспективный. "
   ]
  },
  {
   "cell_type": "code",
   "execution_count": 34,
   "metadata": {},
   "outputs": [
    {
     "data": {
      "image/png": "[encoded data removed]",
      "text/plain": [
       "<Figure size 864x432 with 1 Axes>"
      ]
     },
     "metadata": {
      "needs_background": "light"
     },
     "output_type": "display_data"
    },
    {
     "name": "stdout",
     "output_type": "stream",
     "text": [
      "Жанры с самым высоким средним количеством продаж:\n",
      " genre\n",
      "Shooter         1.335469\n",
      "Sports          0.680000\n",
      "Platform        0.476053\n",
      "Fighting        0.470333\n",
      "Role-Playing    0.459005\n",
      "Name: global_sales, dtype: float64\n"
     ]
    }
   ],
   "source": [
    "# Распределение игр по жанрам, определим наиболее прибыльные жанры\n",
    "genre_sales = df.groupby('genre')['global_sales'].mean().sort_values(ascending=False)\n",
    "\n",
    "plt.figure(figsize=(12, 6))\n",
    "sns.barplot(x=genre_sales.index, y=genre_sales.values)\n",
    "plt.title('Среднее количество продаж по жанрам')\n",
    "plt.ylabel('Количество продаж (в миллионах)')\n",
    "plt.xlabel('Жанр игр')\n",
    "plt.xticks(rotation=90)\n",
    "plt.show()\n",
    "\n",
    "print(\"Жанры с самым высоким средним количеством продаж:\\n\", genre_sales.head())"
   ]
  },
  {
   "cell_type": "markdown",
   "metadata": {},
   "source": [
    "Проанализировали, в дополнение к графикам с общим распределением игр и продаж по жанрам, график среднего количества продаж по жанрам, который подтверждает основные выводы:\n",
    "1. Жанр экшен пусть и занимает первое место по продажам, но это происходит из-за большего количества выпущенных игр. Он отстает от лидера в средних продажах в 4 раза;\n",
    "2. Наиболее перспективным жанром является шутер, он занимает второе место по продажам и имеет самое высокое среднее;\n",
    "3. Также стоит присмотреться к жанру спорт;\n",
    "4. По средним продажам в пятерку кроме лидеров вошли отстающие раньше платформеры и файтинги.\n"
   ]
  },
  {
   "cell_type": "markdown",
   "metadata": {},
   "source": [
    "#### Шаг. Составление портрета пользователя для каждого региона"
   ]
  },
  {
   "cell_type": "markdown",
   "metadata": {},
   "source": [
    "Построим графики распределения продаж игр в Северной Америке, Европе и Японии по платформам и жанрам. \n",
    "\n",
    "Построим график зависимости между продажами игры и рейтингом ESRB."
   ]
  },
  {
   "cell_type": "code",
   "execution_count": 35,
   "metadata": {},
   "outputs": [
    {
     "name": "stdout",
     "output_type": "stream",
     "text": [
      "Общее количество продаж в Северной Америке: 284.06000000000006\n",
      "Общее количество продаж в Европе: 270.67999999999995\n",
      "Общее количество продаж в Японии: 93.09\n"
     ]
    }
   ],
   "source": [
    "# Выведем на экран общее количество продаж в регионах\n",
    "print('Общее количество продаж в Северной Америке:', df['na_sales'].sum())\n",
    "print('Общее количество продаж в Европе:', df['eu_sales'].sum())\n",
    "print('Общее количество продаж в Японии:', df['jp_sales'].sum())"
   ]
  },
  {
   "cell_type": "code",
   "execution_count": 36,
   "metadata": {
    "scrolled": true
   },
   "outputs": [
    {
     "data": {
      "image/png": "[encoded data removed]",
      "text/plain": [
       "<Figure size 1296x432 with 3 Axes>"
      ]
     },
     "metadata": {
      "needs_background": "light"
     },
     "output_type": "display_data"
    }
   ],
   "source": [
    "# Определим топ-5 платформ для каждого региона по продажам\n",
    "\n",
    "top_platforms_na = df.groupby('platform').sum()['na_sales'].sort_values(ascending=False).head(5)\n",
    "top_platforms_jp = df.groupby('platform').sum()['jp_sales'].sort_values(ascending=False).head(5)\n",
    "top_platforms_eu = df.groupby('platform').sum()['eu_sales'].sort_values(ascending=False).head(5)\n",
    "\n",
    "fig, axes = plt.subplots(1, 3, figsize=(18, 6))\n",
    "\n",
    "axes[0].bar(top_platforms_na.index, top_platforms_na.values)\n",
    "axes[0].set_title('Популярные платформы в Северной Америке')\n",
    "axes[0].set_xlabel('Платформа')\n",
    "axes[0].set_ylabel('Количество продаж')\n",
    "\n",
    "axes[1].bar(top_platforms_jp.index, top_platforms_jp.values, color='orange')\n",
    "axes[1].set_title('Популярные платформы в Японии')\n",
    "axes[1].set_xlabel('Платформа')\n",
    "axes[1].set_ylabel('Количество продаж')\n",
    "\n",
    "axes[2].bar(top_platforms_eu.index, top_platforms_eu.values, color='green')\n",
    "axes[2].set_title('Популярные платформы в Европе')\n",
    "axes[2].set_xlabel('Платформа')\n",
    "axes[2].set_ylabel('Количество продаж')\n",
    "\n",
    "plt.tight_layout()\n",
    "plt.show()"
   ]
  },
  {
   "cell_type": "markdown",
   "metadata": {},
   "source": [
    "Во Северной Америке и Европе почти 85% продаж приходится на пять крупнейших платформ, в Японии и вовсе 97%. Лидер по общим продажам PS4 представлен во всех трех регионах и занимает 1 и 2 позиции, XOne, занимает второе место в Америке и Европе, в Японии он находится за пределами 5 крупнейших платформ. \n",
    "\n",
    "Обращая внимание на распределение продаж по платформам:\n",
    "1. В Америке 60% продаж приходится на PS4 и XOne, отрыв лидеров от остальных платформ 3-4 раза;\n",
    "2. В Японии 3DS является лидером по продажам с практически трехкратным отрывом от следующей за ней PS4 и занимает почти 50% продаж;\n",
    "3. В Европе на лидера - PS4 приходится почти 50% продаж, отрыв от остальных платформ более чем двукратный. "
   ]
  },
  {
   "cell_type": "code",
   "execution_count": 37,
   "metadata": {
    "scrolled": true
   },
   "outputs": [
    {
     "data": {
      "image/png": "[encoded data removed]",
      "text/plain": [
       "<Figure size 1296x432 with 3 Axes>"
      ]
     },
     "metadata": {
      "needs_background": "light"
     },
     "output_type": "display_data"
    }
   ],
   "source": [
    "# Определим топ-5 жанров для каждого региона по продажам\n",
    "\n",
    "top_genres_na = df.groupby('genre').sum()['na_sales'].sort_values(ascending=False).head(5)\n",
    "top_genres_jp = df.groupby('genre').sum()['jp_sales'].sort_values(ascending=False).head(5)\n",
    "top_genres_eu = df.groupby('genre').sum()['eu_sales'].sort_values(ascending=False).head(5)\n",
    "\n",
    "fig, axes = plt.subplots(1, 3, figsize=(18, 6))\n",
    "\n",
    "axes[0].bar(top_genres_na.index, top_genres_na.values)\n",
    "axes[0].set_title('Популярные жанры в Северной Америке')\n",
    "axes[0].set_xlabel('Жанр')\n",
    "axes[0].set_ylabel('Количество продаж')\n",
    "\n",
    "axes[1].bar(top_genres_jp.index, top_genres_jp.values, color='orange')\n",
    "axes[1].set_title('Популярные жанры в Японии')\n",
    "axes[1].set_xlabel('Жанр')\n",
    "axes[1].set_ylabel('Количество продаж')\n",
    "\n",
    "axes[2].bar(top_genres_eu.index, top_genres_eu.values, color='green')\n",
    "axes[2].set_title('Популярные жанры в Европе')\n",
    "axes[2].set_xlabel('Жанр')\n",
    "axes[2].set_ylabel('Количество продаж')\n",
    "\n",
    "plt.tight_layout()\n",
    "plt.show()"
   ]
  },
  {
   "cell_type": "markdown",
   "metadata": {},
   "source": [
    "Как можно заметить на графиках, предпочтения в жанрах у пользователей из Северной Америки и Европы практически идентичны, лидируют экшен-игры и шутеры.\n",
    "\n",
    "В Японии картина немного иная - на первое место выходят ролевые игры, экшен-игры заняли второе место, шутеры оказались на пятом месте, на третьем месте неожиданно появляются файтинги."
   ]
  },
  {
   "cell_type": "code",
   "execution_count": 38,
   "metadata": {},
   "outputs": [
    {
     "data": {
      "image/png": "[encoded data removed]",
      "text/plain": [
       "<Figure size 432x288 with 1 Axes>"
      ]
     },
     "metadata": {
      "needs_background": "light"
     },
     "output_type": "display_data"
    },
    {
     "data": {
      "image/png": "[encoded data removed]",
      "text/plain": [
       "<Figure size 432x288 with 1 Axes>"
      ]
     },
     "metadata": {
      "needs_background": "light"
     },
     "output_type": "display_data"
    },
    {
     "data": {
      "image/png": "[encoded data removed]",
      "text/plain": [
       "<Figure size 432x288 with 1 Axes>"
      ]
     },
     "metadata": {
      "needs_background": "light"
     },
     "output_type": "display_data"
    }
   ],
   "source": [
    "sales_rating_na = df.pivot_table(values='na_sales', index='rating', aggfunc='sum')\n",
    "sales_rating_na.plot(kind='bar')\n",
    "plt.title('Зависимость продаж в Северной Америке от рейтинга ESRB')\n",
    "plt.ylabel('Продажи (в миллионах)')\n",
    "plt.xlabel('Рейтинг')\n",
    "plt.show()\n",
    "\n",
    "sales_rating_jp = df.pivot_table(values='jp_sales', index='rating', aggfunc='sum')\n",
    "sales_rating_jp.plot(kind='bar')\n",
    "plt.title('Зависимость продаж в Японии от рейтинга ESRB')\n",
    "plt.ylabel('Продажи (в миллионах)')\n",
    "plt.xlabel('Рейтинг')\n",
    "plt.show()\n",
    "\n",
    "sales_rating_eu = df.pivot_table(values='eu_sales', index='rating', aggfunc='sum')\n",
    "sales_rating_eu.plot(kind='bar')\n",
    "plt.title('Зависимость продаж в Японии от рейтинга ESRB')\n",
    "plt.ylabel('Продажи (в миллионах)')\n",
    "plt.xlabel('Рейтинг')\n",
    "plt.show()"
   ]
  },
  {
   "cell_type": "code",
   "execution_count": 39,
   "metadata": {},
   "outputs": [
    {
     "name": "stdout",
     "output_type": "stream",
     "text": [
      "Количество игр с рейтингом RP: 0\n",
      "Количество игр с рейтингом E: 219\n",
      "Количество игр с рейтингом M: 265\n",
      "Количество игр с рейтингом E10+: 185\n",
      "Количество игр с рейтингом T: 271\n"
     ]
    }
   ],
   "source": [
    "print('Количество игр с рейтингом RP:', df.query('rating == \"RP\"')['rating'].count())\n",
    "print('Количество игр с рейтингом E:', df.query('rating == \"E\"')['rating'].count())\n",
    "print('Количество игр с рейтингом M:', df.query('rating == \"M\"')['rating'].count())\n",
    "print('Количество игр с рейтингом E10+:', df.query('rating == \"E10+\"')['rating'].count())\n",
    "print('Количество игр с рейтингом T:', df.query('rating == \"T\"')['rating'].count())"
   ]
  },
  {
   "cell_type": "markdown",
   "metadata": {},
   "source": [
    "Наименьшее количество продаж во всех трех регионах у игр с рейтингом E10+.\n",
    "\n",
    "В Европе и Америке почти в равном соотношении первое место по продажам занимают игры с рейтингом M, второе - E, третье - T. В Японии же на первом месте игры с рейтингом T, на втором - E, на третьем, с небольшим отставанием, - М.\n",
    "\n",
    "Однако стоит помнить, что в данных есть достаточное количество пропусков по рейтингу от ассоциации ESRB, т.к. данная ассоциация действует в основном в США, Мексике и Канаде, что может влиять на точность данных. Так в Европе существует ассоциация PEGI, а в Японии CERO.\n",
    "\n"
   ]
  },
  {
   "cell_type": "markdown",
   "metadata": {},
   "source": [
    "#### Шаг. Проверка гипотез"
   ]
  },
  {
   "cell_type": "markdown",
   "metadata": {},
   "source": [
    "На данном этапе проверим две гипотезы:\n",
    "1. Средние пользовательские рейтинги платформ Xbox One и PC одинаковые;\n",
    "    1. H0 - средний пользовательский рейтинг платформы Xbox One равен среднему пользовательскому рейтингу платформы PC;\n",
    "    2. H1 - средний пользовательский рейтинг платформы Xbox One не равен среднему пользовательскому рейтингу платформы PC;\n",
    "2. Средние пользовательские рейтинги жанров Action (англ. «действие», экшен-игры) и Sports (англ. «спортивные соревнования») разные\n",
    "    1. H0 - средний пользовательский рейтинг игр жанра экшен равен среднему пользовательскому рейтингу игр жанра спорт;\n",
    "    2. H1 - средний пользовательский рейтинг игр жанра экшен не равен среднему пользовательскому рейтингу игр жанра спорт;\n",
    "\n",
    "Используется двусторонний t-test, поэтому альтернативные гипотезы сформулированы используя \"не равно\", параметр aplha задан на уровне 0.05, на мой взгляд это оптимальный вариант для двустороннего теста, так как эти 5% распределяются на 2,5% справа и слева от среднего."
   ]
  },
  {
   "cell_type": "code",
   "execution_count": 40,
   "metadata": {},
   "outputs": [],
   "source": [
    "data_xone = df.query('platform == \"XOne\"')\n",
    "data_pc = df.query('platform == \"PC\"')\n",
    "data_action = df.query('genre == \"Action\"')\n",
    "data_sports = df.query('genre == \"Sports\"')"
   ]
  },
  {
   "cell_type": "code",
   "execution_count": 41,
   "metadata": {},
   "outputs": [
    {
     "name": "stdout",
     "output_type": "stream",
     "text": [
      "0.10450648833224654\n",
      "Не получилось отвергнуть нулевую гипотезу\n"
     ]
    }
   ],
   "source": [
    "# Равны ли средние пользовательские рейтинги платформ Xbox One и PC?\n",
    "alpha = 0.05\n",
    "results1 = st.ttest_ind(data_xone['user_score'].dropna(), data_pc['user_score'].dropna())\n",
    "print(results1.pvalue)\n",
    "if results1.pvalue < alpha:\n",
    "    print('Отвергаем нулевую гипотезу')\n",
    "else:\n",
    "    print('Не получилось отвергнуть нулевую гипотезу')"
   ]
  },
  {
   "cell_type": "markdown",
   "metadata": {},
   "source": [
    "Полученное значение p-value показывает, что нулевую гипотезу нельзя отвергать. Это значит, что средний пользовательский рейтинг платформ Xbox One и PC равен в большинстве случаев."
   ]
  },
  {
   "cell_type": "code",
   "execution_count": 42,
   "metadata": {},
   "outputs": [
    {
     "name": "stdout",
     "output_type": "stream",
     "text": [
      "2.871146400695882e-19\n",
      "Отвергаем нулевую гипотезу\n"
     ]
    }
   ],
   "source": [
    "# Равны ли средние пользовательские рейтинг игр жанра экшен и спорт?\n",
    "alpha = 0.05\n",
    "results1 = st.ttest_ind(data_action['user_score'].dropna(), data_sports['user_score'].dropna())\n",
    "print(results1.pvalue)\n",
    "if results1.pvalue < alpha:\n",
    "    print('Отвергаем нулевую гипотезу')\n",
    "else:\n",
    "    print('Не получилось отвергнуть нулевую гипотезу')"
   ]
  },
  {
   "cell_type": "markdown",
   "metadata": {},
   "source": [
    "Полученное значение p-value показывает, что мы не можем отвергнуть гипотезу о разности рейтинга игр жанра экшен и спорт. p-value настолько низкое, что даже при alpha=0.01 гипотеза H0 не была бы отвергнута."
   ]
  },
  {
   "cell_type": "markdown",
   "metadata": {},
   "source": [
    "#### Общий вывод"
   ]
  },
  {
   "cell_type": "markdown",
   "metadata": {},
   "source": [
    "В ходе данного исследования были сделаны следующие выводы:\n",
    "1. В данных из открытых источников были обнаружены пропуски в столбцах critic_score, user_score, rating, которые не поддаются простому заполнению. ;\n",
    "2. Актуальным периодом для прогнозирования на 2017 год выбран период с 2014 по 2016 год;\n",
    "3. Сильной корреляции между оценками пользователей и критиков и количеством продаж игры не было обнаружено;\n",
    "4. Потенциально прибыльными платформами считаем PS4 и XOne.\n",
    "4. График количества выпущенных игр показывает, что наибольшее количество игр выпущено в жанре экшен, разница между первым и вторым местом около 400 игр, после жанра экшен идут ролевые игры, приключения, спорт и шутеры. \n",
    "    1. По графику количества продаж по жанрам видно, что лидером также остаются экшен-игры, однако отрыв, который был более чем в два раза, сократился до 26%. Самое заметное изменение это игры-приключения занимая третье место по выпущенным играм, они оказались на третьем месте с конца по количеству продаж, данный жанр игр мы точно не будем рассматривать как перспективный.\n",
    "    2. Наиболее перспективным жанром является шутер, он занимает второе место по продажам и имеет самое высокое среднее. Жанр экшен пусть и занимает первое место по продажам, но это происходит из-за большего количества выпущенных игр.\n",
    "5. Во всех регионах более 85% продаж приходится на пять крупнейших платформ. Лидер по общим продажам PS4 представлен во всех трех регионах и занимает 1 и 2 позиции, XOne, занимающий второе место лидирует в Америке и занимает второе место в Европе, в Японии он находится за пределами 5 крупнейших платформ. Обращая внимание на распределение продаж по платформам:\n",
    "    1. В Америке 60% продаж приходится на PS4 и XOne, отрыв лидеров от остальных платформ 3-4 раза;\n",
    "    2. В Японии 3DS является лидером по продажам с практически двукратным отрывом от следующей за ней PS4 и занимает почти 50% продаж;\n",
    "    3. В Европе на лидера - PS4 приходится почти 50% продаж, отрыв от остальных платформ более чем двукратный.\n",
    "6. Наименьшее количество продаж во всех трех регионах у игр с рейтингом E10+\n",
    "\n",
    "Таким образом, в следующем году компании следует присмотреться к названным выше потенциально прибыльным платформам, также учитывая на какой регион они в большинстве своем направлены. Предпочтения в жанрах у пользователей из Северной Америки и Европы практически идентичны, лидируют экшен-игры и шутеры. Однако шутеры значительно превосходят экшен-игры по средним продажам, что добавляет жанру шутер потенциала."
   ]
  }
 ],
 "metadata": {
  "ExecuteTimeLog": [
   {
    "duration": 1305,
    "start_time": "2024-10-07T17:47:19.566Z"
   },
   {
    "duration": 410,
    "start_time": "2024-10-07T17:49:19.125Z"
   },
   {
    "duration": 59,
    "start_time": "2024-10-07T17:49:23.504Z"
   },
   {
    "duration": 69,
    "start_time": "2024-10-07T17:49:31.509Z"
   },
   {
    "duration": 21,
    "start_time": "2024-10-07T18:04:34.254Z"
   },
   {
    "duration": 514,
    "start_time": "2024-10-07T18:11:34.033Z"
   },
   {
    "duration": 691,
    "start_time": "2024-10-07T18:11:48.869Z"
   },
   {
    "duration": 1299,
    "start_time": "2024-10-08T08:09:43.759Z"
   },
   {
    "duration": 257,
    "start_time": "2024-10-08T08:09:45.061Z"
   },
   {
    "duration": 20,
    "start_time": "2024-10-08T08:09:45.319Z"
   },
   {
    "duration": 749,
    "start_time": "2024-10-08T08:09:45.341Z"
   },
   {
    "duration": 73,
    "start_time": "2024-10-08T08:09:46.092Z"
   },
   {
    "duration": 77,
    "start_time": "2024-10-08T08:11:43.563Z"
   },
   {
    "duration": 17,
    "start_time": "2024-10-08T08:11:48.731Z"
   },
   {
    "duration": 18,
    "start_time": "2024-10-08T08:50:00.239Z"
   },
   {
    "duration": 1180,
    "start_time": "2024-10-08T11:59:12.362Z"
   },
   {
    "duration": 143,
    "start_time": "2024-10-08T11:59:13.545Z"
   },
   {
    "duration": 19,
    "start_time": "2024-10-08T11:59:13.690Z"
   },
   {
    "duration": 842,
    "start_time": "2024-10-08T11:59:13.711Z"
   },
   {
    "duration": 20,
    "start_time": "2024-10-08T11:59:14.556Z"
   },
   {
    "duration": 5,
    "start_time": "2024-10-08T12:04:53.269Z"
   },
   {
    "duration": 123,
    "start_time": "2024-10-08T12:14:10.471Z"
   },
   {
    "duration": 83,
    "start_time": "2024-10-08T12:16:00.354Z"
   },
   {
    "duration": 6,
    "start_time": "2024-10-08T12:16:18.133Z"
   },
   {
    "duration": 15,
    "start_time": "2024-10-08T12:18:50.295Z"
   },
   {
    "duration": 18,
    "start_time": "2024-10-08T12:18:55.720Z"
   },
   {
    "duration": 1331,
    "start_time": "2024-10-08T15:56:02.999Z"
   },
   {
    "duration": 250,
    "start_time": "2024-10-08T15:56:04.332Z"
   },
   {
    "duration": 17,
    "start_time": "2024-10-08T15:56:04.584Z"
   },
   {
    "duration": 712,
    "start_time": "2024-10-08T15:56:04.602Z"
   },
   {
    "duration": 16,
    "start_time": "2024-10-08T15:56:05.316Z"
   },
   {
    "duration": 83,
    "start_time": "2024-10-08T15:56:05.333Z"
   },
   {
    "duration": 42,
    "start_time": "2024-10-08T15:56:05.418Z"
   },
   {
    "duration": 15,
    "start_time": "2024-10-08T15:56:05.461Z"
   },
   {
    "duration": 22,
    "start_time": "2024-10-08T15:56:05.477Z"
   },
   {
    "duration": 5,
    "start_time": "2024-10-08T15:56:21.676Z"
   },
   {
    "duration": 28,
    "start_time": "2024-10-08T15:58:53.573Z"
   },
   {
    "duration": 12,
    "start_time": "2024-10-08T15:59:05.885Z"
   },
   {
    "duration": 15,
    "start_time": "2024-10-08T15:59:14.413Z"
   },
   {
    "duration": 11,
    "start_time": "2024-10-08T15:59:53.765Z"
   },
   {
    "duration": 15,
    "start_time": "2024-10-08T15:59:55.998Z"
   },
   {
    "duration": 18,
    "start_time": "2024-10-08T17:11:15.681Z"
   },
   {
    "duration": 7,
    "start_time": "2024-10-08T17:11:53.181Z"
   },
   {
    "duration": 17,
    "start_time": "2024-10-08T17:16:22.830Z"
   },
   {
    "duration": 23,
    "start_time": "2024-10-08T17:16:33.691Z"
   },
   {
    "duration": 126,
    "start_time": "2024-10-08T17:17:26.772Z"
   },
   {
    "duration": 37,
    "start_time": "2024-10-08T17:17:45.628Z"
   },
   {
    "duration": 27,
    "start_time": "2024-10-08T17:29:20.563Z"
   },
   {
    "duration": 17,
    "start_time": "2024-10-08T17:32:04.929Z"
   },
   {
    "duration": 1153,
    "start_time": "2024-10-08T17:57:42.125Z"
   },
   {
    "duration": 3,
    "start_time": "2024-10-08T17:57:43.280Z"
   },
   {
    "duration": 121,
    "start_time": "2024-10-08T17:57:43.284Z"
   },
   {
    "duration": 30,
    "start_time": "2024-10-08T17:57:43.407Z"
   },
   {
    "duration": 724,
    "start_time": "2024-10-08T17:57:43.440Z"
   },
   {
    "duration": 18,
    "start_time": "2024-10-08T17:57:44.166Z"
   },
   {
    "duration": 4,
    "start_time": "2024-10-08T17:57:44.186Z"
   },
   {
    "duration": 27,
    "start_time": "2024-10-08T17:57:44.191Z"
   },
   {
    "duration": 14,
    "start_time": "2024-10-08T17:57:44.219Z"
   },
   {
    "duration": 20,
    "start_time": "2024-10-08T17:57:44.235Z"
   },
   {
    "duration": 15,
    "start_time": "2024-10-08T17:57:44.258Z"
   },
   {
    "duration": 22,
    "start_time": "2024-10-08T17:57:44.274Z"
   },
   {
    "duration": 16,
    "start_time": "2024-10-08T17:57:44.297Z"
   },
   {
    "duration": 63,
    "start_time": "2024-10-08T17:57:44.315Z"
   },
   {
    "duration": 40,
    "start_time": "2024-10-08T18:10:33.517Z"
   },
   {
    "duration": 18,
    "start_time": "2024-10-08T18:16:02.932Z"
   },
   {
    "duration": 16,
    "start_time": "2024-10-08T18:16:14.202Z"
   },
   {
    "duration": 111,
    "start_time": "2024-10-08T18:26:16.453Z"
   },
   {
    "duration": 15,
    "start_time": "2024-10-08T18:26:24.099Z"
   },
   {
    "duration": 1215,
    "start_time": "2024-10-11T15:24:25.887Z"
   },
   {
    "duration": 3,
    "start_time": "2024-10-11T15:24:27.104Z"
   },
   {
    "duration": 303,
    "start_time": "2024-10-11T15:24:27.108Z"
   },
   {
    "duration": 31,
    "start_time": "2024-10-11T15:24:27.413Z"
   },
   {
    "duration": 685,
    "start_time": "2024-10-11T15:24:27.446Z"
   },
   {
    "duration": 17,
    "start_time": "2024-10-11T15:24:28.132Z"
   },
   {
    "duration": 4,
    "start_time": "2024-10-11T15:24:28.151Z"
   },
   {
    "duration": 12,
    "start_time": "2024-10-11T15:24:28.157Z"
   },
   {
    "duration": 12,
    "start_time": "2024-10-11T15:24:28.171Z"
   },
   {
    "duration": 56,
    "start_time": "2024-10-11T15:24:28.185Z"
   },
   {
    "duration": 5,
    "start_time": "2024-10-11T15:24:28.242Z"
   },
   {
    "duration": 19,
    "start_time": "2024-10-11T15:24:28.248Z"
   },
   {
    "duration": 29,
    "start_time": "2024-10-11T15:24:28.268Z"
   },
   {
    "duration": 36,
    "start_time": "2024-10-11T15:24:28.299Z"
   },
   {
    "duration": 30,
    "start_time": "2024-10-11T15:24:28.337Z"
   },
   {
    "duration": 13,
    "start_time": "2024-10-11T15:24:28.369Z"
   },
   {
    "duration": 11,
    "start_time": "2024-10-11T15:24:28.383Z"
   },
   {
    "duration": 14,
    "start_time": "2024-10-11T15:24:41.614Z"
   },
   {
    "duration": 20,
    "start_time": "2024-10-11T15:28:01.450Z"
   },
   {
    "duration": 16,
    "start_time": "2024-10-11T15:28:30.331Z"
   },
   {
    "duration": 179,
    "start_time": "2024-10-11T15:36:21.101Z"
   },
   {
    "duration": 11,
    "start_time": "2024-10-11T16:34:55.128Z"
   },
   {
    "duration": 144,
    "start_time": "2024-10-11T16:36:17.177Z"
   },
   {
    "duration": 141,
    "start_time": "2024-10-11T16:36:26.929Z"
   },
   {
    "duration": 2223,
    "start_time": "2024-10-11T16:38:14.030Z"
   },
   {
    "duration": 1368,
    "start_time": "2024-10-11T16:39:01.817Z"
   },
   {
    "duration": 1433,
    "start_time": "2024-10-11T16:39:11.790Z"
   },
   {
    "duration": 2555,
    "start_time": "2024-10-11T16:43:56.193Z"
   },
   {
    "duration": 10,
    "start_time": "2024-10-11T16:46:58.534Z"
   },
   {
    "duration": 16,
    "start_time": "2024-10-11T16:50:24.074Z"
   },
   {
    "duration": 12,
    "start_time": "2024-10-11T16:50:52.719Z"
   },
   {
    "duration": 1095,
    "start_time": "2024-10-11T17:09:34.133Z"
   },
   {
    "duration": 3,
    "start_time": "2024-10-11T17:09:35.230Z"
   },
   {
    "duration": 138,
    "start_time": "2024-10-11T17:09:35.234Z"
   },
   {
    "duration": 31,
    "start_time": "2024-10-11T17:09:35.374Z"
   },
   {
    "duration": 650,
    "start_time": "2024-10-11T17:09:35.407Z"
   },
   {
    "duration": 17,
    "start_time": "2024-10-11T17:09:36.058Z"
   },
   {
    "duration": 16,
    "start_time": "2024-10-11T17:09:36.077Z"
   },
   {
    "duration": 30,
    "start_time": "2024-10-11T17:09:36.095Z"
   },
   {
    "duration": 28,
    "start_time": "2024-10-11T17:09:36.126Z"
   },
   {
    "duration": 39,
    "start_time": "2024-10-11T17:09:36.156Z"
   },
   {
    "duration": 4,
    "start_time": "2024-10-11T17:09:36.197Z"
   },
   {
    "duration": 27,
    "start_time": "2024-10-11T17:09:36.203Z"
   },
   {
    "duration": 47,
    "start_time": "2024-10-11T17:09:36.232Z"
   },
   {
    "duration": 64,
    "start_time": "2024-10-11T17:09:36.282Z"
   },
   {
    "duration": 49,
    "start_time": "2024-10-11T17:09:36.348Z"
   },
   {
    "duration": 16,
    "start_time": "2024-10-11T17:09:36.398Z"
   },
   {
    "duration": 432,
    "start_time": "2024-10-11T17:09:36.415Z"
   },
   {
    "duration": 625,
    "start_time": "2024-10-11T17:10:39.311Z"
   },
   {
    "duration": 1164,
    "start_time": "2024-10-11T17:11:31.891Z"
   },
   {
    "duration": 2,
    "start_time": "2024-10-11T17:11:33.057Z"
   },
   {
    "duration": 69,
    "start_time": "2024-10-11T17:11:33.061Z"
   },
   {
    "duration": 30,
    "start_time": "2024-10-11T17:11:33.132Z"
   },
   {
    "duration": 674,
    "start_time": "2024-10-11T17:11:33.164Z"
   },
   {
    "duration": 16,
    "start_time": "2024-10-11T17:11:33.839Z"
   },
   {
    "duration": 4,
    "start_time": "2024-10-11T17:11:33.857Z"
   },
   {
    "duration": 13,
    "start_time": "2024-10-11T17:11:33.862Z"
   },
   {
    "duration": 47,
    "start_time": "2024-10-11T17:11:33.876Z"
   },
   {
    "duration": 28,
    "start_time": "2024-10-11T17:11:33.924Z"
   },
   {
    "duration": 4,
    "start_time": "2024-10-11T17:11:33.954Z"
   },
   {
    "duration": 27,
    "start_time": "2024-10-11T17:11:33.960Z"
   },
   {
    "duration": 49,
    "start_time": "2024-10-11T17:11:33.988Z"
   },
   {
    "duration": 16,
    "start_time": "2024-10-11T17:11:34.039Z"
   },
   {
    "duration": 31,
    "start_time": "2024-10-11T17:11:34.056Z"
   },
   {
    "duration": 40,
    "start_time": "2024-10-11T17:11:34.088Z"
   },
   {
    "duration": 654,
    "start_time": "2024-10-11T17:11:34.130Z"
   },
   {
    "duration": 387,
    "start_time": "2024-10-11T17:15:55.636Z"
   },
   {
    "duration": 302,
    "start_time": "2024-10-11T17:17:46.305Z"
   },
   {
    "duration": 16,
    "start_time": "2024-10-11T17:19:07.139Z"
   },
   {
    "duration": 13,
    "start_time": "2024-10-11T17:19:31.630Z"
   },
   {
    "duration": 12,
    "start_time": "2024-10-11T17:23:31.758Z"
   },
   {
    "duration": 13,
    "start_time": "2024-10-11T17:23:56.622Z"
   },
   {
    "duration": 13,
    "start_time": "2024-10-11T17:24:39.163Z"
   },
   {
    "duration": 17,
    "start_time": "2024-10-11T17:25:57.216Z"
   },
   {
    "duration": 5,
    "start_time": "2024-10-11T17:34:35.158Z"
   },
   {
    "duration": 219,
    "start_time": "2024-10-11T17:35:14.938Z"
   },
   {
    "duration": 188,
    "start_time": "2024-10-11T17:36:13.319Z"
   },
   {
    "duration": 183,
    "start_time": "2024-10-11T17:36:47.095Z"
   },
   {
    "duration": 187,
    "start_time": "2024-10-11T17:40:22.148Z"
   },
   {
    "duration": 883,
    "start_time": "2024-10-11T17:41:26.808Z"
   },
   {
    "duration": 188,
    "start_time": "2024-10-11T17:41:37.014Z"
   },
   {
    "duration": 183,
    "start_time": "2024-10-11T17:41:49.176Z"
   },
   {
    "duration": 5,
    "start_time": "2024-10-11T17:43:04.523Z"
   },
   {
    "duration": 14,
    "start_time": "2024-10-11T17:43:18.320Z"
   },
   {
    "duration": 802,
    "start_time": "2024-10-11T17:43:46.717Z"
   },
   {
    "duration": 680,
    "start_time": "2024-10-11T17:43:55.469Z"
   },
   {
    "duration": 723,
    "start_time": "2024-10-11T17:44:04.574Z"
   },
   {
    "duration": 9,
    "start_time": "2024-10-11T17:44:16.863Z"
   },
   {
    "duration": 3,
    "start_time": "2024-10-11T17:44:24.635Z"
   },
   {
    "duration": 191,
    "start_time": "2024-10-11T17:44:51.512Z"
   },
   {
    "duration": 451,
    "start_time": "2024-10-11T17:45:31.370Z"
   },
   {
    "duration": 15,
    "start_time": "2024-10-11T18:18:11.203Z"
   },
   {
    "duration": 144,
    "start_time": "2024-10-11T18:35:20.734Z"
   },
   {
    "duration": 9,
    "start_time": "2024-10-11T18:35:29.039Z"
   },
   {
    "duration": 14,
    "start_time": "2024-10-11T18:35:37.387Z"
   },
   {
    "duration": 691,
    "start_time": "2024-10-11T18:37:16.014Z"
   },
   {
    "duration": 25,
    "start_time": "2024-10-11T18:37:26.439Z"
   },
   {
    "duration": 19,
    "start_time": "2024-10-11T18:37:44.760Z"
   },
   {
    "duration": 150,
    "start_time": "2024-10-11T18:37:57.095Z"
   },
   {
    "duration": 176,
    "start_time": "2024-10-11T18:38:13.196Z"
   },
   {
    "duration": 166,
    "start_time": "2024-10-11T18:38:43.148Z"
   },
   {
    "duration": 176,
    "start_time": "2024-10-11T18:38:49.138Z"
   },
   {
    "duration": 170,
    "start_time": "2024-10-11T18:42:49.008Z"
   },
   {
    "duration": 169,
    "start_time": "2024-10-11T18:43:05.873Z"
   },
   {
    "duration": 178,
    "start_time": "2024-10-11T18:43:17.675Z"
   },
   {
    "duration": 176,
    "start_time": "2024-10-11T18:43:29.046Z"
   },
   {
    "duration": 926,
    "start_time": "2024-10-11T18:44:26.577Z"
   },
   {
    "duration": 263,
    "start_time": "2024-10-11T18:45:02.673Z"
   },
   {
    "duration": 186,
    "start_time": "2024-10-11T18:45:31.335Z"
   },
   {
    "duration": 185,
    "start_time": "2024-10-11T18:45:36.373Z"
   },
   {
    "duration": 185,
    "start_time": "2024-10-11T18:46:23.789Z"
   },
   {
    "duration": 179,
    "start_time": "2024-10-11T18:46:28.400Z"
   },
   {
    "duration": 1298,
    "start_time": "2024-10-12T08:58:57.046Z"
   },
   {
    "duration": 3,
    "start_time": "2024-10-12T08:58:58.346Z"
   },
   {
    "duration": 230,
    "start_time": "2024-10-12T08:58:58.353Z"
   },
   {
    "duration": 39,
    "start_time": "2024-10-12T08:58:58.585Z"
   },
   {
    "duration": 710,
    "start_time": "2024-10-12T08:58:58.626Z"
   },
   {
    "duration": 17,
    "start_time": "2024-10-12T08:58:59.338Z"
   },
   {
    "duration": 5,
    "start_time": "2024-10-12T08:58:59.356Z"
   },
   {
    "duration": 20,
    "start_time": "2024-10-12T08:58:59.363Z"
   },
   {
    "duration": 53,
    "start_time": "2024-10-12T08:58:59.386Z"
   },
   {
    "duration": 81,
    "start_time": "2024-10-12T08:58:59.441Z"
   },
   {
    "duration": 5,
    "start_time": "2024-10-12T08:58:59.524Z"
   },
   {
    "duration": 29,
    "start_time": "2024-10-12T08:58:59.530Z"
   },
   {
    "duration": 26,
    "start_time": "2024-10-12T08:58:59.560Z"
   },
   {
    "duration": 62,
    "start_time": "2024-10-12T08:58:59.588Z"
   },
   {
    "duration": 37,
    "start_time": "2024-10-12T08:58:59.651Z"
   },
   {
    "duration": 14,
    "start_time": "2024-10-12T08:58:59.690Z"
   },
   {
    "duration": 15,
    "start_time": "2024-10-12T08:58:59.706Z"
   },
   {
    "duration": 372,
    "start_time": "2024-10-12T08:58:59.723Z"
   },
   {
    "duration": 235,
    "start_time": "2024-10-12T08:59:00.098Z"
   },
   {
    "duration": 216,
    "start_time": "2024-10-12T08:59:00.335Z"
   },
   {
    "duration": 215,
    "start_time": "2024-10-12T08:59:00.553Z"
   },
   {
    "duration": 274,
    "start_time": "2024-10-12T08:59:00.770Z"
   },
   {
    "duration": 206,
    "start_time": "2024-10-12T08:59:01.046Z"
   },
   {
    "duration": 210,
    "start_time": "2024-10-12T08:59:01.254Z"
   },
   {
    "duration": 286,
    "start_time": "2024-10-12T08:59:01.465Z"
   },
   {
    "duration": 3,
    "start_time": "2024-10-12T08:59:01.753Z"
   },
   {
    "duration": 199,
    "start_time": "2024-10-12T09:00:37.842Z"
   },
   {
    "duration": 210,
    "start_time": "2024-10-12T09:01:14.394Z"
   },
   {
    "duration": 210,
    "start_time": "2024-10-12T11:21:48.663Z"
   },
   {
    "duration": 108,
    "start_time": "2024-10-12T11:49:41.358Z"
   },
   {
    "duration": 22,
    "start_time": "2024-10-12T11:50:26.016Z"
   },
   {
    "duration": 49,
    "start_time": "2024-10-12T11:50:49.930Z"
   },
   {
    "duration": 179,
    "start_time": "2024-10-12T11:50:56.880Z"
   },
   {
    "duration": 184,
    "start_time": "2024-10-12T11:51:14.578Z"
   },
   {
    "duration": 146,
    "start_time": "2024-10-12T11:51:25.016Z"
   },
   {
    "duration": 232,
    "start_time": "2024-10-12T11:51:42.392Z"
   },
   {
    "duration": 27,
    "start_time": "2024-10-12T12:04:36.797Z"
   },
   {
    "duration": 153,
    "start_time": "2024-10-12T12:05:52.651Z"
   },
   {
    "duration": 179,
    "start_time": "2024-10-12T12:06:09.017Z"
   },
   {
    "duration": 157,
    "start_time": "2024-10-12T12:06:25.157Z"
   },
   {
    "duration": 176,
    "start_time": "2024-10-12T12:08:32.857Z"
   },
   {
    "duration": 150,
    "start_time": "2024-10-12T12:08:36.761Z"
   },
   {
    "duration": 251,
    "start_time": "2024-10-12T12:19:41.837Z"
   },
   {
    "duration": 251,
    "start_time": "2024-10-12T12:20:11.941Z"
   },
   {
    "duration": 271,
    "start_time": "2024-10-12T12:24:17.714Z"
   },
   {
    "duration": 237,
    "start_time": "2024-10-12T12:26:47.929Z"
   },
   {
    "duration": 328,
    "start_time": "2024-10-12T12:27:07.118Z"
   },
   {
    "duration": 162,
    "start_time": "2024-10-12T12:35:28.863Z"
   },
   {
    "duration": 758,
    "start_time": "2024-10-12T12:53:22.865Z"
   },
   {
    "duration": 567,
    "start_time": "2024-10-12T12:53:31.510Z"
   },
   {
    "duration": 512,
    "start_time": "2024-10-12T13:00:17.409Z"
   },
   {
    "duration": 464,
    "start_time": "2024-10-12T13:00:52.004Z"
   },
   {
    "duration": 543,
    "start_time": "2024-10-12T13:11:01.112Z"
   },
   {
    "duration": 9,
    "start_time": "2024-10-12T13:18:12.470Z"
   },
   {
    "duration": 4,
    "start_time": "2024-10-12T13:18:19.806Z"
   },
   {
    "duration": 5,
    "start_time": "2024-10-12T13:18:51.027Z"
   },
   {
    "duration": 427,
    "start_time": "2024-10-12T13:55:21.958Z"
   },
   {
    "duration": 388,
    "start_time": "2024-10-12T13:56:05.069Z"
   },
   {
    "duration": 16,
    "start_time": "2024-10-12T13:56:56.487Z"
   },
   {
    "duration": 8,
    "start_time": "2024-10-12T13:58:58.836Z"
   },
   {
    "duration": 5,
    "start_time": "2024-10-12T13:59:38.801Z"
   },
   {
    "duration": 16,
    "start_time": "2024-10-12T14:00:34.948Z"
   },
   {
    "duration": 421,
    "start_time": "2024-10-12T14:07:25.206Z"
   },
   {
    "duration": 13,
    "start_time": "2024-10-12T14:25:51.920Z"
   },
   {
    "duration": 5,
    "start_time": "2024-10-12T14:28:01.216Z"
   },
   {
    "duration": 21,
    "start_time": "2024-10-12T14:28:13.558Z"
   },
   {
    "duration": 31,
    "start_time": "2024-10-12T14:28:25.340Z"
   },
   {
    "duration": 48,
    "start_time": "2024-10-12T14:28:46.844Z"
   },
   {
    "duration": 6,
    "start_time": "2024-10-12T14:29:25.682Z"
   },
   {
    "duration": 5,
    "start_time": "2024-10-12T14:29:42.720Z"
   },
   {
    "duration": 17,
    "start_time": "2024-10-12T14:30:54.353Z"
   },
   {
    "duration": 6,
    "start_time": "2024-10-12T14:31:17.752Z"
   },
   {
    "duration": 6,
    "start_time": "2024-10-12T14:31:42.111Z"
   },
   {
    "duration": 1092,
    "start_time": "2024-10-12T14:50:03.969Z"
   },
   {
    "duration": 3,
    "start_time": "2024-10-12T14:50:05.063Z"
   },
   {
    "duration": 84,
    "start_time": "2024-10-12T14:50:05.068Z"
   },
   {
    "duration": 29,
    "start_time": "2024-10-12T14:50:05.154Z"
   },
   {
    "duration": 679,
    "start_time": "2024-10-12T14:50:05.185Z"
   },
   {
    "duration": 16,
    "start_time": "2024-10-12T14:50:05.866Z"
   },
   {
    "duration": 4,
    "start_time": "2024-10-12T14:50:05.883Z"
   },
   {
    "duration": 37,
    "start_time": "2024-10-12T14:50:05.889Z"
   },
   {
    "duration": 13,
    "start_time": "2024-10-12T14:50:05.927Z"
   },
   {
    "duration": 54,
    "start_time": "2024-10-12T14:50:05.942Z"
   },
   {
    "duration": 5,
    "start_time": "2024-10-12T14:50:05.997Z"
   },
   {
    "duration": 73,
    "start_time": "2024-10-12T14:50:06.003Z"
   },
   {
    "duration": 31,
    "start_time": "2024-10-12T14:50:06.077Z"
   },
   {
    "duration": 16,
    "start_time": "2024-10-12T14:50:06.109Z"
   },
   {
    "duration": 64,
    "start_time": "2024-10-12T14:50:06.127Z"
   },
   {
    "duration": 24,
    "start_time": "2024-10-12T14:50:06.193Z"
   },
   {
    "duration": 14,
    "start_time": "2024-10-12T14:50:06.218Z"
   },
   {
    "duration": 281,
    "start_time": "2024-10-12T14:50:06.234Z"
   },
   {
    "duration": 361,
    "start_time": "2024-10-12T14:50:06.521Z"
   },
   {
    "duration": 216,
    "start_time": "2024-10-12T14:50:06.884Z"
   },
   {
    "duration": 310,
    "start_time": "2024-10-12T14:50:07.102Z"
   },
   {
    "duration": 5,
    "start_time": "2024-10-12T14:50:07.420Z"
   },
   {
    "duration": 588,
    "start_time": "2024-10-12T14:50:07.426Z"
   },
   {
    "duration": 483,
    "start_time": "2024-10-12T14:50:08.015Z"
   },
   {
    "duration": 410,
    "start_time": "2024-10-12T14:50:08.499Z"
   },
   {
    "duration": 21,
    "start_time": "2024-10-12T14:50:08.910Z"
   },
   {
    "duration": 15,
    "start_time": "2024-10-12T14:50:08.932Z"
   },
   {
    "duration": 23,
    "start_time": "2024-10-12T14:50:08.949Z"
   },
   {
    "duration": 25,
    "start_time": "2024-10-12T14:50:08.973Z"
   },
   {
    "duration": 421,
    "start_time": "2024-10-12T14:52:31.564Z"
   },
   {
    "duration": 1032,
    "start_time": "2024-10-13T07:02:02.568Z"
   },
   {
    "duration": 2,
    "start_time": "2024-10-13T07:02:03.602Z"
   },
   {
    "duration": 65,
    "start_time": "2024-10-13T07:02:03.605Z"
   },
   {
    "duration": 24,
    "start_time": "2024-10-13T07:02:03.671Z"
   },
   {
    "duration": 554,
    "start_time": "2024-10-13T07:02:03.697Z"
   },
   {
    "duration": 18,
    "start_time": "2024-10-13T07:02:04.253Z"
   },
   {
    "duration": 67,
    "start_time": "2024-10-13T07:02:04.272Z"
   },
   {
    "duration": 49,
    "start_time": "2024-10-13T07:02:04.340Z"
   },
   {
    "duration": 16,
    "start_time": "2024-10-13T07:02:04.391Z"
   },
   {
    "duration": 22,
    "start_time": "2024-10-13T07:02:04.408Z"
   },
   {
    "duration": 4,
    "start_time": "2024-10-13T07:02:04.431Z"
   },
   {
    "duration": 83,
    "start_time": "2024-10-13T07:02:04.436Z"
   },
   {
    "duration": 19,
    "start_time": "2024-10-13T07:02:04.520Z"
   },
   {
    "duration": 34,
    "start_time": "2024-10-13T07:02:04.542Z"
   },
   {
    "duration": 38,
    "start_time": "2024-10-13T07:02:04.578Z"
   },
   {
    "duration": 23,
    "start_time": "2024-10-13T07:02:04.617Z"
   },
   {
    "duration": 9,
    "start_time": "2024-10-13T07:02:04.641Z"
   },
   {
    "duration": 230,
    "start_time": "2024-10-13T07:02:04.652Z"
   },
   {
    "duration": 316,
    "start_time": "2024-10-13T07:02:04.884Z"
   },
   {
    "duration": 231,
    "start_time": "2024-10-13T07:02:05.201Z"
   },
   {
    "duration": 294,
    "start_time": "2024-10-13T07:02:05.434Z"
   },
   {
    "duration": 5,
    "start_time": "2024-10-13T07:02:05.730Z"
   },
   {
    "duration": 455,
    "start_time": "2024-10-13T07:02:05.736Z"
   },
   {
    "duration": 450,
    "start_time": "2024-10-13T07:02:06.193Z"
   },
   {
    "duration": 360,
    "start_time": "2024-10-13T07:02:06.644Z"
   },
   {
    "duration": 13,
    "start_time": "2024-10-13T07:02:07.006Z"
   },
   {
    "duration": 16,
    "start_time": "2024-10-13T07:02:07.021Z"
   },
   {
    "duration": 7,
    "start_time": "2024-10-13T07:02:07.038Z"
   },
   {
    "duration": 11,
    "start_time": "2024-10-13T07:02:07.046Z"
   },
   {
    "duration": 1024,
    "start_time": "2024-10-13T07:13:27.403Z"
   },
   {
    "duration": 3,
    "start_time": "2024-10-13T07:13:28.430Z"
   },
   {
    "duration": 76,
    "start_time": "2024-10-13T07:13:28.434Z"
   },
   {
    "duration": 25,
    "start_time": "2024-10-13T07:13:28.512Z"
   },
   {
    "duration": 563,
    "start_time": "2024-10-13T07:13:28.539Z"
   },
   {
    "duration": 13,
    "start_time": "2024-10-13T07:13:29.103Z"
   },
   {
    "duration": 20,
    "start_time": "2024-10-13T07:13:29.117Z"
   },
   {
    "duration": 8,
    "start_time": "2024-10-13T07:13:29.138Z"
   },
   {
    "duration": 26,
    "start_time": "2024-10-13T07:13:29.148Z"
   },
   {
    "duration": 23,
    "start_time": "2024-10-13T07:13:29.176Z"
   },
   {
    "duration": 4,
    "start_time": "2024-10-13T07:13:29.200Z"
   },
   {
    "duration": 22,
    "start_time": "2024-10-13T07:13:29.205Z"
   },
   {
    "duration": 9,
    "start_time": "2024-10-13T07:13:29.228Z"
   },
   {
    "duration": 15,
    "start_time": "2024-10-13T07:13:29.264Z"
   },
   {
    "duration": 24,
    "start_time": "2024-10-13T07:13:29.280Z"
   },
   {
    "duration": 13,
    "start_time": "2024-10-13T07:13:29.305Z"
   },
   {
    "duration": 11,
    "start_time": "2024-10-13T07:13:29.320Z"
   },
   {
    "duration": 259,
    "start_time": "2024-10-13T07:13:29.333Z"
   },
   {
    "duration": 2076,
    "start_time": "2024-10-13T07:13:29.594Z"
   },
   {
    "duration": 0,
    "start_time": "2024-10-13T07:13:31.672Z"
   },
   {
    "duration": 0,
    "start_time": "2024-10-13T07:13:31.674Z"
   },
   {
    "duration": 0,
    "start_time": "2024-10-13T07:13:31.675Z"
   },
   {
    "duration": 0,
    "start_time": "2024-10-13T07:13:31.676Z"
   },
   {
    "duration": 0,
    "start_time": "2024-10-13T07:13:31.678Z"
   },
   {
    "duration": 0,
    "start_time": "2024-10-13T07:13:31.679Z"
   },
   {
    "duration": 0,
    "start_time": "2024-10-13T07:13:31.680Z"
   },
   {
    "duration": 0,
    "start_time": "2024-10-13T07:13:31.681Z"
   },
   {
    "duration": 0,
    "start_time": "2024-10-13T07:13:31.682Z"
   },
   {
    "duration": 0,
    "start_time": "2024-10-13T07:13:31.683Z"
   },
   {
    "duration": 1007,
    "start_time": "2024-10-13T07:15:30.209Z"
   },
   {
    "duration": 3,
    "start_time": "2024-10-13T07:15:31.218Z"
   },
   {
    "duration": 68,
    "start_time": "2024-10-13T07:15:31.222Z"
   },
   {
    "duration": 24,
    "start_time": "2024-10-13T07:15:31.292Z"
   },
   {
    "duration": 610,
    "start_time": "2024-10-13T07:15:31.317Z"
   },
   {
    "duration": 13,
    "start_time": "2024-10-13T07:15:31.928Z"
   },
   {
    "duration": 4,
    "start_time": "2024-10-13T07:15:31.942Z"
   },
   {
    "duration": 15,
    "start_time": "2024-10-13T07:15:31.968Z"
   },
   {
    "duration": 16,
    "start_time": "2024-10-13T07:15:31.991Z"
   },
   {
    "duration": 26,
    "start_time": "2024-10-13T07:15:32.008Z"
   },
   {
    "duration": 4,
    "start_time": "2024-10-13T07:15:32.035Z"
   },
   {
    "duration": 28,
    "start_time": "2024-10-13T07:15:32.040Z"
   },
   {
    "duration": 28,
    "start_time": "2024-10-13T07:15:32.079Z"
   },
   {
    "duration": 13,
    "start_time": "2024-10-13T07:15:32.110Z"
   },
   {
    "duration": 24,
    "start_time": "2024-10-13T07:15:32.124Z"
   },
   {
    "duration": 31,
    "start_time": "2024-10-13T07:15:32.150Z"
   },
   {
    "duration": 10,
    "start_time": "2024-10-13T07:15:32.183Z"
   },
   {
    "duration": 260,
    "start_time": "2024-10-13T07:15:32.194Z"
   },
   {
    "duration": 332,
    "start_time": "2024-10-13T07:15:32.459Z"
   },
   {
    "duration": 208,
    "start_time": "2024-10-13T07:15:32.792Z"
   },
   {
    "duration": 286,
    "start_time": "2024-10-13T07:15:33.002Z"
   },
   {
    "duration": 5,
    "start_time": "2024-10-13T07:15:33.289Z"
   },
   {
    "duration": 503,
    "start_time": "2024-10-13T07:15:33.296Z"
   },
   {
    "duration": 487,
    "start_time": "2024-10-13T07:15:33.801Z"
   },
   {
    "duration": 393,
    "start_time": "2024-10-13T07:15:34.290Z"
   },
   {
    "duration": 15,
    "start_time": "2024-10-13T07:15:34.688Z"
   },
   {
    "duration": 21,
    "start_time": "2024-10-13T07:15:34.705Z"
   },
   {
    "duration": 20,
    "start_time": "2024-10-13T07:15:34.728Z"
   },
   {
    "duration": 6,
    "start_time": "2024-10-13T07:15:34.750Z"
   },
   {
    "duration": 1020,
    "start_time": "2024-10-13T07:37:37.078Z"
   },
   {
    "duration": 3,
    "start_time": "2024-10-13T07:37:38.100Z"
   },
   {
    "duration": 53,
    "start_time": "2024-10-13T07:37:38.104Z"
   },
   {
    "duration": 24,
    "start_time": "2024-10-13T07:37:38.183Z"
   },
   {
    "duration": 604,
    "start_time": "2024-10-13T07:37:38.208Z"
   },
   {
    "duration": 13,
    "start_time": "2024-10-13T07:37:38.813Z"
   },
   {
    "duration": 4,
    "start_time": "2024-10-13T07:37:38.828Z"
   },
   {
    "duration": 46,
    "start_time": "2024-10-13T07:37:38.833Z"
   },
   {
    "duration": 12,
    "start_time": "2024-10-13T07:37:38.880Z"
   },
   {
    "duration": 29,
    "start_time": "2024-10-13T07:37:38.894Z"
   },
   {
    "duration": 4,
    "start_time": "2024-10-13T07:37:38.924Z"
   },
   {
    "duration": 15,
    "start_time": "2024-10-13T07:37:38.929Z"
   },
   {
    "duration": 35,
    "start_time": "2024-10-13T07:37:38.945Z"
   },
   {
    "duration": 13,
    "start_time": "2024-10-13T07:37:38.981Z"
   },
   {
    "duration": 24,
    "start_time": "2024-10-13T07:37:38.995Z"
   },
   {
    "duration": 10,
    "start_time": "2024-10-13T07:37:39.020Z"
   },
   {
    "duration": 6,
    "start_time": "2024-10-13T07:37:39.032Z"
   },
   {
    "duration": 249,
    "start_time": "2024-10-13T07:37:39.039Z"
   },
   {
    "duration": 321,
    "start_time": "2024-10-13T07:37:39.289Z"
   },
   {
    "duration": 194,
    "start_time": "2024-10-13T07:37:39.611Z"
   },
   {
    "duration": 246,
    "start_time": "2024-10-13T07:37:39.806Z"
   },
   {
    "duration": 13,
    "start_time": "2024-10-13T07:37:40.053Z"
   },
   {
    "duration": 503,
    "start_time": "2024-10-13T07:37:40.076Z"
   },
   {
    "duration": 449,
    "start_time": "2024-10-13T07:37:40.584Z"
   },
   {
    "duration": 367,
    "start_time": "2024-10-13T07:37:41.034Z"
   },
   {
    "duration": 15,
    "start_time": "2024-10-13T07:37:41.402Z"
   },
   {
    "duration": 8,
    "start_time": "2024-10-13T07:37:41.418Z"
   },
   {
    "duration": 4,
    "start_time": "2024-10-13T07:37:41.429Z"
   },
   {
    "duration": 44,
    "start_time": "2024-10-13T07:37:41.435Z"
   },
   {
    "duration": 1292,
    "start_time": "2024-10-13T09:42:20.056Z"
   },
   {
    "duration": 4,
    "start_time": "2024-10-13T09:42:24.094Z"
   },
   {
    "duration": 239,
    "start_time": "2024-10-13T09:42:24.924Z"
   },
   {
    "duration": 34,
    "start_time": "2024-10-13T09:42:25.769Z"
   },
   {
    "duration": 690,
    "start_time": "2024-10-13T09:42:30.217Z"
   },
   {
    "duration": 19,
    "start_time": "2024-10-13T09:42:32.701Z"
   },
   {
    "duration": 5,
    "start_time": "2024-10-13T09:42:40.142Z"
   },
   {
    "duration": 11,
    "start_time": "2024-10-13T09:44:14.497Z"
   },
   {
    "duration": 14,
    "start_time": "2024-10-13T09:44:20.513Z"
   },
   {
    "duration": 30,
    "start_time": "2024-10-13T09:49:00.847Z"
   },
   {
    "duration": 5,
    "start_time": "2024-10-13T09:49:09.027Z"
   },
   {
    "duration": 355,
    "start_time": "2024-10-13T09:49:39.808Z"
   },
   {
    "duration": 362,
    "start_time": "2024-10-13T09:49:55.160Z"
   },
   {
    "duration": 11,
    "start_time": "2024-10-13T09:51:00.922Z"
   },
   {
    "duration": 15,
    "start_time": "2024-10-13T09:51:10.015Z"
   },
   {
    "duration": 507,
    "start_time": "2024-10-13T09:53:36.317Z"
   },
   {
    "duration": 377,
    "start_time": "2024-10-13T09:53:49.314Z"
   },
   {
    "duration": 376,
    "start_time": "2024-10-13T09:55:12.247Z"
   },
   {
    "duration": 49,
    "start_time": "2024-10-13T10:07:55.633Z"
   },
   {
    "duration": 17,
    "start_time": "2024-10-13T10:07:58.810Z"
   },
   {
    "duration": 24,
    "start_time": "2024-10-13T10:10:09.777Z"
   },
   {
    "duration": 107,
    "start_time": "2024-10-13T11:25:56.281Z"
   },
   {
    "duration": 4015,
    "start_time": "2024-10-13T11:26:07.639Z"
   },
   {
    "duration": 9,
    "start_time": "2024-10-13T11:27:22.129Z"
   },
   {
    "duration": 21,
    "start_time": "2024-10-13T11:36:24.603Z"
   },
   {
    "duration": 18,
    "start_time": "2024-10-13T11:36:56.297Z"
   },
   {
    "duration": 4559,
    "start_time": "2024-10-13T11:37:01.458Z"
   },
   {
    "duration": 32,
    "start_time": "2024-10-13T11:37:47.703Z"
   },
   {
    "duration": 160,
    "start_time": "2024-10-13T11:41:14.674Z"
   },
   {
    "duration": 1171,
    "start_time": "2024-10-13T11:41:38.310Z"
   },
   {
    "duration": 312,
    "start_time": "2024-10-13T11:42:11.798Z"
   },
   {
    "duration": 209,
    "start_time": "2024-10-13T11:44:28.581Z"
   },
   {
    "duration": 204,
    "start_time": "2024-10-13T11:46:27.663Z"
   },
   {
    "duration": 190,
    "start_time": "2024-10-13T11:48:11.269Z"
   },
   {
    "duration": 165,
    "start_time": "2024-10-13T11:52:12.420Z"
   },
   {
    "duration": 283,
    "start_time": "2024-10-13T11:52:42.160Z"
   },
   {
    "duration": 5,
    "start_time": "2024-10-13T11:55:08.134Z"
   },
   {
    "duration": 155,
    "start_time": "2024-10-13T11:55:37.772Z"
   },
   {
    "duration": 145,
    "start_time": "2024-10-13T12:05:40.462Z"
   },
   {
    "duration": 1174,
    "start_time": "2024-10-13T12:16:04.199Z"
   },
   {
    "duration": 3,
    "start_time": "2024-10-13T12:16:05.638Z"
   },
   {
    "duration": 64,
    "start_time": "2024-10-13T12:16:06.246Z"
   },
   {
    "duration": 34,
    "start_time": "2024-10-13T12:16:07.209Z"
   },
   {
    "duration": 693,
    "start_time": "2024-10-13T12:16:11.077Z"
   },
   {
    "duration": 16,
    "start_time": "2024-10-13T12:16:15.149Z"
   },
   {
    "duration": 7,
    "start_time": "2024-10-13T12:16:17.445Z"
   },
   {
    "duration": 13,
    "start_time": "2024-10-13T12:16:19.630Z"
   },
   {
    "duration": 22,
    "start_time": "2024-10-13T12:16:25.014Z"
   },
   {
    "duration": 42,
    "start_time": "2024-10-13T12:16:29.920Z"
   },
   {
    "duration": 17,
    "start_time": "2024-10-13T12:16:35.706Z"
   },
   {
    "duration": 25,
    "start_time": "2024-10-13T12:16:37.122Z"
   },
   {
    "duration": 410,
    "start_time": "2024-10-13T12:16:43.697Z"
   },
   {
    "duration": 224,
    "start_time": "2024-10-13T12:17:31.559Z"
   },
   {
    "duration": 219,
    "start_time": "2024-10-13T12:18:30.809Z"
   },
   {
    "duration": 211,
    "start_time": "2024-10-13T12:18:38.987Z"
   },
   {
    "duration": 285,
    "start_time": "2024-10-13T12:18:53.314Z"
   },
   {
    "duration": 180,
    "start_time": "2024-10-13T12:19:00.899Z"
   },
   {
    "duration": 159,
    "start_time": "2024-10-13T12:19:09.988Z"
   },
   {
    "duration": 166,
    "start_time": "2024-10-13T12:19:15.425Z"
   },
   {
    "duration": 13,
    "start_time": "2024-10-13T12:19:48.087Z"
   },
   {
    "duration": 10,
    "start_time": "2024-10-13T12:21:53.706Z"
   },
   {
    "duration": 260,
    "start_time": "2024-10-13T12:22:08.845Z"
   },
   {
    "duration": 406,
    "start_time": "2024-10-13T12:45:49.604Z"
   },
   {
    "duration": 9,
    "start_time": "2024-10-13T12:50:07.532Z"
   },
   {
    "duration": 8,
    "start_time": "2024-10-13T12:50:24.223Z"
   },
   {
    "duration": 1203,
    "start_time": "2024-10-13T13:35:40.376Z"
   },
   {
    "duration": 3,
    "start_time": "2024-10-13T13:35:41.581Z"
   },
   {
    "duration": 65,
    "start_time": "2024-10-13T13:35:41.586Z"
   },
   {
    "duration": 32,
    "start_time": "2024-10-13T13:35:41.654Z"
   },
   {
    "duration": 695,
    "start_time": "2024-10-13T13:35:41.687Z"
   },
   {
    "duration": 25,
    "start_time": "2024-10-13T13:35:42.384Z"
   },
   {
    "duration": 5,
    "start_time": "2024-10-13T13:35:42.410Z"
   },
   {
    "duration": 13,
    "start_time": "2024-10-13T13:35:42.416Z"
   },
   {
    "duration": 13,
    "start_time": "2024-10-13T13:35:42.431Z"
   },
   {
    "duration": 54,
    "start_time": "2024-10-13T13:35:42.447Z"
   },
   {
    "duration": 15,
    "start_time": "2024-10-13T13:35:42.503Z"
   },
   {
    "duration": 25,
    "start_time": "2024-10-13T13:35:42.519Z"
   },
   {
    "duration": 419,
    "start_time": "2024-10-13T13:35:42.546Z"
   },
   {
    "duration": 5,
    "start_time": "2024-10-13T13:35:42.967Z"
   },
   {
    "duration": 14,
    "start_time": "2024-10-13T13:35:42.973Z"
   },
   {
    "duration": 225,
    "start_time": "2024-10-13T13:35:42.997Z"
   },
   {
    "duration": 228,
    "start_time": "2024-10-13T13:35:43.224Z"
   },
   {
    "duration": 216,
    "start_time": "2024-10-13T13:35:43.453Z"
   },
   {
    "duration": 291,
    "start_time": "2024-10-13T13:35:43.670Z"
   },
   {
    "duration": 178,
    "start_time": "2024-10-13T13:35:43.962Z"
   },
   {
    "duration": 174,
    "start_time": "2024-10-13T13:35:44.142Z"
   },
   {
    "duration": 164,
    "start_time": "2024-10-13T13:35:44.318Z"
   },
   {
    "duration": 23,
    "start_time": "2024-10-13T13:35:44.483Z"
   },
   {
    "duration": 10,
    "start_time": "2024-10-13T13:35:44.508Z"
   },
   {
    "duration": 270,
    "start_time": "2024-10-13T13:35:44.519Z"
   },
   {
    "duration": 411,
    "start_time": "2024-10-13T13:35:44.790Z"
   },
   {
    "duration": 22,
    "start_time": "2024-10-13T13:35:45.203Z"
   },
   {
    "duration": 24,
    "start_time": "2024-10-13T13:35:45.229Z"
   },
   {
    "duration": 78,
    "start_time": "2024-10-13T13:35:45.255Z"
   },
   {
    "duration": 224,
    "start_time": "2024-10-13T13:35:45.334Z"
   },
   {
    "duration": 227,
    "start_time": "2024-10-13T13:35:45.560Z"
   },
   {
    "duration": 12,
    "start_time": "2024-10-13T13:35:45.788Z"
   },
   {
    "duration": 626,
    "start_time": "2024-10-13T13:35:45.802Z"
   },
   {
    "duration": 540,
    "start_time": "2024-10-13T13:35:46.430Z"
   },
   {
    "duration": 427,
    "start_time": "2024-10-13T13:35:46.972Z"
   },
   {
    "duration": 17,
    "start_time": "2024-10-13T13:35:47.401Z"
   },
   {
    "duration": 11,
    "start_time": "2024-10-13T13:35:47.419Z"
   },
   {
    "duration": 8,
    "start_time": "2024-10-13T13:35:47.431Z"
   },
   {
    "duration": 11,
    "start_time": "2024-10-13T13:35:47.440Z"
   },
   {
    "duration": 235,
    "start_time": "2024-10-13T13:43:21.830Z"
   },
   {
    "duration": 7,
    "start_time": "2024-10-13T13:49:46.321Z"
   },
   {
    "duration": 4,
    "start_time": "2024-10-13T13:53:47.470Z"
   },
   {
    "duration": 101,
    "start_time": "2024-10-13T13:54:08.031Z"
   },
   {
    "duration": 139,
    "start_time": "2024-10-13T13:54:15.340Z"
   },
   {
    "duration": 4,
    "start_time": "2024-10-13T13:55:11.293Z"
   },
   {
    "duration": 4,
    "start_time": "2024-10-13T13:55:42.065Z"
   },
   {
    "duration": 153,
    "start_time": "2024-10-13T13:55:46.454Z"
   },
   {
    "duration": 136,
    "start_time": "2024-10-13T13:56:25.423Z"
   },
   {
    "duration": 4,
    "start_time": "2024-10-13T13:58:37.791Z"
   },
   {
    "duration": 142,
    "start_time": "2024-10-13T13:58:40.461Z"
   },
   {
    "duration": 3,
    "start_time": "2024-10-13T13:59:18.683Z"
   },
   {
    "duration": 8,
    "start_time": "2024-10-13T13:59:24.346Z"
   },
   {
    "duration": 226,
    "start_time": "2024-10-13T13:59:31.541Z"
   },
   {
    "duration": 141,
    "start_time": "2024-10-13T14:00:42.137Z"
   },
   {
    "duration": 1140,
    "start_time": "2024-10-13T14:02:23.857Z"
   },
   {
    "duration": 4,
    "start_time": "2024-10-13T14:02:24.999Z"
   },
   {
    "duration": 91,
    "start_time": "2024-10-13T14:02:25.004Z"
   },
   {
    "duration": 30,
    "start_time": "2024-10-13T14:02:25.097Z"
   },
   {
    "duration": 726,
    "start_time": "2024-10-13T14:02:25.129Z"
   },
   {
    "duration": 17,
    "start_time": "2024-10-13T14:02:25.857Z"
   },
   {
    "duration": 91,
    "start_time": "2024-10-13T14:02:25.875Z"
   },
   {
    "duration": 12,
    "start_time": "2024-10-13T14:02:25.967Z"
   },
   {
    "duration": 14,
    "start_time": "2024-10-13T14:02:25.980Z"
   },
   {
    "duration": 34,
    "start_time": "2024-10-13T14:02:25.996Z"
   },
   {
    "duration": 15,
    "start_time": "2024-10-13T14:02:26.031Z"
   },
   {
    "duration": 24,
    "start_time": "2024-10-13T14:02:26.047Z"
   },
   {
    "duration": 399,
    "start_time": "2024-10-13T14:02:26.072Z"
   },
   {
    "duration": 4,
    "start_time": "2024-10-13T14:02:26.473Z"
   },
   {
    "duration": 58,
    "start_time": "2024-10-13T14:02:26.479Z"
   },
   {
    "duration": 4,
    "start_time": "2024-10-13T14:02:26.538Z"
   },
   {
    "duration": 236,
    "start_time": "2024-10-13T14:02:26.544Z"
   },
   {
    "duration": 0,
    "start_time": "2024-10-13T14:02:26.782Z"
   },
   {
    "duration": 0,
    "start_time": "2024-10-13T14:02:26.783Z"
   },
   {
    "duration": 0,
    "start_time": "2024-10-13T14:02:26.797Z"
   },
   {
    "duration": 0,
    "start_time": "2024-10-13T14:02:26.798Z"
   },
   {
    "duration": 0,
    "start_time": "2024-10-13T14:02:26.799Z"
   },
   {
    "duration": 0,
    "start_time": "2024-10-13T14:02:26.800Z"
   },
   {
    "duration": 0,
    "start_time": "2024-10-13T14:02:26.801Z"
   },
   {
    "duration": 0,
    "start_time": "2024-10-13T14:02:26.802Z"
   },
   {
    "duration": 0,
    "start_time": "2024-10-13T14:02:26.803Z"
   },
   {
    "duration": 0,
    "start_time": "2024-10-13T14:02:26.805Z"
   },
   {
    "duration": 0,
    "start_time": "2024-10-13T14:02:26.806Z"
   },
   {
    "duration": 0,
    "start_time": "2024-10-13T14:02:26.807Z"
   },
   {
    "duration": 0,
    "start_time": "2024-10-13T14:02:26.808Z"
   },
   {
    "duration": 0,
    "start_time": "2024-10-13T14:02:26.809Z"
   },
   {
    "duration": 0,
    "start_time": "2024-10-13T14:02:26.810Z"
   },
   {
    "duration": 0,
    "start_time": "2024-10-13T14:02:26.811Z"
   },
   {
    "duration": 0,
    "start_time": "2024-10-13T14:02:26.812Z"
   },
   {
    "duration": 0,
    "start_time": "2024-10-13T14:02:26.813Z"
   },
   {
    "duration": 0,
    "start_time": "2024-10-13T14:02:26.815Z"
   },
   {
    "duration": 0,
    "start_time": "2024-10-13T14:02:26.816Z"
   },
   {
    "duration": 0,
    "start_time": "2024-10-13T14:02:26.817Z"
   },
   {
    "duration": 0,
    "start_time": "2024-10-13T14:02:26.818Z"
   },
   {
    "duration": 0,
    "start_time": "2024-10-13T14:02:26.819Z"
   },
   {
    "duration": 206,
    "start_time": "2024-10-13T14:03:47.950Z"
   },
   {
    "duration": 209,
    "start_time": "2024-10-13T14:03:51.981Z"
   },
   {
    "duration": 314,
    "start_time": "2024-10-13T14:05:41.871Z"
   },
   {
    "duration": 203,
    "start_time": "2024-10-13T14:05:53.317Z"
   },
   {
    "duration": 208,
    "start_time": "2024-10-13T14:06:04.679Z"
   },
   {
    "duration": 206,
    "start_time": "2024-10-13T14:06:14.023Z"
   },
   {
    "duration": 213,
    "start_time": "2024-10-13T14:06:23.724Z"
   },
   {
    "duration": 173,
    "start_time": "2024-10-13T14:06:29.406Z"
   },
   {
    "duration": 185,
    "start_time": "2024-10-13T14:08:18.014Z"
   },
   {
    "duration": 155,
    "start_time": "2024-10-13T14:08:39.537Z"
   },
   {
    "duration": 160,
    "start_time": "2024-10-13T14:08:42.573Z"
   },
   {
    "duration": 1219,
    "start_time": "2024-10-13T14:10:00.764Z"
   },
   {
    "duration": 4,
    "start_time": "2024-10-13T14:10:01.985Z"
   },
   {
    "duration": 125,
    "start_time": "2024-10-13T14:10:01.991Z"
   },
   {
    "duration": 35,
    "start_time": "2024-10-13T14:10:02.119Z"
   },
   {
    "duration": 753,
    "start_time": "2024-10-13T14:10:02.157Z"
   },
   {
    "duration": 18,
    "start_time": "2024-10-13T14:10:02.912Z"
   },
   {
    "duration": 39,
    "start_time": "2024-10-13T14:10:02.932Z"
   },
   {
    "duration": 12,
    "start_time": "2024-10-13T14:10:02.973Z"
   },
   {
    "duration": 58,
    "start_time": "2024-10-13T14:10:02.986Z"
   },
   {
    "duration": 40,
    "start_time": "2024-10-13T14:10:03.048Z"
   },
   {
    "duration": 17,
    "start_time": "2024-10-13T14:10:03.090Z"
   },
   {
    "duration": 47,
    "start_time": "2024-10-13T14:10:03.108Z"
   },
   {
    "duration": 377,
    "start_time": "2024-10-13T14:10:03.157Z"
   },
   {
    "duration": 5,
    "start_time": "2024-10-13T14:10:03.536Z"
   },
   {
    "duration": 9,
    "start_time": "2024-10-13T14:10:03.542Z"
   },
   {
    "duration": 5,
    "start_time": "2024-10-13T14:10:03.552Z"
   },
   {
    "duration": 241,
    "start_time": "2024-10-13T14:10:03.559Z"
   },
   {
    "duration": 218,
    "start_time": "2024-10-13T14:10:03.802Z"
   },
   {
    "duration": 216,
    "start_time": "2024-10-13T14:10:04.022Z"
   },
   {
    "duration": 294,
    "start_time": "2024-10-13T14:10:04.239Z"
   },
   {
    "duration": 182,
    "start_time": "2024-10-13T14:10:04.534Z"
   },
   {
    "duration": 169,
    "start_time": "2024-10-13T14:10:04.718Z"
   },
   {
    "duration": 164,
    "start_time": "2024-10-13T14:10:04.889Z"
   },
   {
    "duration": 13,
    "start_time": "2024-10-13T14:10:05.055Z"
   },
   {
    "duration": 9,
    "start_time": "2024-10-13T14:10:05.070Z"
   },
   {
    "duration": 279,
    "start_time": "2024-10-13T14:10:05.080Z"
   },
   {
    "duration": 409,
    "start_time": "2024-10-13T14:10:05.362Z"
   },
   {
    "duration": 38,
    "start_time": "2024-10-13T14:10:05.774Z"
   },
   {
    "duration": 220,
    "start_time": "2024-10-13T14:10:05.813Z"
   },
   {
    "duration": 229,
    "start_time": "2024-10-13T14:10:06.034Z"
   },
   {
    "duration": 227,
    "start_time": "2024-10-13T14:10:06.265Z"
   },
   {
    "duration": 5,
    "start_time": "2024-10-13T14:10:06.498Z"
   },
   {
    "duration": 636,
    "start_time": "2024-10-13T14:10:06.504Z"
   },
   {
    "duration": 552,
    "start_time": "2024-10-13T14:10:07.142Z"
   },
   {
    "duration": 443,
    "start_time": "2024-10-13T14:10:07.695Z"
   },
   {
    "duration": 15,
    "start_time": "2024-10-13T14:10:08.139Z"
   },
   {
    "duration": 32,
    "start_time": "2024-10-13T14:10:08.156Z"
   },
   {
    "duration": 22,
    "start_time": "2024-10-13T14:10:08.190Z"
   },
   {
    "duration": 15,
    "start_time": "2024-10-13T14:10:08.214Z"
   },
   {
    "duration": 4,
    "start_time": "2024-10-13T14:16:08.570Z"
   },
   {
    "duration": 142,
    "start_time": "2024-10-13T14:21:13.027Z"
   },
   {
    "duration": 147,
    "start_time": "2024-10-13T14:21:42.832Z"
   },
   {
    "duration": 148,
    "start_time": "2024-10-13T14:22:05.320Z"
   },
   {
    "duration": 160,
    "start_time": "2024-10-13T14:23:10.998Z"
   },
   {
    "duration": 824,
    "start_time": "2024-10-13T14:32:06.915Z"
   },
   {
    "duration": 1235,
    "start_time": "2024-10-13T14:34:06.275Z"
   },
   {
    "duration": 1401,
    "start_time": "2024-10-13T15:09:39.109Z"
   },
   {
    "duration": 1219,
    "start_time": "2024-10-13T16:02:41.622Z"
   },
   {
    "duration": 3,
    "start_time": "2024-10-13T16:02:42.844Z"
   },
   {
    "duration": 70,
    "start_time": "2024-10-13T16:02:42.848Z"
   },
   {
    "duration": 37,
    "start_time": "2024-10-13T16:02:42.920Z"
   },
   {
    "duration": 788,
    "start_time": "2024-10-13T16:02:42.959Z"
   },
   {
    "duration": 17,
    "start_time": "2024-10-13T16:02:43.748Z"
   },
   {
    "duration": 13,
    "start_time": "2024-10-13T16:02:43.766Z"
   },
   {
    "duration": 26,
    "start_time": "2024-10-13T16:02:43.780Z"
   },
   {
    "duration": 19,
    "start_time": "2024-10-13T16:02:43.808Z"
   },
   {
    "duration": 38,
    "start_time": "2024-10-13T16:02:43.830Z"
   },
   {
    "duration": 38,
    "start_time": "2024-10-13T16:02:43.869Z"
   },
   {
    "duration": 26,
    "start_time": "2024-10-13T16:02:43.908Z"
   },
   {
    "duration": 409,
    "start_time": "2024-10-13T16:02:43.936Z"
   },
   {
    "duration": 5,
    "start_time": "2024-10-13T16:02:44.348Z"
   },
   {
    "duration": 10,
    "start_time": "2024-10-13T16:02:44.354Z"
   },
   {
    "duration": 7,
    "start_time": "2024-10-13T16:02:44.366Z"
   },
   {
    "duration": 244,
    "start_time": "2024-10-13T16:02:44.374Z"
   },
   {
    "duration": 233,
    "start_time": "2024-10-13T16:02:44.620Z"
   },
   {
    "duration": 221,
    "start_time": "2024-10-13T16:02:44.855Z"
   },
   {
    "duration": 306,
    "start_time": "2024-10-13T16:02:45.078Z"
   },
   {
    "duration": 181,
    "start_time": "2024-10-13T16:02:45.386Z"
   },
   {
    "duration": 172,
    "start_time": "2024-10-13T16:02:45.569Z"
   },
   {
    "duration": 176,
    "start_time": "2024-10-13T16:02:45.743Z"
   },
   {
    "duration": 15,
    "start_time": "2024-10-13T16:02:45.921Z"
   },
   {
    "duration": 14,
    "start_time": "2024-10-13T16:02:45.937Z"
   },
   {
    "duration": 291,
    "start_time": "2024-10-13T16:02:45.952Z"
   },
   {
    "duration": 426,
    "start_time": "2024-10-13T16:02:46.245Z"
   },
   {
    "duration": 36,
    "start_time": "2024-10-13T16:02:46.674Z"
   },
   {
    "duration": 4,
    "start_time": "2024-10-13T16:02:46.712Z"
   },
   {
    "duration": 1333,
    "start_time": "2024-10-13T16:02:46.717Z"
   },
   {
    "duration": 228,
    "start_time": "2024-10-13T16:02:48.052Z"
   },
   {
    "duration": 269,
    "start_time": "2024-10-13T16:02:48.282Z"
   },
   {
    "duration": 262,
    "start_time": "2024-10-13T16:02:48.553Z"
   },
   {
    "duration": 8,
    "start_time": "2024-10-13T16:02:48.817Z"
   },
   {
    "duration": 549,
    "start_time": "2024-10-13T16:02:48.827Z"
   },
   {
    "duration": 628,
    "start_time": "2024-10-13T16:02:49.377Z"
   },
   {
    "duration": 426,
    "start_time": "2024-10-13T16:02:50.007Z"
   },
   {
    "duration": 17,
    "start_time": "2024-10-13T16:02:50.435Z"
   },
   {
    "duration": 17,
    "start_time": "2024-10-13T16:02:50.453Z"
   },
   {
    "duration": 6,
    "start_time": "2024-10-13T16:02:50.471Z"
   },
   {
    "duration": 29,
    "start_time": "2024-10-13T16:02:50.479Z"
   },
   {
    "duration": 5,
    "start_time": "2024-10-13T16:16:11.299Z"
   },
   {
    "duration": 346,
    "start_time": "2024-10-13T16:48:45.003Z"
   },
   {
    "duration": 10,
    "start_time": "2024-10-13T16:58:35.708Z"
   },
   {
    "duration": 5,
    "start_time": "2024-10-13T16:59:41.125Z"
   },
   {
    "duration": 8,
    "start_time": "2024-10-13T16:59:58.580Z"
   },
   {
    "duration": 7,
    "start_time": "2024-10-13T17:00:26.900Z"
   },
   {
    "duration": 8,
    "start_time": "2024-10-13T17:00:33.219Z"
   },
   {
    "duration": 1191,
    "start_time": "2024-10-13T17:09:50.082Z"
   },
   {
    "duration": 3,
    "start_time": "2024-10-13T17:09:51.275Z"
   },
   {
    "duration": 81,
    "start_time": "2024-10-13T17:09:51.279Z"
   },
   {
    "duration": 30,
    "start_time": "2024-10-13T17:09:51.362Z"
   },
   {
    "duration": 741,
    "start_time": "2024-10-13T17:09:51.394Z"
   },
   {
    "duration": 17,
    "start_time": "2024-10-13T17:09:52.137Z"
   },
   {
    "duration": 4,
    "start_time": "2024-10-13T17:09:52.156Z"
   },
   {
    "duration": 35,
    "start_time": "2024-10-13T17:09:52.161Z"
   },
   {
    "duration": 15,
    "start_time": "2024-10-13T17:09:52.198Z"
   },
   {
    "duration": 38,
    "start_time": "2024-10-13T17:09:52.215Z"
   },
   {
    "duration": 16,
    "start_time": "2024-10-13T17:09:52.255Z"
   },
   {
    "duration": 46,
    "start_time": "2024-10-13T17:09:52.272Z"
   },
   {
    "duration": 393,
    "start_time": "2024-10-13T17:09:52.320Z"
   },
   {
    "duration": 5,
    "start_time": "2024-10-13T17:09:52.714Z"
   },
   {
    "duration": 17,
    "start_time": "2024-10-13T17:09:52.720Z"
   },
   {
    "duration": 15,
    "start_time": "2024-10-13T17:09:52.738Z"
   },
   {
    "duration": 221,
    "start_time": "2024-10-13T17:09:52.755Z"
   },
   {
    "duration": 222,
    "start_time": "2024-10-13T17:09:52.978Z"
   },
   {
    "duration": 214,
    "start_time": "2024-10-13T17:09:53.202Z"
   },
   {
    "duration": 289,
    "start_time": "2024-10-13T17:09:53.418Z"
   },
   {
    "duration": 185,
    "start_time": "2024-10-13T17:09:53.709Z"
   },
   {
    "duration": 165,
    "start_time": "2024-10-13T17:09:53.897Z"
   },
   {
    "duration": 156,
    "start_time": "2024-10-13T17:09:54.064Z"
   },
   {
    "duration": 13,
    "start_time": "2024-10-13T17:09:54.222Z"
   },
   {
    "duration": 9,
    "start_time": "2024-10-13T17:09:54.237Z"
   },
   {
    "duration": 280,
    "start_time": "2024-10-13T17:09:54.248Z"
   },
   {
    "duration": 411,
    "start_time": "2024-10-13T17:09:54.530Z"
   },
   {
    "duration": 20,
    "start_time": "2024-10-13T17:09:54.945Z"
   },
   {
    "duration": 18,
    "start_time": "2024-10-13T17:09:54.966Z"
   },
   {
    "duration": 1267,
    "start_time": "2024-10-13T17:09:54.998Z"
   },
   {
    "duration": 217,
    "start_time": "2024-10-13T17:09:56.266Z"
   },
   {
    "duration": 244,
    "start_time": "2024-10-13T17:09:56.485Z"
   },
   {
    "duration": 226,
    "start_time": "2024-10-13T17:09:56.731Z"
   },
   {
    "duration": 5,
    "start_time": "2024-10-13T17:09:56.959Z"
   },
   {
    "duration": 505,
    "start_time": "2024-10-13T17:09:56.965Z"
   },
   {
    "duration": 614,
    "start_time": "2024-10-13T17:09:57.472Z"
   },
   {
    "duration": 466,
    "start_time": "2024-10-13T17:09:58.088Z"
   },
   {
    "duration": 16,
    "start_time": "2024-10-13T17:09:58.556Z"
   },
   {
    "duration": 24,
    "start_time": "2024-10-13T17:09:58.574Z"
   },
   {
    "duration": 6,
    "start_time": "2024-10-13T17:09:58.599Z"
   },
   {
    "duration": 8,
    "start_time": "2024-10-13T17:09:58.607Z"
   },
   {
    "duration": 1115,
    "start_time": "2024-10-14T12:02:26.401Z"
   },
   {
    "duration": 3,
    "start_time": "2024-10-14T12:02:27.518Z"
   },
   {
    "duration": 79,
    "start_time": "2024-10-14T12:02:27.523Z"
   },
   {
    "duration": 32,
    "start_time": "2024-10-14T12:02:27.604Z"
   },
   {
    "duration": 669,
    "start_time": "2024-10-14T12:02:27.638Z"
   },
   {
    "duration": 18,
    "start_time": "2024-10-14T12:02:28.309Z"
   },
   {
    "duration": 4,
    "start_time": "2024-10-14T12:02:28.329Z"
   },
   {
    "duration": 12,
    "start_time": "2024-10-14T12:02:28.353Z"
   },
   {
    "duration": 38,
    "start_time": "2024-10-14T12:02:28.367Z"
   },
   {
    "duration": 30,
    "start_time": "2024-10-14T12:02:28.408Z"
   },
   {
    "duration": 23,
    "start_time": "2024-10-14T12:02:28.440Z"
   },
   {
    "duration": 24,
    "start_time": "2024-10-14T12:02:28.465Z"
   },
   {
    "duration": 398,
    "start_time": "2024-10-14T12:02:28.491Z"
   },
   {
    "duration": 5,
    "start_time": "2024-10-14T12:02:28.891Z"
   },
   {
    "duration": 11,
    "start_time": "2024-10-14T12:02:28.898Z"
   },
   {
    "duration": 17,
    "start_time": "2024-10-14T12:02:28.910Z"
   },
   {
    "duration": 215,
    "start_time": "2024-10-14T12:02:28.928Z"
   },
   {
    "duration": 219,
    "start_time": "2024-10-14T12:02:29.145Z"
   },
   {
    "duration": 204,
    "start_time": "2024-10-14T12:02:29.365Z"
   },
   {
    "duration": 289,
    "start_time": "2024-10-14T12:02:29.571Z"
   },
   {
    "duration": 181,
    "start_time": "2024-10-14T12:02:29.862Z"
   },
   {
    "duration": 179,
    "start_time": "2024-10-14T12:02:30.045Z"
   },
   {
    "duration": 157,
    "start_time": "2024-10-14T12:02:30.226Z"
   },
   {
    "duration": 13,
    "start_time": "2024-10-14T12:02:30.384Z"
   },
   {
    "duration": 10,
    "start_time": "2024-10-14T12:02:30.399Z"
   },
   {
    "duration": 273,
    "start_time": "2024-10-14T12:02:30.410Z"
   },
   {
    "duration": 391,
    "start_time": "2024-10-14T12:02:30.685Z"
   },
   {
    "duration": 24,
    "start_time": "2024-10-14T12:02:31.079Z"
   },
   {
    "duration": 26,
    "start_time": "2024-10-14T12:02:31.104Z"
   },
   {
    "duration": 1357,
    "start_time": "2024-10-14T12:02:31.131Z"
   },
   {
    "duration": 225,
    "start_time": "2024-10-14T12:02:32.490Z"
   },
   {
    "duration": 247,
    "start_time": "2024-10-14T12:02:32.716Z"
   },
   {
    "duration": 227,
    "start_time": "2024-10-14T12:02:32.964Z"
   },
   {
    "duration": 5,
    "start_time": "2024-10-14T12:02:33.193Z"
   },
   {
    "duration": 507,
    "start_time": "2024-10-14T12:02:33.200Z"
   },
   {
    "duration": 636,
    "start_time": "2024-10-14T12:02:33.708Z"
   },
   {
    "duration": 424,
    "start_time": "2024-10-14T12:02:34.346Z"
   },
   {
    "duration": 16,
    "start_time": "2024-10-14T12:02:34.772Z"
   },
   {
    "duration": 24,
    "start_time": "2024-10-14T12:02:34.789Z"
   },
   {
    "duration": 5,
    "start_time": "2024-10-14T12:02:34.815Z"
   },
   {
    "duration": 20,
    "start_time": "2024-10-14T12:02:34.822Z"
   },
   {
    "duration": 29,
    "start_time": "2024-10-14T12:44:45.406Z"
   },
   {
    "duration": 1126,
    "start_time": "2024-10-14T12:46:07.101Z"
   },
   {
    "duration": 2,
    "start_time": "2024-10-14T12:46:08.229Z"
   },
   {
    "duration": 135,
    "start_time": "2024-10-14T12:46:08.233Z"
   },
   {
    "duration": 29,
    "start_time": "2024-10-14T12:46:08.369Z"
   },
   {
    "duration": 656,
    "start_time": "2024-10-14T12:46:08.400Z"
   },
   {
    "duration": 15,
    "start_time": "2024-10-14T12:46:09.058Z"
   },
   {
    "duration": 4,
    "start_time": "2024-10-14T12:46:09.075Z"
   },
   {
    "duration": 13,
    "start_time": "2024-10-14T12:46:09.080Z"
   },
   {
    "duration": 12,
    "start_time": "2024-10-14T12:46:09.094Z"
   },
   {
    "duration": 58,
    "start_time": "2024-10-14T12:46:09.108Z"
   },
   {
    "duration": 17,
    "start_time": "2024-10-14T12:46:09.167Z"
   },
   {
    "duration": 43,
    "start_time": "2024-10-14T12:46:09.186Z"
   },
   {
    "duration": 380,
    "start_time": "2024-10-14T12:46:09.231Z"
   },
   {
    "duration": 5,
    "start_time": "2024-10-14T12:46:09.615Z"
   },
   {
    "duration": 21,
    "start_time": "2024-10-14T12:46:09.622Z"
   },
   {
    "duration": 8,
    "start_time": "2024-10-14T12:46:09.645Z"
   },
   {
    "duration": 220,
    "start_time": "2024-10-14T12:46:09.655Z"
   },
   {
    "duration": 226,
    "start_time": "2024-10-14T12:46:09.877Z"
   },
   {
    "duration": 223,
    "start_time": "2024-10-14T12:46:10.104Z"
   },
   {
    "duration": 299,
    "start_time": "2024-10-14T12:46:10.328Z"
   },
   {
    "duration": 177,
    "start_time": "2024-10-14T12:46:10.629Z"
   },
   {
    "duration": 155,
    "start_time": "2024-10-14T12:46:10.807Z"
   },
   {
    "duration": 153,
    "start_time": "2024-10-14T12:46:10.964Z"
   },
   {
    "duration": 13,
    "start_time": "2024-10-14T12:46:11.119Z"
   },
   {
    "duration": 20,
    "start_time": "2024-10-14T12:46:11.133Z"
   },
   {
    "duration": 243,
    "start_time": "2024-10-14T12:46:11.154Z"
   },
   {
    "duration": 385,
    "start_time": "2024-10-14T12:46:11.399Z"
   },
   {
    "duration": 20,
    "start_time": "2024-10-14T12:46:11.785Z"
   },
   {
    "duration": 4,
    "start_time": "2024-10-14T12:46:11.806Z"
   },
   {
    "duration": 1235,
    "start_time": "2024-10-14T12:46:11.811Z"
   },
   {
    "duration": 216,
    "start_time": "2024-10-14T12:46:13.049Z"
   },
   {
    "duration": 232,
    "start_time": "2024-10-14T12:46:13.266Z"
   },
   {
    "duration": 209,
    "start_time": "2024-10-14T12:46:13.499Z"
   },
   {
    "duration": 4,
    "start_time": "2024-10-14T12:46:13.709Z"
   },
   {
    "duration": 479,
    "start_time": "2024-10-14T12:46:13.715Z"
   },
   {
    "duration": 612,
    "start_time": "2024-10-14T12:46:14.196Z"
   },
   {
    "duration": 420,
    "start_time": "2024-10-14T12:46:14.809Z"
   },
   {
    "duration": 24,
    "start_time": "2024-10-14T12:46:15.231Z"
   },
   {
    "duration": 32,
    "start_time": "2024-10-14T12:46:15.257Z"
   },
   {
    "duration": 7,
    "start_time": "2024-10-14T12:46:15.290Z"
   },
   {
    "duration": 19,
    "start_time": "2024-10-14T12:46:15.300Z"
   },
   {
    "duration": 1139,
    "start_time": "2024-10-14T12:47:30.872Z"
   },
   {
    "duration": 2,
    "start_time": "2024-10-14T12:47:32.013Z"
   },
   {
    "duration": 153,
    "start_time": "2024-10-14T12:47:32.016Z"
   },
   {
    "duration": 29,
    "start_time": "2024-10-14T12:47:32.171Z"
   },
   {
    "duration": 782,
    "start_time": "2024-10-14T12:47:32.202Z"
   },
   {
    "duration": 16,
    "start_time": "2024-10-14T12:47:32.986Z"
   },
   {
    "duration": 25,
    "start_time": "2024-10-14T12:47:33.004Z"
   },
   {
    "duration": 12,
    "start_time": "2024-10-14T12:47:33.031Z"
   },
   {
    "duration": 14,
    "start_time": "2024-10-14T12:47:33.044Z"
   },
   {
    "duration": 44,
    "start_time": "2024-10-14T12:47:33.060Z"
   },
   {
    "duration": 15,
    "start_time": "2024-10-14T12:47:33.106Z"
   },
   {
    "duration": 39,
    "start_time": "2024-10-14T12:47:33.122Z"
   },
   {
    "duration": 413,
    "start_time": "2024-10-14T12:47:33.162Z"
   },
   {
    "duration": 7,
    "start_time": "2024-10-14T12:47:33.579Z"
   },
   {
    "duration": 50,
    "start_time": "2024-10-14T12:47:33.588Z"
   },
   {
    "duration": 11,
    "start_time": "2024-10-14T12:47:33.640Z"
   },
   {
    "duration": 238,
    "start_time": "2024-10-14T12:47:33.653Z"
   },
   {
    "duration": 216,
    "start_time": "2024-10-14T12:47:33.892Z"
   },
   {
    "duration": 221,
    "start_time": "2024-10-14T12:47:34.110Z"
   },
   {
    "duration": 290,
    "start_time": "2024-10-14T12:47:34.334Z"
   },
   {
    "duration": 179,
    "start_time": "2024-10-14T12:47:34.626Z"
   },
   {
    "duration": 164,
    "start_time": "2024-10-14T12:47:34.807Z"
   },
   {
    "duration": 188,
    "start_time": "2024-10-14T12:47:34.973Z"
   },
   {
    "duration": 14,
    "start_time": "2024-10-14T12:47:35.163Z"
   },
   {
    "duration": 31,
    "start_time": "2024-10-14T12:47:35.179Z"
   },
   {
    "duration": 279,
    "start_time": "2024-10-14T12:47:35.211Z"
   },
   {
    "duration": 397,
    "start_time": "2024-10-14T12:47:35.492Z"
   },
   {
    "duration": 22,
    "start_time": "2024-10-14T12:47:35.891Z"
   },
   {
    "duration": 39,
    "start_time": "2024-10-14T12:47:35.914Z"
   },
   {
    "duration": 1330,
    "start_time": "2024-10-14T12:47:35.955Z"
   },
   {
    "duration": 209,
    "start_time": "2024-10-14T12:47:37.287Z"
   },
   {
    "duration": 242,
    "start_time": "2024-10-14T12:47:37.497Z"
   },
   {
    "duration": 224,
    "start_time": "2024-10-14T12:47:37.740Z"
   },
   {
    "duration": 5,
    "start_time": "2024-10-14T12:47:37.965Z"
   },
   {
    "duration": 540,
    "start_time": "2024-10-14T12:47:37.972Z"
   },
   {
    "duration": 626,
    "start_time": "2024-10-14T12:47:38.513Z"
   },
   {
    "duration": 433,
    "start_time": "2024-10-14T12:47:39.141Z"
   },
   {
    "duration": 15,
    "start_time": "2024-10-14T12:47:39.575Z"
   },
   {
    "duration": 13,
    "start_time": "2024-10-14T12:47:39.592Z"
   },
   {
    "duration": 5,
    "start_time": "2024-10-14T12:47:39.606Z"
   },
   {
    "duration": 8,
    "start_time": "2024-10-14T12:47:39.615Z"
   },
   {
    "duration": 51,
    "start_time": "2024-10-14T16:15:55.486Z"
   },
   {
    "duration": 1335,
    "start_time": "2024-10-14T16:36:52.388Z"
   },
   {
    "duration": 3,
    "start_time": "2024-10-14T16:36:53.725Z"
   },
   {
    "duration": 202,
    "start_time": "2024-10-14T16:36:53.729Z"
   },
   {
    "duration": 29,
    "start_time": "2024-10-14T16:36:53.932Z"
   },
   {
    "duration": 696,
    "start_time": "2024-10-14T16:36:53.963Z"
   },
   {
    "duration": 34,
    "start_time": "2024-10-14T16:36:54.661Z"
   },
   {
    "duration": 3,
    "start_time": "2024-10-14T16:36:54.697Z"
   },
   {
    "duration": 10,
    "start_time": "2024-10-14T16:36:54.702Z"
   },
   {
    "duration": 14,
    "start_time": "2024-10-14T16:36:54.713Z"
   },
   {
    "duration": 54,
    "start_time": "2024-10-14T16:36:54.729Z"
   },
   {
    "duration": 15,
    "start_time": "2024-10-14T16:36:54.790Z"
   },
   {
    "duration": 23,
    "start_time": "2024-10-14T16:36:54.807Z"
   },
   {
    "duration": 400,
    "start_time": "2024-10-14T16:36:54.832Z"
   },
   {
    "duration": 5,
    "start_time": "2024-10-14T16:36:55.235Z"
   },
   {
    "duration": 9,
    "start_time": "2024-10-14T16:36:55.241Z"
   },
   {
    "duration": 6,
    "start_time": "2024-10-14T16:36:55.251Z"
   },
   {
    "duration": 219,
    "start_time": "2024-10-14T16:36:55.278Z"
   },
   {
    "duration": 224,
    "start_time": "2024-10-14T16:36:55.499Z"
   },
   {
    "duration": 212,
    "start_time": "2024-10-14T16:36:55.725Z"
   },
   {
    "duration": 295,
    "start_time": "2024-10-14T16:36:55.938Z"
   },
   {
    "duration": 190,
    "start_time": "2024-10-14T16:36:56.235Z"
   },
   {
    "duration": 169,
    "start_time": "2024-10-14T16:36:56.426Z"
   },
   {
    "duration": 162,
    "start_time": "2024-10-14T16:36:56.596Z"
   },
   {
    "duration": 28,
    "start_time": "2024-10-14T16:36:56.759Z"
   },
   {
    "duration": 5,
    "start_time": "2024-10-14T16:36:56.789Z"
   },
   {
    "duration": 1221,
    "start_time": "2024-10-14T16:36:56.795Z"
   },
   {
    "duration": 10,
    "start_time": "2024-10-14T16:36:58.017Z"
   },
   {
    "duration": 401,
    "start_time": "2024-10-14T16:36:58.029Z"
   },
   {
    "duration": 258,
    "start_time": "2024-10-14T16:36:58.433Z"
   },
   {
    "duration": 510,
    "start_time": "2024-10-14T16:36:58.693Z"
   },
   {
    "duration": 0,
    "start_time": "2024-10-14T16:36:59.204Z"
   },
   {
    "duration": 0,
    "start_time": "2024-10-14T16:36:59.206Z"
   },
   {
    "duration": 0,
    "start_time": "2024-10-14T16:36:59.207Z"
   },
   {
    "duration": 0,
    "start_time": "2024-10-14T16:36:59.208Z"
   },
   {
    "duration": 0,
    "start_time": "2024-10-14T16:36:59.209Z"
   },
   {
    "duration": 0,
    "start_time": "2024-10-14T16:36:59.210Z"
   },
   {
    "duration": 0,
    "start_time": "2024-10-14T16:36:59.211Z"
   },
   {
    "duration": 0,
    "start_time": "2024-10-14T16:36:59.212Z"
   },
   {
    "duration": 0,
    "start_time": "2024-10-14T16:36:59.213Z"
   },
   {
    "duration": 0,
    "start_time": "2024-10-14T16:36:59.214Z"
   },
   {
    "duration": 0,
    "start_time": "2024-10-14T16:36:59.216Z"
   },
   {
    "duration": 0,
    "start_time": "2024-10-14T16:36:59.216Z"
   },
   {
    "duration": 10,
    "start_time": "2024-10-14T16:40:31.642Z"
   },
   {
    "duration": 13,
    "start_time": "2024-10-14T16:42:18.347Z"
   },
   {
    "duration": 16,
    "start_time": "2024-10-14T16:42:24.962Z"
   },
   {
    "duration": 16,
    "start_time": "2024-10-14T16:47:11.992Z"
   },
   {
    "duration": 15,
    "start_time": "2024-10-14T16:47:49.072Z"
   },
   {
    "duration": 16,
    "start_time": "2024-10-14T16:49:03.992Z"
   },
   {
    "duration": 14,
    "start_time": "2024-10-14T16:49:47.459Z"
   },
   {
    "duration": 63,
    "start_time": "2024-10-14T16:50:53.226Z"
   },
   {
    "duration": 17,
    "start_time": "2024-10-14T16:50:58.671Z"
   },
   {
    "duration": 13,
    "start_time": "2024-10-14T16:54:34.827Z"
   },
   {
    "duration": 246,
    "start_time": "2024-10-14T16:54:39.616Z"
   },
   {
    "duration": 257,
    "start_time": "2024-10-14T16:54:42.793Z"
   },
   {
    "duration": 184,
    "start_time": "2024-10-14T16:55:26.258Z"
   },
   {
    "duration": 1148,
    "start_time": "2024-10-14T16:55:31.497Z"
   },
   {
    "duration": 2,
    "start_time": "2024-10-14T16:55:32.648Z"
   },
   {
    "duration": 106,
    "start_time": "2024-10-14T16:55:32.651Z"
   },
   {
    "duration": 43,
    "start_time": "2024-10-14T16:55:32.759Z"
   },
   {
    "duration": 706,
    "start_time": "2024-10-14T16:55:32.804Z"
   },
   {
    "duration": 16,
    "start_time": "2024-10-14T16:55:33.511Z"
   },
   {
    "duration": 6,
    "start_time": "2024-10-14T16:55:33.529Z"
   },
   {
    "duration": 9,
    "start_time": "2024-10-14T16:55:33.536Z"
   },
   {
    "duration": 64,
    "start_time": "2024-10-14T16:55:33.547Z"
   },
   {
    "duration": 29,
    "start_time": "2024-10-14T16:55:33.612Z"
   },
   {
    "duration": 14,
    "start_time": "2024-10-14T16:55:33.643Z"
   },
   {
    "duration": 31,
    "start_time": "2024-10-14T16:55:33.658Z"
   },
   {
    "duration": 399,
    "start_time": "2024-10-14T16:55:33.691Z"
   },
   {
    "duration": 4,
    "start_time": "2024-10-14T16:55:34.093Z"
   },
   {
    "duration": 22,
    "start_time": "2024-10-14T16:55:34.099Z"
   },
   {
    "duration": 4,
    "start_time": "2024-10-14T16:55:34.122Z"
   },
   {
    "duration": 277,
    "start_time": "2024-10-14T16:55:34.128Z"
   },
   {
    "duration": 224,
    "start_time": "2024-10-14T16:55:34.406Z"
   },
   {
    "duration": 214,
    "start_time": "2024-10-14T16:55:34.632Z"
   },
   {
    "duration": 301,
    "start_time": "2024-10-14T16:55:34.847Z"
   },
   {
    "duration": 183,
    "start_time": "2024-10-14T16:55:35.150Z"
   },
   {
    "duration": 170,
    "start_time": "2024-10-14T16:55:35.335Z"
   },
   {
    "duration": 166,
    "start_time": "2024-10-14T16:55:35.507Z"
   },
   {
    "duration": 19,
    "start_time": "2024-10-14T16:55:35.675Z"
   },
   {
    "duration": 5,
    "start_time": "2024-10-14T16:55:35.696Z"
   },
   {
    "duration": 1221,
    "start_time": "2024-10-14T16:55:35.702Z"
   },
   {
    "duration": 13,
    "start_time": "2024-10-14T16:55:36.924Z"
   },
   {
    "duration": 363,
    "start_time": "2024-10-14T16:55:36.939Z"
   },
   {
    "duration": 253,
    "start_time": "2024-10-14T16:55:37.303Z"
   },
   {
    "duration": 401,
    "start_time": "2024-10-14T16:55:37.557Z"
   },
   {
    "duration": 139,
    "start_time": "2024-10-14T16:55:37.959Z"
   },
   {
    "duration": 0,
    "start_time": "2024-10-14T16:55:38.100Z"
   },
   {
    "duration": 0,
    "start_time": "2024-10-14T16:55:38.101Z"
   },
   {
    "duration": 0,
    "start_time": "2024-10-14T16:55:38.102Z"
   },
   {
    "duration": 0,
    "start_time": "2024-10-14T16:55:38.103Z"
   },
   {
    "duration": 0,
    "start_time": "2024-10-14T16:55:38.104Z"
   },
   {
    "duration": 0,
    "start_time": "2024-10-14T16:55:38.105Z"
   },
   {
    "duration": 0,
    "start_time": "2024-10-14T16:55:38.106Z"
   },
   {
    "duration": 0,
    "start_time": "2024-10-14T16:55:38.107Z"
   },
   {
    "duration": 0,
    "start_time": "2024-10-14T16:55:38.108Z"
   },
   {
    "duration": 0,
    "start_time": "2024-10-14T16:55:38.109Z"
   },
   {
    "duration": 0,
    "start_time": "2024-10-14T16:55:38.110Z"
   },
   {
    "duration": 12,
    "start_time": "2024-10-14T16:56:08.537Z"
   },
   {
    "duration": 15,
    "start_time": "2024-10-14T17:04:53.270Z"
   },
   {
    "duration": 1193,
    "start_time": "2024-10-14T17:19:45.671Z"
   },
   {
    "duration": 17,
    "start_time": "2024-10-14T17:19:46.866Z"
   },
   {
    "duration": 57,
    "start_time": "2024-10-14T17:19:46.888Z"
   },
   {
    "duration": 41,
    "start_time": "2024-10-14T17:19:46.947Z"
   },
   {
    "duration": 701,
    "start_time": "2024-10-14T17:19:46.989Z"
   },
   {
    "duration": 15,
    "start_time": "2024-10-14T17:19:47.692Z"
   },
   {
    "duration": 4,
    "start_time": "2024-10-14T17:19:47.709Z"
   },
   {
    "duration": 13,
    "start_time": "2024-10-14T17:19:47.714Z"
   },
   {
    "duration": 13,
    "start_time": "2024-10-14T17:19:47.729Z"
   },
   {
    "duration": 34,
    "start_time": "2024-10-14T17:19:47.775Z"
   },
   {
    "duration": 14,
    "start_time": "2024-10-14T17:19:47.810Z"
   },
   {
    "duration": 22,
    "start_time": "2024-10-14T17:19:47.825Z"
   },
   {
    "duration": 454,
    "start_time": "2024-10-14T17:19:47.848Z"
   },
   {
    "duration": 5,
    "start_time": "2024-10-14T17:19:48.304Z"
   },
   {
    "duration": 8,
    "start_time": "2024-10-14T17:19:48.310Z"
   },
   {
    "duration": 4,
    "start_time": "2024-10-14T17:19:48.319Z"
   },
   {
    "duration": 240,
    "start_time": "2024-10-14T17:19:48.324Z"
   },
   {
    "duration": 232,
    "start_time": "2024-10-14T17:19:48.565Z"
   },
   {
    "duration": 213,
    "start_time": "2024-10-14T17:19:48.799Z"
   },
   {
    "duration": 292,
    "start_time": "2024-10-14T17:19:49.013Z"
   },
   {
    "duration": 192,
    "start_time": "2024-10-14T17:19:49.307Z"
   },
   {
    "duration": 167,
    "start_time": "2024-10-14T17:19:49.501Z"
   },
   {
    "duration": 176,
    "start_time": "2024-10-14T17:19:49.670Z"
   },
   {
    "duration": 15,
    "start_time": "2024-10-14T17:19:49.848Z"
   },
   {
    "duration": 13,
    "start_time": "2024-10-14T17:19:49.876Z"
   },
   {
    "duration": 1253,
    "start_time": "2024-10-14T17:19:49.891Z"
   },
   {
    "duration": 12,
    "start_time": "2024-10-14T17:19:51.145Z"
   },
   {
    "duration": 383,
    "start_time": "2024-10-14T17:19:51.160Z"
   },
   {
    "duration": 263,
    "start_time": "2024-10-14T17:19:51.544Z"
   },
   {
    "duration": 412,
    "start_time": "2024-10-14T17:19:51.809Z"
   },
   {
    "duration": 11,
    "start_time": "2024-10-14T17:19:52.223Z"
   },
   {
    "duration": 233,
    "start_time": "2024-10-14T17:19:52.236Z"
   },
   {
    "duration": 238,
    "start_time": "2024-10-14T17:19:52.470Z"
   },
   {
    "duration": 221,
    "start_time": "2024-10-14T17:19:52.709Z"
   },
   {
    "duration": 4,
    "start_time": "2024-10-14T17:19:52.932Z"
   },
   {
    "duration": 521,
    "start_time": "2024-10-14T17:19:52.938Z"
   },
   {
    "duration": 642,
    "start_time": "2024-10-14T17:19:53.462Z"
   },
   {
    "duration": 438,
    "start_time": "2024-10-14T17:19:54.105Z"
   },
   {
    "duration": 16,
    "start_time": "2024-10-14T17:19:54.544Z"
   },
   {
    "duration": 26,
    "start_time": "2024-10-14T17:19:54.562Z"
   },
   {
    "duration": 18,
    "start_time": "2024-10-14T17:19:54.590Z"
   },
   {
    "duration": 10,
    "start_time": "2024-10-14T17:19:54.610Z"
   },
   {
    "duration": 17,
    "start_time": "2024-10-14T17:28:17.842Z"
   },
   {
    "duration": 1177,
    "start_time": "2024-10-14T17:32:32.453Z"
   },
   {
    "duration": 2,
    "start_time": "2024-10-14T17:32:33.632Z"
   },
   {
    "duration": 58,
    "start_time": "2024-10-14T17:32:33.638Z"
   },
   {
    "duration": 33,
    "start_time": "2024-10-14T17:32:33.697Z"
   },
   {
    "duration": 787,
    "start_time": "2024-10-14T17:32:33.731Z"
   },
   {
    "duration": 16,
    "start_time": "2024-10-14T17:32:34.520Z"
   },
   {
    "duration": 20,
    "start_time": "2024-10-14T17:32:34.537Z"
   },
   {
    "duration": 62,
    "start_time": "2024-10-14T17:32:34.558Z"
   },
   {
    "duration": 28,
    "start_time": "2024-10-14T17:32:34.623Z"
   },
   {
    "duration": 35,
    "start_time": "2024-10-14T17:32:34.652Z"
   },
   {
    "duration": 19,
    "start_time": "2024-10-14T17:32:34.690Z"
   },
   {
    "duration": 21,
    "start_time": "2024-10-14T17:32:34.711Z"
   },
   {
    "duration": 437,
    "start_time": "2024-10-14T17:32:34.733Z"
   },
   {
    "duration": 6,
    "start_time": "2024-10-14T17:32:35.176Z"
   },
   {
    "duration": 51,
    "start_time": "2024-10-14T17:32:35.183Z"
   },
   {
    "duration": 15,
    "start_time": "2024-10-14T17:32:35.236Z"
   },
   {
    "duration": 261,
    "start_time": "2024-10-14T17:32:35.252Z"
   },
   {
    "duration": 244,
    "start_time": "2024-10-14T17:32:35.514Z"
   },
   {
    "duration": 228,
    "start_time": "2024-10-14T17:32:35.760Z"
   },
   {
    "duration": 324,
    "start_time": "2024-10-14T17:32:35.991Z"
   },
   {
    "duration": 208,
    "start_time": "2024-10-14T17:32:36.316Z"
   },
   {
    "duration": 185,
    "start_time": "2024-10-14T17:32:36.526Z"
   },
   {
    "duration": 169,
    "start_time": "2024-10-14T17:32:36.713Z"
   },
   {
    "duration": 22,
    "start_time": "2024-10-14T17:32:36.885Z"
   },
   {
    "duration": 4,
    "start_time": "2024-10-14T17:32:36.908Z"
   },
   {
    "duration": 1328,
    "start_time": "2024-10-14T17:32:36.913Z"
   },
   {
    "duration": 13,
    "start_time": "2024-10-14T17:32:38.245Z"
   },
   {
    "duration": 387,
    "start_time": "2024-10-14T17:32:38.260Z"
   },
   {
    "duration": 291,
    "start_time": "2024-10-14T17:32:38.649Z"
   },
   {
    "duration": 409,
    "start_time": "2024-10-14T17:32:38.941Z"
   },
   {
    "duration": 40,
    "start_time": "2024-10-14T17:32:39.352Z"
   },
   {
    "duration": 248,
    "start_time": "2024-10-14T17:32:39.393Z"
   },
   {
    "duration": 260,
    "start_time": "2024-10-14T17:32:39.643Z"
   },
   {
    "duration": 249,
    "start_time": "2024-10-14T17:32:39.905Z"
   },
   {
    "duration": 5,
    "start_time": "2024-10-14T17:32:40.156Z"
   },
   {
    "duration": 635,
    "start_time": "2024-10-14T17:32:40.162Z"
   },
   {
    "duration": 701,
    "start_time": "2024-10-14T17:32:40.799Z"
   },
   {
    "duration": 431,
    "start_time": "2024-10-14T17:32:41.501Z"
   },
   {
    "duration": 17,
    "start_time": "2024-10-14T17:32:41.934Z"
   },
   {
    "duration": 23,
    "start_time": "2024-10-14T17:32:41.953Z"
   },
   {
    "duration": 6,
    "start_time": "2024-10-14T17:32:41.978Z"
   },
   {
    "duration": 8,
    "start_time": "2024-10-14T17:32:41.986Z"
   },
   {
    "duration": 1054,
    "start_time": "2024-10-15T13:46:53.553Z"
   },
   {
    "duration": 3,
    "start_time": "2024-10-15T13:46:54.609Z"
   },
   {
    "duration": 94,
    "start_time": "2024-10-15T13:46:54.613Z"
   },
   {
    "duration": 23,
    "start_time": "2024-10-15T13:46:54.708Z"
   },
   {
    "duration": 543,
    "start_time": "2024-10-15T13:46:54.732Z"
   },
   {
    "duration": 12,
    "start_time": "2024-10-15T13:46:55.276Z"
   },
   {
    "duration": 5,
    "start_time": "2024-10-15T13:46:55.289Z"
   },
   {
    "duration": 35,
    "start_time": "2024-10-15T13:46:55.295Z"
   },
   {
    "duration": 25,
    "start_time": "2024-10-15T13:46:55.331Z"
   },
   {
    "duration": 23,
    "start_time": "2024-10-15T13:46:55.358Z"
   },
   {
    "duration": 10,
    "start_time": "2024-10-15T13:46:55.383Z"
   },
   {
    "duration": 19,
    "start_time": "2024-10-15T13:46:55.394Z"
   },
   {
    "duration": 325,
    "start_time": "2024-10-15T13:46:55.415Z"
   },
   {
    "duration": 4,
    "start_time": "2024-10-15T13:46:55.743Z"
   },
   {
    "duration": 14,
    "start_time": "2024-10-15T13:46:55.748Z"
   },
   {
    "duration": 3,
    "start_time": "2024-10-15T13:46:55.763Z"
   },
   {
    "duration": 194,
    "start_time": "2024-10-15T13:46:55.767Z"
   },
   {
    "duration": 187,
    "start_time": "2024-10-15T13:46:55.962Z"
   },
   {
    "duration": 175,
    "start_time": "2024-10-15T13:46:56.150Z"
   },
   {
    "duration": 231,
    "start_time": "2024-10-15T13:46:56.326Z"
   },
   {
    "duration": 153,
    "start_time": "2024-10-15T13:46:56.559Z"
   },
   {
    "duration": 140,
    "start_time": "2024-10-15T13:46:56.714Z"
   },
   {
    "duration": 139,
    "start_time": "2024-10-15T13:46:56.857Z"
   },
   {
    "duration": 11,
    "start_time": "2024-10-15T13:46:56.998Z"
   },
   {
    "duration": 4,
    "start_time": "2024-10-15T13:46:57.010Z"
   },
   {
    "duration": 1035,
    "start_time": "2024-10-15T13:46:57.015Z"
   },
   {
    "duration": 11,
    "start_time": "2024-10-15T13:46:58.057Z"
   },
   {
    "duration": 352,
    "start_time": "2024-10-15T13:46:58.070Z"
   },
   {
    "duration": 214,
    "start_time": "2024-10-15T13:46:58.424Z"
   },
   {
    "duration": 341,
    "start_time": "2024-10-15T13:46:58.639Z"
   },
   {
    "duration": 15,
    "start_time": "2024-10-15T13:46:58.981Z"
   },
   {
    "duration": 195,
    "start_time": "2024-10-15T13:46:58.997Z"
   },
   {
    "duration": 194,
    "start_time": "2024-10-15T13:46:59.194Z"
   },
   {
    "duration": 217,
    "start_time": "2024-10-15T13:46:59.389Z"
   },
   {
    "duration": 4,
    "start_time": "2024-10-15T13:46:59.608Z"
   },
   {
    "duration": 457,
    "start_time": "2024-10-15T13:46:59.613Z"
   },
   {
    "duration": 523,
    "start_time": "2024-10-15T13:47:00.071Z"
   },
   {
    "duration": 356,
    "start_time": "2024-10-15T13:47:00.596Z"
   },
   {
    "duration": 19,
    "start_time": "2024-10-15T13:47:00.954Z"
   },
   {
    "duration": 87,
    "start_time": "2024-10-15T13:47:00.974Z"
   },
   {
    "duration": 74,
    "start_time": "2024-10-15T13:47:01.065Z"
   },
   {
    "duration": 32,
    "start_time": "2024-10-15T13:47:01.140Z"
   },
   {
    "duration": 1010,
    "start_time": "2024-10-15T14:14:12.403Z"
   },
   {
    "duration": 3,
    "start_time": "2024-10-15T14:14:13.414Z"
   },
   {
    "duration": 54,
    "start_time": "2024-10-15T14:14:13.418Z"
   },
   {
    "duration": 23,
    "start_time": "2024-10-15T14:14:13.473Z"
   },
   {
    "duration": 544,
    "start_time": "2024-10-15T14:14:13.497Z"
   },
   {
    "duration": 17,
    "start_time": "2024-10-15T14:14:14.042Z"
   },
   {
    "duration": 4,
    "start_time": "2024-10-15T14:14:14.060Z"
   },
   {
    "duration": 9,
    "start_time": "2024-10-15T14:14:14.065Z"
   },
   {
    "duration": 12,
    "start_time": "2024-10-15T14:14:14.076Z"
   },
   {
    "duration": 27,
    "start_time": "2024-10-15T14:14:14.090Z"
   },
   {
    "duration": 12,
    "start_time": "2024-10-15T14:14:14.118Z"
   },
   {
    "duration": 43,
    "start_time": "2024-10-15T14:14:14.131Z"
   },
   {
    "duration": 377,
    "start_time": "2024-10-15T14:14:14.175Z"
   },
   {
    "duration": 4,
    "start_time": "2024-10-15T14:14:14.557Z"
   },
   {
    "duration": 34,
    "start_time": "2024-10-15T14:14:14.562Z"
   },
   {
    "duration": 4,
    "start_time": "2024-10-15T14:14:14.598Z"
   },
   {
    "duration": 172,
    "start_time": "2024-10-15T14:14:14.603Z"
   },
   {
    "duration": 182,
    "start_time": "2024-10-15T14:14:14.777Z"
   },
   {
    "duration": 186,
    "start_time": "2024-10-15T14:14:14.960Z"
   },
   {
    "duration": 231,
    "start_time": "2024-10-15T14:14:15.147Z"
   },
   {
    "duration": 152,
    "start_time": "2024-10-15T14:14:15.379Z"
   },
   {
    "duration": 138,
    "start_time": "2024-10-15T14:14:15.533Z"
   },
   {
    "duration": 133,
    "start_time": "2024-10-15T14:14:15.672Z"
   },
   {
    "duration": 11,
    "start_time": "2024-10-15T14:14:15.807Z"
   },
   {
    "duration": 15,
    "start_time": "2024-10-15T14:14:15.820Z"
   },
   {
    "duration": 1056,
    "start_time": "2024-10-15T14:14:15.836Z"
   },
   {
    "duration": 9,
    "start_time": "2024-10-15T14:14:16.894Z"
   },
   {
    "duration": 281,
    "start_time": "2024-10-15T14:14:16.906Z"
   },
   {
    "duration": 206,
    "start_time": "2024-10-15T14:14:17.189Z"
   },
   {
    "duration": 330,
    "start_time": "2024-10-15T14:14:17.396Z"
   },
   {
    "duration": 13,
    "start_time": "2024-10-15T14:14:17.728Z"
   },
   {
    "duration": 173,
    "start_time": "2024-10-15T14:14:17.757Z"
   },
   {
    "duration": 189,
    "start_time": "2024-10-15T14:14:17.931Z"
   },
   {
    "duration": 191,
    "start_time": "2024-10-15T14:14:18.122Z"
   },
   {
    "duration": 11,
    "start_time": "2024-10-15T14:14:18.314Z"
   },
   {
    "duration": 462,
    "start_time": "2024-10-15T14:14:18.327Z"
   },
   {
    "duration": 489,
    "start_time": "2024-10-15T14:14:18.790Z"
   },
   {
    "duration": 332,
    "start_time": "2024-10-15T14:14:19.280Z"
   },
   {
    "duration": 13,
    "start_time": "2024-10-15T14:14:19.614Z"
   },
   {
    "duration": 56,
    "start_time": "2024-10-15T14:14:19.628Z"
   },
   {
    "duration": 23,
    "start_time": "2024-10-15T14:14:19.686Z"
   },
   {
    "duration": 14,
    "start_time": "2024-10-15T14:14:19.711Z"
   },
   {
    "duration": 1153,
    "start_time": "2025-03-02T10:02:45.483Z"
   },
   {
    "duration": 3,
    "start_time": "2025-03-02T10:02:46.638Z"
   },
   {
    "duration": 222,
    "start_time": "2025-03-02T10:02:46.642Z"
   },
   {
    "duration": 75,
    "start_time": "2025-03-02T10:02:46.866Z"
   },
   {
    "duration": 706,
    "start_time": "2025-03-02T10:02:46.943Z"
   },
   {
    "duration": 15,
    "start_time": "2025-03-02T10:02:47.651Z"
   },
   {
    "duration": 6,
    "start_time": "2025-03-02T10:02:47.667Z"
   },
   {
    "duration": 20,
    "start_time": "2025-03-02T10:02:47.675Z"
   },
   {
    "duration": 22,
    "start_time": "2025-03-02T10:02:47.696Z"
   },
   {
    "duration": 35,
    "start_time": "2025-03-02T10:02:47.720Z"
   },
   {
    "duration": 75,
    "start_time": "2025-03-02T10:02:47.757Z"
   },
   {
    "duration": 21,
    "start_time": "2025-03-02T10:02:47.834Z"
   },
   {
    "duration": 378,
    "start_time": "2025-03-02T10:02:47.857Z"
   },
   {
    "duration": 13,
    "start_time": "2025-03-02T10:02:48.238Z"
   },
   {
    "duration": 21,
    "start_time": "2025-03-02T10:02:48.254Z"
   },
   {
    "duration": 34,
    "start_time": "2025-03-02T10:02:48.277Z"
   },
   {
    "duration": 207,
    "start_time": "2025-03-02T10:02:48.313Z"
   },
   {
    "duration": 202,
    "start_time": "2025-03-02T10:02:48.521Z"
   },
   {
    "duration": 196,
    "start_time": "2025-03-02T10:02:48.724Z"
   },
   {
    "duration": 292,
    "start_time": "2025-03-02T10:02:48.922Z"
   },
   {
    "duration": 161,
    "start_time": "2025-03-02T10:02:49.216Z"
   },
   {
    "duration": 143,
    "start_time": "2025-03-02T10:02:49.378Z"
   },
   {
    "duration": 146,
    "start_time": "2025-03-02T10:02:49.522Z"
   },
   {
    "duration": 13,
    "start_time": "2025-03-02T10:02:49.669Z"
   },
   {
    "duration": 12,
    "start_time": "2025-03-02T10:02:49.683Z"
   },
   {
    "duration": 1108,
    "start_time": "2025-03-02T10:02:49.697Z"
   },
   {
    "duration": 12,
    "start_time": "2025-03-02T10:02:50.807Z"
   },
   {
    "duration": 368,
    "start_time": "2025-03-02T10:02:50.823Z"
   },
   {
    "duration": 228,
    "start_time": "2025-03-02T10:02:51.192Z"
   },
   {
    "duration": 368,
    "start_time": "2025-03-02T10:02:51.422Z"
   },
   {
    "duration": 16,
    "start_time": "2025-03-02T10:02:51.792Z"
   },
   {
    "duration": 227,
    "start_time": "2025-03-02T10:02:51.810Z"
   },
   {
    "duration": 200,
    "start_time": "2025-03-02T10:02:52.039Z"
   },
   {
    "duration": 206,
    "start_time": "2025-03-02T10:02:52.247Z"
   },
   {
    "duration": 5,
    "start_time": "2025-03-02T10:02:52.454Z"
   },
   {
    "duration": 496,
    "start_time": "2025-03-02T10:02:52.461Z"
   },
   {
    "duration": 603,
    "start_time": "2025-03-02T10:02:52.959Z"
   },
   {
    "duration": 410,
    "start_time": "2025-03-02T10:02:53.564Z"
   },
   {
    "duration": 16,
    "start_time": "2025-03-02T10:02:53.975Z"
   },
   {
    "duration": 11,
    "start_time": "2025-03-02T10:02:53.992Z"
   },
   {
    "duration": 10,
    "start_time": "2025-03-02T10:02:54.004Z"
   },
   {
    "duration": 41,
    "start_time": "2025-03-02T10:02:54.015Z"
   }
  ],
  "kernelspec": {
   "display_name": "Python 3 (ipykernel)",
   "language": "python",
   "name": "python3"
  },
  "language_info": {
   "codemirror_mode": {
    "name": "ipython",
    "version": 3
   },
   "file_extension": ".py",
   "mimetype": "text/x-python",
   "name": "python",
   "nbconvert_exporter": "python",
   "pygments_lexer": "ipython3",
   "version": "3.9.5"
  },
  "toc": {
   "base_numbering": 1,
   "nav_menu": {},
   "number_sections": true,
   "sideBar": true,
   "skip_h1_title": true,
   "title_cell": "Table of Contents",
   "title_sidebar": "Contents",
   "toc_cell": false,
   "toc_position": {
    "height": "calc(100% - 180px)",
    "left": "10px",
    "top": "150px",
    "width": "303.825px"
   },
   "toc_section_display": true,
   "toc_window_display": false
  }
 },
 "nbformat": 4,
 "nbformat_minor": 2
}
