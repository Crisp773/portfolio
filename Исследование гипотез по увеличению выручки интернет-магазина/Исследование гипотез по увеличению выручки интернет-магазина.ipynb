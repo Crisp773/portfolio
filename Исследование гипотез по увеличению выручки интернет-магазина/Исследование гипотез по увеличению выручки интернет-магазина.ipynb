{
 "cells": [
  {
   "cell_type": "markdown",
   "metadata": {},
   "source": [
    "# Исследование гипотез по увеличению выручки интернет-магазина\n",
    "\n",
    "Для проведения работы совместно с отделом маркетинга был подготовлен список гипотез. В рамках данного исследования планируется выполнить следующие этапы:\n",
    "\n",
    "1. Провести приоритизацию составленных ранее гипотез;\n",
    "    1. Провести приоритизацию используя ICE фреймворк;\n",
    "    2. Провести приоритизацию, используя RICE фреймворк;\n",
    "    3. Проанализировать получившиеся результаты и отобрать наиболее перспективные гипотезы;\n",
    "2. Провести анализ проведенного A/B-теста;\n",
    "    1. Построить графики кумулятивной выручки, среднего чека и среднего количества заказов;\n",
    "    2. Построить графики относительного изменения кумулятивного среднего чека и среднего количества заказов между группами;\n",
    "    3. Проанализировать аномальные значения в имеющихся данных;\n",
    "    4. Проанализировать статистическую значимость различий по \"сырым\" и \"очищенным данным\";\n",
    "    5. Сделать итоговый вывод и принять решение о будущем теста."
   ]
  },
  {
   "cell_type": "markdown",
   "metadata": {},
   "source": [
    "### Часть 1. Приоритизация гипотез."
   ]
  },
  {
   "cell_type": "code",
   "execution_count": 1,
   "metadata": {},
   "outputs": [],
   "source": [
    "import pandas as pd\n",
    "from scipy import stats as st\n",
    "import numpy as np\n",
    "import matplotlib.pyplot as plt\n",
    "import datetime as dt"
   ]
  },
  {
   "cell_type": "code",
   "execution_count": 2,
   "metadata": {},
   "outputs": [],
   "source": [
    "def check_df (df):\n",
    "\n",
    "    display(df.info())\n",
    "\n",
    "    display(df.head(10))"
   ]
  },
  {
   "cell_type": "code",
   "execution_count": 3,
   "metadata": {},
   "outputs": [],
   "source": [
    "hyp_data = pd.read_csv('/datasets/hypothesis.csv')"
   ]
  },
  {
   "cell_type": "code",
   "execution_count": 4,
   "metadata": {
    "scrolled": true
   },
   "outputs": [
    {
     "name": "stdout",
     "output_type": "stream",
     "text": [
      "<class 'pandas.core.frame.DataFrame'>\n",
      "RangeIndex: 9 entries, 0 to 8\n",
      "Data columns (total 5 columns):\n",
      " #   Column      Non-Null Count  Dtype \n",
      "---  ------      --------------  ----- \n",
      " 0   Hypothesis  9 non-null      object\n",
      " 1   Reach       9 non-null      int64 \n",
      " 2   Impact      9 non-null      int64 \n",
      " 3   Confidence  9 non-null      int64 \n",
      " 4   Efforts     9 non-null      int64 \n",
      "dtypes: int64(4), object(1)\n",
      "memory usage: 488.0+ bytes\n"
     ]
    },
    {
     "data": {
      "text/plain": [
       "None"
      ]
     },
     "metadata": {},
     "output_type": "display_data"
    },
    {
     "data": {
      "text/html": [
       "<div>\n",
       "<style scoped>\n",
       "    .dataframe tbody tr th:only-of-type {\n",
       "        vertical-align: middle;\n",
       "    }\n",
       "\n",
       "    .dataframe tbody tr th {\n",
       "        vertical-align: top;\n",
       "    }\n",
       "\n",
       "    .dataframe thead th {\n",
       "        text-align: right;\n",
       "    }\n",
       "</style>\n",
       "<table border=\"1\" class=\"dataframe\">\n",
       "  <thead>\n",
       "    <tr style=\"text-align: right;\">\n",
       "      <th></th>\n",
       "      <th>Hypothesis</th>\n",
       "      <th>Reach</th>\n",
       "      <th>Impact</th>\n",
       "      <th>Confidence</th>\n",
       "      <th>Efforts</th>\n",
       "    </tr>\n",
       "  </thead>\n",
       "  <tbody>\n",
       "    <tr>\n",
       "      <th>0</th>\n",
       "      <td>Добавить два новых канала привлечения трафика, что позволит привлекать на 30% больше пользователей</td>\n",
       "      <td>3</td>\n",
       "      <td>10</td>\n",
       "      <td>8</td>\n",
       "      <td>6</td>\n",
       "    </tr>\n",
       "    <tr>\n",
       "      <th>1</th>\n",
       "      <td>Запустить собственную службу доставки, что сократит срок доставки заказов</td>\n",
       "      <td>2</td>\n",
       "      <td>5</td>\n",
       "      <td>4</td>\n",
       "      <td>10</td>\n",
       "    </tr>\n",
       "    <tr>\n",
       "      <th>2</th>\n",
       "      <td>Добавить блоки рекомендаций товаров на сайт интернет магазина, чтобы повысить конверсию и средний чек заказа</td>\n",
       "      <td>8</td>\n",
       "      <td>3</td>\n",
       "      <td>7</td>\n",
       "      <td>3</td>\n",
       "    </tr>\n",
       "    <tr>\n",
       "      <th>3</th>\n",
       "      <td>Изменить структура категорий, что увеличит конверсию, т.к. пользователи быстрее найдут нужный товар</td>\n",
       "      <td>8</td>\n",
       "      <td>3</td>\n",
       "      <td>3</td>\n",
       "      <td>8</td>\n",
       "    </tr>\n",
       "    <tr>\n",
       "      <th>4</th>\n",
       "      <td>Изменить цвет фона главной страницы, чтобы увеличить вовлеченность пользователей</td>\n",
       "      <td>3</td>\n",
       "      <td>1</td>\n",
       "      <td>1</td>\n",
       "      <td>1</td>\n",
       "    </tr>\n",
       "    <tr>\n",
       "      <th>5</th>\n",
       "      <td>Добавить страницу отзывов клиентов о магазине, что позволит увеличить количество заказов</td>\n",
       "      <td>3</td>\n",
       "      <td>2</td>\n",
       "      <td>2</td>\n",
       "      <td>3</td>\n",
       "    </tr>\n",
       "    <tr>\n",
       "      <th>6</th>\n",
       "      <td>Показать на главной странице баннеры с актуальными акциями и распродажами, чтобы увеличить конверсию</td>\n",
       "      <td>5</td>\n",
       "      <td>3</td>\n",
       "      <td>8</td>\n",
       "      <td>3</td>\n",
       "    </tr>\n",
       "    <tr>\n",
       "      <th>7</th>\n",
       "      <td>Добавить форму подписки на все основные страницы, чтобы собрать базу клиентов для email-рассылок</td>\n",
       "      <td>10</td>\n",
       "      <td>7</td>\n",
       "      <td>8</td>\n",
       "      <td>5</td>\n",
       "    </tr>\n",
       "    <tr>\n",
       "      <th>8</th>\n",
       "      <td>Запустить акцию, дающую скидку на товар в день рождения</td>\n",
       "      <td>1</td>\n",
       "      <td>9</td>\n",
       "      <td>9</td>\n",
       "      <td>5</td>\n",
       "    </tr>\n",
       "  </tbody>\n",
       "</table>\n",
       "</div>"
      ],
      "text/plain": [
       "                                                                                                     Hypothesis  \\\n",
       "0            Добавить два новых канала привлечения трафика, что позволит привлекать на 30% больше пользователей   \n",
       "1                                     Запустить собственную службу доставки, что сократит срок доставки заказов   \n",
       "2  Добавить блоки рекомендаций товаров на сайт интернет магазина, чтобы повысить конверсию и средний чек заказа   \n",
       "3           Изменить структура категорий, что увеличит конверсию, т.к. пользователи быстрее найдут нужный товар   \n",
       "4                              Изменить цвет фона главной страницы, чтобы увеличить вовлеченность пользователей   \n",
       "5                      Добавить страницу отзывов клиентов о магазине, что позволит увеличить количество заказов   \n",
       "6          Показать на главной странице баннеры с актуальными акциями и распродажами, чтобы увеличить конверсию   \n",
       "7              Добавить форму подписки на все основные страницы, чтобы собрать базу клиентов для email-рассылок   \n",
       "8                                                       Запустить акцию, дающую скидку на товар в день рождения   \n",
       "\n",
       "   Reach  Impact  Confidence  Efforts  \n",
       "0      3      10           8        6  \n",
       "1      2       5           4       10  \n",
       "2      8       3           7        3  \n",
       "3      8       3           3        8  \n",
       "4      3       1           1        1  \n",
       "5      3       2           2        3  \n",
       "6      5       3           8        3  \n",
       "7     10       7           8        5  \n",
       "8      1       9           9        5  "
      ]
     },
     "metadata": {},
     "output_type": "display_data"
    }
   ],
   "source": [
    "pd.options.display.max_colwidth = 130\n",
    "check_df(hyp_data)"
   ]
  },
  {
   "cell_type": "code",
   "execution_count": 5,
   "metadata": {},
   "outputs": [],
   "source": [
    "# Приведем названия столбцов к нижнему регистру для удобства\n",
    "hyp_data.columns = ['hypothesis', 'reach', 'impact', 'confidence', 'efforts']"
   ]
  },
  {
   "cell_type": "code",
   "execution_count": 6,
   "metadata": {},
   "outputs": [],
   "source": [
    "hyp_data['ICE'] = ((hyp_data['impact'] * hyp_data['confidence']) / hyp_data['efforts']).round(2)"
   ]
  },
  {
   "cell_type": "code",
   "execution_count": 7,
   "metadata": {},
   "outputs": [
    {
     "data": {
      "text/html": [
       "<div>\n",
       "<style scoped>\n",
       "    .dataframe tbody tr th:only-of-type {\n",
       "        vertical-align: middle;\n",
       "    }\n",
       "\n",
       "    .dataframe tbody tr th {\n",
       "        vertical-align: top;\n",
       "    }\n",
       "\n",
       "    .dataframe thead th {\n",
       "        text-align: right;\n",
       "    }\n",
       "</style>\n",
       "<table border=\"1\" class=\"dataframe\">\n",
       "  <thead>\n",
       "    <tr style=\"text-align: right;\">\n",
       "      <th></th>\n",
       "      <th>hypothesis</th>\n",
       "      <th>ICE</th>\n",
       "    </tr>\n",
       "  </thead>\n",
       "  <tbody>\n",
       "    <tr>\n",
       "      <th>8</th>\n",
       "      <td>Запустить акцию, дающую скидку на товар в день рождения</td>\n",
       "      <td>16.20</td>\n",
       "    </tr>\n",
       "    <tr>\n",
       "      <th>0</th>\n",
       "      <td>Добавить два новых канала привлечения трафика, что позволит привлекать на 30% больше пользователей</td>\n",
       "      <td>13.33</td>\n",
       "    </tr>\n",
       "    <tr>\n",
       "      <th>7</th>\n",
       "      <td>Добавить форму подписки на все основные страницы, чтобы собрать базу клиентов для email-рассылок</td>\n",
       "      <td>11.20</td>\n",
       "    </tr>\n",
       "    <tr>\n",
       "      <th>6</th>\n",
       "      <td>Показать на главной странице баннеры с актуальными акциями и распродажами, чтобы увеличить конверсию</td>\n",
       "      <td>8.00</td>\n",
       "    </tr>\n",
       "    <tr>\n",
       "      <th>2</th>\n",
       "      <td>Добавить блоки рекомендаций товаров на сайт интернет магазина, чтобы повысить конверсию и средний чек заказа</td>\n",
       "      <td>7.00</td>\n",
       "    </tr>\n",
       "    <tr>\n",
       "      <th>1</th>\n",
       "      <td>Запустить собственную службу доставки, что сократит срок доставки заказов</td>\n",
       "      <td>2.00</td>\n",
       "    </tr>\n",
       "    <tr>\n",
       "      <th>5</th>\n",
       "      <td>Добавить страницу отзывов клиентов о магазине, что позволит увеличить количество заказов</td>\n",
       "      <td>1.33</td>\n",
       "    </tr>\n",
       "    <tr>\n",
       "      <th>3</th>\n",
       "      <td>Изменить структура категорий, что увеличит конверсию, т.к. пользователи быстрее найдут нужный товар</td>\n",
       "      <td>1.12</td>\n",
       "    </tr>\n",
       "    <tr>\n",
       "      <th>4</th>\n",
       "      <td>Изменить цвет фона главной страницы, чтобы увеличить вовлеченность пользователей</td>\n",
       "      <td>1.00</td>\n",
       "    </tr>\n",
       "  </tbody>\n",
       "</table>\n",
       "</div>"
      ],
      "text/plain": [
       "                                                                                                     hypothesis  \\\n",
       "8                                                       Запустить акцию, дающую скидку на товар в день рождения   \n",
       "0            Добавить два новых канала привлечения трафика, что позволит привлекать на 30% больше пользователей   \n",
       "7              Добавить форму подписки на все основные страницы, чтобы собрать базу клиентов для email-рассылок   \n",
       "6          Показать на главной странице баннеры с актуальными акциями и распродажами, чтобы увеличить конверсию   \n",
       "2  Добавить блоки рекомендаций товаров на сайт интернет магазина, чтобы повысить конверсию и средний чек заказа   \n",
       "1                                     Запустить собственную службу доставки, что сократит срок доставки заказов   \n",
       "5                      Добавить страницу отзывов клиентов о магазине, что позволит увеличить количество заказов   \n",
       "3           Изменить структура категорий, что увеличит конверсию, т.к. пользователи быстрее найдут нужный товар   \n",
       "4                              Изменить цвет фона главной страницы, чтобы увеличить вовлеченность пользователей   \n",
       "\n",
       "     ICE  \n",
       "8  16.20  \n",
       "0  13.33  \n",
       "7  11.20  \n",
       "6   8.00  \n",
       "2   7.00  \n",
       "1   2.00  \n",
       "5   1.33  \n",
       "3   1.12  \n",
       "4   1.00  "
      ]
     },
     "metadata": {},
     "output_type": "display_data"
    }
   ],
   "source": [
    "display(hyp_data[['hypothesis','ICE']].sort_values(by='ICE', ascending=False))"
   ]
  },
  {
   "cell_type": "markdown",
   "metadata": {},
   "source": [
    "По фреймворку ICE наиболее приоритетными стали гипотезы \"запустить акцию на скидку в день рождения\", \"добавить два новых канала привлечения трафика\" и \"добавить форму подписки на все основные страницы\" они же лидеры по столбцу impact, посмотрим, что покажут результаты второй приоритизации."
   ]
  },
  {
   "cell_type": "code",
   "execution_count": 8,
   "metadata": {},
   "outputs": [
    {
     "data": {
      "text/html": [
       "<div>\n",
       "<style scoped>\n",
       "    .dataframe tbody tr th:only-of-type {\n",
       "        vertical-align: middle;\n",
       "    }\n",
       "\n",
       "    .dataframe tbody tr th {\n",
       "        vertical-align: top;\n",
       "    }\n",
       "\n",
       "    .dataframe thead th {\n",
       "        text-align: right;\n",
       "    }\n",
       "</style>\n",
       "<table border=\"1\" class=\"dataframe\">\n",
       "  <thead>\n",
       "    <tr style=\"text-align: right;\">\n",
       "      <th></th>\n",
       "      <th>hypothesis</th>\n",
       "      <th>ICE</th>\n",
       "      <th>RICE</th>\n",
       "    </tr>\n",
       "  </thead>\n",
       "  <tbody>\n",
       "    <tr>\n",
       "      <th>7</th>\n",
       "      <td>Добавить форму подписки на все основные страницы, чтобы собрать базу клиентов для email-рассылок</td>\n",
       "      <td>11.20</td>\n",
       "      <td>112.0</td>\n",
       "    </tr>\n",
       "    <tr>\n",
       "      <th>2</th>\n",
       "      <td>Добавить блоки рекомендаций товаров на сайт интернет магазина, чтобы повысить конверсию и средний чек заказа</td>\n",
       "      <td>7.00</td>\n",
       "      <td>56.0</td>\n",
       "    </tr>\n",
       "    <tr>\n",
       "      <th>0</th>\n",
       "      <td>Добавить два новых канала привлечения трафика, что позволит привлекать на 30% больше пользователей</td>\n",
       "      <td>13.33</td>\n",
       "      <td>40.0</td>\n",
       "    </tr>\n",
       "    <tr>\n",
       "      <th>6</th>\n",
       "      <td>Показать на главной странице баннеры с актуальными акциями и распродажами, чтобы увеличить конверсию</td>\n",
       "      <td>8.00</td>\n",
       "      <td>40.0</td>\n",
       "    </tr>\n",
       "    <tr>\n",
       "      <th>8</th>\n",
       "      <td>Запустить акцию, дающую скидку на товар в день рождения</td>\n",
       "      <td>16.20</td>\n",
       "      <td>16.2</td>\n",
       "    </tr>\n",
       "    <tr>\n",
       "      <th>3</th>\n",
       "      <td>Изменить структура категорий, что увеличит конверсию, т.к. пользователи быстрее найдут нужный товар</td>\n",
       "      <td>1.12</td>\n",
       "      <td>9.0</td>\n",
       "    </tr>\n",
       "    <tr>\n",
       "      <th>1</th>\n",
       "      <td>Запустить собственную службу доставки, что сократит срок доставки заказов</td>\n",
       "      <td>2.00</td>\n",
       "      <td>4.0</td>\n",
       "    </tr>\n",
       "    <tr>\n",
       "      <th>5</th>\n",
       "      <td>Добавить страницу отзывов клиентов о магазине, что позволит увеличить количество заказов</td>\n",
       "      <td>1.33</td>\n",
       "      <td>4.0</td>\n",
       "    </tr>\n",
       "    <tr>\n",
       "      <th>4</th>\n",
       "      <td>Изменить цвет фона главной страницы, чтобы увеличить вовлеченность пользователей</td>\n",
       "      <td>1.00</td>\n",
       "      <td>3.0</td>\n",
       "    </tr>\n",
       "  </tbody>\n",
       "</table>\n",
       "</div>"
      ],
      "text/plain": [
       "                                                                                                     hypothesis  \\\n",
       "7              Добавить форму подписки на все основные страницы, чтобы собрать базу клиентов для email-рассылок   \n",
       "2  Добавить блоки рекомендаций товаров на сайт интернет магазина, чтобы повысить конверсию и средний чек заказа   \n",
       "0            Добавить два новых канала привлечения трафика, что позволит привлекать на 30% больше пользователей   \n",
       "6          Показать на главной странице баннеры с актуальными акциями и распродажами, чтобы увеличить конверсию   \n",
       "8                                                       Запустить акцию, дающую скидку на товар в день рождения   \n",
       "3           Изменить структура категорий, что увеличит конверсию, т.к. пользователи быстрее найдут нужный товар   \n",
       "1                                     Запустить собственную службу доставки, что сократит срок доставки заказов   \n",
       "5                      Добавить страницу отзывов клиентов о магазине, что позволит увеличить количество заказов   \n",
       "4                              Изменить цвет фона главной страницы, чтобы увеличить вовлеченность пользователей   \n",
       "\n",
       "     ICE   RICE  \n",
       "7  11.20  112.0  \n",
       "2   7.00   56.0  \n",
       "0  13.33   40.0  \n",
       "6   8.00   40.0  \n",
       "8  16.20   16.2  \n",
       "3   1.12    9.0  \n",
       "1   2.00    4.0  \n",
       "5   1.33    4.0  \n",
       "4   1.00    3.0  "
      ]
     },
     "metadata": {},
     "output_type": "display_data"
    }
   ],
   "source": [
    "hyp_data['RICE'] = (hyp_data['reach'] * hyp_data['impact'] * hyp_data['confidence']) / hyp_data['efforts']\n",
    "display(hyp_data[['hypothesis','ICE', 'RICE']].sort_values(by='RICE', ascending=False))"
   ]
  },
  {
   "cell_type": "markdown",
   "metadata": {},
   "source": [
    "Гипотеза \"Добавить форму подписки на все основные страницы, чтобы собрать базу клиентов для email-рассылок\" с третьего места заняла первое с двукратным отрывом от гипотезы \"Добавить блоки рекомендаций товаров на сайт интернет магазина, чтобы повысить конверсию и средний чек заказа\", которая занимала ранее пятое место. \n",
    "\n",
    "Фреймворк RICE показывает, что приоритизация гипотез сильно поменялась для гипотез, занявших первые пять мест по фреймворку ICE. На первые места вышли гипотезы с высоким показателем охвата, однако гипотеза \"Добавить два новых канала привлечения трафика, что позволит привлекать на 30% больше пользователей\" не смотря на относительно низкий показатель охвата заняла третье место, а гипотезе \"Изменить структуру категорий, что увеличит конверсию, т.к. пользователи быстрее найдут нужный товар\" не помог даже высокий показатель охвата, усилия на ее тест слишком высоки по отношению к влиянию на опыт пользователей.\n",
    "\n",
    "Таким образом, первыми необходимо проверить гипотезы \"Добавить форму подписки на все основные страницы, чтобы собрать базу клиентов для email-рассылок\", \"Добавить блоки рекомендаций товаров на сайт интернет магазина, чтобы повысить конверсию и средний чек заказа\" и \"Добавить два новых канала привлечения трафика, что позволит привлекать на 30% больше пользователей\"."
   ]
  },
  {
   "cell_type": "markdown",
   "metadata": {},
   "source": [
    "### Часть 2. Анализ A/B-теста"
   ]
  },
  {
   "cell_type": "markdown",
   "metadata": {},
   "source": [
    "Загрузим результаты A/B-теста для анализа его результатов."
   ]
  },
  {
   "cell_type": "code",
   "execution_count": 9,
   "metadata": {},
   "outputs": [],
   "source": [
    "orders = pd.read_csv('/datasets/orders.csv')"
   ]
  },
  {
   "cell_type": "code",
   "execution_count": 10,
   "metadata": {},
   "outputs": [],
   "source": [
    "visitors = pd.read_csv('/datasets/visitors.csv')"
   ]
  },
  {
   "cell_type": "code",
   "execution_count": 11,
   "metadata": {},
   "outputs": [
    {
     "name": "stdout",
     "output_type": "stream",
     "text": [
      "<class 'pandas.core.frame.DataFrame'>\n",
      "RangeIndex: 1197 entries, 0 to 1196\n",
      "Data columns (total 5 columns):\n",
      " #   Column         Non-Null Count  Dtype \n",
      "---  ------         --------------  ----- \n",
      " 0   transactionId  1197 non-null   int64 \n",
      " 1   visitorId      1197 non-null   int64 \n",
      " 2   date           1197 non-null   object\n",
      " 3   revenue        1197 non-null   int64 \n",
      " 4   group          1197 non-null   object\n",
      "dtypes: int64(3), object(2)\n",
      "memory usage: 46.9+ KB\n"
     ]
    },
    {
     "data": {
      "text/plain": [
       "None"
      ]
     },
     "metadata": {},
     "output_type": "display_data"
    },
    {
     "data": {
      "text/html": [
       "<div>\n",
       "<style scoped>\n",
       "    .dataframe tbody tr th:only-of-type {\n",
       "        vertical-align: middle;\n",
       "    }\n",
       "\n",
       "    .dataframe tbody tr th {\n",
       "        vertical-align: top;\n",
       "    }\n",
       "\n",
       "    .dataframe thead th {\n",
       "        text-align: right;\n",
       "    }\n",
       "</style>\n",
       "<table border=\"1\" class=\"dataframe\">\n",
       "  <thead>\n",
       "    <tr style=\"text-align: right;\">\n",
       "      <th></th>\n",
       "      <th>transactionId</th>\n",
       "      <th>visitorId</th>\n",
       "      <th>date</th>\n",
       "      <th>revenue</th>\n",
       "      <th>group</th>\n",
       "    </tr>\n",
       "  </thead>\n",
       "  <tbody>\n",
       "    <tr>\n",
       "      <th>0</th>\n",
       "      <td>3667963787</td>\n",
       "      <td>3312258926</td>\n",
       "      <td>2019-08-15</td>\n",
       "      <td>1650</td>\n",
       "      <td>B</td>\n",
       "    </tr>\n",
       "    <tr>\n",
       "      <th>1</th>\n",
       "      <td>2804400009</td>\n",
       "      <td>3642806036</td>\n",
       "      <td>2019-08-15</td>\n",
       "      <td>730</td>\n",
       "      <td>B</td>\n",
       "    </tr>\n",
       "    <tr>\n",
       "      <th>2</th>\n",
       "      <td>2961555356</td>\n",
       "      <td>4069496402</td>\n",
       "      <td>2019-08-15</td>\n",
       "      <td>400</td>\n",
       "      <td>A</td>\n",
       "    </tr>\n",
       "    <tr>\n",
       "      <th>3</th>\n",
       "      <td>3797467345</td>\n",
       "      <td>1196621759</td>\n",
       "      <td>2019-08-15</td>\n",
       "      <td>9759</td>\n",
       "      <td>B</td>\n",
       "    </tr>\n",
       "    <tr>\n",
       "      <th>4</th>\n",
       "      <td>2282983706</td>\n",
       "      <td>2322279887</td>\n",
       "      <td>2019-08-15</td>\n",
       "      <td>2308</td>\n",
       "      <td>B</td>\n",
       "    </tr>\n",
       "    <tr>\n",
       "      <th>5</th>\n",
       "      <td>182168103</td>\n",
       "      <td>935554773</td>\n",
       "      <td>2019-08-15</td>\n",
       "      <td>2210</td>\n",
       "      <td>B</td>\n",
       "    </tr>\n",
       "    <tr>\n",
       "      <th>6</th>\n",
       "      <td>398296753</td>\n",
       "      <td>2900797465</td>\n",
       "      <td>2019-08-15</td>\n",
       "      <td>1860</td>\n",
       "      <td>B</td>\n",
       "    </tr>\n",
       "    <tr>\n",
       "      <th>7</th>\n",
       "      <td>2626614568</td>\n",
       "      <td>78758296</td>\n",
       "      <td>2019-08-15</td>\n",
       "      <td>1044</td>\n",
       "      <td>A</td>\n",
       "    </tr>\n",
       "    <tr>\n",
       "      <th>8</th>\n",
       "      <td>1576988021</td>\n",
       "      <td>295230930</td>\n",
       "      <td>2019-08-15</td>\n",
       "      <td>13710</td>\n",
       "      <td>A</td>\n",
       "    </tr>\n",
       "    <tr>\n",
       "      <th>9</th>\n",
       "      <td>1506739906</td>\n",
       "      <td>1882260405</td>\n",
       "      <td>2019-08-15</td>\n",
       "      <td>1855</td>\n",
       "      <td>B</td>\n",
       "    </tr>\n",
       "  </tbody>\n",
       "</table>\n",
       "</div>"
      ],
      "text/plain": [
       "   transactionId   visitorId        date  revenue group\n",
       "0     3667963787  3312258926  2019-08-15     1650     B\n",
       "1     2804400009  3642806036  2019-08-15      730     B\n",
       "2     2961555356  4069496402  2019-08-15      400     A\n",
       "3     3797467345  1196621759  2019-08-15     9759     B\n",
       "4     2282983706  2322279887  2019-08-15     2308     B\n",
       "5      182168103   935554773  2019-08-15     2210     B\n",
       "6      398296753  2900797465  2019-08-15     1860     B\n",
       "7     2626614568    78758296  2019-08-15     1044     A\n",
       "8     1576988021   295230930  2019-08-15    13710     A\n",
       "9     1506739906  1882260405  2019-08-15     1855     B"
      ]
     },
     "metadata": {},
     "output_type": "display_data"
    }
   ],
   "source": [
    "check_df(orders)"
   ]
  },
  {
   "cell_type": "code",
   "execution_count": 12,
   "metadata": {},
   "outputs": [
    {
     "name": "stdout",
     "output_type": "stream",
     "text": [
      "<class 'pandas.core.frame.DataFrame'>\n",
      "RangeIndex: 62 entries, 0 to 61\n",
      "Data columns (total 3 columns):\n",
      " #   Column    Non-Null Count  Dtype \n",
      "---  ------    --------------  ----- \n",
      " 0   date      62 non-null     object\n",
      " 1   group     62 non-null     object\n",
      " 2   visitors  62 non-null     int64 \n",
      "dtypes: int64(1), object(2)\n",
      "memory usage: 1.6+ KB\n"
     ]
    },
    {
     "data": {
      "text/plain": [
       "None"
      ]
     },
     "metadata": {},
     "output_type": "display_data"
    },
    {
     "data": {
      "text/html": [
       "<div>\n",
       "<style scoped>\n",
       "    .dataframe tbody tr th:only-of-type {\n",
       "        vertical-align: middle;\n",
       "    }\n",
       "\n",
       "    .dataframe tbody tr th {\n",
       "        vertical-align: top;\n",
       "    }\n",
       "\n",
       "    .dataframe thead th {\n",
       "        text-align: right;\n",
       "    }\n",
       "</style>\n",
       "<table border=\"1\" class=\"dataframe\">\n",
       "  <thead>\n",
       "    <tr style=\"text-align: right;\">\n",
       "      <th></th>\n",
       "      <th>date</th>\n",
       "      <th>group</th>\n",
       "      <th>visitors</th>\n",
       "    </tr>\n",
       "  </thead>\n",
       "  <tbody>\n",
       "    <tr>\n",
       "      <th>0</th>\n",
       "      <td>2019-08-01</td>\n",
       "      <td>A</td>\n",
       "      <td>719</td>\n",
       "    </tr>\n",
       "    <tr>\n",
       "      <th>1</th>\n",
       "      <td>2019-08-02</td>\n",
       "      <td>A</td>\n",
       "      <td>619</td>\n",
       "    </tr>\n",
       "    <tr>\n",
       "      <th>2</th>\n",
       "      <td>2019-08-03</td>\n",
       "      <td>A</td>\n",
       "      <td>507</td>\n",
       "    </tr>\n",
       "    <tr>\n",
       "      <th>3</th>\n",
       "      <td>2019-08-04</td>\n",
       "      <td>A</td>\n",
       "      <td>717</td>\n",
       "    </tr>\n",
       "    <tr>\n",
       "      <th>4</th>\n",
       "      <td>2019-08-05</td>\n",
       "      <td>A</td>\n",
       "      <td>756</td>\n",
       "    </tr>\n",
       "    <tr>\n",
       "      <th>5</th>\n",
       "      <td>2019-08-06</td>\n",
       "      <td>A</td>\n",
       "      <td>667</td>\n",
       "    </tr>\n",
       "    <tr>\n",
       "      <th>6</th>\n",
       "      <td>2019-08-07</td>\n",
       "      <td>A</td>\n",
       "      <td>644</td>\n",
       "    </tr>\n",
       "    <tr>\n",
       "      <th>7</th>\n",
       "      <td>2019-08-08</td>\n",
       "      <td>A</td>\n",
       "      <td>610</td>\n",
       "    </tr>\n",
       "    <tr>\n",
       "      <th>8</th>\n",
       "      <td>2019-08-09</td>\n",
       "      <td>A</td>\n",
       "      <td>617</td>\n",
       "    </tr>\n",
       "    <tr>\n",
       "      <th>9</th>\n",
       "      <td>2019-08-10</td>\n",
       "      <td>A</td>\n",
       "      <td>406</td>\n",
       "    </tr>\n",
       "  </tbody>\n",
       "</table>\n",
       "</div>"
      ],
      "text/plain": [
       "         date group  visitors\n",
       "0  2019-08-01     A       719\n",
       "1  2019-08-02     A       619\n",
       "2  2019-08-03     A       507\n",
       "3  2019-08-04     A       717\n",
       "4  2019-08-05     A       756\n",
       "5  2019-08-06     A       667\n",
       "6  2019-08-07     A       644\n",
       "7  2019-08-08     A       610\n",
       "8  2019-08-09     A       617\n",
       "9  2019-08-10     A       406"
      ]
     },
     "metadata": {},
     "output_type": "display_data"
    }
   ],
   "source": [
    "check_df(visitors)"
   ]
  },
  {
   "cell_type": "markdown",
   "metadata": {},
   "source": [
    "Изменим тип данных в столбце date в обоих датафреймах и приведем названия столбцов к нижнему регистру."
   ]
  },
  {
   "cell_type": "code",
   "execution_count": 13,
   "metadata": {},
   "outputs": [],
   "source": [
    "orders.columns = ['transaction_id', 'visitor_id', 'date', 'revenue', 'group']\n",
    "orders['date'] = orders['date'].map(\n",
    "    lambda x: dt.datetime.strptime(x, '%Y-%m-%d')\n",
    ")\n",
    "\n",
    "visitors['date'] = visitors['date'].map(\n",
    "    lambda x: dt.datetime.strptime(x, '%Y-%m-%d')\n",
    ")"
   ]
  },
  {
   "cell_type": "code",
   "execution_count": 14,
   "metadata": {},
   "outputs": [
    {
     "name": "stdout",
     "output_type": "stream",
     "text": [
      "<class 'pandas.core.frame.DataFrame'>\n",
      "RangeIndex: 1197 entries, 0 to 1196\n",
      "Data columns (total 5 columns):\n",
      " #   Column          Non-Null Count  Dtype         \n",
      "---  ------          --------------  -----         \n",
      " 0   transaction_id  1197 non-null   int64         \n",
      " 1   visitor_id      1197 non-null   int64         \n",
      " 2   date            1197 non-null   datetime64[ns]\n",
      " 3   revenue         1197 non-null   int64         \n",
      " 4   group           1197 non-null   object        \n",
      "dtypes: datetime64[ns](1), int64(3), object(1)\n",
      "memory usage: 46.9+ KB\n"
     ]
    },
    {
     "data": {
      "text/plain": [
       "None"
      ]
     },
     "metadata": {},
     "output_type": "display_data"
    },
    {
     "data": {
      "text/html": [
       "<div>\n",
       "<style scoped>\n",
       "    .dataframe tbody tr th:only-of-type {\n",
       "        vertical-align: middle;\n",
       "    }\n",
       "\n",
       "    .dataframe tbody tr th {\n",
       "        vertical-align: top;\n",
       "    }\n",
       "\n",
       "    .dataframe thead th {\n",
       "        text-align: right;\n",
       "    }\n",
       "</style>\n",
       "<table border=\"1\" class=\"dataframe\">\n",
       "  <thead>\n",
       "    <tr style=\"text-align: right;\">\n",
       "      <th></th>\n",
       "      <th>transaction_id</th>\n",
       "      <th>visitor_id</th>\n",
       "      <th>date</th>\n",
       "      <th>revenue</th>\n",
       "      <th>group</th>\n",
       "    </tr>\n",
       "  </thead>\n",
       "  <tbody>\n",
       "    <tr>\n",
       "      <th>0</th>\n",
       "      <td>3667963787</td>\n",
       "      <td>3312258926</td>\n",
       "      <td>2019-08-15</td>\n",
       "      <td>1650</td>\n",
       "      <td>B</td>\n",
       "    </tr>\n",
       "    <tr>\n",
       "      <th>1</th>\n",
       "      <td>2804400009</td>\n",
       "      <td>3642806036</td>\n",
       "      <td>2019-08-15</td>\n",
       "      <td>730</td>\n",
       "      <td>B</td>\n",
       "    </tr>\n",
       "    <tr>\n",
       "      <th>2</th>\n",
       "      <td>2961555356</td>\n",
       "      <td>4069496402</td>\n",
       "      <td>2019-08-15</td>\n",
       "      <td>400</td>\n",
       "      <td>A</td>\n",
       "    </tr>\n",
       "    <tr>\n",
       "      <th>3</th>\n",
       "      <td>3797467345</td>\n",
       "      <td>1196621759</td>\n",
       "      <td>2019-08-15</td>\n",
       "      <td>9759</td>\n",
       "      <td>B</td>\n",
       "    </tr>\n",
       "    <tr>\n",
       "      <th>4</th>\n",
       "      <td>2282983706</td>\n",
       "      <td>2322279887</td>\n",
       "      <td>2019-08-15</td>\n",
       "      <td>2308</td>\n",
       "      <td>B</td>\n",
       "    </tr>\n",
       "    <tr>\n",
       "      <th>5</th>\n",
       "      <td>182168103</td>\n",
       "      <td>935554773</td>\n",
       "      <td>2019-08-15</td>\n",
       "      <td>2210</td>\n",
       "      <td>B</td>\n",
       "    </tr>\n",
       "    <tr>\n",
       "      <th>6</th>\n",
       "      <td>398296753</td>\n",
       "      <td>2900797465</td>\n",
       "      <td>2019-08-15</td>\n",
       "      <td>1860</td>\n",
       "      <td>B</td>\n",
       "    </tr>\n",
       "    <tr>\n",
       "      <th>7</th>\n",
       "      <td>2626614568</td>\n",
       "      <td>78758296</td>\n",
       "      <td>2019-08-15</td>\n",
       "      <td>1044</td>\n",
       "      <td>A</td>\n",
       "    </tr>\n",
       "    <tr>\n",
       "      <th>8</th>\n",
       "      <td>1576988021</td>\n",
       "      <td>295230930</td>\n",
       "      <td>2019-08-15</td>\n",
       "      <td>13710</td>\n",
       "      <td>A</td>\n",
       "    </tr>\n",
       "    <tr>\n",
       "      <th>9</th>\n",
       "      <td>1506739906</td>\n",
       "      <td>1882260405</td>\n",
       "      <td>2019-08-15</td>\n",
       "      <td>1855</td>\n",
       "      <td>B</td>\n",
       "    </tr>\n",
       "  </tbody>\n",
       "</table>\n",
       "</div>"
      ],
      "text/plain": [
       "   transaction_id  visitor_id       date  revenue group\n",
       "0      3667963787  3312258926 2019-08-15     1650     B\n",
       "1      2804400009  3642806036 2019-08-15      730     B\n",
       "2      2961555356  4069496402 2019-08-15      400     A\n",
       "3      3797467345  1196621759 2019-08-15     9759     B\n",
       "4      2282983706  2322279887 2019-08-15     2308     B\n",
       "5       182168103   935554773 2019-08-15     2210     B\n",
       "6       398296753  2900797465 2019-08-15     1860     B\n",
       "7      2626614568    78758296 2019-08-15     1044     A\n",
       "8      1576988021   295230930 2019-08-15    13710     A\n",
       "9      1506739906  1882260405 2019-08-15     1855     B"
      ]
     },
     "metadata": {},
     "output_type": "display_data"
    }
   ],
   "source": [
    "check_df(orders)"
   ]
  },
  {
   "cell_type": "code",
   "execution_count": 15,
   "metadata": {
    "scrolled": true
   },
   "outputs": [
    {
     "name": "stdout",
     "output_type": "stream",
     "text": [
      "<class 'pandas.core.frame.DataFrame'>\n",
      "RangeIndex: 62 entries, 0 to 61\n",
      "Data columns (total 3 columns):\n",
      " #   Column    Non-Null Count  Dtype         \n",
      "---  ------    --------------  -----         \n",
      " 0   date      62 non-null     datetime64[ns]\n",
      " 1   group     62 non-null     object        \n",
      " 2   visitors  62 non-null     int64         \n",
      "dtypes: datetime64[ns](1), int64(1), object(1)\n",
      "memory usage: 1.6+ KB\n"
     ]
    },
    {
     "data": {
      "text/plain": [
       "None"
      ]
     },
     "metadata": {},
     "output_type": "display_data"
    },
    {
     "data": {
      "text/html": [
       "<div>\n",
       "<style scoped>\n",
       "    .dataframe tbody tr th:only-of-type {\n",
       "        vertical-align: middle;\n",
       "    }\n",
       "\n",
       "    .dataframe tbody tr th {\n",
       "        vertical-align: top;\n",
       "    }\n",
       "\n",
       "    .dataframe thead th {\n",
       "        text-align: right;\n",
       "    }\n",
       "</style>\n",
       "<table border=\"1\" class=\"dataframe\">\n",
       "  <thead>\n",
       "    <tr style=\"text-align: right;\">\n",
       "      <th></th>\n",
       "      <th>date</th>\n",
       "      <th>group</th>\n",
       "      <th>visitors</th>\n",
       "    </tr>\n",
       "  </thead>\n",
       "  <tbody>\n",
       "    <tr>\n",
       "      <th>0</th>\n",
       "      <td>2019-08-01</td>\n",
       "      <td>A</td>\n",
       "      <td>719</td>\n",
       "    </tr>\n",
       "    <tr>\n",
       "      <th>1</th>\n",
       "      <td>2019-08-02</td>\n",
       "      <td>A</td>\n",
       "      <td>619</td>\n",
       "    </tr>\n",
       "    <tr>\n",
       "      <th>2</th>\n",
       "      <td>2019-08-03</td>\n",
       "      <td>A</td>\n",
       "      <td>507</td>\n",
       "    </tr>\n",
       "    <tr>\n",
       "      <th>3</th>\n",
       "      <td>2019-08-04</td>\n",
       "      <td>A</td>\n",
       "      <td>717</td>\n",
       "    </tr>\n",
       "    <tr>\n",
       "      <th>4</th>\n",
       "      <td>2019-08-05</td>\n",
       "      <td>A</td>\n",
       "      <td>756</td>\n",
       "    </tr>\n",
       "    <tr>\n",
       "      <th>5</th>\n",
       "      <td>2019-08-06</td>\n",
       "      <td>A</td>\n",
       "      <td>667</td>\n",
       "    </tr>\n",
       "    <tr>\n",
       "      <th>6</th>\n",
       "      <td>2019-08-07</td>\n",
       "      <td>A</td>\n",
       "      <td>644</td>\n",
       "    </tr>\n",
       "    <tr>\n",
       "      <th>7</th>\n",
       "      <td>2019-08-08</td>\n",
       "      <td>A</td>\n",
       "      <td>610</td>\n",
       "    </tr>\n",
       "    <tr>\n",
       "      <th>8</th>\n",
       "      <td>2019-08-09</td>\n",
       "      <td>A</td>\n",
       "      <td>617</td>\n",
       "    </tr>\n",
       "    <tr>\n",
       "      <th>9</th>\n",
       "      <td>2019-08-10</td>\n",
       "      <td>A</td>\n",
       "      <td>406</td>\n",
       "    </tr>\n",
       "  </tbody>\n",
       "</table>\n",
       "</div>"
      ],
      "text/plain": [
       "        date group  visitors\n",
       "0 2019-08-01     A       719\n",
       "1 2019-08-02     A       619\n",
       "2 2019-08-03     A       507\n",
       "3 2019-08-04     A       717\n",
       "4 2019-08-05     A       756\n",
       "5 2019-08-06     A       667\n",
       "6 2019-08-07     A       644\n",
       "7 2019-08-08     A       610\n",
       "8 2019-08-09     A       617\n",
       "9 2019-08-10     A       406"
      ]
     },
     "metadata": {},
     "output_type": "display_data"
    }
   ],
   "source": [
    "check_df(visitors)"
   ]
  },
  {
   "cell_type": "code",
   "execution_count": 16,
   "metadata": {},
   "outputs": [
    {
     "data": {
      "text/plain": [
       "0"
      ]
     },
     "metadata": {},
     "output_type": "display_data"
    }
   ],
   "source": [
    "display(visitors.duplicated().sum())"
   ]
  },
  {
   "cell_type": "code",
   "execution_count": 17,
   "metadata": {},
   "outputs": [
    {
     "data": {
      "text/plain": [
       "0"
      ]
     },
     "metadata": {},
     "output_type": "display_data"
    }
   ],
   "source": [
    "display(orders.duplicated().sum())"
   ]
  },
  {
   "cell_type": "code",
   "execution_count": 18,
   "metadata": {},
   "outputs": [
    {
     "data": {
      "text/plain": [
       "0"
      ]
     },
     "metadata": {},
     "output_type": "display_data"
    }
   ],
   "source": [
    "display(orders['transaction_id'].duplicated().sum())"
   ]
  },
  {
   "cell_type": "markdown",
   "metadata": {},
   "source": [
    "Дубликаты в данных не обнаружены. Можно переходить к построению графиков."
   ]
  },
  {
   "cell_type": "markdown",
   "metadata": {},
   "source": [
    "Подготовим данные для построения графиков кумулятивной выручки и среднего чека."
   ]
  },
  {
   "cell_type": "code",
   "execution_count": 19,
   "metadata": {
    "scrolled": false
   },
   "outputs": [
    {
     "name": "stdout",
     "output_type": "stream",
     "text": [
      "        date group  orders  buyers  revenue  visitors\n",
      "0 2019-08-01     A      24      20   148579       719\n",
      "1 2019-08-01     B      21      20   101217       713\n",
      "2 2019-08-02     A      44      38   242401      1338\n",
      "3 2019-08-02     B      45      43   266748      1294\n",
      "4 2019-08-03     A      68      62   354874      1845\n"
     ]
    }
   ],
   "source": [
    "# Подготовим данные для построения графиков\n",
    "\n",
    "datesGroups = orders[['date','group']].drop_duplicates()\n",
    "\n",
    "# получаем агрегированные кумулятивные по дням данные о заказах \n",
    "ordersAggregated = datesGroups.apply(lambda x: orders[np.logical_and(orders['date'] <= x['date'], orders['group'] == x['group'])].agg({'date' : 'max', 'group' : 'max', 'transaction_id' : 'nunique', 'visitor_id' : 'nunique', 'revenue' : 'sum'}), axis=1).sort_values(by=['date','group'])\n",
    "\n",
    "# получаем агрегированные кумулятивные по дням данные о посетителях интернет-магазина \n",
    "visitorsAggregated = datesGroups.apply(lambda x: visitors[np.logical_and(visitors['date'] <= x['date'], visitors['group'] == x['group'])].agg({'date' : 'max', 'group' : 'max', 'visitors' : 'sum'}), axis=1).sort_values(by=['date','group'])\n",
    "\n",
    "# объединяем кумулятивные данные в одной таблице и присваиваем ее столбцам понятные названия\n",
    "cumulativeData = ordersAggregated.merge(visitorsAggregated, left_on=['date', 'group'], right_on=['date', 'group'])\n",
    "cumulativeData.columns = ['date', 'group', 'orders', 'buyers', 'revenue', 'visitors']\n",
    "\n",
    "print(cumulativeData.head(5)) "
   ]
  },
  {
   "cell_type": "code",
   "execution_count": 20,
   "metadata": {},
   "outputs": [
    {
     "name": "stdout",
     "output_type": "stream",
     "text": [
      "Максимальная дата в исходном датафрейме: 2019-08-31 00:00:00\n",
      "Минимальная дата в исходном датафрейме: 2019-08-01 00:00:00\n",
      "Максимальная дата в созданном датафрейме: 2019-08-31 00:00:00\n",
      "Минимальная дата в созданном датафрейме: 2019-08-01 00:00:00\n"
     ]
    }
   ],
   "source": [
    "print('Максимальная дата в исходном датафрейме:', orders['date'].max())\n",
    "print('Минимальная дата в исходном датафрейме:', orders['date'].min())\n",
    "print('Максимальная дата в созданном датафрейме:', cumulativeData['date'].max())\n",
    "print('Минимальная дата в созданном датафрейме:', cumulativeData['date'].min())"
   ]
  },
  {
   "cell_type": "markdown",
   "metadata": {},
   "source": [
    "Даты совпадают, все отлично."
   ]
  },
  {
   "cell_type": "code",
   "execution_count": 21,
   "metadata": {},
   "outputs": [
    {
     "data": {
      "text/plain": [
       "<matplotlib.legend.Legend at 0x7f5719a78b50>"
      ]
     },
     "execution_count": 21,
     "metadata": {},
     "output_type": "execute_result"
    },
    {
     "data": {
      "image/png": "[encoded data removed]",
      "text/plain": [
       "<Figure size 864x648 with 1 Axes>"
      ]
     },
     "metadata": {
      "needs_background": "light"
     },
     "output_type": "display_data"
    }
   ],
   "source": [
    "# датафрейм с кумулятивным количеством заказов и кумулятивной выручкой по дням в группе А\n",
    "cumulativeRevenueA = cumulativeData[cumulativeData['group']=='A'][['date','revenue', 'orders']]\n",
    "\n",
    "# датафрейм с кумулятивным количеством заказов и кумулятивной выручкой по дням в группе B\n",
    "cumulativeRevenueB = cumulativeData[cumulativeData['group']=='B'][['date','revenue', 'orders']]\n",
    "\n",
    "plt.figure(figsize=(12,9))\n",
    "# Строим график выручки группы А\n",
    "plt.plot(cumulativeRevenueA['date'], cumulativeRevenueA['revenue'], label='A')\n",
    "\n",
    "# Строим график выручки группы B\n",
    "plt.plot(cumulativeRevenueB['date'], cumulativeRevenueB['revenue'], label='B')\n",
    "\n",
    "plt.title('График кумулятивной выручки по группам А и В')\n",
    "plt.xlabel('Дата')\n",
    "plt.ylabel('Выручка')\n",
    "plt.legend()\n"
   ]
  },
  {
   "cell_type": "markdown",
   "metadata": {},
   "source": [
    "По графику кумулятивной выручки группа В незначительно превосходит группу А, однако после 08.19 выручка группы B значительно выросла. Среди причин этого роста может быть значительное увеличение числа заказов пользователей в этот день или среднего чека, возможно, это результат действий отдела маркетинга, высокая скидка на дорогой товар привлекла пользователей, в следствие чего больше пользователей купили данный товар, или отдельные пользователи закупили товар в большом количестве, тем самым возрос средний чек."
   ]
  },
  {
   "cell_type": "code",
   "execution_count": 22,
   "metadata": {},
   "outputs": [
    {
     "data": {
      "text/plain": [
       "<matplotlib.legend.Legend at 0x7f57119bf280>"
      ]
     },
     "execution_count": 22,
     "metadata": {},
     "output_type": "execute_result"
    },
    {
     "data": {
      "image/png": "[encoded data removed]",
      "text/plain": [
       "<Figure size 864x648 with 1 Axes>"
      ]
     },
     "metadata": {
      "needs_background": "light"
     },
     "output_type": "display_data"
    }
   ],
   "source": [
    "# Построим графики кумулятивного среднего чека\n",
    "plt.figure(figsize=(12,9))\n",
    "plt.plot(cumulativeRevenueA['date'], cumulativeRevenueA['revenue']/cumulativeRevenueA['orders'], label='A')\n",
    "plt.plot(cumulativeRevenueB['date'], cumulativeRevenueB['revenue']/cumulativeRevenueB['orders'], label='B')\n",
    "plt.title('График кумулятивного среднего чека по группам А и В')\n",
    "plt.xlabel('Дата')\n",
    "plt.ylabel('Средний чек')\n",
    "plt.legend() "
   ]
  },
  {
   "cell_type": "markdown",
   "metadata": {},
   "source": [
    "По графику кумулятивного среднего чека можно заметить, что в некоторых днях присутствуют аномально большие значения. Так в группе A это 08.13, когда график достиг своего максимума, также у группы B 08.19, когда значение почти удвоилось."
   ]
  },
  {
   "cell_type": "code",
   "execution_count": 23,
   "metadata": {
    "scrolled": true
   },
   "outputs": [
    {
     "data": {
      "text/plain": [
       "<matplotlib.lines.Line2D at 0x7f571163e820>"
      ]
     },
     "execution_count": 23,
     "metadata": {},
     "output_type": "execute_result"
    },
    {
     "data": {
      "image/png": "[encoded data removed]",
      "text/plain": [
       "<Figure size 864x648 with 1 Axes>"
      ]
     },
     "metadata": {
      "needs_background": "light"
     },
     "output_type": "display_data"
    }
   ],
   "source": [
    "# собираем данные в одном датафрейме\n",
    "mergedCumulativeRevenue = cumulativeRevenueA.merge(cumulativeRevenueB, left_on='date', right_on='date', how='left', suffixes=['A', 'B'])\n",
    "\n",
    "plt.figure(figsize=(12,9))\n",
    "# cтроим отношение средних чеков\n",
    "plt.plot(mergedCumulativeRevenue['date'], (mergedCumulativeRevenue['revenueB']/mergedCumulativeRevenue['ordersB'])/(mergedCumulativeRevenue['revenueA']/mergedCumulativeRevenue['ordersA'])-1)\n",
    "\n",
    "plt.title('График относительного изменения кумулятивного среднего чека группы В к группе А')\n",
    "plt.xlabel('Дата')\n",
    "plt.ylabel('Различие в среднем чеке')\n",
    "plt.axhline(y=0, color='black', linestyle='--')"
   ]
  },
  {
   "cell_type": "markdown",
   "metadata": {},
   "source": [
    "По графику видно, что средний чек группы В на протяжении почти всего периода превышает значения группы А на 10 и более процентов. И лишь 08.13 средний чек группы В меньше, что, вероятно, связано с аномально большим значением в этот день у группы А, что подтверждается предыдущим графиком."
   ]
  },
  {
   "cell_type": "code",
   "execution_count": 24,
   "metadata": {
    "scrolled": false
   },
   "outputs": [
    {
     "data": {
      "text/plain": [
       "<matplotlib.legend.Legend at 0x7f57115bb220>"
      ]
     },
     "execution_count": 24,
     "metadata": {},
     "output_type": "execute_result"
    },
    {
     "data": {
      "image/png": "[encoded data removed]",
      "text/plain": [
       "<Figure size 864x648 with 1 Axes>"
      ]
     },
     "metadata": {
      "needs_background": "light"
     },
     "output_type": "display_data"
    }
   ],
   "source": [
    "# считаем среднее количество заказов на посетителя\n",
    "cumulativeData['conversion'] = cumulativeData['orders']/cumulativeData['visitors']\n",
    "\n",
    "# отделяем данные по группе A\n",
    "cumulativeDataA = cumulativeData[cumulativeData['group']=='A']\n",
    "\n",
    "# отделяем данные по группе B\n",
    "cumulativeDataB = cumulativeData[cumulativeData['group']=='B']\n",
    "\n",
    "# строим графики\n",
    "plt.figure(figsize=(12, 9))\n",
    "plt.plot(cumulativeDataA['date'], cumulativeDataA['conversion'], label='A')\n",
    "plt.plot(cumulativeDataB['date'], cumulativeDataB['conversion'], label='B')\n",
    "\n",
    "plt.title('График кумулятивного среднего количества заказов на посетителя по группам А и В')\n",
    "plt.xlabel('Дата')\n",
    "plt.ylabel('Среднее количество заказов на посетителя')\n",
    "plt.legend()\n",
    "\n"
   ]
  },
  {
   "cell_type": "markdown",
   "metadata": {},
   "source": [
    "Группа В также превосходит группу А по среднему количеству заказов на посетителя на большем отрезке примерно на 0.005 пунктов. В целом это подтверждает превосходство группы В над группой А."
   ]
  },
  {
   "cell_type": "code",
   "execution_count": 25,
   "metadata": {},
   "outputs": [
    {
     "data": {
      "text/plain": [
       "<matplotlib.legend.Legend at 0x7f5711522ee0>"
      ]
     },
     "execution_count": 25,
     "metadata": {},
     "output_type": "execute_result"
    },
    {
     "data": {
      "image/png": "[encoded data removed]",
      "text/plain": [
       "<Figure size 864x648 with 1 Axes>"
      ]
     },
     "metadata": {
      "needs_background": "light"
     },
     "output_type": "display_data"
    }
   ],
   "source": [
    "mergedCumulativeConversions = cumulativeDataA[['date','conversion']].merge(cumulativeDataB[['date','conversion']], left_on='date', right_on='date', how='left', suffixes=['A', 'B'])\n",
    "\n",
    "plt.figure(figsize=(12, 9))\n",
    "plt.plot(mergedCumulativeConversions['date'], mergedCumulativeConversions['conversionB']/mergedCumulativeConversions['conversionA']-1, label=\"Относительный прирост кумулятивного среднего количества заказов на посетителя группы B относительно группы A\")\n",
    "\n",
    "plt.axhline(y=0, color='black', linestyle='--')\n",
    "plt.axhline(y=0.2, color='grey', linestyle='--')# cтроим отношение средних чеков\n",
    "\n",
    "plt.title('График относительного изменения кумулятивного среднего количества заказов на посетителя группы В к группе А')\n",
    "plt.xlabel('Дата')\n",
    "plt.ylabel('Разница в среднем количестве заказов на посетителя')\n",
    "plt.legend()"
   ]
  },
  {
   "cell_type": "markdown",
   "metadata": {},
   "source": [
    "Данный график также показывает превосходство среднего количества заказов, относительный прирост среднего количества заказов в группе В колеблется от 10 до 20 процентов."
   ]
  },
  {
   "cell_type": "code",
   "execution_count": 26,
   "metadata": {
    "scrolled": false
   },
   "outputs": [
    {
     "data": {
      "text/plain": [
       "Text(0, 0.5, 'Количество заказов')"
      ]
     },
     "execution_count": 26,
     "metadata": {},
     "output_type": "execute_result"
    },
    {
     "data": {
      "image/png": "[encoded data removed]",
      "text/plain": [
       "<Figure size 432x288 with 1 Axes>"
      ]
     },
     "metadata": {
      "needs_background": "light"
     },
     "output_type": "display_data"
    }
   ],
   "source": [
    "ordersByUsers = (orders.groupby('visitor_id', as_index=False).agg({'transaction_id':'nunique'}))\n",
    "x_values = pd.Series(range(0, len(ordersByUsers)))\n",
    "plt.scatter(x_values, ordersByUsers['transaction_id'])\n",
    "plt.title('Точечный график количества заказов по пользователям')\n",
    "plt.ylabel('Количество заказов')"
   ]
  },
  {
   "cell_type": "markdown",
   "metadata": {},
   "source": [
    "Наибольшее количество пользователей делает один или два заказа, пользователи, которые делают больше двух заказов малочисленны.\n",
    "\n",
    "Посчитаем 90-й, 95-й и 99-й персентили, чтобы точно рассчитать показатели для определения данных как аномальных."
   ]
  },
  {
   "cell_type": "code",
   "execution_count": 27,
   "metadata": {},
   "outputs": [
    {
     "name": "stdout",
     "output_type": "stream",
     "text": [
      "[1. 2. 4.]\n"
     ]
    }
   ],
   "source": [
    "print(np.percentile(ordersByUsers['transaction_id'], [90, 95, 99])) "
   ]
  },
  {
   "cell_type": "markdown",
   "metadata": {},
   "source": [
    "Обозначим пользователей с количеством заказов более 4 как аномальных, таким образом мы отбросим 1% пользователей, не навредив точности данных."
   ]
  },
  {
   "cell_type": "code",
   "execution_count": 28,
   "metadata": {
    "scrolled": true
   },
   "outputs": [
    {
     "data": {
      "text/plain": [
       "Text(0, 0.5, 'Выручка')"
      ]
     },
     "execution_count": 28,
     "metadata": {},
     "output_type": "execute_result"
    },
    {
     "data": {
      "image/png": "[encoded data removed]",
      "text/plain": [
       "<Figure size 432x288 with 1 Axes>"
      ]
     },
     "metadata": {
      "needs_background": "light"
     },
     "output_type": "display_data"
    }
   ],
   "source": [
    "revenueByOrders = (orders.groupby('transaction_id', as_index=False).agg({'revenue': 'sum'}))\n",
    "x_values = pd.Series(range(0, len(revenueByOrders)))\n",
    "plt.scatter(x_values, revenueByOrders['revenue'])\n",
    "plt.title('Точечный график выручки по пользователям')\n",
    "plt.ylabel('Выручка')"
   ]
  },
  {
   "cell_type": "code",
   "execution_count": 29,
   "metadata": {
    "scrolled": false
   },
   "outputs": [
    {
     "data": {
      "text/plain": [
       "Text(0, 0.5, 'Выручка')"
      ]
     },
     "execution_count": 29,
     "metadata": {},
     "output_type": "execute_result"
    },
    {
     "data": {
      "image/png": "[encoded data removed]",
      "text/plain": [
       "<Figure size 432x288 with 1 Axes>"
      ]
     },
     "metadata": {
      "needs_background": "light"
     },
     "output_type": "display_data"
    }
   ],
   "source": [
    "revenueByOrders = (orders.groupby('transaction_id', as_index=False).agg({'revenue': 'sum'}))\n",
    "x_values = pd.Series(range(0, len(revenueByOrders)))\n",
    "plt.scatter(x_values, revenueByOrders['revenue'])\n",
    "plt.ylim(0, 60000)\n",
    "plt.title('Точечный график выручки по пользователям')\n",
    "plt.ylabel('Выручка')"
   ]
  },
  {
   "cell_type": "markdown",
   "metadata": {},
   "source": [
    "Ограничив график по значению выручки, можно заметить, что в большинстве случаев выручка с заказа составляет менее 20 000 рублей. Значения более 40 000 уже становятся единичными случаями. "
   ]
  },
  {
   "cell_type": "code",
   "execution_count": 30,
   "metadata": {},
   "outputs": [
    {
     "name": "stdout",
     "output_type": "stream",
     "text": [
      "[18168.  28000.  58233.2]\n"
     ]
    }
   ],
   "source": [
    "print(np.percentile(revenueByOrders['revenue'], [90, 95, 99]))"
   ]
  },
  {
   "cell_type": "markdown",
   "metadata": {},
   "source": [
    "Обозначим пользователей с выручкой более 58233,2 тысяч как аномальных, таким образом, отсечем от 1% пользователей."
   ]
  },
  {
   "cell_type": "code",
   "execution_count": 31,
   "metadata": {},
   "outputs": [
    {
     "name": "stdout",
     "output_type": "stream",
     "text": [
      "        date  ordersPerDateA  revenuePerDateA  ordersPerDateB  \\\n",
      "0 2019-08-01              24           148579              21   \n",
      "1 2019-08-02              20            93822              24   \n",
      "2 2019-08-03              24           112473              16   \n",
      "3 2019-08-04              16            70825              17   \n",
      "4 2019-08-05              25           124218              23   \n",
      "\n",
      "   revenuePerDateB  ordersCummulativeA  revenueCummulativeA  \\\n",
      "0           101217                  24               148579   \n",
      "1           165531                  44               242401   \n",
      "2           114248                  68               354874   \n",
      "3           108571                  84               425699   \n",
      "4            92428                 109               549917   \n",
      "\n",
      "   ordersCummulativeB  revenueCummulativeB  visitorsPerDateA  \\\n",
      "0                  21               101217               719   \n",
      "1                  45               266748               619   \n",
      "2                  61               380996               507   \n",
      "3                  78               489567               717   \n",
      "4                 101               581995               756   \n",
      "\n",
      "   visitorsPerDateB  visitorsCummulativeA  visitorsCummulativeB  \n",
      "0               713                   719                   713  \n",
      "1               581                  1338                  1294  \n",
      "2               509                  1845                  1803  \n",
      "3               770                  2562                  2573  \n",
      "4               707                  3318                  3280  \n"
     ]
    }
   ],
   "source": [
    "visitorsADaily = visitors[visitors['group'] == 'A'][['date', 'visitors']]\n",
    "visitorsADaily.columns = ['date', 'visitorsPerDateA']\n",
    "\n",
    "visitorsACummulative = visitorsADaily.apply(\n",
    "    lambda x: visitorsADaily[visitorsADaily['date'] <= x['date']].agg(\n",
    "        {'date': 'max', 'visitorsPerDateA': 'sum'}\n",
    "    ),\n",
    "    axis=1,\n",
    ")\n",
    "visitorsACummulative.columns = ['date', 'visitorsCummulativeA']\n",
    "\n",
    "visitorsBDaily = visitors[visitors['group'] == 'B'][['date', 'visitors']]\n",
    "visitorsBDaily.columns = ['date', 'visitorsPerDateB']\n",
    "\n",
    "visitorsBCummulative = visitorsBDaily.apply(\n",
    "    lambda x: visitorsBDaily[visitorsBDaily['date'] <= x['date']].agg(\n",
    "        {'date': 'max', 'visitorsPerDateB': 'sum'}\n",
    "    ),\n",
    "    axis=1,\n",
    ")\n",
    "visitorsBCummulative.columns = ['date', 'visitorsCummulativeB']\n",
    "\n",
    "ordersADaily = (\n",
    "    orders[orders['group'] == 'A'][['date', 'transaction_id', 'visitor_id', 'revenue']]\n",
    "    .groupby('date', as_index=False)\n",
    "    .agg({'transaction_id': pd.Series.nunique, 'revenue': 'sum'})\n",
    ")\n",
    "ordersADaily.columns = ['date', 'ordersPerDateA', 'revenuePerDateA']\n",
    "\n",
    "ordersACummulative = ordersADaily.apply(\n",
    "    lambda x: ordersADaily[ordersADaily['date'] <= x['date']].agg(\n",
    "        {'date': 'max', 'ordersPerDateA': 'sum', 'revenuePerDateA': 'sum'}\n",
    "    ),\n",
    "    axis=1,\n",
    ").sort_values(by=['date'])\n",
    "ordersACummulative.columns = [\n",
    "    'date',\n",
    "    'ordersCummulativeA',\n",
    "    'revenueCummulativeA',\n",
    "]\n",
    "\n",
    "ordersBDaily = (\n",
    "    orders[orders['group'] == 'B'][['date', 'transaction_id', 'visitor_id', 'revenue']]\n",
    "    .groupby('date', as_index=False)\n",
    "    .agg({'transaction_id': pd.Series.nunique, 'revenue': 'sum'})\n",
    ")\n",
    "ordersBDaily.columns = ['date', 'ordersPerDateB', 'revenuePerDateB']\n",
    "\n",
    "ordersBCummulative = ordersBDaily.apply(\n",
    "    lambda x: ordersBDaily[ordersBDaily['date'] <= x['date']].agg(\n",
    "        {'date': 'max', 'ordersPerDateB': 'sum', 'revenuePerDateB': 'sum'}\n",
    "    ),\n",
    "    axis=1,\n",
    ").sort_values(by=['date'])\n",
    "ordersBCummulative.columns = [\n",
    "    'date',\n",
    "    'ordersCummulativeB',\n",
    "    'revenueCummulativeB',\n",
    "]\n",
    "\n",
    "data = (\n",
    "    ordersADaily.merge(\n",
    "        ordersBDaily, left_on='date', right_on='date', how='left'\n",
    "    )\n",
    "    .merge(ordersACummulative, left_on='date', right_on='date', how='left')\n",
    "    .merge(ordersBCummulative, left_on='date', right_on='date', how='left')\n",
    "    .merge(visitorsADaily, left_on='date', right_on='date', how='left')\n",
    "    .merge(visitorsBDaily, left_on='date', right_on='date', how='left')\n",
    "    .merge(visitorsACummulative, left_on='date', right_on='date', how='left')\n",
    "    .merge(visitorsBCummulative, left_on='date', right_on='date', how='left')\n",
    ")\n",
    "\n",
    "print(data.head(5))\n",
    "\n",
    "ordersByUsersA = (\n",
    "    orders[orders['group'] == 'A']\n",
    "    .groupby('visitor_id', as_index=False)\n",
    "    .agg({'transaction_id': pd.Series.nunique})\n",
    ")\n",
    "ordersByUsersA.columns = ['visitor_id', 'orders']\n",
    "\n",
    "ordersByUsersB = (\n",
    "    orders[orders['group'] == 'B']\n",
    "    .groupby('visitor_id', as_index=False)\n",
    "    .agg({'transaction_id': pd.Series.nunique})\n",
    ")\n",
    "ordersByUsersB.columns = ['visitor_id', 'orders']\n"
   ]
  },
  {
   "cell_type": "markdown",
   "metadata": {},
   "source": [
    "Для проверки двух гипотез обозначим:\n",
    "1. Совершают ли пользователи группы В больше заказов, чем пользователи группы А?\n",
    "    1. Н0 - среднее количество заказов на пользователя группы B равно среднему количеству заказов на пользователя группы А;\n",
    "    2. Н1 - среднее количество заказов на пользователя группы В не равно среднему количеству заказов на пользователя группы А;\n",
    "2. Совершают ли пользователи группы В заказы на большую сумму, чем пользователи группы А?\n",
    "    1. Н0 - средний чек пользователя группы В равен среднему чеку пользователя группы А;\n",
    "    2. Н1 - средний чек пользователя группы В не равен среднему чеку пользователя группы А;"
   ]
  },
  {
   "cell_type": "code",
   "execution_count": 32,
   "metadata": {},
   "outputs": [
    {
     "name": "stdout",
     "output_type": "stream",
     "text": [
      "P-value: 0.01679\n",
      "Относительный выигрыш группы В над группой А: 0.138\n"
     ]
    }
   ],
   "source": [
    "sampleA = pd.concat([ordersByUsersA['orders'],pd.Series(0, index=np.arange(data['visitorsPerDateA'].sum() - len(ordersByUsersA['orders'])), name='orders')],axis=0)\n",
    "\n",
    "sampleB = pd.concat([ordersByUsersB['orders'],pd.Series(0, index=np.arange(data['visitorsPerDateB'].sum() - len(ordersByUsersB['orders'])), name='orders')],axis=0)\n",
    "\n",
    "print('P-value:',\"{0:.5f}\".format(st.mannwhitneyu(sampleA, sampleB)[1]))\n",
    "\n",
    "print('Относительный выигрыш группы В над группой А:',\"{0:.3f}\".format(sampleB.mean() / sampleA.mean() - 1))"
   ]
  },
  {
   "cell_type": "markdown",
   "metadata": {},
   "source": [
    "Анализ необработанных данных по количеству заказов на пользователя показывает, что мы можем отвергнуть нулевую гипотезу о равенстве количества заказов для двух групп. Также относительный выигрыш группы В над группой А составляет 13,8%.\n",
    "\n",
    "Проверим гипотезу об отсутствии различия в среднем чеке между двумя группами."
   ]
  },
  {
   "cell_type": "code",
   "execution_count": 33,
   "metadata": {},
   "outputs": [
    {
     "name": "stdout",
     "output_type": "stream",
     "text": [
      "P-value: 0.729\n",
      "Относительный выигрыш группы В над группой А: 0.259\n"
     ]
    }
   ],
   "source": [
    "print('P-value:','{0:.3f}'.format(st.mannwhitneyu(orders[orders['group']=='A']['revenue'], orders[orders['group']=='B']['revenue'])[1]))\n",
    "print('Относительный выигрыш группы В над группой А:','{0:.3f}'.format(orders[orders['group']=='B']['revenue'].mean()/orders[orders['group']=='A']['revenue'].mean()-1))"
   ]
  },
  {
   "cell_type": "markdown",
   "metadata": {},
   "source": [
    "Уровень p-value превышает 0.05, это значит, что мы не можем отвергнуть нулевую гипотезу об отсутствии статистически значимых различий в среднем чеке между группами, но до обработки выбросов относительный выигрыш в среднем чеке группы В над группой А составляет 25%.\n",
    "\n",
    "Произведем обработку данных, удалим пользователей, признанных нами ранее аномальными."
   ]
  },
  {
   "cell_type": "code",
   "execution_count": 34,
   "metadata": {},
   "outputs": [
    {
     "name": "stdout",
     "output_type": "stream",
     "text": [
      "1099     148427295\n",
      "949      887908475\n",
      "744      888512513\n",
      "1103    1164614297\n",
      "1136    1307669133\n",
      "Name: visitor_id, dtype: int64\n",
      "15\n"
     ]
    }
   ],
   "source": [
    "# Очистим данные от выбросов\n",
    "\n",
    "usersWithManyOrders = pd.concat(\n",
    "    [\n",
    "        ordersByUsersA[ordersByUsersA['orders'] > np.percentile(ordersByUsers['transaction_id'], 99)]['visitor_id'],\n",
    "        ordersByUsersB[ordersByUsersB['orders'] > np.percentile(ordersByUsers['transaction_id'], 99)]['visitor_id'],\n",
    "    ],\n",
    "    axis=0,\n",
    ")\n",
    "usersWithExpensiveOrders = orders[orders['revenue'] > np.percentile(revenueByOrders['revenue'], 99)]['visitor_id']\n",
    "abnormalUsers = (\n",
    "    pd.concat([usersWithManyOrders, usersWithExpensiveOrders], axis=0)\n",
    "    .drop_duplicates()\n",
    "    .sort_values()\n",
    ")\n",
    "print(abnormalUsers.head(5))\n",
    "print(abnormalUsers.shape[0])"
   ]
  },
  {
   "cell_type": "code",
   "execution_count": 35,
   "metadata": {},
   "outputs": [],
   "source": [
    "sampleAFiltered = pd.concat(\n",
    "    [\n",
    "        ordersByUsersA[\n",
    "            np.logical_not(ordersByUsersA['visitor_id'].isin(abnormalUsers))\n",
    "        ]['orders'],\n",
    "        pd.Series(\n",
    "            0,\n",
    "            index=np.arange(\n",
    "                data['visitorsPerDateA'].sum() - len(ordersByUsersA['orders'])\n",
    "            ),\n",
    "            name='orders',\n",
    "        ),\n",
    "    ],\n",
    "    axis=0,\n",
    ")\n",
    "\n",
    "sampleBFiltered = pd.concat(\n",
    "    [\n",
    "        ordersByUsersB[\n",
    "            np.logical_not(ordersByUsersB['visitor_id'].isin(abnormalUsers))\n",
    "        ]['orders'],\n",
    "        pd.Series(\n",
    "            0,\n",
    "            index=np.arange(\n",
    "                data['visitorsPerDateB'].sum() - len(ordersByUsersB['orders'])\n",
    "            ),\n",
    "            name='orders',\n",
    "        ),\n",
    "    ],\n",
    "    axis=0,\n",
    ")"
   ]
  },
  {
   "cell_type": "markdown",
   "metadata": {},
   "source": [
    "Вновь посчитаем статистическую значимость различий в среднем количестве заказов и среднем чеке.\n",
    "\n",
    "Напомним гипотезы:\n",
    "1. Совершают ли пользователи группы В больше заказов, чем пользователи группы А?\n",
    "    1. Н0 - среднее количество заказов на пользователя группы B равно среднему количеству заказов на пользователя группы А;\n",
    "    2. Н1 - среднее количество заказов на пользователя группы В не равно среднему количеству заказов на пользователя группы А;\n",
    "2. Совершают ли пользователи группы В заказы на большую сумму, чем пользователи группы А?\n",
    "    1. Н0 - средний чек пользователя группы В равен среднему чеку пользователя группы А;\n",
    "    2. Н1 - средний чек пользователя группы В не равен среднему чеку пользователя группы А;"
   ]
  },
  {
   "cell_type": "code",
   "execution_count": 36,
   "metadata": {
    "scrolled": true
   },
   "outputs": [
    {
     "name": "stdout",
     "output_type": "stream",
     "text": [
      "P-value: 0.014\n",
      "Относительный выигрыш группы В над группой А: 0.153\n"
     ]
    }
   ],
   "source": [
    "print('P-value:','{0:.3f}'.format(st.mannwhitneyu(sampleAFiltered, sampleBFiltered)[1]))\n",
    "print('Относительный выигрыш группы В над группой А:','{0:.3f}'.format(sampleBFiltered.mean()/sampleAFiltered.mean()-1))"
   ]
  },
  {
   "cell_type": "markdown",
   "metadata": {},
   "source": [
    "Значение p-value уменьшилось на 0.003, результат все еще позволяет отвергнуть нулевую гипотезу об отсутствии различий в среднем количестве заказов. Относительное превосходство группы B над группой A составляет 15,3%, результаты на сырых данных показали 13,8%.\n"
   ]
  },
  {
   "cell_type": "code",
   "execution_count": 37,
   "metadata": {},
   "outputs": [
    {
     "name": "stdout",
     "output_type": "stream",
     "text": [
      "P-value:0.851\n",
      "Относительный выигрыш группы В над группой А: -0.006\n"
     ]
    }
   ],
   "source": [
    "print(\n",
    "    'P-value:'\n",
    "    '{0:.3f}'.format(\n",
    "        st.mannwhitneyu(\n",
    "            orders[\n",
    "                np.logical_and(\n",
    "                    orders['group'] == 'A',\n",
    "                    np.logical_not(orders['visitor_id'].isin(abnormalUsers)),\n",
    "                )\n",
    "            ]['revenue'],\n",
    "            orders[\n",
    "                np.logical_and(\n",
    "                    orders['group'] == 'B',\n",
    "                    np.logical_not(orders['visitor_id'].isin(abnormalUsers)),\n",
    "                )\n",
    "            ]['revenue'],\n",
    "        )[1]\n",
    "    )\n",
    ")\n",
    "\n",
    "print(\n",
    "    'Относительный выигрыш группы В над группой А:',\n",
    "    \"{0:.3f}\".format(\n",
    "        orders[\n",
    "            np.logical_and(\n",
    "                orders['group'] == 'B',\n",
    "                np.logical_not(orders['visitor_id'].isin(abnormalUsers)),\n",
    "            )\n",
    "        ]['revenue'].mean()\n",
    "        / orders[\n",
    "            np.logical_and(\n",
    "                orders['group'] == 'A',\n",
    "                np.logical_not(orders['visitor_id'].isin(abnormalUsers)),\n",
    "            )\n",
    "        ]['revenue'].mean()\n",
    "        - 1\n",
    "    )\n",
    ")"
   ]
  },
  {
   "cell_type": "markdown",
   "metadata": {},
   "source": [
    "Анализ очищенных данных по различию средних чеков двух групп показывает значительное изменение, значение p-value также больше 0.05, что не позволяет нам отвергнуть нулевую гипотезу, зато превосходство группы B над группой А в 25% после очистки данных от выбросов превратилось в отставание группы B от группы А на 0,6%."
   ]
  },
  {
   "cell_type": "markdown",
   "metadata": {},
   "source": [
    "**Выводы по А/В-тесту:**\n",
    "\n",
    "**После проведенного анализа результатов А/В-теста делается вывод о том, что А/В-тест нужно остановить и признать победу группы В.**\n",
    "\n",
    "Статистически значимых различий в среднем чеке двух групп после очистки данных от выбросов обнаружено не было, основой решения становится преимущество группы В над группой А по среднему количеству заказов на пользователя, результаты показали, что нулевая гипотеза отвергается, а относительный выигрыш группы В над группой А составляет 15,3%, что позволяет говорить о значимом превосходстве. Построенные ранее графики и выводы по ним подтверждают целесообразность данного решения."
   ]
  }
 ],
 "metadata": {
  "ExecuteTimeLog": [
   {
    "duration": 1251,
    "start_time": "2024-12-22T11:04:04.655Z"
   },
   {
    "duration": 4,
    "start_time": "2024-12-22T11:07:15.595Z"
   },
   {
    "duration": 199,
    "start_time": "2024-12-22T11:07:20.812Z"
   },
   {
    "duration": 77,
    "start_time": "2024-12-22T11:07:29.978Z"
   },
   {
    "duration": 23,
    "start_time": "2024-12-22T11:08:51.247Z"
   },
   {
    "duration": 3,
    "start_time": "2024-12-22T11:09:08.517Z"
   },
   {
    "duration": 15,
    "start_time": "2024-12-22T11:09:11.224Z"
   },
   {
    "duration": 2,
    "start_time": "2024-12-22T11:14:46.945Z"
   },
   {
    "duration": 17,
    "start_time": "2024-12-22T11:14:52.488Z"
   },
   {
    "duration": 6,
    "start_time": "2024-12-22T11:15:50.781Z"
   },
   {
    "duration": 6,
    "start_time": "2024-12-22T11:16:14.364Z"
   },
   {
    "duration": 4,
    "start_time": "2024-12-22T11:16:38.212Z"
   },
   {
    "duration": 7,
    "start_time": "2024-12-22T11:16:51.824Z"
   },
   {
    "duration": 4,
    "start_time": "2024-12-22T11:17:19.931Z"
   },
   {
    "duration": 6,
    "start_time": "2024-12-22T11:18:15.389Z"
   },
   {
    "duration": 6,
    "start_time": "2024-12-22T11:18:23.699Z"
   },
   {
    "duration": 9,
    "start_time": "2024-12-22T11:27:21.426Z"
   },
   {
    "duration": 86,
    "start_time": "2024-12-22T12:41:24.775Z"
   },
   {
    "duration": 66,
    "start_time": "2024-12-22T12:41:46.752Z"
   },
   {
    "duration": 16,
    "start_time": "2024-12-22T12:41:54.233Z"
   },
   {
    "duration": 21,
    "start_time": "2024-12-22T12:42:17.930Z"
   },
   {
    "duration": 2,
    "start_time": "2024-12-22T12:51:36.219Z"
   },
   {
    "duration": 241,
    "start_time": "2024-12-22T12:54:20.882Z"
   },
   {
    "duration": 221,
    "start_time": "2024-12-22T12:54:47.960Z"
   },
   {
    "duration": 1052,
    "start_time": "2024-12-22T12:55:08.473Z"
   },
   {
    "duration": 4,
    "start_time": "2024-12-22T12:55:09.526Z"
   },
   {
    "duration": 68,
    "start_time": "2024-12-22T12:55:09.531Z"
   },
   {
    "duration": 21,
    "start_time": "2024-12-22T12:55:09.600Z"
   },
   {
    "duration": 11,
    "start_time": "2024-12-22T12:55:09.623Z"
   },
   {
    "duration": 4,
    "start_time": "2024-12-22T12:55:09.636Z"
   },
   {
    "duration": 6,
    "start_time": "2024-12-22T12:55:09.642Z"
   },
   {
    "duration": 12,
    "start_time": "2024-12-22T12:55:09.649Z"
   },
   {
    "duration": 35,
    "start_time": "2024-12-22T12:55:09.662Z"
   },
   {
    "duration": 14,
    "start_time": "2024-12-22T12:55:09.699Z"
   },
   {
    "duration": 16,
    "start_time": "2024-12-22T12:55:09.714Z"
   },
   {
    "duration": 14,
    "start_time": "2024-12-22T12:55:09.731Z"
   },
   {
    "duration": 13,
    "start_time": "2024-12-22T12:55:09.747Z"
   },
   {
    "duration": 17,
    "start_time": "2024-12-22T12:55:20.717Z"
   },
   {
    "duration": 15,
    "start_time": "2024-12-22T12:55:33.688Z"
   },
   {
    "duration": 144,
    "start_time": "2024-12-22T13:23:39.357Z"
   },
   {
    "duration": 260,
    "start_time": "2024-12-22T13:24:03.014Z"
   },
   {
    "duration": 263,
    "start_time": "2024-12-22T13:24:28.906Z"
   },
   {
    "duration": 240,
    "start_time": "2024-12-22T13:25:30.649Z"
   },
   {
    "duration": 164,
    "start_time": "2024-12-22T13:28:17.262Z"
   },
   {
    "duration": 299,
    "start_time": "2024-12-22T13:28:34.778Z"
   },
   {
    "duration": 231,
    "start_time": "2024-12-22T13:28:51.555Z"
   },
   {
    "duration": 198,
    "start_time": "2024-12-22T13:29:00.390Z"
   },
   {
    "duration": 189,
    "start_time": "2024-12-22T13:31:21.155Z"
   },
   {
    "duration": 306,
    "start_time": "2024-12-22T13:47:39.585Z"
   },
   {
    "duration": 1189,
    "start_time": "2024-12-22T17:06:44.074Z"
   },
   {
    "duration": 3,
    "start_time": "2024-12-22T17:06:45.266Z"
   },
   {
    "duration": 194,
    "start_time": "2024-12-22T17:06:45.271Z"
   },
   {
    "duration": 23,
    "start_time": "2024-12-22T17:06:45.467Z"
   },
   {
    "duration": 59,
    "start_time": "2024-12-22T17:06:45.493Z"
   },
   {
    "duration": 18,
    "start_time": "2024-12-22T17:06:45.554Z"
   },
   {
    "duration": 9,
    "start_time": "2024-12-22T17:06:45.573Z"
   },
   {
    "duration": 37,
    "start_time": "2024-12-22T17:06:45.584Z"
   },
   {
    "duration": 101,
    "start_time": "2024-12-22T17:06:45.623Z"
   },
   {
    "duration": 72,
    "start_time": "2024-12-22T17:06:45.726Z"
   },
   {
    "duration": 18,
    "start_time": "2024-12-22T17:06:45.799Z"
   },
   {
    "duration": 16,
    "start_time": "2024-12-22T17:06:45.818Z"
   },
   {
    "duration": 15,
    "start_time": "2024-12-22T17:06:45.835Z"
   },
   {
    "duration": 20,
    "start_time": "2024-12-22T17:06:45.853Z"
   },
   {
    "duration": 18,
    "start_time": "2024-12-22T17:06:45.874Z"
   },
   {
    "duration": 310,
    "start_time": "2024-12-22T17:06:45.893Z"
   },
   {
    "duration": 303,
    "start_time": "2024-12-22T17:06:46.205Z"
   },
   {
    "duration": 219,
    "start_time": "2024-12-22T17:06:46.510Z"
   },
   {
    "duration": 363,
    "start_time": "2024-12-22T17:06:46.731Z"
   },
   {
    "duration": 305,
    "start_time": "2024-12-22T17:06:47.096Z"
   },
   {
    "duration": 116,
    "start_time": "2024-12-22T17:13:14.175Z"
   },
   {
    "duration": 3,
    "start_time": "2024-12-22T17:13:17.381Z"
   },
   {
    "duration": 3,
    "start_time": "2024-12-22T17:13:24.306Z"
   },
   {
    "duration": 4,
    "start_time": "2024-12-22T17:14:28.136Z"
   },
   {
    "duration": 197,
    "start_time": "2024-12-22T17:15:13.605Z"
   },
   {
    "duration": 218,
    "start_time": "2024-12-22T18:24:06.775Z"
   },
   {
    "duration": 203,
    "start_time": "2024-12-22T18:24:36.745Z"
   },
   {
    "duration": 5,
    "start_time": "2024-12-22T18:28:42.115Z"
   },
   {
    "duration": 5,
    "start_time": "2024-12-22T18:28:59.372Z"
   },
   {
    "duration": 210,
    "start_time": "2024-12-22T18:29:05.127Z"
   },
   {
    "duration": 220,
    "start_time": "2024-12-22T18:30:45.234Z"
   },
   {
    "duration": 273,
    "start_time": "2024-12-22T18:31:09.017Z"
   },
   {
    "duration": 170,
    "start_time": "2024-12-22T18:33:02.988Z"
   },
   {
    "duration": 1025,
    "start_time": "2024-12-22T18:33:24.976Z"
   },
   {
    "duration": 3,
    "start_time": "2024-12-22T18:33:26.003Z"
   },
   {
    "duration": 95,
    "start_time": "2024-12-22T18:33:26.008Z"
   },
   {
    "duration": 20,
    "start_time": "2024-12-22T18:33:26.105Z"
   },
   {
    "duration": 3,
    "start_time": "2024-12-22T18:33:26.127Z"
   },
   {
    "duration": 6,
    "start_time": "2024-12-22T18:33:26.131Z"
   },
   {
    "duration": 7,
    "start_time": "2024-12-22T18:33:26.138Z"
   },
   {
    "duration": 32,
    "start_time": "2024-12-22T18:33:26.147Z"
   },
   {
    "duration": 40,
    "start_time": "2024-12-22T18:33:26.180Z"
   },
   {
    "duration": 15,
    "start_time": "2024-12-22T18:33:26.222Z"
   },
   {
    "duration": 15,
    "start_time": "2024-12-22T18:33:26.239Z"
   },
   {
    "duration": 15,
    "start_time": "2024-12-22T18:33:26.256Z"
   },
   {
    "duration": 13,
    "start_time": "2024-12-22T18:33:26.272Z"
   },
   {
    "duration": 16,
    "start_time": "2024-12-22T18:33:26.288Z"
   },
   {
    "duration": 16,
    "start_time": "2024-12-22T18:33:26.338Z"
   },
   {
    "duration": 296,
    "start_time": "2024-12-22T18:33:26.355Z"
   },
   {
    "duration": 316,
    "start_time": "2024-12-22T18:33:26.653Z"
   },
   {
    "duration": 212,
    "start_time": "2024-12-22T18:33:26.970Z"
   },
   {
    "duration": 283,
    "start_time": "2024-12-22T18:33:27.184Z"
   },
   {
    "duration": 5,
    "start_time": "2024-12-22T18:33:27.468Z"
   },
   {
    "duration": 189,
    "start_time": "2024-12-22T18:33:27.475Z"
   },
   {
    "duration": 264,
    "start_time": "2024-12-22T18:33:27.665Z"
   },
   {
    "duration": 299,
    "start_time": "2024-12-22T18:34:00.316Z"
   },
   {
    "duration": 211,
    "start_time": "2024-12-22T18:42:56.631Z"
   },
   {
    "duration": 230,
    "start_time": "2024-12-22T18:43:16.079Z"
   },
   {
    "duration": 275,
    "start_time": "2024-12-22T18:43:34.481Z"
   },
   {
    "duration": 9,
    "start_time": "2024-12-22T18:55:46.299Z"
   },
   {
    "duration": 1315,
    "start_time": "2024-12-22T18:56:23.508Z"
   },
   {
    "duration": 179,
    "start_time": "2024-12-22T19:01:49.093Z"
   },
   {
    "duration": 1664,
    "start_time": "2024-12-22T19:02:06.708Z"
   },
   {
    "duration": 117,
    "start_time": "2024-12-22T19:02:19.424Z"
   },
   {
    "duration": 4,
    "start_time": "2024-12-22T19:09:55.182Z"
   },
   {
    "duration": 111,
    "start_time": "2024-12-22T19:15:46.056Z"
   },
   {
    "duration": 116,
    "start_time": "2024-12-22T19:15:54.328Z"
   },
   {
    "duration": 129,
    "start_time": "2024-12-22T19:16:18.899Z"
   },
   {
    "duration": 5,
    "start_time": "2024-12-22T19:19:56.969Z"
   },
   {
    "duration": 1257,
    "start_time": "2024-12-23T16:51:46.032Z"
   },
   {
    "duration": 3,
    "start_time": "2024-12-23T16:51:47.291Z"
   },
   {
    "duration": 156,
    "start_time": "2024-12-23T16:51:47.295Z"
   },
   {
    "duration": 22,
    "start_time": "2024-12-23T16:51:47.453Z"
   },
   {
    "duration": 4,
    "start_time": "2024-12-23T16:51:47.476Z"
   },
   {
    "duration": 20,
    "start_time": "2024-12-23T16:51:47.482Z"
   },
   {
    "duration": 26,
    "start_time": "2024-12-23T16:51:47.503Z"
   },
   {
    "duration": 46,
    "start_time": "2024-12-23T16:51:47.531Z"
   },
   {
    "duration": 102,
    "start_time": "2024-12-23T16:51:47.579Z"
   },
   {
    "duration": 68,
    "start_time": "2024-12-23T16:51:47.684Z"
   },
   {
    "duration": 18,
    "start_time": "2024-12-23T16:51:47.754Z"
   },
   {
    "duration": 16,
    "start_time": "2024-12-23T16:51:47.773Z"
   },
   {
    "duration": 14,
    "start_time": "2024-12-23T16:51:47.791Z"
   },
   {
    "duration": 30,
    "start_time": "2024-12-23T16:51:47.806Z"
   },
   {
    "duration": 23,
    "start_time": "2024-12-23T16:51:47.838Z"
   },
   {
    "duration": 367,
    "start_time": "2024-12-23T16:51:47.863Z"
   },
   {
    "duration": 299,
    "start_time": "2024-12-23T16:51:48.232Z"
   },
   {
    "duration": 220,
    "start_time": "2024-12-23T16:51:48.533Z"
   },
   {
    "duration": 341,
    "start_time": "2024-12-23T16:51:48.754Z"
   },
   {
    "duration": 4,
    "start_time": "2024-12-23T16:51:49.096Z"
   },
   {
    "duration": 231,
    "start_time": "2024-12-23T16:51:49.102Z"
   },
   {
    "duration": 325,
    "start_time": "2024-12-23T16:51:49.335Z"
   },
   {
    "duration": 120,
    "start_time": "2024-12-23T16:51:49.661Z"
   },
   {
    "duration": 4,
    "start_time": "2024-12-23T16:51:49.783Z"
   },
   {
    "duration": 148,
    "start_time": "2024-12-23T16:51:49.788Z"
   },
   {
    "duration": 4,
    "start_time": "2024-12-23T16:51:49.938Z"
   },
   {
    "duration": 223,
    "start_time": "2024-12-23T16:51:49.944Z"
   },
   {
    "duration": 1261,
    "start_time": "2024-12-23T20:08:00.249Z"
   },
   {
    "duration": 3,
    "start_time": "2024-12-23T20:08:01.512Z"
   },
   {
    "duration": 169,
    "start_time": "2024-12-23T20:08:01.516Z"
   },
   {
    "duration": 21,
    "start_time": "2024-12-23T20:08:01.688Z"
   },
   {
    "duration": 60,
    "start_time": "2024-12-23T20:08:01.710Z"
   },
   {
    "duration": 6,
    "start_time": "2024-12-23T20:08:01.772Z"
   },
   {
    "duration": 7,
    "start_time": "2024-12-23T20:08:01.780Z"
   },
   {
    "duration": 38,
    "start_time": "2024-12-23T20:08:01.788Z"
   },
   {
    "duration": 118,
    "start_time": "2024-12-23T20:08:01.828Z"
   },
   {
    "duration": 71,
    "start_time": "2024-12-23T20:08:01.949Z"
   },
   {
    "duration": 38,
    "start_time": "2024-12-23T20:08:02.022Z"
   },
   {
    "duration": 19,
    "start_time": "2024-12-23T20:08:02.062Z"
   },
   {
    "duration": 14,
    "start_time": "2024-12-23T20:08:02.083Z"
   },
   {
    "duration": 25,
    "start_time": "2024-12-23T20:08:02.099Z"
   },
   {
    "duration": 56,
    "start_time": "2024-12-23T20:08:02.126Z"
   },
   {
    "duration": 321,
    "start_time": "2024-12-23T20:08:02.183Z"
   },
   {
    "duration": 317,
    "start_time": "2024-12-23T20:08:02.506Z"
   },
   {
    "duration": 227,
    "start_time": "2024-12-23T20:08:02.824Z"
   },
   {
    "duration": 378,
    "start_time": "2024-12-23T20:08:03.053Z"
   },
   {
    "duration": 5,
    "start_time": "2024-12-23T20:08:03.433Z"
   },
   {
    "duration": 250,
    "start_time": "2024-12-23T20:08:03.439Z"
   },
   {
    "duration": 311,
    "start_time": "2024-12-23T20:08:03.691Z"
   },
   {
    "duration": 133,
    "start_time": "2024-12-23T20:08:04.004Z"
   },
   {
    "duration": 5,
    "start_time": "2024-12-23T20:08:04.139Z"
   },
   {
    "duration": 153,
    "start_time": "2024-12-23T20:08:04.146Z"
   },
   {
    "duration": 5,
    "start_time": "2024-12-23T20:08:04.301Z"
   },
   {
    "duration": 231,
    "start_time": "2024-12-23T20:08:04.307Z"
   },
   {
    "duration": 360,
    "start_time": "2024-12-23T20:09:15.069Z"
   },
   {
    "duration": 382,
    "start_time": "2024-12-23T20:09:32.636Z"
   },
   {
    "duration": 392,
    "start_time": "2024-12-23T20:10:04.041Z"
   },
   {
    "duration": 30,
    "start_time": "2024-12-23T20:10:08.336Z"
   },
   {
    "duration": 10,
    "start_time": "2024-12-23T20:27:54.924Z"
   },
   {
    "duration": 12,
    "start_time": "2024-12-23T20:28:00.426Z"
   },
   {
    "duration": 1119,
    "start_time": "2024-12-24T08:24:54.388Z"
   },
   {
    "duration": 3,
    "start_time": "2024-12-24T08:24:55.509Z"
   },
   {
    "duration": 138,
    "start_time": "2024-12-24T08:24:55.515Z"
   },
   {
    "duration": 19,
    "start_time": "2024-12-24T08:24:55.654Z"
   },
   {
    "duration": 21,
    "start_time": "2024-12-24T08:24:55.674Z"
   },
   {
    "duration": 24,
    "start_time": "2024-12-24T08:24:55.696Z"
   },
   {
    "duration": 11,
    "start_time": "2024-12-24T08:24:55.721Z"
   },
   {
    "duration": 35,
    "start_time": "2024-12-24T08:24:55.734Z"
   },
   {
    "duration": 101,
    "start_time": "2024-12-24T08:24:55.771Z"
   },
   {
    "duration": 57,
    "start_time": "2024-12-24T08:24:55.873Z"
   },
   {
    "duration": 14,
    "start_time": "2024-12-24T08:24:55.932Z"
   },
   {
    "duration": 23,
    "start_time": "2024-12-24T08:24:55.948Z"
   },
   {
    "duration": 12,
    "start_time": "2024-12-24T08:24:55.973Z"
   },
   {
    "duration": 19,
    "start_time": "2024-12-24T08:24:55.986Z"
   },
   {
    "duration": 18,
    "start_time": "2024-12-24T08:24:56.006Z"
   },
   {
    "duration": 257,
    "start_time": "2024-12-24T08:24:56.025Z"
   },
   {
    "duration": 271,
    "start_time": "2024-12-24T08:24:56.284Z"
   },
   {
    "duration": 189,
    "start_time": "2024-12-24T08:24:56.557Z"
   },
   {
    "duration": 334,
    "start_time": "2024-12-24T08:24:56.752Z"
   },
   {
    "duration": 3,
    "start_time": "2024-12-24T08:24:57.087Z"
   },
   {
    "duration": 224,
    "start_time": "2024-12-24T08:24:57.091Z"
   },
   {
    "duration": 287,
    "start_time": "2024-12-24T08:24:57.316Z"
   },
   {
    "duration": 108,
    "start_time": "2024-12-24T08:24:57.605Z"
   },
   {
    "duration": 4,
    "start_time": "2024-12-24T08:24:57.715Z"
   },
   {
    "duration": 120,
    "start_time": "2024-12-24T08:24:57.721Z"
   },
   {
    "duration": 13,
    "start_time": "2024-12-24T08:24:57.842Z"
   },
   {
    "duration": 356,
    "start_time": "2024-12-24T08:24:57.859Z"
   },
   {
    "duration": 24,
    "start_time": "2024-12-24T08:24:58.217Z"
   },
   {
    "duration": 17,
    "start_time": "2024-12-24T08:24:58.242Z"
   },
   {
    "duration": 1255,
    "start_time": "2024-12-24T08:24:58.260Z"
   },
   {
    "duration": 12,
    "start_time": "2024-12-24T08:25:22.258Z"
   },
   {
    "duration": 1148,
    "start_time": "2024-12-24T08:37:23.370Z"
   },
   {
    "duration": 8,
    "start_time": "2024-12-24T08:39:31.626Z"
   },
   {
    "duration": 7,
    "start_time": "2024-12-24T08:41:03.363Z"
   },
   {
    "duration": 21,
    "start_time": "2024-12-24T08:41:08.524Z"
   },
   {
    "duration": 11,
    "start_time": "2024-12-24T09:14:24.348Z"
   },
   {
    "duration": 13,
    "start_time": "2024-12-24T09:14:34.958Z"
   },
   {
    "duration": 977,
    "start_time": "2024-12-24T12:27:24.862Z"
   },
   {
    "duration": 2,
    "start_time": "2024-12-24T12:27:25.841Z"
   },
   {
    "duration": 93,
    "start_time": "2024-12-24T12:27:25.844Z"
   },
   {
    "duration": 17,
    "start_time": "2024-12-24T12:27:25.939Z"
   },
   {
    "duration": 2,
    "start_time": "2024-12-24T12:27:25.958Z"
   },
   {
    "duration": 15,
    "start_time": "2024-12-24T12:27:25.961Z"
   },
   {
    "duration": 19,
    "start_time": "2024-12-24T12:27:25.978Z"
   },
   {
    "duration": 21,
    "start_time": "2024-12-24T12:27:25.998Z"
   },
   {
    "duration": 40,
    "start_time": "2024-12-24T12:27:26.020Z"
   },
   {
    "duration": 15,
    "start_time": "2024-12-24T12:27:26.062Z"
   },
   {
    "duration": 29,
    "start_time": "2024-12-24T12:27:26.078Z"
   },
   {
    "duration": 19,
    "start_time": "2024-12-24T12:27:26.108Z"
   },
   {
    "duration": 13,
    "start_time": "2024-12-24T12:27:26.128Z"
   },
   {
    "duration": 23,
    "start_time": "2024-12-24T12:27:26.143Z"
   },
   {
    "duration": 14,
    "start_time": "2024-12-24T12:27:26.168Z"
   },
   {
    "duration": 274,
    "start_time": "2024-12-24T12:27:26.183Z"
   },
   {
    "duration": 283,
    "start_time": "2024-12-24T12:27:26.459Z"
   },
   {
    "duration": 202,
    "start_time": "2024-12-24T12:27:26.744Z"
   },
   {
    "duration": 317,
    "start_time": "2024-12-24T12:27:26.947Z"
   },
   {
    "duration": 4,
    "start_time": "2024-12-24T12:27:27.265Z"
   },
   {
    "duration": 217,
    "start_time": "2024-12-24T12:27:27.270Z"
   },
   {
    "duration": 271,
    "start_time": "2024-12-24T12:27:27.488Z"
   },
   {
    "duration": 105,
    "start_time": "2024-12-24T12:27:27.761Z"
   },
   {
    "duration": 4,
    "start_time": "2024-12-24T12:27:27.868Z"
   },
   {
    "duration": 136,
    "start_time": "2024-12-24T12:27:27.873Z"
   },
   {
    "duration": 4,
    "start_time": "2024-12-24T12:27:28.010Z"
   },
   {
    "duration": 315,
    "start_time": "2024-12-24T12:27:28.016Z"
   },
   {
    "duration": 47,
    "start_time": "2024-12-24T12:27:28.334Z"
   },
   {
    "duration": 12,
    "start_time": "2024-12-24T12:27:28.382Z"
   },
   {
    "duration": 8,
    "start_time": "2024-12-24T12:27:28.396Z"
   },
   {
    "duration": 18,
    "start_time": "2024-12-24T12:27:28.405Z"
   },
   {
    "duration": 30,
    "start_time": "2024-12-24T12:27:28.424Z"
   },
   {
    "duration": 11,
    "start_time": "2024-12-24T12:27:28.456Z"
   },
   {
    "duration": 1575,
    "start_time": "2024-12-24T19:15:02.769Z"
   },
   {
    "duration": 4,
    "start_time": "2024-12-24T19:15:04.346Z"
   },
   {
    "duration": 192,
    "start_time": "2024-12-24T19:15:04.360Z"
   },
   {
    "duration": 28,
    "start_time": "2024-12-24T19:15:04.555Z"
   },
   {
    "duration": 16,
    "start_time": "2024-12-24T19:15:04.585Z"
   },
   {
    "duration": 32,
    "start_time": "2024-12-24T19:15:04.603Z"
   },
   {
    "duration": 25,
    "start_time": "2024-12-24T19:15:04.637Z"
   },
   {
    "duration": 42,
    "start_time": "2024-12-24T19:15:04.664Z"
   },
   {
    "duration": 108,
    "start_time": "2024-12-24T19:15:04.708Z"
   },
   {
    "duration": 59,
    "start_time": "2024-12-24T19:15:04.819Z"
   },
   {
    "duration": 23,
    "start_time": "2024-12-24T19:15:04.880Z"
   },
   {
    "duration": 51,
    "start_time": "2024-12-24T19:15:04.905Z"
   },
   {
    "duration": 21,
    "start_time": "2024-12-24T19:15:04.958Z"
   },
   {
    "duration": 30,
    "start_time": "2024-12-24T19:15:04.981Z"
   },
   {
    "duration": 48,
    "start_time": "2024-12-24T19:15:05.013Z"
   },
   {
    "duration": 378,
    "start_time": "2024-12-24T19:15:05.064Z"
   },
   {
    "duration": 366,
    "start_time": "2024-12-24T19:15:05.444Z"
   },
   {
    "duration": 250,
    "start_time": "2024-12-24T19:15:05.812Z"
   },
   {
    "duration": 413,
    "start_time": "2024-12-24T19:15:06.064Z"
   },
   {
    "duration": 5,
    "start_time": "2024-12-24T19:15:06.479Z"
   },
   {
    "duration": 266,
    "start_time": "2024-12-24T19:15:06.486Z"
   },
   {
    "duration": 354,
    "start_time": "2024-12-24T19:15:06.754Z"
   },
   {
    "duration": 133,
    "start_time": "2024-12-24T19:15:07.110Z"
   },
   {
    "duration": 4,
    "start_time": "2024-12-24T19:15:07.245Z"
   },
   {
    "duration": 156,
    "start_time": "2024-12-24T19:15:07.259Z"
   },
   {
    "duration": 4,
    "start_time": "2024-12-24T19:15:07.418Z"
   },
   {
    "duration": 393,
    "start_time": "2024-12-24T19:15:07.424Z"
   },
   {
    "duration": 44,
    "start_time": "2024-12-24T19:15:07.820Z"
   },
   {
    "duration": 12,
    "start_time": "2024-12-24T19:15:07.866Z"
   },
   {
    "duration": 54,
    "start_time": "2024-12-24T19:15:07.880Z"
   },
   {
    "duration": 59,
    "start_time": "2024-12-24T19:15:07.937Z"
   },
   {
    "duration": 33,
    "start_time": "2024-12-24T19:15:07.998Z"
   },
   {
    "duration": 16,
    "start_time": "2024-12-24T19:15:08.033Z"
   },
   {
    "duration": 258,
    "start_time": "2024-12-24T19:43:38.629Z"
   },
   {
    "duration": 348,
    "start_time": "2024-12-24T19:44:21.234Z"
   },
   {
    "duration": 364,
    "start_time": "2024-12-24T19:45:35.072Z"
   },
   {
    "duration": 331,
    "start_time": "2024-12-24T19:46:45.774Z"
   },
   {
    "duration": 287,
    "start_time": "2024-12-24T19:47:46.384Z"
   },
   {
    "duration": 355,
    "start_time": "2024-12-24T19:52:59.905Z"
   },
   {
    "duration": 139,
    "start_time": "2024-12-24T19:56:28.136Z"
   },
   {
    "duration": 1256,
    "start_time": "2024-12-24T20:01:24.038Z"
   },
   {
    "duration": 3,
    "start_time": "2024-12-24T20:01:25.296Z"
   },
   {
    "duration": 107,
    "start_time": "2024-12-24T20:01:25.301Z"
   },
   {
    "duration": 24,
    "start_time": "2024-12-24T20:01:25.410Z"
   },
   {
    "duration": 5,
    "start_time": "2024-12-24T20:01:25.435Z"
   },
   {
    "duration": 20,
    "start_time": "2024-12-24T20:01:25.441Z"
   },
   {
    "duration": 30,
    "start_time": "2024-12-24T20:01:25.465Z"
   },
   {
    "duration": 21,
    "start_time": "2024-12-24T20:01:25.497Z"
   },
   {
    "duration": 44,
    "start_time": "2024-12-24T20:01:25.520Z"
   },
   {
    "duration": 16,
    "start_time": "2024-12-24T20:01:25.568Z"
   },
   {
    "duration": 20,
    "start_time": "2024-12-24T20:01:25.586Z"
   },
   {
    "duration": 19,
    "start_time": "2024-12-24T20:01:25.608Z"
   },
   {
    "duration": 42,
    "start_time": "2024-12-24T20:01:25.629Z"
   },
   {
    "duration": 33,
    "start_time": "2024-12-24T20:01:25.673Z"
   },
   {
    "duration": 27,
    "start_time": "2024-12-24T20:01:25.707Z"
   },
   {
    "duration": 375,
    "start_time": "2024-12-24T20:01:25.736Z"
   },
   {
    "duration": 402,
    "start_time": "2024-12-24T20:01:26.113Z"
   },
   {
    "duration": 300,
    "start_time": "2024-12-24T20:01:26.518Z"
   },
   {
    "duration": 422,
    "start_time": "2024-12-24T20:01:26.821Z"
   },
   {
    "duration": 339,
    "start_time": "2024-12-24T20:01:27.244Z"
   },
   {
    "duration": 383,
    "start_time": "2024-12-24T20:01:27.585Z"
   },
   {
    "duration": 177,
    "start_time": "2024-12-24T20:01:27.974Z"
   },
   {
    "duration": 15,
    "start_time": "2024-12-24T20:01:28.153Z"
   },
   {
    "duration": 152,
    "start_time": "2024-12-24T20:01:28.171Z"
   },
   {
    "duration": 5,
    "start_time": "2024-12-24T20:01:28.324Z"
   },
   {
    "duration": 437,
    "start_time": "2024-12-24T20:01:28.331Z"
   },
   {
    "duration": 33,
    "start_time": "2024-12-24T20:01:28.770Z"
   },
   {
    "duration": 12,
    "start_time": "2024-12-24T20:01:28.807Z"
   },
   {
    "duration": 43,
    "start_time": "2024-12-24T20:01:28.822Z"
   },
   {
    "duration": 26,
    "start_time": "2024-12-24T20:01:28.866Z"
   },
   {
    "duration": 26,
    "start_time": "2024-12-24T20:01:28.894Z"
   },
   {
    "duration": 15,
    "start_time": "2024-12-24T20:01:28.922Z"
   },
   {
    "duration": 422,
    "start_time": "2024-12-24T20:07:53.510Z"
   },
   {
    "duration": 460,
    "start_time": "2024-12-24T20:08:16.241Z"
   },
   {
    "duration": 426,
    "start_time": "2024-12-24T20:09:21.133Z"
   },
   {
    "duration": 1118,
    "start_time": "2024-12-24T20:48:15.428Z"
   },
   {
    "duration": 3,
    "start_time": "2024-12-24T20:48:16.548Z"
   },
   {
    "duration": 73,
    "start_time": "2024-12-24T20:48:16.552Z"
   },
   {
    "duration": 38,
    "start_time": "2024-12-24T20:48:16.628Z"
   },
   {
    "duration": 3,
    "start_time": "2024-12-24T20:48:16.668Z"
   },
   {
    "duration": 8,
    "start_time": "2024-12-24T20:48:16.673Z"
   },
   {
    "duration": 7,
    "start_time": "2024-12-24T20:48:16.683Z"
   },
   {
    "duration": 11,
    "start_time": "2024-12-24T20:48:16.692Z"
   },
   {
    "duration": 49,
    "start_time": "2024-12-24T20:48:16.705Z"
   },
   {
    "duration": 15,
    "start_time": "2024-12-24T20:48:16.757Z"
   },
   {
    "duration": 18,
    "start_time": "2024-12-24T20:48:16.774Z"
   },
   {
    "duration": 16,
    "start_time": "2024-12-24T20:48:16.793Z"
   },
   {
    "duration": 15,
    "start_time": "2024-12-24T20:48:16.811Z"
   },
   {
    "duration": 40,
    "start_time": "2024-12-24T20:48:16.828Z"
   },
   {
    "duration": 16,
    "start_time": "2024-12-24T20:48:16.870Z"
   },
   {
    "duration": 335,
    "start_time": "2024-12-24T20:48:16.888Z"
   },
   {
    "duration": 365,
    "start_time": "2024-12-24T20:48:17.225Z"
   },
   {
    "duration": 270,
    "start_time": "2024-12-24T20:48:17.592Z"
   },
   {
    "duration": 380,
    "start_time": "2024-12-24T20:48:17.864Z"
   },
   {
    "duration": 318,
    "start_time": "2024-12-24T20:48:18.246Z"
   },
   {
    "duration": 403,
    "start_time": "2024-12-24T20:48:18.566Z"
   },
   {
    "duration": 154,
    "start_time": "2024-12-24T20:48:18.971Z"
   },
   {
    "duration": 4,
    "start_time": "2024-12-24T20:48:19.127Z"
   },
   {
    "duration": 155,
    "start_time": "2024-12-24T20:48:19.133Z"
   },
   {
    "duration": 4,
    "start_time": "2024-12-24T20:48:19.290Z"
   },
   {
    "duration": 392,
    "start_time": "2024-12-24T20:48:19.296Z"
   },
   {
    "duration": 32,
    "start_time": "2024-12-24T20:48:19.689Z"
   },
   {
    "duration": 11,
    "start_time": "2024-12-24T20:48:19.724Z"
   },
   {
    "duration": 31,
    "start_time": "2024-12-24T20:48:19.737Z"
   },
   {
    "duration": 15,
    "start_time": "2024-12-24T20:48:19.769Z"
   },
   {
    "duration": 27,
    "start_time": "2024-12-24T20:48:19.786Z"
   },
   {
    "duration": 14,
    "start_time": "2024-12-24T20:48:19.815Z"
   },
   {
    "duration": 162,
    "start_time": "2024-12-24T20:50:53.641Z"
   },
   {
    "duration": 1235,
    "start_time": "2024-12-24T22:47:14.100Z"
   },
   {
    "duration": 4,
    "start_time": "2024-12-24T22:47:15.337Z"
   },
   {
    "duration": 185,
    "start_time": "2024-12-24T22:47:15.343Z"
   },
   {
    "duration": 23,
    "start_time": "2024-12-24T22:47:15.531Z"
   },
   {
    "duration": 3,
    "start_time": "2024-12-24T22:47:15.555Z"
   },
   {
    "duration": 10,
    "start_time": "2024-12-24T22:47:15.560Z"
   },
   {
    "duration": 8,
    "start_time": "2024-12-24T22:47:15.572Z"
   },
   {
    "duration": 17,
    "start_time": "2024-12-24T22:47:15.581Z"
   },
   {
    "duration": 82,
    "start_time": "2024-12-24T22:47:15.600Z"
   },
   {
    "duration": 57,
    "start_time": "2024-12-24T22:47:15.685Z"
   },
   {
    "duration": 18,
    "start_time": "2024-12-24T22:47:15.744Z"
   },
   {
    "duration": 16,
    "start_time": "2024-12-24T22:47:15.764Z"
   },
   {
    "duration": 24,
    "start_time": "2024-12-24T22:47:15.782Z"
   },
   {
    "duration": 21,
    "start_time": "2024-12-24T22:47:15.808Z"
   },
   {
    "duration": 39,
    "start_time": "2024-12-24T22:47:15.831Z"
   },
   {
    "duration": 321,
    "start_time": "2024-12-24T22:47:15.872Z"
   },
   {
    "duration": 344,
    "start_time": "2024-12-24T22:47:16.195Z"
   },
   {
    "duration": 257,
    "start_time": "2024-12-24T22:47:16.541Z"
   },
   {
    "duration": 412,
    "start_time": "2024-12-24T22:47:16.800Z"
   },
   {
    "duration": 298,
    "start_time": "2024-12-24T22:47:17.214Z"
   },
   {
    "duration": 386,
    "start_time": "2024-12-24T22:47:17.514Z"
   },
   {
    "duration": 180,
    "start_time": "2024-12-24T22:47:17.901Z"
   },
   {
    "duration": 4,
    "start_time": "2024-12-24T22:47:18.083Z"
   },
   {
    "duration": 168,
    "start_time": "2024-12-24T22:47:18.089Z"
   },
   {
    "duration": 4,
    "start_time": "2024-12-24T22:47:18.260Z"
   },
   {
    "duration": 386,
    "start_time": "2024-12-24T22:47:18.265Z"
   },
   {
    "duration": 34,
    "start_time": "2024-12-24T22:47:18.652Z"
   },
   {
    "duration": 11,
    "start_time": "2024-12-24T22:47:18.689Z"
   },
   {
    "duration": 22,
    "start_time": "2024-12-24T22:47:18.702Z"
   },
   {
    "duration": 15,
    "start_time": "2024-12-24T22:47:18.725Z"
   },
   {
    "duration": 35,
    "start_time": "2024-12-24T22:47:18.742Z"
   },
   {
    "duration": 14,
    "start_time": "2024-12-24T22:47:18.779Z"
   },
   {
    "duration": 71,
    "start_time": "2024-12-25T19:58:03.443Z"
   },
   {
    "duration": 1440,
    "start_time": "2024-12-25T19:58:09.519Z"
   },
   {
    "duration": 5,
    "start_time": "2024-12-25T19:58:10.962Z"
   },
   {
    "duration": 162,
    "start_time": "2024-12-25T19:58:10.969Z"
   },
   {
    "duration": 24,
    "start_time": "2024-12-25T19:58:11.134Z"
   },
   {
    "duration": 11,
    "start_time": "2024-12-25T19:58:11.160Z"
   },
   {
    "duration": 60,
    "start_time": "2024-12-25T19:58:11.173Z"
   },
   {
    "duration": 10,
    "start_time": "2024-12-25T19:58:11.235Z"
   },
   {
    "duration": 11,
    "start_time": "2024-12-25T19:58:11.247Z"
   },
   {
    "duration": 88,
    "start_time": "2024-12-25T19:58:11.259Z"
   },
   {
    "duration": 58,
    "start_time": "2024-12-25T19:58:11.349Z"
   },
   {
    "duration": 20,
    "start_time": "2024-12-25T19:58:11.409Z"
   },
   {
    "duration": 17,
    "start_time": "2024-12-25T19:58:11.430Z"
   },
   {
    "duration": 15,
    "start_time": "2024-12-25T19:58:11.449Z"
   },
   {
    "duration": 21,
    "start_time": "2024-12-25T19:58:11.465Z"
   },
   {
    "duration": 17,
    "start_time": "2024-12-25T19:58:11.488Z"
   },
   {
    "duration": 364,
    "start_time": "2024-12-25T19:58:11.507Z"
   },
   {
    "duration": 346,
    "start_time": "2024-12-25T19:58:11.872Z"
   },
   {
    "duration": 263,
    "start_time": "2024-12-25T19:58:12.220Z"
   },
   {
    "duration": 409,
    "start_time": "2024-12-25T19:58:12.485Z"
   },
   {
    "duration": 333,
    "start_time": "2024-12-25T19:58:12.896Z"
   },
   {
    "duration": 428,
    "start_time": "2024-12-25T19:58:13.230Z"
   },
   {
    "duration": 155,
    "start_time": "2024-12-25T19:58:13.660Z"
   },
   {
    "duration": 5,
    "start_time": "2024-12-25T19:58:13.816Z"
   },
   {
    "duration": 174,
    "start_time": "2024-12-25T19:58:13.823Z"
   },
   {
    "duration": 5,
    "start_time": "2024-12-25T19:58:13.998Z"
   },
   {
    "duration": 396,
    "start_time": "2024-12-25T19:58:14.005Z"
   },
   {
    "duration": 31,
    "start_time": "2024-12-25T19:58:14.403Z"
   },
   {
    "duration": 30,
    "start_time": "2024-12-25T19:58:14.438Z"
   },
   {
    "duration": 10,
    "start_time": "2024-12-25T19:58:14.471Z"
   },
   {
    "duration": 9,
    "start_time": "2024-12-25T19:58:14.483Z"
   },
   {
    "duration": 30,
    "start_time": "2024-12-25T19:58:14.494Z"
   },
   {
    "duration": 41,
    "start_time": "2024-12-25T19:58:14.526Z"
   },
   {
    "duration": 25,
    "start_time": "2024-12-25T20:00:28.156Z"
   },
   {
    "duration": 15,
    "start_time": "2024-12-25T20:00:44.473Z"
   },
   {
    "duration": 13,
    "start_time": "2024-12-25T20:01:38.858Z"
   },
   {
    "duration": 4,
    "start_time": "2024-12-25T20:05:53.365Z"
   },
   {
    "duration": 15,
    "start_time": "2024-12-25T20:05:54.936Z"
   },
   {
    "duration": 13,
    "start_time": "2024-12-25T20:16:22.158Z"
   },
   {
    "duration": 9,
    "start_time": "2024-12-25T20:16:47.671Z"
   },
   {
    "duration": 7,
    "start_time": "2024-12-25T20:18:03.177Z"
   },
   {
    "duration": 5,
    "start_time": "2024-12-25T20:18:26.149Z"
   },
   {
    "duration": 11,
    "start_time": "2024-12-25T20:18:34.756Z"
   },
   {
    "duration": 9,
    "start_time": "2024-12-25T20:18:49.214Z"
   },
   {
    "duration": 7,
    "start_time": "2024-12-25T20:30:22.712Z"
   },
   {
    "duration": 38,
    "start_time": "2024-12-25T20:36:25.747Z"
   },
   {
    "duration": 29,
    "start_time": "2024-12-25T20:37:54.473Z"
   },
   {
    "duration": 29,
    "start_time": "2024-12-25T20:38:01.479Z"
   },
   {
    "duration": 54,
    "start_time": "2024-12-26T10:20:26.788Z"
   },
   {
    "duration": 1197,
    "start_time": "2024-12-26T10:20:30.970Z"
   },
   {
    "duration": 3,
    "start_time": "2024-12-26T10:20:32.169Z"
   },
   {
    "duration": 182,
    "start_time": "2024-12-26T10:20:32.174Z"
   },
   {
    "duration": 23,
    "start_time": "2024-12-26T10:20:32.358Z"
   },
   {
    "duration": 19,
    "start_time": "2024-12-26T10:20:32.382Z"
   },
   {
    "duration": 46,
    "start_time": "2024-12-26T10:20:32.403Z"
   },
   {
    "duration": 44,
    "start_time": "2024-12-26T10:20:32.450Z"
   },
   {
    "duration": 22,
    "start_time": "2024-12-26T10:20:32.496Z"
   },
   {
    "duration": 100,
    "start_time": "2024-12-26T10:20:32.519Z"
   },
   {
    "duration": 67,
    "start_time": "2024-12-26T10:20:32.622Z"
   },
   {
    "duration": 17,
    "start_time": "2024-12-26T10:20:32.690Z"
   },
   {
    "duration": 28,
    "start_time": "2024-12-26T10:20:32.709Z"
   },
   {
    "duration": 94,
    "start_time": "2024-12-26T10:20:32.739Z"
   },
   {
    "duration": 47,
    "start_time": "2024-12-26T10:20:32.834Z"
   },
   {
    "duration": 26,
    "start_time": "2024-12-26T10:20:32.883Z"
   },
   {
    "duration": 5,
    "start_time": "2024-12-26T10:20:32.911Z"
   },
   {
    "duration": 29,
    "start_time": "2024-12-26T10:20:32.917Z"
   },
   {
    "duration": 27,
    "start_time": "2024-12-26T10:20:32.948Z"
   },
   {
    "duration": 325,
    "start_time": "2024-12-26T10:20:32.977Z"
   },
   {
    "duration": 5,
    "start_time": "2024-12-26T10:20:33.303Z"
   },
   {
    "duration": 335,
    "start_time": "2024-12-26T10:20:33.310Z"
   },
   {
    "duration": 244,
    "start_time": "2024-12-26T10:20:33.647Z"
   },
   {
    "duration": 420,
    "start_time": "2024-12-26T10:20:33.892Z"
   },
   {
    "duration": 301,
    "start_time": "2024-12-26T10:20:34.314Z"
   },
   {
    "duration": 407,
    "start_time": "2024-12-26T10:20:34.617Z"
   },
   {
    "duration": 149,
    "start_time": "2024-12-26T10:20:35.025Z"
   },
   {
    "duration": 4,
    "start_time": "2024-12-26T10:20:35.176Z"
   },
   {
    "duration": 161,
    "start_time": "2024-12-26T10:20:35.183Z"
   },
   {
    "duration": 154,
    "start_time": "2024-12-26T10:20:35.346Z"
   },
   {
    "duration": 6,
    "start_time": "2024-12-26T10:20:35.503Z"
   },
   {
    "duration": 378,
    "start_time": "2024-12-26T10:20:35.511Z"
   },
   {
    "duration": 39,
    "start_time": "2024-12-26T10:20:35.891Z"
   },
   {
    "duration": 10,
    "start_time": "2024-12-26T10:20:35.932Z"
   },
   {
    "duration": 54,
    "start_time": "2024-12-26T10:20:35.944Z"
   },
   {
    "duration": 28,
    "start_time": "2024-12-26T10:20:36.000Z"
   },
   {
    "duration": 66,
    "start_time": "2024-12-26T10:20:36.030Z"
   },
   {
    "duration": 15,
    "start_time": "2024-12-26T10:20:36.098Z"
   },
   {
    "duration": 139,
    "start_time": "2024-12-26T10:20:59.796Z"
   },
   {
    "duration": 92,
    "start_time": "2024-12-26T10:22:11.868Z"
   },
   {
    "duration": 12,
    "start_time": "2024-12-26T10:25:19.596Z"
   },
   {
    "duration": 26,
    "start_time": "2024-12-26T10:26:22.100Z"
   },
   {
    "duration": 16,
    "start_time": "2024-12-26T10:27:05.293Z"
   },
   {
    "duration": 17,
    "start_time": "2024-12-26T10:27:26.357Z"
   },
   {
    "duration": 10,
    "start_time": "2024-12-26T10:31:32.942Z"
   },
   {
    "duration": 1008,
    "start_time": "2024-12-26T10:31:42.262Z"
   },
   {
    "duration": 3,
    "start_time": "2024-12-26T10:31:43.272Z"
   },
   {
    "duration": 93,
    "start_time": "2024-12-26T10:31:43.277Z"
   },
   {
    "duration": 22,
    "start_time": "2024-12-26T10:31:43.372Z"
   },
   {
    "duration": 4,
    "start_time": "2024-12-26T10:31:43.395Z"
   },
   {
    "duration": 7,
    "start_time": "2024-12-26T10:31:43.401Z"
   },
   {
    "duration": 10,
    "start_time": "2024-12-26T10:31:43.410Z"
   },
   {
    "duration": 22,
    "start_time": "2024-12-26T10:31:43.429Z"
   },
   {
    "duration": 49,
    "start_time": "2024-12-26T10:31:43.452Z"
   },
   {
    "duration": 16,
    "start_time": "2024-12-26T10:31:43.503Z"
   },
   {
    "duration": 17,
    "start_time": "2024-12-26T10:31:43.520Z"
   },
   {
    "duration": 15,
    "start_time": "2024-12-26T10:31:43.538Z"
   },
   {
    "duration": 14,
    "start_time": "2024-12-26T10:31:43.555Z"
   },
   {
    "duration": 48,
    "start_time": "2024-12-26T10:31:43.570Z"
   },
   {
    "duration": 29,
    "start_time": "2024-12-26T10:31:43.620Z"
   },
   {
    "duration": 5,
    "start_time": "2024-12-26T10:31:43.651Z"
   },
   {
    "duration": 6,
    "start_time": "2024-12-26T10:31:43.657Z"
   },
   {
    "duration": 4,
    "start_time": "2024-12-26T10:31:43.664Z"
   },
   {
    "duration": 304,
    "start_time": "2024-12-26T10:31:43.670Z"
   },
   {
    "duration": 5,
    "start_time": "2024-12-26T10:31:43.976Z"
   },
   {
    "duration": 340,
    "start_time": "2024-12-26T10:31:43.983Z"
   },
   {
    "duration": 236,
    "start_time": "2024-12-26T10:31:44.324Z"
   },
   {
    "duration": 337,
    "start_time": "2024-12-26T10:31:44.561Z"
   },
   {
    "duration": 294,
    "start_time": "2024-12-26T10:31:44.900Z"
   },
   {
    "duration": 371,
    "start_time": "2024-12-26T10:31:45.196Z"
   },
   {
    "duration": 135,
    "start_time": "2024-12-26T10:31:45.568Z"
   },
   {
    "duration": 4,
    "start_time": "2024-12-26T10:31:45.705Z"
   },
   {
    "duration": 161,
    "start_time": "2024-12-26T10:31:45.712Z"
   },
   {
    "duration": 148,
    "start_time": "2024-12-26T10:31:45.874Z"
   },
   {
    "duration": 8,
    "start_time": "2024-12-26T10:31:46.024Z"
   },
   {
    "duration": 362,
    "start_time": "2024-12-26T10:31:46.033Z"
   },
   {
    "duration": 36,
    "start_time": "2024-12-26T10:31:46.397Z"
   },
   {
    "duration": 11,
    "start_time": "2024-12-26T10:31:46.434Z"
   },
   {
    "duration": 17,
    "start_time": "2024-12-26T10:31:46.446Z"
   },
   {
    "duration": 9,
    "start_time": "2024-12-26T10:31:46.465Z"
   },
   {
    "duration": 26,
    "start_time": "2024-12-26T10:31:46.475Z"
   },
   {
    "duration": 37,
    "start_time": "2024-12-26T10:31:46.503Z"
   },
   {
    "duration": 1089,
    "start_time": "2024-12-26T10:33:06.945Z"
   },
   {
    "duration": 2,
    "start_time": "2024-12-26T10:33:08.036Z"
   },
   {
    "duration": 87,
    "start_time": "2024-12-26T10:33:08.039Z"
   },
   {
    "duration": 113,
    "start_time": "2024-12-26T10:33:08.128Z"
   },
   {
    "duration": 6,
    "start_time": "2024-12-26T10:33:08.242Z"
   },
   {
    "duration": 14,
    "start_time": "2024-12-26T10:33:08.249Z"
   },
   {
    "duration": 32,
    "start_time": "2024-12-26T10:33:08.264Z"
   },
   {
    "duration": 40,
    "start_time": "2024-12-26T10:33:08.297Z"
   },
   {
    "duration": 46,
    "start_time": "2024-12-26T10:33:08.339Z"
   },
   {
    "duration": 18,
    "start_time": "2024-12-26T10:33:08.388Z"
   },
   {
    "duration": 71,
    "start_time": "2024-12-26T10:33:08.408Z"
   },
   {
    "duration": 30,
    "start_time": "2024-12-26T10:33:08.481Z"
   },
   {
    "duration": 32,
    "start_time": "2024-12-26T10:33:08.513Z"
   },
   {
    "duration": 38,
    "start_time": "2024-12-26T10:33:08.547Z"
   },
   {
    "duration": 20,
    "start_time": "2024-12-26T10:33:08.587Z"
   },
   {
    "duration": 39,
    "start_time": "2024-12-26T10:33:08.609Z"
   },
   {
    "duration": 32,
    "start_time": "2024-12-26T10:33:08.650Z"
   },
   {
    "duration": 44,
    "start_time": "2024-12-26T10:33:08.683Z"
   },
   {
    "duration": 321,
    "start_time": "2024-12-26T10:33:08.728Z"
   },
   {
    "duration": 5,
    "start_time": "2024-12-26T10:33:09.051Z"
   },
   {
    "duration": 336,
    "start_time": "2024-12-26T10:33:09.058Z"
   },
   {
    "duration": 253,
    "start_time": "2024-12-26T10:33:09.396Z"
   },
   {
    "duration": 352,
    "start_time": "2024-12-26T10:33:09.651Z"
   },
   {
    "duration": 339,
    "start_time": "2024-12-26T10:33:10.005Z"
   },
   {
    "duration": 383,
    "start_time": "2024-12-26T10:33:10.347Z"
   },
   {
    "duration": 141,
    "start_time": "2024-12-26T10:33:10.732Z"
   },
   {
    "duration": 5,
    "start_time": "2024-12-26T10:33:10.874Z"
   },
   {
    "duration": 168,
    "start_time": "2024-12-26T10:33:10.882Z"
   },
   {
    "duration": 196,
    "start_time": "2024-12-26T10:33:11.052Z"
   },
   {
    "duration": 6,
    "start_time": "2024-12-26T10:33:11.250Z"
   },
   {
    "duration": 486,
    "start_time": "2024-12-26T10:33:11.258Z"
   },
   {
    "duration": 34,
    "start_time": "2024-12-26T10:33:11.746Z"
   },
   {
    "duration": 57,
    "start_time": "2024-12-26T10:33:11.782Z"
   },
   {
    "duration": 20,
    "start_time": "2024-12-26T10:33:11.841Z"
   },
   {
    "duration": 9,
    "start_time": "2024-12-26T10:33:11.863Z"
   },
   {
    "duration": 72,
    "start_time": "2024-12-26T10:33:11.874Z"
   },
   {
    "duration": 15,
    "start_time": "2024-12-26T10:33:11.948Z"
   },
   {
    "duration": 30,
    "start_time": "2024-12-26T10:59:19.672Z"
   },
   {
    "duration": 29,
    "start_time": "2024-12-26T11:06:01.980Z"
   },
   {
    "duration": 1072,
    "start_time": "2024-12-26T11:06:06.861Z"
   },
   {
    "duration": 3,
    "start_time": "2024-12-26T11:06:07.934Z"
   },
   {
    "duration": 151,
    "start_time": "2024-12-26T11:06:07.939Z"
   },
   {
    "duration": 24,
    "start_time": "2024-12-26T11:06:08.093Z"
   },
   {
    "duration": 28,
    "start_time": "2024-12-26T11:06:08.119Z"
   },
   {
    "duration": 20,
    "start_time": "2024-12-26T11:06:08.149Z"
   },
   {
    "duration": 10,
    "start_time": "2024-12-26T11:06:08.170Z"
   },
   {
    "duration": 22,
    "start_time": "2024-12-26T11:06:08.181Z"
   },
   {
    "duration": 99,
    "start_time": "2024-12-26T11:06:08.204Z"
   },
   {
    "duration": 15,
    "start_time": "2024-12-26T11:06:08.306Z"
   },
   {
    "duration": 20,
    "start_time": "2024-12-26T11:06:08.323Z"
   },
   {
    "duration": 21,
    "start_time": "2024-12-26T11:06:08.345Z"
   },
   {
    "duration": 52,
    "start_time": "2024-12-26T11:06:08.368Z"
   },
   {
    "duration": 49,
    "start_time": "2024-12-26T11:06:08.423Z"
   },
   {
    "duration": 19,
    "start_time": "2024-12-26T11:06:08.474Z"
   },
   {
    "duration": 9,
    "start_time": "2024-12-26T11:06:08.494Z"
   },
   {
    "duration": 17,
    "start_time": "2024-12-26T11:06:08.505Z"
   },
   {
    "duration": 16,
    "start_time": "2024-12-26T11:06:08.523Z"
   },
   {
    "duration": 302,
    "start_time": "2024-12-26T11:06:08.542Z"
   },
   {
    "duration": 6,
    "start_time": "2024-12-26T11:06:08.846Z"
   },
   {
    "duration": 345,
    "start_time": "2024-12-26T11:06:08.854Z"
   },
   {
    "duration": 245,
    "start_time": "2024-12-26T11:06:09.201Z"
   },
   {
    "duration": 338,
    "start_time": "2024-12-26T11:06:09.447Z"
   },
   {
    "duration": 317,
    "start_time": "2024-12-26T11:06:09.786Z"
   },
   {
    "duration": 443,
    "start_time": "2024-12-26T11:06:10.106Z"
   },
   {
    "duration": 149,
    "start_time": "2024-12-26T11:06:10.551Z"
   },
   {
    "duration": 4,
    "start_time": "2024-12-26T11:06:10.702Z"
   },
   {
    "duration": 167,
    "start_time": "2024-12-26T11:06:10.710Z"
   },
   {
    "duration": 157,
    "start_time": "2024-12-26T11:06:10.879Z"
   },
   {
    "duration": 4,
    "start_time": "2024-12-26T11:06:11.038Z"
   },
   {
    "duration": 355,
    "start_time": "2024-12-26T11:06:11.043Z"
   },
   {
    "duration": 42,
    "start_time": "2024-12-26T11:06:11.400Z"
   },
   {
    "duration": 10,
    "start_time": "2024-12-26T11:06:11.444Z"
   },
   {
    "duration": 17,
    "start_time": "2024-12-26T11:06:11.456Z"
   },
   {
    "duration": 8,
    "start_time": "2024-12-26T11:06:11.474Z"
   },
   {
    "duration": 50,
    "start_time": "2024-12-26T11:06:11.483Z"
   },
   {
    "duration": 15,
    "start_time": "2024-12-26T11:06:11.534Z"
   },
   {
    "duration": 1061,
    "start_time": "2024-12-26T19:49:12.723Z"
   },
   {
    "duration": 3,
    "start_time": "2024-12-26T19:49:13.786Z"
   },
   {
    "duration": 180,
    "start_time": "2024-12-26T19:49:13.790Z"
   },
   {
    "duration": 20,
    "start_time": "2024-12-26T19:49:13.972Z"
   },
   {
    "duration": 3,
    "start_time": "2024-12-26T19:49:13.993Z"
   },
   {
    "duration": 5,
    "start_time": "2024-12-26T19:49:13.998Z"
   },
   {
    "duration": 9,
    "start_time": "2024-12-26T19:49:14.005Z"
   },
   {
    "duration": 34,
    "start_time": "2024-12-26T19:49:14.015Z"
   },
   {
    "duration": 96,
    "start_time": "2024-12-26T19:49:14.051Z"
   },
   {
    "duration": 72,
    "start_time": "2024-12-26T19:49:14.150Z"
   },
   {
    "duration": 17,
    "start_time": "2024-12-26T19:49:14.224Z"
   },
   {
    "duration": 15,
    "start_time": "2024-12-26T19:49:14.242Z"
   },
   {
    "duration": 13,
    "start_time": "2024-12-26T19:49:14.259Z"
   },
   {
    "duration": 20,
    "start_time": "2024-12-26T19:49:14.274Z"
   },
   {
    "duration": 46,
    "start_time": "2024-12-26T19:49:14.295Z"
   },
   {
    "duration": 5,
    "start_time": "2024-12-26T19:49:14.342Z"
   },
   {
    "duration": 6,
    "start_time": "2024-12-26T19:49:14.349Z"
   },
   {
    "duration": 5,
    "start_time": "2024-12-26T19:49:14.357Z"
   },
   {
    "duration": 298,
    "start_time": "2024-12-26T19:49:14.364Z"
   },
   {
    "duration": 5,
    "start_time": "2024-12-26T19:49:14.664Z"
   },
   {
    "duration": 317,
    "start_time": "2024-12-26T19:49:14.671Z"
   },
   {
    "duration": 240,
    "start_time": "2024-12-26T19:49:14.990Z"
   },
   {
    "duration": 341,
    "start_time": "2024-12-26T19:49:15.231Z"
   },
   {
    "duration": 281,
    "start_time": "2024-12-26T19:49:15.574Z"
   },
   {
    "duration": 374,
    "start_time": "2024-12-26T19:49:15.856Z"
   },
   {
    "duration": 139,
    "start_time": "2024-12-26T19:49:16.232Z"
   },
   {
    "duration": 5,
    "start_time": "2024-12-26T19:49:16.373Z"
   },
   {
    "duration": 151,
    "start_time": "2024-12-26T19:49:16.381Z"
   },
   {
    "duration": 155,
    "start_time": "2024-12-26T19:49:16.533Z"
   },
   {
    "duration": 5,
    "start_time": "2024-12-26T19:49:16.689Z"
   },
   {
    "duration": 426,
    "start_time": "2024-12-26T19:49:16.695Z"
   },
   {
    "duration": 29,
    "start_time": "2024-12-26T19:49:17.123Z"
   },
   {
    "duration": 13,
    "start_time": "2024-12-26T19:49:17.153Z"
   },
   {
    "duration": 14,
    "start_time": "2024-12-26T19:49:17.167Z"
   },
   {
    "duration": 9,
    "start_time": "2024-12-26T19:49:17.182Z"
   },
   {
    "duration": 56,
    "start_time": "2024-12-26T19:49:17.192Z"
   },
   {
    "duration": 23,
    "start_time": "2024-12-26T19:49:17.250Z"
   },
   {
    "duration": 88,
    "start_time": "2024-12-26T19:51:04.508Z"
   },
   {
    "duration": 1047,
    "start_time": "2025-03-02T10:58:17.670Z"
   },
   {
    "duration": 3,
    "start_time": "2025-03-02T10:58:18.718Z"
   },
   {
    "duration": 82,
    "start_time": "2025-03-02T10:58:18.723Z"
   },
   {
    "duration": 111,
    "start_time": "2025-03-02T10:58:18.807Z"
   },
   {
    "duration": 3,
    "start_time": "2025-03-02T10:58:18.919Z"
   },
   {
    "duration": 85,
    "start_time": "2025-03-02T10:58:18.924Z"
   },
   {
    "duration": 14,
    "start_time": "2025-03-02T10:58:19.011Z"
   },
   {
    "duration": 15,
    "start_time": "2025-03-02T10:58:19.027Z"
   },
   {
    "duration": 52,
    "start_time": "2025-03-02T10:58:19.043Z"
   },
   {
    "duration": 15,
    "start_time": "2025-03-02T10:58:19.097Z"
   },
   {
    "duration": 224,
    "start_time": "2025-03-02T10:58:19.114Z"
   },
   {
    "duration": 80,
    "start_time": "2025-03-02T10:58:19.339Z"
   },
   {
    "duration": 21,
    "start_time": "2025-03-02T10:58:19.421Z"
   },
   {
    "duration": 22,
    "start_time": "2025-03-02T10:58:19.444Z"
   },
   {
    "duration": 16,
    "start_time": "2025-03-02T10:58:19.468Z"
   },
   {
    "duration": 118,
    "start_time": "2025-03-02T10:58:19.485Z"
   },
   {
    "duration": 12,
    "start_time": "2025-03-02T10:58:19.605Z"
   },
   {
    "duration": 5,
    "start_time": "2025-03-02T10:58:19.619Z"
   },
   {
    "duration": 260,
    "start_time": "2025-03-02T10:58:19.625Z"
   },
   {
    "duration": 6,
    "start_time": "2025-03-02T10:58:19.887Z"
   },
   {
    "duration": 308,
    "start_time": "2025-03-02T10:58:19.894Z"
   },
   {
    "duration": 215,
    "start_time": "2025-03-02T10:58:20.204Z"
   },
   {
    "duration": 366,
    "start_time": "2025-03-02T10:58:20.420Z"
   },
   {
    "duration": 243,
    "start_time": "2025-03-02T10:58:20.788Z"
   },
   {
    "duration": 368,
    "start_time": "2025-03-02T10:58:21.034Z"
   },
   {
    "duration": 138,
    "start_time": "2025-03-02T10:58:21.403Z"
   },
   {
    "duration": 4,
    "start_time": "2025-03-02T10:58:21.548Z"
   },
   {
    "duration": 169,
    "start_time": "2025-03-02T10:58:21.556Z"
   },
   {
    "duration": 146,
    "start_time": "2025-03-02T10:58:21.727Z"
   },
   {
    "duration": 4,
    "start_time": "2025-03-02T10:58:21.875Z"
   },
   {
    "duration": 322,
    "start_time": "2025-03-02T10:58:21.880Z"
   },
   {
    "duration": 27,
    "start_time": "2025-03-02T10:58:22.204Z"
   },
   {
    "duration": 10,
    "start_time": "2025-03-02T10:58:22.248Z"
   },
   {
    "duration": 9,
    "start_time": "2025-03-02T10:58:22.259Z"
   },
   {
    "duration": 9,
    "start_time": "2025-03-02T10:58:22.269Z"
   },
   {
    "duration": 34,
    "start_time": "2025-03-02T10:58:22.279Z"
   },
   {
    "duration": 13,
    "start_time": "2025-03-02T10:58:22.314Z"
   },
   {
    "duration": 1003,
    "start_time": "2025-03-02T11:13:48.488Z"
   },
   {
    "duration": 3,
    "start_time": "2025-03-02T11:13:49.493Z"
   },
   {
    "duration": 79,
    "start_time": "2025-03-02T11:13:49.497Z"
   },
   {
    "duration": 45,
    "start_time": "2025-03-02T11:13:49.577Z"
   },
   {
    "duration": 12,
    "start_time": "2025-03-02T11:13:49.624Z"
   },
   {
    "duration": 14,
    "start_time": "2025-03-02T11:13:49.637Z"
   },
   {
    "duration": 9,
    "start_time": "2025-03-02T11:13:49.660Z"
   },
   {
    "duration": 29,
    "start_time": "2025-03-02T11:13:49.671Z"
   },
   {
    "duration": 45,
    "start_time": "2025-03-02T11:13:49.701Z"
   },
   {
    "duration": 18,
    "start_time": "2025-03-02T11:13:49.747Z"
   },
   {
    "duration": 17,
    "start_time": "2025-03-02T11:13:49.767Z"
   },
   {
    "duration": 16,
    "start_time": "2025-03-02T11:13:49.785Z"
   },
   {
    "duration": 13,
    "start_time": "2025-03-02T11:13:49.802Z"
   },
   {
    "duration": 43,
    "start_time": "2025-03-02T11:13:49.819Z"
   },
   {
    "duration": 14,
    "start_time": "2025-03-02T11:13:49.864Z"
   },
   {
    "duration": 4,
    "start_time": "2025-03-02T11:13:49.879Z"
   },
   {
    "duration": 5,
    "start_time": "2025-03-02T11:13:49.885Z"
   },
   {
    "duration": 3,
    "start_time": "2025-03-02T11:13:49.891Z"
   },
   {
    "duration": 318,
    "start_time": "2025-03-02T11:13:49.895Z"
   },
   {
    "duration": 5,
    "start_time": "2025-03-02T11:13:50.215Z"
   },
   {
    "duration": 307,
    "start_time": "2025-03-02T11:13:50.222Z"
   },
   {
    "duration": 234,
    "start_time": "2025-03-02T11:13:50.530Z"
   },
   {
    "duration": 324,
    "start_time": "2025-03-02T11:13:50.765Z"
   },
   {
    "duration": 249,
    "start_time": "2025-03-02T11:13:51.091Z"
   },
   {
    "duration": 386,
    "start_time": "2025-03-02T11:13:51.342Z"
   },
   {
    "duration": 144,
    "start_time": "2025-03-02T11:13:51.730Z"
   },
   {
    "duration": 4,
    "start_time": "2025-03-02T11:13:51.876Z"
   },
   {
    "duration": 147,
    "start_time": "2025-03-02T11:13:51.881Z"
   },
   {
    "duration": 143,
    "start_time": "2025-03-02T11:13:52.030Z"
   },
   {
    "duration": 5,
    "start_time": "2025-03-02T11:13:52.174Z"
   },
   {
    "duration": 331,
    "start_time": "2025-03-02T11:13:52.180Z"
   },
   {
    "duration": 47,
    "start_time": "2025-03-02T11:13:52.513Z"
   },
   {
    "duration": 10,
    "start_time": "2025-03-02T11:13:52.561Z"
   },
   {
    "duration": 16,
    "start_time": "2025-03-02T11:13:52.573Z"
   },
   {
    "duration": 7,
    "start_time": "2025-03-02T11:13:52.591Z"
   },
   {
    "duration": 24,
    "start_time": "2025-03-02T11:13:52.600Z"
   },
   {
    "duration": 34,
    "start_time": "2025-03-02T11:13:52.626Z"
   }
  ],
  "kernelspec": {
   "display_name": "Python 3 (ipykernel)",
   "language": "python",
   "name": "python3"
  },
  "language_info": {
   "codemirror_mode": {
    "name": "ipython",
    "version": 3
   },
   "file_extension": ".py",
   "mimetype": "text/x-python",
   "name": "python",
   "nbconvert_exporter": "python",
   "pygments_lexer": "ipython3",
   "version": "3.9.5"
  },
  "toc": {
   "base_numbering": 1,
   "nav_menu": {},
   "number_sections": true,
   "sideBar": true,
   "skip_h1_title": true,
   "title_cell": "Table of Contents",
   "title_sidebar": "Contents",
   "toc_cell": false,
   "toc_position": {},
   "toc_section_display": true,
   "toc_window_display": false
  }
 },
 "nbformat": 4,
 "nbformat_minor": 2
}
