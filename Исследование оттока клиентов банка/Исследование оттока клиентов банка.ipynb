{
 "cells": [
  {
   "cell_type": "markdown",
   "metadata": {},
   "source": [
    "# Исследование оттока клиентов банка\n",
    "\n",
    "Отдел маркетинга запросил у нас данное исследование с целью выделения сегментов пользователей и дальнейшей работе по борьбе с высоким оттоком клиентов.\n",
    "\n",
    "В ходе данного исследования планируется выполнить следующие шаги:\n",
    "1. Предобработка данных;\n",
    "    1. Проверить данные на дубликаты, пропуски;\n",
    "    2. Проверить названия колонок и типы данных;\n",
    "    3. Проверить на аномалии.\n",
    "2. Исследовательский анализ данных;\n",
    "    1. Построить распределения по имеющимся показателям;\n",
    "    2. Определить все значимые признаки отточности;\n",
    "    3. Составить и сравнить портреты типичных клиентов;\n",
    "    4. Провести корреляционный анализ.\n",
    "3. Проверка статистических гипотез;\n",
    "    1. Гипотеза различия дохода между теми клиентами, которые ушли и теми, которые остались;\n",
    "    2. (Вторая гипотеза)\n",
    "    3. Промежуточный вывод о влиянии показателей на отток клиентов.\n",
    "4. Сегментация клиентов;\n",
    "    1. Выбрать показатели, по которым можно объединить клиентов в определенные сегменты;\n",
    "    2. Сформировать сегменты клиентов;\n",
    "5. Итоговый вывод.\n",
    "    1. Дать возможные рекомендации по взаимодействию с сегментами на основе проведенного анализа;"
   ]
  },
  {
   "cell_type": "markdown",
   "metadata": {},
   "source": [
    "### Часть первая. Предобработка данных."
   ]
  },
  {
   "cell_type": "code",
   "execution_count": 1,
   "metadata": {},
   "outputs": [],
   "source": [
    "# Загружаем необходимые библиотеки\n",
    "import pandas as pd\n",
    "import matplotlib.pyplot as plt\n",
    "import seaborn as sns\n",
    "import plotly.express as px \n",
    "from plotly import graph_objects as go\n",
    "from scipy import stats as st\n",
    "import numpy as np\n",
    "from itertools import product, combinations"
   ]
  },
  {
   "cell_type": "code",
   "execution_count": 2,
   "metadata": {},
   "outputs": [],
   "source": [
    "data = pd.read_csv('/datasets/bank_scrooge.csv')"
   ]
  },
  {
   "cell_type": "code",
   "execution_count": 3,
   "metadata": {
    "scrolled": false
   },
   "outputs": [
    {
     "name": "stdout",
     "output_type": "stream",
     "text": [
      "<class 'pandas.core.frame.DataFrame'>\n",
      "RangeIndex: 10000 entries, 0 to 9999\n",
      "Data columns (total 12 columns):\n",
      " #   Column         Non-Null Count  Dtype  \n",
      "---  ------         --------------  -----  \n",
      " 0   USERID         10000 non-null  int64  \n",
      " 1   score          10000 non-null  float64\n",
      " 2   city           10000 non-null  object \n",
      " 3   gender         10000 non-null  object \n",
      " 4   age            9974 non-null   float64\n",
      " 5   equity         10000 non-null  int64  \n",
      " 6   balance        7705 non-null   float64\n",
      " 7   products       10000 non-null  int64  \n",
      " 8   credit_card    10000 non-null  int64  \n",
      " 9   last_activity  10000 non-null  int64  \n",
      " 10  EST_SALARY     10000 non-null  float64\n",
      " 11  churn          10000 non-null  int64  \n",
      "dtypes: float64(4), int64(6), object(2)\n",
      "memory usage: 937.6+ KB\n"
     ]
    },
    {
     "data": {
      "text/html": [
       "<div>\n",
       "<style scoped>\n",
       "    .dataframe tbody tr th:only-of-type {\n",
       "        vertical-align: middle;\n",
       "    }\n",
       "\n",
       "    .dataframe tbody tr th {\n",
       "        vertical-align: top;\n",
       "    }\n",
       "\n",
       "    .dataframe thead th {\n",
       "        text-align: right;\n",
       "    }\n",
       "</style>\n",
       "<table border=\"1\" class=\"dataframe\">\n",
       "  <thead>\n",
       "    <tr style=\"text-align: right;\">\n",
       "      <th></th>\n",
       "      <th>USERID</th>\n",
       "      <th>score</th>\n",
       "      <th>city</th>\n",
       "      <th>gender</th>\n",
       "      <th>age</th>\n",
       "      <th>equity</th>\n",
       "      <th>balance</th>\n",
       "      <th>products</th>\n",
       "      <th>credit_card</th>\n",
       "      <th>last_activity</th>\n",
       "      <th>EST_SALARY</th>\n",
       "      <th>churn</th>\n",
       "    </tr>\n",
       "  </thead>\n",
       "  <tbody>\n",
       "    <tr>\n",
       "      <th>0</th>\n",
       "      <td>183012</td>\n",
       "      <td>850.0</td>\n",
       "      <td>Рыбинск</td>\n",
       "      <td>Ж</td>\n",
       "      <td>25.0</td>\n",
       "      <td>1</td>\n",
       "      <td>59214.82</td>\n",
       "      <td>2</td>\n",
       "      <td>0</td>\n",
       "      <td>1</td>\n",
       "      <td>75719.14</td>\n",
       "      <td>1</td>\n",
       "    </tr>\n",
       "    <tr>\n",
       "      <th>1</th>\n",
       "      <td>146556</td>\n",
       "      <td>861.0</td>\n",
       "      <td>Рыбинск</td>\n",
       "      <td>Ж</td>\n",
       "      <td>37.0</td>\n",
       "      <td>5</td>\n",
       "      <td>850594.33</td>\n",
       "      <td>3</td>\n",
       "      <td>1</td>\n",
       "      <td>0</td>\n",
       "      <td>86621.77</td>\n",
       "      <td>0</td>\n",
       "    </tr>\n",
       "    <tr>\n",
       "      <th>2</th>\n",
       "      <td>120722</td>\n",
       "      <td>892.0</td>\n",
       "      <td>Рыбинск</td>\n",
       "      <td>Ж</td>\n",
       "      <td>30.0</td>\n",
       "      <td>0</td>\n",
       "      <td>NaN</td>\n",
       "      <td>1</td>\n",
       "      <td>1</td>\n",
       "      <td>1</td>\n",
       "      <td>107683.34</td>\n",
       "      <td>0</td>\n",
       "    </tr>\n",
       "    <tr>\n",
       "      <th>3</th>\n",
       "      <td>225363</td>\n",
       "      <td>866.0</td>\n",
       "      <td>Ярославль</td>\n",
       "      <td>Ж</td>\n",
       "      <td>51.0</td>\n",
       "      <td>5</td>\n",
       "      <td>1524746.26</td>\n",
       "      <td>2</td>\n",
       "      <td>0</td>\n",
       "      <td>1</td>\n",
       "      <td>174423.53</td>\n",
       "      <td>1</td>\n",
       "    </tr>\n",
       "    <tr>\n",
       "      <th>4</th>\n",
       "      <td>157978</td>\n",
       "      <td>730.0</td>\n",
       "      <td>Ярославль</td>\n",
       "      <td>М</td>\n",
       "      <td>34.0</td>\n",
       "      <td>5</td>\n",
       "      <td>174.00</td>\n",
       "      <td>1</td>\n",
       "      <td>1</td>\n",
       "      <td>0</td>\n",
       "      <td>67353.16</td>\n",
       "      <td>1</td>\n",
       "    </tr>\n",
       "    <tr>\n",
       "      <th>5</th>\n",
       "      <td>202305</td>\n",
       "      <td>856.0</td>\n",
       "      <td>Рыбинск</td>\n",
       "      <td>М</td>\n",
       "      <td>56.0</td>\n",
       "      <td>4</td>\n",
       "      <td>863687.24</td>\n",
       "      <td>3</td>\n",
       "      <td>1</td>\n",
       "      <td>0</td>\n",
       "      <td>156619.80</td>\n",
       "      <td>0</td>\n",
       "    </tr>\n",
       "    <tr>\n",
       "      <th>6</th>\n",
       "      <td>177259</td>\n",
       "      <td>807.0</td>\n",
       "      <td>Ярославль</td>\n",
       "      <td>Ж</td>\n",
       "      <td>39.0</td>\n",
       "      <td>3</td>\n",
       "      <td>405042.44</td>\n",
       "      <td>3</td>\n",
       "      <td>0</td>\n",
       "      <td>1</td>\n",
       "      <td>103838.32</td>\n",
       "      <td>0</td>\n",
       "    </tr>\n",
       "    <tr>\n",
       "      <th>7</th>\n",
       "      <td>218868</td>\n",
       "      <td>825.0</td>\n",
       "      <td>Ярославль</td>\n",
       "      <td>Ж</td>\n",
       "      <td>38.0</td>\n",
       "      <td>4</td>\n",
       "      <td>458145.40</td>\n",
       "      <td>2</td>\n",
       "      <td>1</td>\n",
       "      <td>1</td>\n",
       "      <td>68085.48</td>\n",
       "      <td>0</td>\n",
       "    </tr>\n",
       "    <tr>\n",
       "      <th>8</th>\n",
       "      <td>211686</td>\n",
       "      <td>923.0</td>\n",
       "      <td>Ярославль</td>\n",
       "      <td>М</td>\n",
       "      <td>54.0</td>\n",
       "      <td>5</td>\n",
       "      <td>1206337.87</td>\n",
       "      <td>2</td>\n",
       "      <td>1</td>\n",
       "      <td>0</td>\n",
       "      <td>155371.79</td>\n",
       "      <td>0</td>\n",
       "    </tr>\n",
       "    <tr>\n",
       "      <th>9</th>\n",
       "      <td>133130</td>\n",
       "      <td>906.0</td>\n",
       "      <td>Ярославль</td>\n",
       "      <td>Ж</td>\n",
       "      <td>67.0</td>\n",
       "      <td>0</td>\n",
       "      <td>NaN</td>\n",
       "      <td>1</td>\n",
       "      <td>0</td>\n",
       "      <td>1</td>\n",
       "      <td>238055.53</td>\n",
       "      <td>0</td>\n",
       "    </tr>\n",
       "  </tbody>\n",
       "</table>\n",
       "</div>"
      ],
      "text/plain": [
       "   USERID  score       city gender   age  equity     balance  products  \\\n",
       "0  183012  850.0    Рыбинск      Ж  25.0       1    59214.82         2   \n",
       "1  146556  861.0    Рыбинск      Ж  37.0       5   850594.33         3   \n",
       "2  120722  892.0    Рыбинск      Ж  30.0       0         NaN         1   \n",
       "3  225363  866.0  Ярославль      Ж  51.0       5  1524746.26         2   \n",
       "4  157978  730.0  Ярославль      М  34.0       5      174.00         1   \n",
       "5  202305  856.0    Рыбинск      М  56.0       4   863687.24         3   \n",
       "6  177259  807.0  Ярославль      Ж  39.0       3   405042.44         3   \n",
       "7  218868  825.0  Ярославль      Ж  38.0       4   458145.40         2   \n",
       "8  211686  923.0  Ярославль      М  54.0       5  1206337.87         2   \n",
       "9  133130  906.0  Ярославль      Ж  67.0       0         NaN         1   \n",
       "\n",
       "   credit_card  last_activity  EST_SALARY  churn  \n",
       "0            0              1    75719.14      1  \n",
       "1            1              0    86621.77      0  \n",
       "2            1              1   107683.34      0  \n",
       "3            0              1   174423.53      1  \n",
       "4            1              0    67353.16      1  \n",
       "5            1              0   156619.80      0  \n",
       "6            0              1   103838.32      0  \n",
       "7            1              1    68085.48      0  \n",
       "8            1              0   155371.79      0  \n",
       "9            0              1   238055.53      0  "
      ]
     },
     "metadata": {},
     "output_type": "display_data"
    }
   ],
   "source": [
    "data.info()\n",
    "display(data.head(10))"
   ]
  },
  {
   "cell_type": "code",
   "execution_count": 4,
   "metadata": {},
   "outputs": [],
   "source": [
    "# Переименуем столбцы, приведя их к нижнему регистру\n",
    "data = data.rename(columns={'USERID': 'user_id', 'EST_SALARY':'est_salary'})"
   ]
  },
  {
   "cell_type": "code",
   "execution_count": 5,
   "metadata": {},
   "outputs": [
    {
     "data": {
      "text/plain": [
       "0"
      ]
     },
     "execution_count": 5,
     "metadata": {},
     "output_type": "execute_result"
    }
   ],
   "source": [
    "data.duplicated().sum()"
   ]
  },
  {
   "cell_type": "code",
   "execution_count": 6,
   "metadata": {},
   "outputs": [
    {
     "data": {
      "text/plain": [
       "73"
      ]
     },
     "execution_count": 6,
     "metadata": {},
     "output_type": "execute_result"
    }
   ],
   "source": [
    "data.duplicated(['user_id']).sum()"
   ]
  },
  {
   "cell_type": "code",
   "execution_count": 7,
   "metadata": {
    "scrolled": true
   },
   "outputs": [
    {
     "data": {
      "text/html": [
       "<div>\n",
       "<style scoped>\n",
       "    .dataframe tbody tr th:only-of-type {\n",
       "        vertical-align: middle;\n",
       "    }\n",
       "\n",
       "    .dataframe tbody tr th {\n",
       "        vertical-align: top;\n",
       "    }\n",
       "\n",
       "    .dataframe thead th {\n",
       "        text-align: right;\n",
       "    }\n",
       "</style>\n",
       "<table border=\"1\" class=\"dataframe\">\n",
       "  <thead>\n",
       "    <tr style=\"text-align: right;\">\n",
       "      <th></th>\n",
       "      <th>user_id</th>\n",
       "      <th>score</th>\n",
       "      <th>city</th>\n",
       "      <th>gender</th>\n",
       "      <th>age</th>\n",
       "      <th>equity</th>\n",
       "      <th>balance</th>\n",
       "      <th>products</th>\n",
       "      <th>credit_card</th>\n",
       "      <th>last_activity</th>\n",
       "      <th>est_salary</th>\n",
       "      <th>churn</th>\n",
       "    </tr>\n",
       "  </thead>\n",
       "  <tbody>\n",
       "    <tr>\n",
       "      <th>7</th>\n",
       "      <td>218868</td>\n",
       "      <td>825.0</td>\n",
       "      <td>Ярославль</td>\n",
       "      <td>Ж</td>\n",
       "      <td>38.0</td>\n",
       "      <td>4</td>\n",
       "      <td>458145.40</td>\n",
       "      <td>2</td>\n",
       "      <td>1</td>\n",
       "      <td>1</td>\n",
       "      <td>68085.48</td>\n",
       "      <td>0</td>\n",
       "    </tr>\n",
       "    <tr>\n",
       "      <th>58</th>\n",
       "      <td>164676</td>\n",
       "      <td>860.0</td>\n",
       "      <td>Ярославль</td>\n",
       "      <td>М</td>\n",
       "      <td>37.0</td>\n",
       "      <td>5</td>\n",
       "      <td>648594.03</td>\n",
       "      <td>2</td>\n",
       "      <td>1</td>\n",
       "      <td>1</td>\n",
       "      <td>213586.86</td>\n",
       "      <td>1</td>\n",
       "    </tr>\n",
       "    <tr>\n",
       "      <th>150</th>\n",
       "      <td>185748</td>\n",
       "      <td>850.0</td>\n",
       "      <td>Рыбинск</td>\n",
       "      <td>М</td>\n",
       "      <td>36.0</td>\n",
       "      <td>5</td>\n",
       "      <td>1203376.67</td>\n",
       "      <td>2</td>\n",
       "      <td>0</td>\n",
       "      <td>1</td>\n",
       "      <td>89401.82</td>\n",
       "      <td>1</td>\n",
       "    </tr>\n",
       "    <tr>\n",
       "      <th>161</th>\n",
       "      <td>197364</td>\n",
       "      <td>928.0</td>\n",
       "      <td>Рыбинск</td>\n",
       "      <td>Ж</td>\n",
       "      <td>53.0</td>\n",
       "      <td>6</td>\n",
       "      <td>1347183.86</td>\n",
       "      <td>2</td>\n",
       "      <td>0</td>\n",
       "      <td>1</td>\n",
       "      <td>168189.49</td>\n",
       "      <td>1</td>\n",
       "    </tr>\n",
       "    <tr>\n",
       "      <th>231</th>\n",
       "      <td>190253</td>\n",
       "      <td>823.0</td>\n",
       "      <td>Рыбинск</td>\n",
       "      <td>М</td>\n",
       "      <td>37.0</td>\n",
       "      <td>4</td>\n",
       "      <td>373348.39</td>\n",
       "      <td>2</td>\n",
       "      <td>0</td>\n",
       "      <td>1</td>\n",
       "      <td>131947.92</td>\n",
       "      <td>1</td>\n",
       "    </tr>\n",
       "    <tr>\n",
       "      <th>431</th>\n",
       "      <td>214031</td>\n",
       "      <td>856.0</td>\n",
       "      <td>Рыбинск</td>\n",
       "      <td>М</td>\n",
       "      <td>36.0</td>\n",
       "      <td>2</td>\n",
       "      <td>386426.67</td>\n",
       "      <td>4</td>\n",
       "      <td>1</td>\n",
       "      <td>1</td>\n",
       "      <td>72767.85</td>\n",
       "      <td>0</td>\n",
       "    </tr>\n",
       "    <tr>\n",
       "      <th>440</th>\n",
       "      <td>221197</td>\n",
       "      <td>663.0</td>\n",
       "      <td>Рыбинск</td>\n",
       "      <td>М</td>\n",
       "      <td>27.0</td>\n",
       "      <td>0</td>\n",
       "      <td>NaN</td>\n",
       "      <td>1</td>\n",
       "      <td>1</td>\n",
       "      <td>1</td>\n",
       "      <td>172573.13</td>\n",
       "      <td>0</td>\n",
       "    </tr>\n",
       "    <tr>\n",
       "      <th>690</th>\n",
       "      <td>152479</td>\n",
       "      <td>768.0</td>\n",
       "      <td>Рыбинск</td>\n",
       "      <td>Ж</td>\n",
       "      <td>42.0</td>\n",
       "      <td>0</td>\n",
       "      <td>126787.79</td>\n",
       "      <td>4</td>\n",
       "      <td>1</td>\n",
       "      <td>1</td>\n",
       "      <td>143233.23</td>\n",
       "      <td>1</td>\n",
       "    </tr>\n",
       "    <tr>\n",
       "      <th>790</th>\n",
       "      <td>170312</td>\n",
       "      <td>901.0</td>\n",
       "      <td>Ярославль</td>\n",
       "      <td>М</td>\n",
       "      <td>33.0</td>\n",
       "      <td>4</td>\n",
       "      <td>3276783.93</td>\n",
       "      <td>3</td>\n",
       "      <td>0</td>\n",
       "      <td>1</td>\n",
       "      <td>358700.96</td>\n",
       "      <td>1</td>\n",
       "    </tr>\n",
       "    <tr>\n",
       "      <th>869</th>\n",
       "      <td>210662</td>\n",
       "      <td>962.0</td>\n",
       "      <td>Ярославль</td>\n",
       "      <td>Ж</td>\n",
       "      <td>54.0</td>\n",
       "      <td>5</td>\n",
       "      <td>5069231.39</td>\n",
       "      <td>1</td>\n",
       "      <td>1</td>\n",
       "      <td>1</td>\n",
       "      <td>955144.85</td>\n",
       "      <td>1</td>\n",
       "    </tr>\n",
       "  </tbody>\n",
       "</table>\n",
       "</div>"
      ],
      "text/plain": [
       "     user_id  score       city gender   age  equity     balance  products  \\\n",
       "7     218868  825.0  Ярославль      Ж  38.0       4   458145.40         2   \n",
       "58    164676  860.0  Ярославль      М  37.0       5   648594.03         2   \n",
       "150   185748  850.0    Рыбинск      М  36.0       5  1203376.67         2   \n",
       "161   197364  928.0    Рыбинск      Ж  53.0       6  1347183.86         2   \n",
       "231   190253  823.0    Рыбинск      М  37.0       4   373348.39         2   \n",
       "431   214031  856.0    Рыбинск      М  36.0       2   386426.67         4   \n",
       "440   221197  663.0    Рыбинск      М  27.0       0         NaN         1   \n",
       "690   152479  768.0    Рыбинск      Ж  42.0       0   126787.79         4   \n",
       "790   170312  901.0  Ярославль      М  33.0       4  3276783.93         3   \n",
       "869   210662  962.0  Ярославль      Ж  54.0       5  5069231.39         1   \n",
       "\n",
       "     credit_card  last_activity  est_salary  churn  \n",
       "7              1              1    68085.48      0  \n",
       "58             1              1   213586.86      1  \n",
       "150            0              1    89401.82      1  \n",
       "161            0              1   168189.49      1  \n",
       "231            0              1   131947.92      1  \n",
       "431            1              1    72767.85      0  \n",
       "440            1              1   172573.13      0  \n",
       "690            1              1   143233.23      1  \n",
       "790            0              1   358700.96      1  \n",
       "869            1              1   955144.85      1  "
      ]
     },
     "metadata": {},
     "output_type": "display_data"
    }
   ],
   "source": [
    "display(data[data.duplicated(subset=['user_id'], keep=False)].head(10))"
   ]
  },
  {
   "cell_type": "code",
   "execution_count": 8,
   "metadata": {
    "scrolled": true
   },
   "outputs": [
    {
     "data": {
      "text/html": [
       "<div>\n",
       "<style scoped>\n",
       "    .dataframe tbody tr th:only-of-type {\n",
       "        vertical-align: middle;\n",
       "    }\n",
       "\n",
       "    .dataframe tbody tr th {\n",
       "        vertical-align: top;\n",
       "    }\n",
       "\n",
       "    .dataframe thead th {\n",
       "        text-align: right;\n",
       "    }\n",
       "</style>\n",
       "<table border=\"1\" class=\"dataframe\">\n",
       "  <thead>\n",
       "    <tr style=\"text-align: right;\">\n",
       "      <th></th>\n",
       "      <th>user_id</th>\n",
       "      <th>score</th>\n",
       "      <th>city</th>\n",
       "      <th>gender</th>\n",
       "      <th>age</th>\n",
       "      <th>equity</th>\n",
       "      <th>balance</th>\n",
       "      <th>products</th>\n",
       "      <th>credit_card</th>\n",
       "      <th>last_activity</th>\n",
       "      <th>est_salary</th>\n",
       "      <th>churn</th>\n",
       "    </tr>\n",
       "  </thead>\n",
       "  <tbody>\n",
       "    <tr>\n",
       "      <th>946</th>\n",
       "      <td>149365</td>\n",
       "      <td>877.0</td>\n",
       "      <td>Ярославль</td>\n",
       "      <td>М</td>\n",
       "      <td>41.0</td>\n",
       "      <td>5</td>\n",
       "      <td>819182.01</td>\n",
       "      <td>2</td>\n",
       "      <td>0</td>\n",
       "      <td>0</td>\n",
       "      <td>212316.47</td>\n",
       "      <td>1</td>\n",
       "    </tr>\n",
       "    <tr>\n",
       "      <th>8272</th>\n",
       "      <td>149365</td>\n",
       "      <td>793.0</td>\n",
       "      <td>Рыбинск</td>\n",
       "      <td>Ж</td>\n",
       "      <td>61.0</td>\n",
       "      <td>0</td>\n",
       "      <td>476496.99</td>\n",
       "      <td>2</td>\n",
       "      <td>1</td>\n",
       "      <td>1</td>\n",
       "      <td>46147.06</td>\n",
       "      <td>0</td>\n",
       "    </tr>\n",
       "  </tbody>\n",
       "</table>\n",
       "</div>"
      ],
      "text/plain": [
       "      user_id  score       city gender   age  equity    balance  products  \\\n",
       "946    149365  877.0  Ярославль      М  41.0       5  819182.01         2   \n",
       "8272   149365  793.0    Рыбинск      Ж  61.0       0  476496.99         2   \n",
       "\n",
       "      credit_card  last_activity  est_salary  churn  \n",
       "946             0              0   212316.47      1  \n",
       "8272            1              1    46147.06      0  "
      ]
     },
     "metadata": {},
     "output_type": "display_data"
    }
   ],
   "source": [
    "display(data[data['user_id'] == 149365])"
   ]
  },
  {
   "cell_type": "markdown",
   "metadata": {},
   "source": [
    "Под одним user_id скрываются совершенно разные люди, проверим, действительно это дубликаты, добавив в проверку еще несколько столбцов."
   ]
  },
  {
   "cell_type": "code",
   "execution_count": 9,
   "metadata": {},
   "outputs": [
    {
     "data": {
      "text/plain": [
       "0"
      ]
     },
     "execution_count": 9,
     "metadata": {},
     "output_type": "execute_result"
    }
   ],
   "source": [
    "data.duplicated(['user_id', 'gender', 'city']).sum()"
   ]
  },
  {
   "cell_type": "markdown",
   "metadata": {},
   "source": [
    "Если еще город клиенты могли сменить, то пол вряд ли, оставим данные без изменений, дубликаты в user_id на самом деле дубликатами не являются.\n",
    "\n",
    "Пропуски в столбцах с возрастом и балансом было принято оставить, т.к. их нельзя заменить средним или медианным значением, без угрозы для дальнейшего анализа."
   ]
  },
  {
   "cell_type": "code",
   "execution_count": 10,
   "metadata": {},
   "outputs": [
    {
     "name": "stdout",
     "output_type": "stream",
     "text": [
      "['Ж' 'М']\n"
     ]
    }
   ],
   "source": [
    "# Проверим данные на аномалии\n",
    "print(data['gender'].unique())\n"
   ]
  },
  {
   "cell_type": "code",
   "execution_count": 11,
   "metadata": {},
   "outputs": [
    {
     "data": {
      "text/plain": [
       "array([[<AxesSubplot:title={'center':'user_id'}>,\n",
       "        <AxesSubplot:title={'center':'score'}>,\n",
       "        <AxesSubplot:title={'center':'age'}>],\n",
       "       [<AxesSubplot:title={'center':'equity'}>,\n",
       "        <AxesSubplot:title={'center':'balance'}>,\n",
       "        <AxesSubplot:title={'center':'products'}>],\n",
       "       [<AxesSubplot:title={'center':'credit_card'}>,\n",
       "        <AxesSubplot:title={'center':'last_activity'}>,\n",
       "        <AxesSubplot:title={'center':'est_salary'}>],\n",
       "       [<AxesSubplot:title={'center':'churn'}>, <AxesSubplot:>,\n",
       "        <AxesSubplot:>]], dtype=object)"
      ]
     },
     "execution_count": 11,
     "metadata": {},
     "output_type": "execute_result"
    },
    {
     "data": {
      "image/png": "[encoded data removed]",
      "text/plain": [
       "<Figure size 432x864 with 12 Axes>"
      ]
     },
     "metadata": {
      "needs_background": "light"
     },
     "output_type": "display_data"
    }
   ],
   "source": [
    "data.hist(figsize=(6,12))"
   ]
  },
  {
   "cell_type": "code",
   "execution_count": 12,
   "metadata": {},
   "outputs": [
    {
     "data": {
      "text/plain": [
       "count    9974.000000\n",
       "mean       42.734409\n",
       "std        12.179971\n",
       "min        18.000000\n",
       "25%        33.000000\n",
       "50%        40.000000\n",
       "75%        51.000000\n",
       "max        86.000000\n",
       "Name: age, dtype: float64"
      ]
     },
     "metadata": {},
     "output_type": "display_data"
    }
   ],
   "source": [
    "display(data['age'].describe())"
   ]
  },
  {
   "cell_type": "code",
   "execution_count": 13,
   "metadata": {},
   "outputs": [
    {
     "data": {
      "text/plain": [
       "0.0"
      ]
     },
     "metadata": {},
     "output_type": "display_data"
    },
    {
     "data": {
      "text/plain": [
       "119113552.01"
      ]
     },
     "metadata": {},
     "output_type": "display_data"
    }
   ],
   "source": [
    "display(data['balance'].min())\n",
    "display(data['balance'].max())"
   ]
  },
  {
   "cell_type": "code",
   "execution_count": 14,
   "metadata": {
    "scrolled": true
   },
   "outputs": [
    {
     "data": {
      "text/plain": [
       "count    10000.000000\n",
       "mean         1.870100\n",
       "std          0.792647\n",
       "min          0.000000\n",
       "25%          1.000000\n",
       "50%          2.000000\n",
       "75%          2.000000\n",
       "max          5.000000\n",
       "Name: products, dtype: float64"
      ]
     },
     "metadata": {},
     "output_type": "display_data"
    }
   ],
   "source": [
    "display(data['products'].describe())"
   ]
  },
  {
   "cell_type": "markdown",
   "metadata": {},
   "source": [
    "Если возраст не вызывает вопросов, то вот наличие клиентов с нулевым количеством продуктов противоречит самому определению клиента."
   ]
  },
  {
   "cell_type": "code",
   "execution_count": 15,
   "metadata": {},
   "outputs": [
    {
     "data": {
      "text/html": [
       "<div>\n",
       "<style scoped>\n",
       "    .dataframe tbody tr th:only-of-type {\n",
       "        vertical-align: middle;\n",
       "    }\n",
       "\n",
       "    .dataframe tbody tr th {\n",
       "        vertical-align: top;\n",
       "    }\n",
       "\n",
       "    .dataframe thead th {\n",
       "        text-align: right;\n",
       "    }\n",
       "</style>\n",
       "<table border=\"1\" class=\"dataframe\">\n",
       "  <thead>\n",
       "    <tr style=\"text-align: right;\">\n",
       "      <th></th>\n",
       "      <th>user_id</th>\n",
       "      <th>score</th>\n",
       "      <th>city</th>\n",
       "      <th>gender</th>\n",
       "      <th>age</th>\n",
       "      <th>equity</th>\n",
       "      <th>balance</th>\n",
       "      <th>products</th>\n",
       "      <th>credit_card</th>\n",
       "      <th>last_activity</th>\n",
       "      <th>est_salary</th>\n",
       "      <th>churn</th>\n",
       "    </tr>\n",
       "  </thead>\n",
       "  <tbody>\n",
       "    <tr>\n",
       "      <th>8957</th>\n",
       "      <td>147837</td>\n",
       "      <td>962.0</td>\n",
       "      <td>Рыбинск</td>\n",
       "      <td>Ж</td>\n",
       "      <td>79.0</td>\n",
       "      <td>3</td>\n",
       "      <td>NaN</td>\n",
       "      <td>0</td>\n",
       "      <td>0</td>\n",
       "      <td>0</td>\n",
       "      <td>25063.96</td>\n",
       "      <td>1</td>\n",
       "    </tr>\n",
       "  </tbody>\n",
       "</table>\n",
       "</div>"
      ],
      "text/plain": [
       "      user_id  score     city gender   age  equity  balance  products  \\\n",
       "8957   147837  962.0  Рыбинск      Ж  79.0       3      NaN         0   \n",
       "\n",
       "      credit_card  last_activity  est_salary  churn  \n",
       "8957            0              0    25063.96      1  "
      ]
     },
     "metadata": {},
     "output_type": "display_data"
    }
   ],
   "source": [
    "display(data[data['products'] == 0])"
   ]
  },
  {
   "cell_type": "markdown",
   "metadata": {},
   "source": [
    "Удалим данную строку из нашего датафрейма."
   ]
  },
  {
   "cell_type": "code",
   "execution_count": 16,
   "metadata": {},
   "outputs": [
    {
     "name": "stdout",
     "output_type": "stream",
     "text": [
      "<class 'pandas.core.frame.DataFrame'>\n",
      "Int64Index: 9999 entries, 0 to 9999\n",
      "Data columns (total 12 columns):\n",
      " #   Column         Non-Null Count  Dtype  \n",
      "---  ------         --------------  -----  \n",
      " 0   user_id        9999 non-null   int64  \n",
      " 1   score          9999 non-null   float64\n",
      " 2   city           9999 non-null   object \n",
      " 3   gender         9999 non-null   object \n",
      " 4   age            9973 non-null   float64\n",
      " 5   equity         9999 non-null   int64  \n",
      " 6   balance        7705 non-null   float64\n",
      " 7   products       9999 non-null   int64  \n",
      " 8   credit_card    9999 non-null   int64  \n",
      " 9   last_activity  9999 non-null   int64  \n",
      " 10  est_salary     9999 non-null   float64\n",
      " 11  churn          9999 non-null   int64  \n",
      "dtypes: float64(4), int64(6), object(2)\n",
      "memory usage: 1015.5+ KB\n"
     ]
    }
   ],
   "source": [
    "data = data[data['products'] != 0]\n",
    "data.info()"
   ]
  },
  {
   "cell_type": "markdown",
   "metadata": {},
   "source": [
    "Также переведем столбцы score и age из типы данных float в int."
   ]
  },
  {
   "cell_type": "code",
   "execution_count": 17,
   "metadata": {},
   "outputs": [
    {
     "name": "stdout",
     "output_type": "stream",
     "text": [
      "<class 'pandas.core.frame.DataFrame'>\n",
      "Int64Index: 9973 entries, 0 to 9999\n",
      "Data columns (total 12 columns):\n",
      " #   Column         Non-Null Count  Dtype  \n",
      "---  ------         --------------  -----  \n",
      " 0   user_id        9973 non-null   int64  \n",
      " 1   score          9973 non-null   int64  \n",
      " 2   city           9973 non-null   object \n",
      " 3   gender         9973 non-null   object \n",
      " 4   age            9973 non-null   int64  \n",
      " 5   equity         9973 non-null   int64  \n",
      " 6   balance        7695 non-null   float64\n",
      " 7   products       9973 non-null   int64  \n",
      " 8   credit_card    9973 non-null   int64  \n",
      " 9   last_activity  9973 non-null   int64  \n",
      " 10  est_salary     9973 non-null   float64\n",
      " 11  churn          9973 non-null   int64  \n",
      "dtypes: float64(2), int64(8), object(2)\n",
      "memory usage: 1012.9+ KB\n"
     ]
    }
   ],
   "source": [
    "data = data.dropna(subset=['age'])\n",
    "data[['score', 'age']] = data[['score', 'age']].astype('int64')\n",
    "data.info()"
   ]
  },
  {
   "cell_type": "markdown",
   "metadata": {},
   "source": [
    "В ходе предобработки была осуществлена проверка на дубликаты, проверка на аномальные значения, переведены типы данных."
   ]
  },
  {
   "cell_type": "markdown",
   "metadata": {},
   "source": [
    "### Часть вторая. Исследовательский анализ данных.\n"
   ]
  },
  {
   "cell_type": "markdown",
   "metadata": {},
   "source": [
    "Посчитаем процент отточности клиентов банка."
   ]
  },
  {
   "cell_type": "code",
   "execution_count": 18,
   "metadata": {},
   "outputs": [
    {
     "name": "stdout",
     "output_type": "stream",
     "text": [
      "0.1823\n"
     ]
    }
   ],
   "source": [
    "print(data['churn'].mean().round(4))"
   ]
  },
  {
   "cell_type": "markdown",
   "metadata": {},
   "source": [
    "Почти каждый пятый клиент уходит из нашего банка, построим распределения имеющихся показателей, чтобы понять, какими признаками обладают клиенты, которые чаще покидают банк."
   ]
  },
  {
   "cell_type": "code",
   "execution_count": 19,
   "metadata": {
    "scrolled": false
   },
   "outputs": [
    {
     "data": {
      "image/png": "[encoded data removed]",
      "text/plain": [
       "<Figure size 576x576 with 1 Axes>"
      ]
     },
     "metadata": {
      "needs_background": "light"
     },
     "output_type": "display_data"
    }
   ],
   "source": [
    "plt.figure(figsize=(8,8))\n",
    "sns.histplot(data=data, hue=data['churn'].map({0: 'Остался', 1: 'Ушел'}), \n",
    "             x='score', stat='density', common_norm=False, palette='flag')\n",
    "plt.title('Распределение вероятности оттока клиентов в зависимости от оценки кредитного скоринга')\n",
    "plt.xlabel('Баллы кредитного скоринга')\n",
    "plt.ylabel('Вероятность')\n",
    "plt.show()"
   ]
  },
  {
   "cell_type": "markdown",
   "metadata": {},
   "source": [
    "Клиенты с оценкой от 830 до 930 наиболее склонны покидать банк."
   ]
  },
  {
   "cell_type": "code",
   "execution_count": 20,
   "metadata": {
    "scrolled": false
   },
   "outputs": [
    {
     "data": {
      "image/png": "[encoded data removed]",
      "text/plain": [
       "<Figure size 576x576 with 1 Axes>"
      ]
     },
     "metadata": {
      "needs_background": "light"
     },
     "output_type": "display_data"
    }
   ],
   "source": [
    "plt.figure(figsize=(8,8))\n",
    "sns.histplot(data=data, hue=data['churn'].map({0: 'Остался', 1: 'Ушел'}), \n",
    "             x='gender', stat='density', common_norm=False, palette='flag')\n",
    "plt.title('Распределение вероятности оттока клиентов в зависимости от пола')\n",
    "plt.xlabel('Пол клиента')\n",
    "plt.ylabel('Вероятность')\n",
    "plt.show()"
   ]
  },
  {
   "cell_type": "markdown",
   "metadata": {},
   "source": [
    "Женщины чаще остаются, в то время как среди мужчин отток выше."
   ]
  },
  {
   "cell_type": "code",
   "execution_count": 21,
   "metadata": {
    "scrolled": false
   },
   "outputs": [
    {
     "data": {
      "image/png": "[encoded data removed]",
      "text/plain": [
       "<Figure size 576x576 with 1 Axes>"
      ]
     },
     "metadata": {
      "needs_background": "light"
     },
     "output_type": "display_data"
    }
   ],
   "source": [
    "plt.figure(figsize=(8,8))\n",
    "sns.histplot(data=data, hue=data['churn'].map({0: 'Остался', 1: 'Ушел'}), \n",
    "             x='age', stat='density', common_norm=False, palette='flag')\n",
    "plt.title('Распределение вероятности оттока клиентов в зависимости от возраста')\n",
    "plt.xlabel('Возраст клиента')\n",
    "plt.ylabel('Вероятность')\n",
    "plt.show()"
   ]
  },
  {
   "cell_type": "markdown",
   "metadata": {},
   "source": [
    "Наивысший уровень оттока у клиентов с возрастом от 25 до 35, и у клиентов от 50 до 60 лет."
   ]
  },
  {
   "cell_type": "code",
   "execution_count": 22,
   "metadata": {
    "scrolled": false
   },
   "outputs": [
    {
     "data": {
      "image/png": "[encoded data removed]",
      "text/plain": [
       "<Figure size 576x576 with 1 Axes>"
      ]
     },
     "metadata": {
      "needs_background": "light"
     },
     "output_type": "display_data"
    }
   ],
   "source": [
    "plt.figure(figsize=(8,8))\n",
    "sns.histplot(data=data, hue=data['churn'].map({0: 'Остался', 1: 'Ушел'}), \n",
    "             x='equity', stat='density', common_norm=False, palette='flag')\n",
    "plt.title('Распределение вероятности оттока клиентов в зависимости от оценочного значения собственности')\n",
    "plt.xlabel('Оценочное значение собственности клиента')\n",
    "plt.ylabel('Вероятность')\n",
    "plt.show()"
   ]
  },
  {
   "cell_type": "markdown",
   "metadata": {},
   "source": [
    "Клиенты с оценкой собственности 3 и выше также склонны чаще покидать наш банк."
   ]
  },
  {
   "cell_type": "code",
   "execution_count": 23,
   "metadata": {
    "scrolled": true
   },
   "outputs": [
    {
     "data": {
      "image/png": "[encoded data removed]",
      "text/plain": [
       "<Figure size 576x576 with 1 Axes>"
      ]
     },
     "metadata": {
      "needs_background": "light"
     },
     "output_type": "display_data"
    }
   ],
   "source": [
    "plt.figure(figsize=(8,8))\n",
    "sns.histplot(data=data, hue=data['churn'].map({0: 'Остался', 1: 'Ушел'}), \n",
    "             x='balance', stat='density', common_norm=False, palette='flag')\n",
    "plt.title('Распределение вероятности оттока клиентов в зависимости от баланса')\n",
    "plt.xlabel('Количество средств на балансе')\n",
    "plt.ylabel('Вероятность')\n",
    "plt.show()"
   ]
  },
  {
   "cell_type": "code",
   "execution_count": 24,
   "metadata": {
    "scrolled": false
   },
   "outputs": [
    {
     "data": {
      "image/png": "[encoded data removed]",
      "text/plain": [
       "<Figure size 576x576 with 1 Axes>"
      ]
     },
     "metadata": {
      "needs_background": "light"
     },
     "output_type": "display_data"
    }
   ],
   "source": [
    "plt.figure(figsize=(8,8))\n",
    "sns.histplot(data=data, hue=data['churn'].map({0: 'Остался', 1: 'Ушел'}), \n",
    "             x='balance', stat='density', common_norm=False, palette='flag')\n",
    "plt.xlim(0, 2000000)\n",
    "plt.title('Распределение вероятности оттока клиентов в зависимости от баланса')\n",
    "plt.xlabel('Количество средств на балансе')\n",
    "plt.ylabel('Вероятность')\n",
    "plt.show()"
   ]
  },
  {
   "cell_type": "markdown",
   "metadata": {},
   "source": [
    "Пользователи с балансом более 750 000 рублей более склонны покидать банк."
   ]
  },
  {
   "cell_type": "code",
   "execution_count": 25,
   "metadata": {
    "scrolled": false
   },
   "outputs": [
    {
     "data": {
      "image/png": "[encoded data removed]",
      "text/plain": [
       "<Figure size 576x576 with 1 Axes>"
      ]
     },
     "metadata": {
      "needs_background": "light"
     },
     "output_type": "display_data"
    }
   ],
   "source": [
    "plt.figure(figsize=(8,8))\n",
    "sns.histplot(data=data, hue=data['churn'].map({0: 'Остался', 1: 'Ушел'}), \n",
    "             x='products', stat='density', common_norm=False, palette='flag')\n",
    "\n",
    "plt.title('Распределение вероятности оттока клиентов в зависимости от количества используемых продуктов')\n",
    "plt.xlabel('Количество продуктов')\n",
    "plt.ylabel('Вероятность')\n",
    "\n",
    "plt.show()"
   ]
  },
  {
   "cell_type": "markdown",
   "metadata": {},
   "source": [
    "Клиенты с 1 продуктом банка чаще остаются, а вот дальше картина меняется в обратную сторону, чем больше продуктов у клиента, тем выше вероятность его ухода."
   ]
  },
  {
   "cell_type": "code",
   "execution_count": 26,
   "metadata": {},
   "outputs": [
    {
     "data": {
      "image/png": "[encoded data removed]",
      "text/plain": [
       "<Figure size 576x576 with 1 Axes>"
      ]
     },
     "metadata": {
      "needs_background": "light"
     },
     "output_type": "display_data"
    }
   ],
   "source": [
    "plt.figure(figsize=(8,8))\n",
    "sns.histplot(data=data, hue=data['churn'].map({0: 'Остался', 1: 'Ушел'}), \n",
    "             x='credit_card', stat='density', common_norm=False, palette='flag')\n",
    "plt.title('Распределение вероятности оттока клиентов в зависимости от наличия кредитной карты')\n",
    "plt.xlabel('Кредитная карта')\n",
    "plt.ylabel('Вероятность')\n",
    "\n",
    "plt.show()"
   ]
  },
  {
   "cell_type": "code",
   "execution_count": 27,
   "metadata": {
    "scrolled": false
   },
   "outputs": [
    {
     "data": {
      "image/png": "[encoded data removed]",
      "text/plain": [
       "<Figure size 576x576 with 1 Axes>"
      ]
     },
     "metadata": {
      "needs_background": "light"
     },
     "output_type": "display_data"
    }
   ],
   "source": [
    "plt.figure(figsize=(8,8))\n",
    "sns.histplot(data=data, hue=data['churn'].map({0: 'Остался', 1: 'Ушел'}), \n",
    "             x='last_activity', stat='density', common_norm=False, palette='flag')\n",
    "plt.title('Распределение вероятности оттока клиентов в зависимости от активности в последний период')\n",
    "plt.xlabel('Активность')\n",
    "plt.ylabel('Вероятность')\n",
    "\n",
    "plt.show()"
   ]
  },
  {
   "cell_type": "markdown",
   "metadata": {},
   "source": [
    "Клиенты, которые были активны в последнее время чаще покидают банк, чем те, кто не были активны."
   ]
  },
  {
   "cell_type": "code",
   "execution_count": 28,
   "metadata": {},
   "outputs": [
    {
     "data": {
      "text/plain": [
       "<AxesSubplot:xlabel='est_salary', ylabel='Density'>"
      ]
     },
     "execution_count": 28,
     "metadata": {},
     "output_type": "execute_result"
    },
    {
     "data": {
      "image/png": "[encoded data removed]",
      "text/plain": [
       "<Figure size 576x576 with 1 Axes>"
      ]
     },
     "metadata": {
      "needs_background": "light"
     },
     "output_type": "display_data"
    }
   ],
   "source": [
    "plt.figure(figsize=(8,8))\n",
    "sns.histplot(data=data, hue=data['churn'].map({0: 'Остался', 1: 'Ушел'}), \n",
    "             x='est_salary', stat='density', common_norm=False, palette='flag')"
   ]
  },
  {
   "cell_type": "code",
   "execution_count": 29,
   "metadata": {},
   "outputs": [
    {
     "data": {
      "image/png": "[encoded data removed]",
      "text/plain": [
       "<Figure size 576x576 with 1 Axes>"
      ]
     },
     "metadata": {
      "needs_background": "light"
     },
     "output_type": "display_data"
    }
   ],
   "source": [
    "plt.figure(figsize=(8,8))\n",
    "sns.histplot(data=data, hue=data['churn'].map({0: 'Остался', 1: 'Ушел'}), \n",
    "             x='est_salary', stat='density', common_norm=False, palette='flag')\n",
    "plt.xlim(0, 400000)\n",
    "\n",
    "plt.show()"
   ]
  },
  {
   "cell_type": "markdown",
   "metadata": {},
   "source": [
    "Люди с доходом выше 100 000 также более склонны к уходу из нашего банка.\n",
    "\n",
    "За счет построенных выше графиков складывается ощущение, что чаще всего из банка уходят именно активные и состоятельные люди, пользующиеся сразу несколькими продуктами банка, имеющими высокий доход, более 750 000 рублей на балансе и оценку собственности 3 и выше. Возможно, услуги банка не позволяют получать желаемую такими людьми выгоду."
   ]
  },
  {
   "cell_type": "markdown",
   "metadata": {},
   "source": [
    "Построим матрицу корреляций, чтобы увидеть возможные закономерности."
   ]
  },
  {
   "cell_type": "code",
   "execution_count": 30,
   "metadata": {},
   "outputs": [
    {
     "data": {
      "text/plain": [
       "<AxesSubplot:>"
      ]
     },
     "execution_count": 30,
     "metadata": {},
     "output_type": "execute_result"
    },
    {
     "data": {
      "image/png": "[encoded data removed]",
      "text/plain": [
       "<Figure size 648x648 with 2 Axes>"
      ]
     },
     "metadata": {
      "needs_background": "light"
     },
     "output_type": "display_data"
    }
   ],
   "source": [
    "data_corr = data.drop(['user_id', 'credit_card', 'last_activity'], axis=1).corr()\n",
    "\n",
    "plt.figure(figsize=(9,9))\n",
    "sns.heatmap(\n",
    "    data_corr.drop('churn').sort_values('churn'),\n",
    "    annot=True, fmt='.0%', cmap='vlag', center=0)"
   ]
  },
  {
   "cell_type": "code",
   "execution_count": 31,
   "metadata": {},
   "outputs": [
    {
     "data": {
      "text/plain": [
       "Text(0.5, 1.0, 'Корреляция оттока с показателями клиентов')"
      ]
     },
     "execution_count": 31,
     "metadata": {},
     "output_type": "execute_result"
    },
    {
     "data": {
      "image/png": "[encoded data removed]",
      "text/plain": [
       "<Figure size 432x288 with 2 Axes>"
      ]
     },
     "metadata": {
      "needs_background": "light"
     },
     "output_type": "display_data"
    }
   ],
   "source": [
    "sns.heatmap(\n",
    "    data_corr.loc[:,['churn']].drop('churn').sort_values('churn'),\n",
    "    annot=True, fmt='.0%', cmap='vlag', center=0)\n",
    "plt.title('Корреляция оттока с показателями клиентов')"
   ]
  },
  {
   "cell_type": "markdown",
   "metadata": {},
   "source": [
    "Наибольший уровень корреляции с оттоком пользователей показывают увеличение числа продуктов, оценки собственности и активность пользователя, а вот наличие кредитной карты показывает отрицательную корреляцию, но при этом уровень корреляции во всех случаях не превышает значений для слабого уровня корреляции."
   ]
  },
  {
   "cell_type": "markdown",
   "metadata": {},
   "source": [
    "### Часть третья. Проверка статистических гипотез."
   ]
  },
  {
   "cell_type": "markdown",
   "metadata": {},
   "source": [
    "Проверим статистические гипотезы, обозначим ниже нулевые и альтернативные гипотезы:\n",
    "\n",
    "1. Гипотеза о различии дохода между теми клиентами, которые ушли, и теми, которые остались:\n",
    "    1. H0 - Средний доход оставшихся клиентов равен среднему доходу ушедших клиентов;\n",
    "    2. Н1 - Средний доход ушедших клиентов больше среднего дохода оставшихся клиентов.\n",
    "2. Гипотеза о различии среднего количества продуктов между теми клиентами, которые ушли, и теми, которые остались:\n",
    "    1. Н0 - Среднее количество продуктов оставшихся клиентов равно среднему доходу ушедших клиентов;\n",
    "    2. Н1 - Среднее количество продуктов ушедших клиентов больше среднего количества продуктов оставшихся клиентов.\n",
    "3. Гипотеза о различии средней оценки собственности между теми клиентами, которые ушли, и теми, которые остались:\n",
    "    1. Н0 - Средняя оценка собственности оставшихся клиентов равна средней оценке собственности ушедших клиентов;\n",
    "    2. Н1 - Средняя оценка собственности ушедших клиентов выше средней оценки собственности оставшихся клиентов."
   ]
  },
  {
   "cell_type": "code",
   "execution_count": 32,
   "metadata": {},
   "outputs": [],
   "source": [
    "data_stay = data[data['churn'] == 0]\n",
    "data_leave = data[data['churn'] == 1]"
   ]
  },
  {
   "cell_type": "code",
   "execution_count": 33,
   "metadata": {},
   "outputs": [
    {
     "name": "stdout",
     "output_type": "stream",
     "text": [
      "<class 'pandas.core.frame.DataFrame'>\n",
      "Int64Index: 8155 entries, 1 to 9999\n",
      "Data columns (total 12 columns):\n",
      " #   Column         Non-Null Count  Dtype  \n",
      "---  ------         --------------  -----  \n",
      " 0   user_id        8155 non-null   int64  \n",
      " 1   score          8155 non-null   int64  \n",
      " 2   city           8155 non-null   object \n",
      " 3   gender         8155 non-null   object \n",
      " 4   age            8155 non-null   int64  \n",
      " 5   equity         8155 non-null   int64  \n",
      " 6   balance        5889 non-null   float64\n",
      " 7   products       8155 non-null   int64  \n",
      " 8   credit_card    8155 non-null   int64  \n",
      " 9   last_activity  8155 non-null   int64  \n",
      " 10  est_salary     8155 non-null   float64\n",
      " 11  churn          8155 non-null   int64  \n",
      "dtypes: float64(2), int64(8), object(2)\n",
      "memory usage: 828.2+ KB\n"
     ]
    }
   ],
   "source": [
    "data_stay.info()"
   ]
  },
  {
   "cell_type": "code",
   "execution_count": 34,
   "metadata": {},
   "outputs": [
    {
     "name": "stdout",
     "output_type": "stream",
     "text": [
      "<class 'pandas.core.frame.DataFrame'>\n",
      "Int64Index: 1818 entries, 0 to 9994\n",
      "Data columns (total 12 columns):\n",
      " #   Column         Non-Null Count  Dtype  \n",
      "---  ------         --------------  -----  \n",
      " 0   user_id        1818 non-null   int64  \n",
      " 1   score          1818 non-null   int64  \n",
      " 2   city           1818 non-null   object \n",
      " 3   gender         1818 non-null   object \n",
      " 4   age            1818 non-null   int64  \n",
      " 5   equity         1818 non-null   int64  \n",
      " 6   balance        1806 non-null   float64\n",
      " 7   products       1818 non-null   int64  \n",
      " 8   credit_card    1818 non-null   int64  \n",
      " 9   last_activity  1818 non-null   int64  \n",
      " 10  est_salary     1818 non-null   float64\n",
      " 11  churn          1818 non-null   int64  \n",
      "dtypes: float64(2), int64(8), object(2)\n",
      "memory usage: 184.6+ KB\n"
     ]
    }
   ],
   "source": [
    "data_leave.info()"
   ]
  },
  {
   "cell_type": "code",
   "execution_count": 35,
   "metadata": {},
   "outputs": [
    {
     "name": "stdout",
     "output_type": "stream",
     "text": [
      "0.42504411936290176\n",
      "Не получилось отвергнуть нулевую гипотезу\n"
     ]
    }
   ],
   "source": [
    "alpha = 0.05\n",
    "results = st.ttest_ind(data_leave['est_salary'], data_stay['est_salary'], alternative='greater')\n",
    "print(results.pvalue)\n",
    "if results.pvalue < alpha:\n",
    "    print('Отвергаем нулевую гипотезу')\n",
    "else:\n",
    "    print('Не получилось отвергнуть нулевую гипотезу') "
   ]
  },
  {
   "cell_type": "markdown",
   "metadata": {},
   "source": [
    "Не удалось отвергнуть нулевую гипотезу о равенстве среднего дохода ушедших и оставшихся пользователей."
   ]
  },
  {
   "cell_type": "code",
   "execution_count": 36,
   "metadata": {},
   "outputs": [
    {
     "name": "stdout",
     "output_type": "stream",
     "text": [
      "1.2589373271223973e-208\n",
      "Отвергаем нулевую гипотезу\n"
     ]
    }
   ],
   "source": [
    "alpha = 0.05\n",
    "results = st.ttest_ind(data_leave['products'], data_stay['products'], alternative='greater')\n",
    "print(results.pvalue)\n",
    "if results.pvalue < alpha:\n",
    "    print('Отвергаем нулевую гипотезу')\n",
    "else:\n",
    "    print('Не получилось отвергнуть нулевую гипотезу') "
   ]
  },
  {
   "cell_type": "markdown",
   "metadata": {},
   "source": [
    "Действительно, у ушедших клиентов банка больше продуктов, чем у оставшихся."
   ]
  },
  {
   "cell_type": "code",
   "execution_count": 37,
   "metadata": {},
   "outputs": [
    {
     "name": "stdout",
     "output_type": "stream",
     "text": [
      "1.400736274194976e-166\n",
      "Отвергаем нулевую гипотезу\n"
     ]
    }
   ],
   "source": [
    "alpha = 0.05\n",
    "results = st.ttest_ind(data_leave['equity'], data_stay['equity'], alternative='greater')\n",
    "print(results.pvalue)\n",
    "if results.pvalue < alpha:\n",
    "    print('Отвергаем нулевую гипотезу')\n",
    "else:\n",
    "    print('Не получилось отвергнуть нулевую гипотезу') "
   ]
  },
  {
   "cell_type": "markdown",
   "metadata": {},
   "source": [
    "Оценка собственности выше у клиентов, которые ушли из банка."
   ]
  },
  {
   "cell_type": "markdown",
   "metadata": {},
   "source": [
    "Таким образом, после проверки статистических гипотез можно выделить следующие наиболее значимые признаки оттока:\n",
    "1) Активность пользователей - как и сама активность в недавнее время, так и количество продуктов банка более двух;\n",
    "\n",
    "2) Высокий доход (более 100 000 рублей), оценка собственности 3 пункта или выше и количество средств на балансе более 750 000 рублей. "
   ]
  },
  {
   "cell_type": "markdown",
   "metadata": {},
   "source": [
    "### Часть четвертая. Сегментация клиентов."
   ]
  },
  {
   "cell_type": "markdown",
   "metadata": {},
   "source": [
    "Создадим функцию, которая переберет сегменты с наибольшим уровнем оттока по 2-3 критериям."
   ]
  },
  {
   "cell_type": "code",
   "execution_count": 38,
   "metadata": {
    "scrolled": false
   },
   "outputs": [
    {
     "name": "stdout",
     "output_type": "stream",
     "text": [
      "Сегмент: ('est_salary', 'balance', 'last_activity'), Используемые значения: ['Доход > 100000', 'Баланс > 750000', 'Активный клиент'], Отток: 57.55%, Количество клиентов: 973\n",
      "\n",
      "Сегмент: ('credit_card', 'balance', 'last_activity'), Используемые значения: ['Кредитная карта: нет', 'Баланс > 750000', 'Активный клиент'], Отток: 56.91%, Количество клиентов: 666\n",
      "\n",
      "Сегмент: ('age', 'products', 'balance'), Используемые значения: ['Возраст от 25 до 35', 'Продуктов >= 2', 'Баланс > 750000'], Отток: 51.55%, Количество клиентов: 549\n",
      "\n",
      "Сегмент: ('products', 'balance', 'last_activity'), Используемые значения: ['Продуктов >= 2', 'Баланс > 750000', 'Активный клиент'], Отток: 50.84%, Количество клиентов: 1257\n",
      "\n",
      "Сегмент: ('balance', 'equity', 'last_activity'), Используемые значения: ['Баланс > 750000', 'Собственность >= 3', 'Активный клиент'], Отток: 49.92%, Количество клиентов: 1292\n",
      "\n",
      "Сегмент: ('age', 'balance', 'equity'), Используемые значения: ['Возраст от 25 до 35', 'Баланс > 750000', 'Собственность >= 3'], Отток: 49.83%, Количество клиентов: 578\n",
      "\n",
      "Сегмент: ('age', 'balance'), Используемые значения: ['Возраст от 25 до 35', 'Баланс > 750000'], Отток: 48.56%, Количество клиентов: 624\n",
      "\n",
      "Сегмент: ('balance', 'last_activity'), Используемые значения: ['Баланс > 750000', 'Активный клиент'], Отток: 48.55%, Количество клиентов: 1415\n",
      "\n",
      "Сегмент: ('credit_card', 'est_salary', 'balance'), Используемые значения: ['Кредитная карта: нет', 'Доход > 100000', 'Баланс > 750000'], Отток: 47.86%, Количество клиентов: 863\n",
      "\n",
      "Сегмент: ('age', 'equity', 'last_activity'), Используемые значения: ['Возраст от 25 до 35', 'Собственность >= 3', 'Активный клиент'], Отток: 47.49%, Количество клиентов: 958\n",
      "\n",
      "Сегмент: ('age', 'products', 'balance'), Используемые значения: ['Возраст от 50 до 60', 'Продуктов >= 2', 'Баланс > 750000'], Отток: 47.26%, Количество клиентов: 548\n",
      "\n",
      "Сегмент: ('est_salary', 'equity', 'last_activity'), Используемые значения: ['Доход > 100000', 'Собственность >= 3', 'Активный клиент'], Отток: 46.56%, Количество клиентов: 1585\n",
      "\n",
      "Сегмент: ('credit_card', 'age', 'equity'), Используемые значения: ['Кредитная карта: нет', 'Возраст от 25 до 35', 'Собственность >= 3'], Отток: 45.69%, Количество клиентов: 580\n",
      "\n",
      "Сегмент: ('age', 'equity', 'last_activity'), Используемые значения: ['Возраст от 50 до 60', 'Собственность >= 3', 'Активный клиент'], Отток: 45.22%, Количество клиентов: 544\n",
      "\n",
      "Сегмент: ('credit_card', 'equity', 'last_activity'), Используемые значения: ['Кредитная карта: нет', 'Собственность >= 3', 'Активный клиент'], Отток: 45.21%, Количество клиентов: 1201\n",
      "\n",
      "Сегмент: ('age', 'est_salary', 'equity'), Используемые значения: ['Возраст от 25 до 35', 'Доход > 100000', 'Собственность >= 3'], Отток: 45.12%, Количество клиентов: 769\n",
      "\n",
      "Сегмент: ('age', 'balance', 'equity'), Используемые значения: ['Возраст от 50 до 60', 'Баланс > 750000', 'Собственность >= 3'], Отток: 45.04%, Количество клиентов: 564\n",
      "\n",
      "Сегмент: ('age', 'balance'), Используемые значения: ['Возраст от 50 до 60', 'Баланс > 750000'], Отток: 44.55%, Количество клиентов: 615\n",
      "\n",
      "Сегмент: ('credit_card', 'balance', 'equity'), Используемые значения: ['Кредитная карта: нет', 'Баланс > 750000', 'Собственность >= 3'], Отток: 43.56%, Количество клиентов: 1118\n",
      "\n",
      "Сегмент: ('est_salary', 'products', 'balance'), Используемые значения: ['Доход > 100000', 'Продуктов >= 2', 'Баланс > 750000'], Отток: 42.93%, Количество клиентов: 1663\n",
      "\n",
      "Сегмент: ('credit_card', 'products', 'balance'), Используемые значения: ['Кредитная карта: нет', 'Продуктов >= 2', 'Баланс > 750000'], Отток: 42.47%, Количество клиентов: 1196\n",
      "\n",
      "Сегмент: ('credit_card', 'balance'), Используемые значения: ['Кредитная карта: нет', 'Баланс > 750000'], Отток: 42.24%, Количество клиентов: 1212\n",
      "\n",
      "Сегмент: ('age', 'products', 'last_activity'), Используемые значения: ['Возраст от 50 до 60', 'Продуктов >= 2', 'Активный клиент'], Отток: 41.94%, Количество клиентов: 651\n",
      "\n",
      "Сегмент: ('age', 'products', 'last_activity'), Используемые значения: ['Возраст от 25 до 35', 'Продуктов >= 2', 'Активный клиент'], Отток: 41.86%, Количество клиентов: 1094\n",
      "\n",
      "Сегмент: ('credit_card', 'est_salary', 'last_activity'), Используемые значения: ['Кредитная карта: нет', 'Доход > 100000', 'Активный клиент'], Отток: 41.63%, Количество клиентов: 1021\n",
      "\n",
      "Сегмент: ('age', 'est_salary', 'equity'), Используемые значения: ['Возраст от 50 до 60', 'Доход > 100000', 'Собственность >= 3'], Отток: 41.60%, Количество клиентов: 500\n",
      "\n",
      "Сегмент: ('est_salary', 'balance', 'equity'), Используемые значения: ['Доход > 100000', 'Баланс > 750000', 'Собственность >= 3'], Отток: 41.24%, Количество клиентов: 1729\n",
      "\n",
      "Сегмент: ('est_salary', 'products', 'last_activity'), Используемые значения: ['Доход > 100000', 'Продуктов >= 2', 'Активный клиент'], Отток: 40.88%, Количество клиентов: 1886\n",
      "\n",
      "Сегмент: ('credit_card', 'products', 'last_activity'), Используемые значения: ['Кредитная карта: нет', 'Продуктов >= 2', 'Активный клиент'], Отток: 40.30%, Количество клиентов: 1489\n",
      "\n",
      "Сегмент: ('est_salary', 'balance'), Используемые значения: ['Доход > 100000', 'Баланс > 750000'], Отток: 40.29%, Количество клиентов: 1884\n",
      "\n",
      "Сегмент: ('credit_card', 'age', 'products'), Используемые значения: ['Кредитная карта: нет', 'Возраст от 50 до 60', 'Продуктов >= 2'], Отток: 39.93%, Количество клиентов: 601\n",
      "\n",
      "Сегмент: ('credit_card', 'est_salary', 'equity'), Используемые значения: ['Кредитная карта: нет', 'Доход > 100000', 'Собственность >= 3'], Отток: 39.74%, Количество клиентов: 1243\n",
      "\n",
      "Сегмент: ('credit_card', 'age', 'products'), Используемые значения: ['Кредитная карта: нет', 'Возраст от 25 до 35', 'Продуктов >= 2'], Отток: 39.67%, Количество клиентов: 726\n",
      "\n",
      "Сегмент: ('age', 'products', 'equity'), Используемые значения: ['Возраст от 50 до 60', 'Продуктов >= 2', 'Собственность >= 3'], Отток: 38.44%, Количество клиентов: 882\n",
      "\n",
      "Сегмент: ('age', 'est_salary', 'products'), Используемые значения: ['Возраст от 25 до 35', 'Доход > 100000', 'Продуктов >= 2'], Отток: 38.21%, Количество клиентов: 916\n",
      "\n",
      "Сегмент: ('age', 'est_salary', 'last_activity'), Используемые значения: ['Возраст от 25 до 35', 'Доход > 100000', 'Активный клиент'], Отток: 37.91%, Количество клиентов: 860\n",
      "\n",
      "Сегмент: ('age', 'est_salary', 'products'), Используемые значения: ['Возраст от 50 до 60', 'Доход > 100000', 'Продуктов >= 2'], Отток: 37.77%, Количество клиентов: 638\n",
      "\n",
      "Сегмент: ('age', 'equity'), Используемые значения: ['Возраст от 50 до 60', 'Собственность >= 3'], Отток: 35.76%, Количество клиентов: 1032\n",
      "\n",
      "Сегмент: ('credit_card', 'age'), Используемые значения: ['Кредитная карта: нет', 'Возраст от 25 до 35'], Отток: 35.67%, Количество клиентов: 827\n",
      "\n",
      "Сегмент: ('credit_card', 'age'), Используемые значения: ['Кредитная карта: нет', 'Возраст от 50 до 60'], Отток: 35.46%, Количество клиентов: 705\n",
      "\n",
      "Сегмент: ('credit_card', 'est_salary', 'products'), Используемые значения: ['Кредитная карта: нет', 'Доход > 100000', 'Продуктов >= 2'], Отток: 35.14%, Количество клиентов: 1568\n",
      "\n",
      "Сегмент: ('credit_card', 'last_activity'), Используемые значения: ['Кредитная карта: нет', 'Активный клиент'], Отток: 35.07%, Количество клиентов: 1745\n",
      "\n"
     ]
    }
   ],
   "source": [
    "def filter_segments(data, conditions, selected_values):\n",
    "    \"\"\"\n",
    "    Фильтрует датафрейм по заданным условиям и проверяет критерии.\n",
    "    \"\"\"\n",
    "    filtered_data = data.copy()\n",
    "    for condition in conditions:\n",
    "        filtered_data = filtered_data.query(condition)\n",
    "    \n",
    "    churn_rate = filtered_data['churn'].mean()\n",
    "    num_clients = filtered_data.shape[0]\n",
    "    \n",
    "    if churn_rate > 0.35 and 500 <= num_clients <= 2000:\n",
    "        return filtered_data, selected_values, churn_rate\n",
    "    return None, None, None\n",
    "\n",
    "def generate_segments(data):\n",
    "    \"\"\"\n",
    "    Генерирует сегменты на основе комбинаций показателей и фильтрует их по заданным критериям.\n",
    "    \"\"\"\n",
    "    segments = []\n",
    "    \n",
    "    possible_conditions = {\n",
    "        \"credit_card\": [(\"credit_card == 0\", \"Кредитная карта: нет\")],\n",
    "        \"age\": [(\"25 <= age <= 35\", \"Возраст от 25 до 35\"), (\"50 <= age <= 60\", \"Возраст от 50 до 60\")],\n",
    "        \"est_salary\": [(\"est_salary > 100000\", \"Доход > 100000\")],\n",
    "        \"products\": [(\"products >= 2\", \"Продуктов >= 2\")],\n",
    "        \"balance\": [(\"balance > 750000\", \"Баланс > 750000\")],\n",
    "        \"equity\": [(\"equity >= 3\", \"Собственность >= 3\")],\n",
    "        \"last_activity\": [(\"last_activity == 1\", \"Активный клиент\")]\n",
    "    }\n",
    "    \n",
    "    keys = list(possible_conditions.keys())\n",
    "    \n",
    "    for num_features in range(2, 4):  # Комбинации по 2-3 показателя\n",
    "        for feature_comb in combinations(keys, num_features):\n",
    "            for value_comb in product(*[possible_conditions[key] for key in feature_comb]):\n",
    "                conditions = []\n",
    "                selected_values = []\n",
    "                \n",
    "                for cond, value in value_comb:\n",
    "                    conditions.append(cond)\n",
    "                    selected_values.append(value)\n",
    "                \n",
    "                segment, used_values, churn_rate = filter_segments(data, conditions, selected_values)\n",
    "                if segment is not None:\n",
    "                    segments.append((feature_comb, used_values, churn_rate, segment))\n",
    "    \n",
    "    return sorted(segments, key=lambda x: x[2], reverse=True)  # Сортируем сегменты по убыванию оттока\n",
    "\n",
    "segments = generate_segments(data)\n",
    "for features, values, churn_rate, segment_df in segments:\n",
    "    print(f\"Сегмент: {features}, Используемые значения: {values}, Отток: {churn_rate:.2%}, Количество клиентов: {segment_df.shape[0]}\")\n",
    "    print(\"\")\n"
   ]
  },
  {
   "cell_type": "markdown",
   "metadata": {},
   "source": [
    "Сегменты c оттоком более 48%:\n",
    "1. Клиенты с высоким балансом (> 750 000), активные в ближайший период; \n",
    "2. Сегмент с наибольшим оттоком в 57,5% дополняется доходом клиента больше 100 000;\n",
    "3. Клиенты с высоким балансом (> 750 000) и оценкой недвижимости >= 3.\n",
    "\n",
    "Рекомендации:\n",
    "1. Премиальные услуги, программы лояльности, более выгодные условия по продуктам (например, эксклюзивные условия по вкладам);\n",
    "2. Поддержка wealth-менеджеров (все сегменты с оттоком выше 48% объединяет большой баланс средств на счете).\n",
    "\n",
    "Сегменты с оттоком более 35%:\n",
    "1. Люди без кредитных карт (как возрастная группа 25–35, так и и 50–60 лет);\n",
    "2. Клиенты с доходом более 100 000 рублей;\n",
    "3. Клиенты с оценкой собственности >= 3 и пользующиеся двумя или более продуктами банка.\n",
    "\n",
    "Рекомендации:\n",
    "1. Продажа кредитных продуктов;\n",
    "2. Работа с возрастными группами;\n",
    "3. Программы удержания: кэшбэк, бонусные программы."
   ]
  },
  {
   "cell_type": "markdown",
   "metadata": {},
   "source": [
    "**Итоговые выводы:**\n",
    "1. Процент отточности клиентов банка составляет - 18,23%;\n",
    "2. Построенные графики распределения показывают, что чаще всего банк покидают активные клиенты с доходом выше 100 000, суммой на балансе более 750 000 рублей и оценкой собственно от 3 и выше;\n",
    "3. Наибольший уровень корреляции с оттоком пользователей показывают увеличение числа продуктов, оценки собственности и активность пользователя, а вот личие кредитной карты показывает отрицательную корреляцию, но при этом уровень корреляции во всех случаях не превышает значений для слабого уровня корреляции;\n",
    "4. Проверка статистических гипотез показала, что средний доход между ушедшими и оставшимися клиентами не имеет значимых различий, а вот оценка собственности и количество используемых продуктов банка выше у ушедших из банка;\n",
    "5. Выделены наиболее отточные сегменты и рекомендации по взаимодействию с ними, особенное внимание советуем обратить на клиентов с количеством средств на балансе более 750 000 рублей."
   ]
  },
  {
   "cell_type": "markdown",
   "metadata": {},
   "source": [
    "Ссылка на презентацию: https://disk.yandex.ru/i/ncQJM6KShWBNHQ"
   ]
  }
 ],
 "metadata": {
  "ExecuteTimeLog": [
   {
    "duration": 1942,
    "start_time": "2025-02-17T08:33:05.413Z"
   },
   {
    "duration": 215,
    "start_time": "2025-02-17T08:35:54.608Z"
   },
   {
    "duration": 47,
    "start_time": "2025-02-17T08:36:05.749Z"
   },
   {
    "duration": 101,
    "start_time": "2025-02-17T08:38:04.283Z"
   },
   {
    "duration": 40,
    "start_time": "2025-02-17T08:38:09.337Z"
   },
   {
    "duration": 41,
    "start_time": "2025-02-17T08:42:12.467Z"
   },
   {
    "duration": 22,
    "start_time": "2025-02-17T08:42:24.334Z"
   },
   {
    "duration": 22,
    "start_time": "2025-02-17T08:42:35.195Z"
   },
   {
    "duration": 4,
    "start_time": "2025-02-17T08:42:44.325Z"
   },
   {
    "duration": 24,
    "start_time": "2025-02-17T08:42:47.206Z"
   },
   {
    "duration": 19,
    "start_time": "2025-02-17T08:44:03.855Z"
   },
   {
    "duration": 12,
    "start_time": "2025-02-17T08:44:09.890Z"
   },
   {
    "duration": 6,
    "start_time": "2025-02-17T08:44:30.500Z"
   },
   {
    "duration": 8,
    "start_time": "2025-02-17T08:44:59.498Z"
   },
   {
    "duration": 20,
    "start_time": "2025-02-17T08:56:22.769Z"
   },
   {
    "duration": 8545,
    "start_time": "2025-02-17T08:57:36.502Z"
   },
   {
    "duration": 14,
    "start_time": "2025-02-17T08:59:29.275Z"
   },
   {
    "duration": 25,
    "start_time": "2025-02-17T09:02:52.332Z"
   },
   {
    "duration": 21,
    "start_time": "2025-02-17T09:03:29.019Z"
   },
   {
    "duration": 15,
    "start_time": "2025-02-17T09:04:32.815Z"
   },
   {
    "duration": 19,
    "start_time": "2025-02-17T09:04:57.883Z"
   },
   {
    "duration": 8,
    "start_time": "2025-02-17T09:09:19.792Z"
   },
   {
    "duration": 8,
    "start_time": "2025-02-17T09:10:25.166Z"
   },
   {
    "duration": 4,
    "start_time": "2025-02-17T09:54:47.289Z"
   },
   {
    "duration": 838,
    "start_time": "2025-02-17T09:55:11.090Z"
   },
   {
    "duration": 989,
    "start_time": "2025-02-17T09:55:38.688Z"
   },
   {
    "duration": 9,
    "start_time": "2025-02-17T10:03:22.706Z"
   },
   {
    "duration": 10,
    "start_time": "2025-02-17T10:04:03.542Z"
   },
   {
    "duration": 12,
    "start_time": "2025-02-17T10:09:13.643Z"
   },
   {
    "duration": 22,
    "start_time": "2025-02-17T10:09:28.770Z"
   },
   {
    "duration": 13,
    "start_time": "2025-02-17T10:09:35.784Z"
   },
   {
    "duration": 19,
    "start_time": "2025-02-17T10:11:34.310Z"
   },
   {
    "duration": 55,
    "start_time": "2025-02-17T11:22:23.006Z"
   },
   {
    "duration": 1311,
    "start_time": "2025-02-17T11:22:31.004Z"
   },
   {
    "duration": 34,
    "start_time": "2025-02-17T11:22:32.317Z"
   },
   {
    "duration": 30,
    "start_time": "2025-02-17T11:22:32.353Z"
   },
   {
    "duration": 23,
    "start_time": "2025-02-17T11:22:32.385Z"
   },
   {
    "duration": 46,
    "start_time": "2025-02-17T11:22:32.411Z"
   },
   {
    "duration": 13,
    "start_time": "2025-02-17T11:22:32.459Z"
   },
   {
    "duration": 23,
    "start_time": "2025-02-17T11:22:32.474Z"
   },
   {
    "duration": 14,
    "start_time": "2025-02-17T11:22:32.499Z"
   },
   {
    "duration": 8,
    "start_time": "2025-02-17T11:22:32.515Z"
   },
   {
    "duration": 13,
    "start_time": "2025-02-17T11:22:32.524Z"
   },
   {
    "duration": 1021,
    "start_time": "2025-02-17T11:22:32.539Z"
   },
   {
    "duration": 10,
    "start_time": "2025-02-17T11:22:33.561Z"
   },
   {
    "duration": 15,
    "start_time": "2025-02-17T11:22:33.572Z"
   },
   {
    "duration": 35,
    "start_time": "2025-02-17T11:22:33.590Z"
   },
   {
    "duration": 24,
    "start_time": "2025-02-17T11:22:33.626Z"
   },
   {
    "duration": 118,
    "start_time": "2025-02-17T11:22:33.651Z"
   },
   {
    "duration": 18,
    "start_time": "2025-02-17T11:26:18.796Z"
   },
   {
    "duration": 199,
    "start_time": "2025-02-17T11:51:41.630Z"
   },
   {
    "duration": 10,
    "start_time": "2025-02-17T11:53:12.098Z"
   },
   {
    "duration": 404,
    "start_time": "2025-02-17T11:53:18.203Z"
   },
   {
    "duration": 349,
    "start_time": "2025-02-17T11:53:51.747Z"
   },
   {
    "duration": 344,
    "start_time": "2025-02-17T11:53:57.647Z"
   },
   {
    "duration": 328,
    "start_time": "2025-02-17T11:54:03.948Z"
   },
   {
    "duration": 306,
    "start_time": "2025-02-17T11:54:09.345Z"
   },
   {
    "duration": 333,
    "start_time": "2025-02-17T12:12:43.924Z"
   },
   {
    "duration": 375,
    "start_time": "2025-02-17T12:14:46.801Z"
   },
   {
    "duration": 6585,
    "start_time": "2025-02-17T12:50:45.408Z"
   },
   {
    "duration": 483,
    "start_time": "2025-02-17T12:52:41.440Z"
   },
   {
    "duration": 467,
    "start_time": "2025-02-17T12:55:27.211Z"
   },
   {
    "duration": 259,
    "start_time": "2025-02-17T13:07:35.779Z"
   },
   {
    "duration": 264,
    "start_time": "2025-02-17T13:07:57.000Z"
   },
   {
    "duration": 794,
    "start_time": "2025-02-17T13:10:02.507Z"
   },
   {
    "duration": 7058,
    "start_time": "2025-02-17T13:14:34.967Z"
   },
   {
    "duration": 8329,
    "start_time": "2025-02-17T13:14:58.323Z"
   },
   {
    "duration": 9,
    "start_time": "2025-02-17T13:16:07.226Z"
   },
   {
    "duration": 8,
    "start_time": "2025-02-17T13:16:31.858Z"
   },
   {
    "duration": 9,
    "start_time": "2025-02-17T13:17:25.068Z"
   },
   {
    "duration": 7,
    "start_time": "2025-02-17T13:17:42.833Z"
   },
   {
    "duration": 7852,
    "start_time": "2025-02-17T13:18:04.180Z"
   },
   {
    "duration": 293,
    "start_time": "2025-02-17T13:19:01.079Z"
   },
   {
    "duration": 301,
    "start_time": "2025-02-17T13:19:16.295Z"
   },
   {
    "duration": 7645,
    "start_time": "2025-02-17T13:19:49.480Z"
   },
   {
    "duration": 7087,
    "start_time": "2025-02-17T13:22:54.261Z"
   },
   {
    "duration": 7336,
    "start_time": "2025-02-17T13:25:38.707Z"
   },
   {
    "duration": 308,
    "start_time": "2025-02-17T13:27:57.312Z"
   },
   {
    "duration": 1347,
    "start_time": "2025-02-17T13:28:15.920Z"
   },
   {
    "duration": 702,
    "start_time": "2025-02-17T13:32:50.738Z"
   },
   {
    "duration": 341,
    "start_time": "2025-02-17T13:34:41.112Z"
   },
   {
    "duration": 17,
    "start_time": "2025-02-17T15:27:16.165Z"
   },
   {
    "duration": 47894,
    "start_time": "2025-02-17T15:30:01.332Z"
   },
   {
    "duration": 18,
    "start_time": "2025-02-17T15:31:07.859Z"
   },
   {
    "duration": 1526,
    "start_time": "2025-02-18T09:09:05.122Z"
   },
   {
    "duration": 143,
    "start_time": "2025-02-18T09:09:06.650Z"
   },
   {
    "duration": 27,
    "start_time": "2025-02-18T09:09:06.795Z"
   },
   {
    "duration": 7,
    "start_time": "2025-02-18T09:09:06.823Z"
   },
   {
    "duration": 13,
    "start_time": "2025-02-18T09:09:06.832Z"
   },
   {
    "duration": 87,
    "start_time": "2025-02-18T09:09:06.846Z"
   },
   {
    "duration": 16,
    "start_time": "2025-02-18T09:09:06.935Z"
   },
   {
    "duration": 34,
    "start_time": "2025-02-18T09:09:06.953Z"
   },
   {
    "duration": 6,
    "start_time": "2025-02-18T09:09:06.989Z"
   },
   {
    "duration": 4,
    "start_time": "2025-02-18T09:09:06.996Z"
   },
   {
    "duration": 877,
    "start_time": "2025-02-18T09:09:07.001Z"
   },
   {
    "duration": 9,
    "start_time": "2025-02-18T09:09:07.879Z"
   },
   {
    "duration": 7,
    "start_time": "2025-02-18T09:09:07.889Z"
   },
   {
    "duration": 8,
    "start_time": "2025-02-18T09:09:07.898Z"
   },
   {
    "duration": 12,
    "start_time": "2025-02-18T09:09:07.907Z"
   },
   {
    "duration": 14,
    "start_time": "2025-02-18T09:09:07.948Z"
   },
   {
    "duration": 16,
    "start_time": "2025-02-18T09:09:07.964Z"
   },
   {
    "duration": 435,
    "start_time": "2025-02-18T09:09:07.981Z"
   },
   {
    "duration": 182,
    "start_time": "2025-02-18T09:09:08.418Z"
   },
   {
    "duration": 308,
    "start_time": "2025-02-18T09:09:08.602Z"
   },
   {
    "duration": 248,
    "start_time": "2025-02-18T09:09:08.912Z"
   },
   {
    "duration": 5667,
    "start_time": "2025-02-18T09:09:09.161Z"
   },
   {
    "duration": 5798,
    "start_time": "2025-02-18T09:09:14.829Z"
   },
   {
    "duration": 314,
    "start_time": "2025-02-18T09:09:20.629Z"
   },
   {
    "duration": 211,
    "start_time": "2025-02-18T09:09:20.944Z"
   },
   {
    "duration": 691,
    "start_time": "2025-02-18T09:09:21.156Z"
   },
   {
    "duration": 631,
    "start_time": "2025-02-18T09:09:21.849Z"
   },
   {
    "duration": 662,
    "start_time": "2025-02-18T09:09:22.482Z"
   },
   {
    "duration": 110,
    "start_time": "2025-02-18T09:09:23.148Z"
   },
   {
    "duration": 370,
    "start_time": "2025-02-18T09:09:28.853Z"
   },
   {
    "duration": 775,
    "start_time": "2025-02-18T09:10:19.846Z"
   },
   {
    "duration": 839,
    "start_time": "2025-02-18T09:10:46.417Z"
   },
   {
    "duration": 1066,
    "start_time": "2025-02-18T09:10:57.213Z"
   },
   {
    "duration": 5,
    "start_time": "2025-02-18T09:42:55.512Z"
   },
   {
    "duration": 11,
    "start_time": "2025-02-18T09:43:11.015Z"
   },
   {
    "duration": 13,
    "start_time": "2025-02-18T09:43:13.548Z"
   },
   {
    "duration": 4,
    "start_time": "2025-02-18T09:50:01.186Z"
   },
   {
    "duration": 4,
    "start_time": "2025-02-18T09:50:09.495Z"
   },
   {
    "duration": 4,
    "start_time": "2025-02-18T09:50:15.714Z"
   },
   {
    "duration": 12,
    "start_time": "2025-02-18T10:18:44.059Z"
   },
   {
    "duration": 1286,
    "start_time": "2025-02-18T10:19:48.987Z"
   },
   {
    "duration": 34,
    "start_time": "2025-02-18T10:19:50.275Z"
   },
   {
    "duration": 39,
    "start_time": "2025-02-18T10:19:50.310Z"
   },
   {
    "duration": 4,
    "start_time": "2025-02-18T10:19:50.352Z"
   },
   {
    "duration": 26,
    "start_time": "2025-02-18T10:19:50.358Z"
   },
   {
    "duration": 10,
    "start_time": "2025-02-18T10:19:50.386Z"
   },
   {
    "duration": 24,
    "start_time": "2025-02-18T10:19:50.397Z"
   },
   {
    "duration": 28,
    "start_time": "2025-02-18T10:19:50.423Z"
   },
   {
    "duration": 42,
    "start_time": "2025-02-18T10:19:50.452Z"
   },
   {
    "duration": 26,
    "start_time": "2025-02-18T10:19:50.497Z"
   },
   {
    "duration": 928,
    "start_time": "2025-02-18T10:19:50.525Z"
   },
   {
    "duration": 8,
    "start_time": "2025-02-18T10:19:51.455Z"
   },
   {
    "duration": 23,
    "start_time": "2025-02-18T10:19:51.465Z"
   },
   {
    "duration": 93,
    "start_time": "2025-02-18T10:19:51.490Z"
   },
   {
    "duration": 17,
    "start_time": "2025-02-18T10:19:51.585Z"
   },
   {
    "duration": 29,
    "start_time": "2025-02-18T10:19:51.604Z"
   },
   {
    "duration": 33,
    "start_time": "2025-02-18T10:19:51.635Z"
   },
   {
    "duration": 12,
    "start_time": "2025-02-18T10:19:51.669Z"
   },
   {
    "duration": 389,
    "start_time": "2025-02-18T10:19:51.683Z"
   },
   {
    "duration": 282,
    "start_time": "2025-02-18T10:19:52.074Z"
   },
   {
    "duration": 330,
    "start_time": "2025-02-18T10:19:52.358Z"
   },
   {
    "duration": 277,
    "start_time": "2025-02-18T10:19:52.690Z"
   },
   {
    "duration": 6394,
    "start_time": "2025-02-18T10:19:52.969Z"
   },
   {
    "duration": 6250,
    "start_time": "2025-02-18T10:19:59.365Z"
   },
   {
    "duration": 352,
    "start_time": "2025-02-18T10:20:05.617Z"
   },
   {
    "duration": 243,
    "start_time": "2025-02-18T10:20:05.970Z"
   },
   {
    "duration": 799,
    "start_time": "2025-02-18T10:20:06.215Z"
   },
   {
    "duration": 695,
    "start_time": "2025-02-18T10:20:07.019Z"
   },
   {
    "duration": 738,
    "start_time": "2025-02-18T10:20:07.716Z"
   },
   {
    "duration": 122,
    "start_time": "2025-02-18T10:20:08.456Z"
   },
   {
    "duration": 0,
    "start_time": "2025-02-18T10:20:08.580Z"
   },
   {
    "duration": 0,
    "start_time": "2025-02-18T10:20:08.582Z"
   },
   {
    "duration": 0,
    "start_time": "2025-02-18T10:20:08.584Z"
   },
   {
    "duration": 0,
    "start_time": "2025-02-18T10:20:08.585Z"
   },
   {
    "duration": 0,
    "start_time": "2025-02-18T10:20:08.587Z"
   },
   {
    "duration": 1264,
    "start_time": "2025-02-18T10:21:06.584Z"
   },
   {
    "duration": 31,
    "start_time": "2025-02-18T10:21:07.849Z"
   },
   {
    "duration": 26,
    "start_time": "2025-02-18T10:21:07.882Z"
   },
   {
    "duration": 4,
    "start_time": "2025-02-18T10:21:07.909Z"
   },
   {
    "duration": 14,
    "start_time": "2025-02-18T10:21:07.915Z"
   },
   {
    "duration": 18,
    "start_time": "2025-02-18T10:21:07.930Z"
   },
   {
    "duration": 15,
    "start_time": "2025-02-18T10:21:07.949Z"
   },
   {
    "duration": 11,
    "start_time": "2025-02-18T10:21:07.966Z"
   },
   {
    "duration": 15,
    "start_time": "2025-02-18T10:21:07.979Z"
   },
   {
    "duration": 5,
    "start_time": "2025-02-18T10:21:07.995Z"
   },
   {
    "duration": 919,
    "start_time": "2025-02-18T10:21:08.001Z"
   },
   {
    "duration": 9,
    "start_time": "2025-02-18T10:21:08.921Z"
   },
   {
    "duration": 29,
    "start_time": "2025-02-18T10:21:08.932Z"
   },
   {
    "duration": 8,
    "start_time": "2025-02-18T10:21:08.964Z"
   },
   {
    "duration": 11,
    "start_time": "2025-02-18T10:21:08.973Z"
   },
   {
    "duration": 24,
    "start_time": "2025-02-18T10:21:08.985Z"
   },
   {
    "duration": 16,
    "start_time": "2025-02-18T10:21:09.010Z"
   },
   {
    "duration": 3,
    "start_time": "2025-02-18T10:21:09.028Z"
   },
   {
    "duration": 304,
    "start_time": "2025-02-18T10:21:09.048Z"
   },
   {
    "duration": 259,
    "start_time": "2025-02-18T10:21:09.353Z"
   },
   {
    "duration": 317,
    "start_time": "2025-02-18T10:21:09.614Z"
   },
   {
    "duration": 253,
    "start_time": "2025-02-18T10:21:09.933Z"
   },
   {
    "duration": 6027,
    "start_time": "2025-02-18T10:21:10.188Z"
   },
   {
    "duration": 6145,
    "start_time": "2025-02-18T10:21:16.217Z"
   },
   {
    "duration": 338,
    "start_time": "2025-02-18T10:21:22.364Z"
   },
   {
    "duration": 244,
    "start_time": "2025-02-18T10:21:22.704Z"
   },
   {
    "duration": 751,
    "start_time": "2025-02-18T10:21:22.950Z"
   },
   {
    "duration": 666,
    "start_time": "2025-02-18T10:21:23.702Z"
   },
   {
    "duration": 651,
    "start_time": "2025-02-18T10:21:24.369Z"
   },
   {
    "duration": 827,
    "start_time": "2025-02-18T10:21:25.022Z"
   },
   {
    "duration": 333,
    "start_time": "2025-02-18T10:21:25.851Z"
   },
   {
    "duration": 6,
    "start_time": "2025-02-18T10:21:26.186Z"
   },
   {
    "duration": 11,
    "start_time": "2025-02-18T10:21:26.194Z"
   },
   {
    "duration": 10,
    "start_time": "2025-02-18T10:21:26.207Z"
   },
   {
    "duration": 32,
    "start_time": "2025-02-18T10:21:26.218Z"
   },
   {
    "duration": 5,
    "start_time": "2025-02-18T10:22:25.694Z"
   },
   {
    "duration": 102,
    "start_time": "2025-02-18T10:22:33.586Z"
   },
   {
    "duration": 5,
    "start_time": "2025-02-18T10:22:46.296Z"
   },
   {
    "duration": 6,
    "start_time": "2025-02-18T10:29:44.545Z"
   },
   {
    "duration": 5,
    "start_time": "2025-02-18T10:30:33.847Z"
   },
   {
    "duration": 1285,
    "start_time": "2025-02-18T10:58:38.891Z"
   },
   {
    "duration": 44,
    "start_time": "2025-02-18T10:58:40.178Z"
   },
   {
    "duration": 29,
    "start_time": "2025-02-18T10:58:40.223Z"
   },
   {
    "duration": 4,
    "start_time": "2025-02-18T10:58:40.254Z"
   },
   {
    "duration": 53,
    "start_time": "2025-02-18T10:58:40.260Z"
   },
   {
    "duration": 28,
    "start_time": "2025-02-18T10:58:40.314Z"
   },
   {
    "duration": 16,
    "start_time": "2025-02-18T10:58:40.344Z"
   },
   {
    "duration": 12,
    "start_time": "2025-02-18T10:58:40.362Z"
   },
   {
    "duration": 7,
    "start_time": "2025-02-18T10:58:40.376Z"
   },
   {
    "duration": 12,
    "start_time": "2025-02-18T10:58:40.385Z"
   },
   {
    "duration": 894,
    "start_time": "2025-02-18T10:58:40.399Z"
   },
   {
    "duration": 8,
    "start_time": "2025-02-18T10:58:41.295Z"
   },
   {
    "duration": 6,
    "start_time": "2025-02-18T10:58:41.304Z"
   },
   {
    "duration": 7,
    "start_time": "2025-02-18T10:58:41.311Z"
   },
   {
    "duration": 36,
    "start_time": "2025-02-18T10:58:41.320Z"
   },
   {
    "duration": 21,
    "start_time": "2025-02-18T10:58:41.358Z"
   },
   {
    "duration": 19,
    "start_time": "2025-02-18T10:58:41.380Z"
   },
   {
    "duration": 4,
    "start_time": "2025-02-18T10:58:41.400Z"
   },
   {
    "duration": 336,
    "start_time": "2025-02-18T10:58:41.405Z"
   },
   {
    "duration": 269,
    "start_time": "2025-02-18T10:58:41.742Z"
   },
   {
    "duration": 319,
    "start_time": "2025-02-18T10:58:42.013Z"
   },
   {
    "duration": 254,
    "start_time": "2025-02-18T10:58:42.334Z"
   },
   {
    "duration": 5793,
    "start_time": "2025-02-18T10:58:42.590Z"
   },
   {
    "duration": 5911,
    "start_time": "2025-02-18T10:58:48.384Z"
   },
   {
    "duration": 320,
    "start_time": "2025-02-18T10:58:54.297Z"
   },
   {
    "duration": 218,
    "start_time": "2025-02-18T10:58:54.619Z"
   },
   {
    "duration": 757,
    "start_time": "2025-02-18T10:58:54.839Z"
   },
   {
    "duration": 701,
    "start_time": "2025-02-18T10:58:55.600Z"
   },
   {
    "duration": 631,
    "start_time": "2025-02-18T10:58:56.303Z"
   },
   {
    "duration": 816,
    "start_time": "2025-02-18T10:58:56.936Z"
   },
   {
    "duration": 321,
    "start_time": "2025-02-18T10:58:57.753Z"
   },
   {
    "duration": 6,
    "start_time": "2025-02-18T10:58:58.076Z"
   },
   {
    "duration": 32,
    "start_time": "2025-02-18T10:58:58.084Z"
   },
   {
    "duration": 41,
    "start_time": "2025-02-18T10:58:58.117Z"
   },
   {
    "duration": 15,
    "start_time": "2025-02-18T10:58:58.159Z"
   },
   {
    "duration": 18,
    "start_time": "2025-02-18T10:58:58.176Z"
   },
   {
    "duration": 5,
    "start_time": "2025-02-18T10:58:58.196Z"
   },
   {
    "duration": 3,
    "start_time": "2025-02-18T11:47:02.604Z"
   },
   {
    "duration": 322,
    "start_time": "2025-02-18T11:47:58.278Z"
   },
   {
    "duration": 304,
    "start_time": "2025-02-18T11:53:43.061Z"
   },
   {
    "duration": 321,
    "start_time": "2025-02-18T11:54:49.366Z"
   },
   {
    "duration": 345,
    "start_time": "2025-02-18T11:58:21.243Z"
   },
   {
    "duration": 316,
    "start_time": "2025-02-18T12:13:20.943Z"
   },
   {
    "duration": 321,
    "start_time": "2025-02-18T12:19:40.268Z"
   },
   {
    "duration": 332,
    "start_time": "2025-02-18T12:21:30.098Z"
   },
   {
    "duration": 329,
    "start_time": "2025-02-18T12:25:12.629Z"
   },
   {
    "duration": 339,
    "start_time": "2025-02-18T12:34:07.600Z"
   },
   {
    "duration": 348,
    "start_time": "2025-02-18T12:36:16.110Z"
   },
   {
    "duration": 320,
    "start_time": "2025-02-18T12:37:14.507Z"
   },
   {
    "duration": 328,
    "start_time": "2025-02-18T12:37:34.598Z"
   },
   {
    "duration": 335,
    "start_time": "2025-02-18T12:42:27.293Z"
   },
   {
    "duration": 366,
    "start_time": "2025-02-18T12:43:38.214Z"
   },
   {
    "duration": 3,
    "start_time": "2025-02-18T12:45:58.515Z"
   },
   {
    "duration": 2121,
    "start_time": "2025-02-18T13:03:38.639Z"
   },
   {
    "duration": 3448,
    "start_time": "2025-02-18T13:16:36.600Z"
   },
   {
    "duration": 1551,
    "start_time": "2025-02-18T14:50:40.872Z"
   },
   {
    "duration": 45,
    "start_time": "2025-02-18T14:50:42.426Z"
   },
   {
    "duration": 32,
    "start_time": "2025-02-18T14:50:42.472Z"
   },
   {
    "duration": 4,
    "start_time": "2025-02-18T14:50:42.507Z"
   },
   {
    "duration": 35,
    "start_time": "2025-02-18T14:50:42.513Z"
   },
   {
    "duration": 31,
    "start_time": "2025-02-18T14:50:42.550Z"
   },
   {
    "duration": 31,
    "start_time": "2025-02-18T14:50:42.583Z"
   },
   {
    "duration": 25,
    "start_time": "2025-02-18T14:50:42.616Z"
   },
   {
    "duration": 11,
    "start_time": "2025-02-18T14:50:42.643Z"
   },
   {
    "duration": 20,
    "start_time": "2025-02-18T14:50:42.658Z"
   },
   {
    "duration": 983,
    "start_time": "2025-02-18T14:50:42.681Z"
   },
   {
    "duration": 11,
    "start_time": "2025-02-18T14:50:43.666Z"
   },
   {
    "duration": 68,
    "start_time": "2025-02-18T14:50:43.679Z"
   },
   {
    "duration": 9,
    "start_time": "2025-02-18T14:50:43.749Z"
   },
   {
    "duration": 19,
    "start_time": "2025-02-18T14:50:43.760Z"
   },
   {
    "duration": 18,
    "start_time": "2025-02-18T14:50:43.780Z"
   },
   {
    "duration": 16,
    "start_time": "2025-02-18T14:50:43.800Z"
   },
   {
    "duration": 4,
    "start_time": "2025-02-18T14:50:43.832Z"
   },
   {
    "duration": 349,
    "start_time": "2025-02-18T14:50:43.837Z"
   },
   {
    "duration": 277,
    "start_time": "2025-02-18T14:50:44.188Z"
   },
   {
    "duration": 356,
    "start_time": "2025-02-18T14:50:44.467Z"
   },
   {
    "duration": 273,
    "start_time": "2025-02-18T14:50:44.833Z"
   },
   {
    "duration": 6414,
    "start_time": "2025-02-18T14:50:45.108Z"
   },
   {
    "duration": 6706,
    "start_time": "2025-02-18T14:50:51.524Z"
   },
   {
    "duration": 370,
    "start_time": "2025-02-18T14:50:58.232Z"
   },
   {
    "duration": 257,
    "start_time": "2025-02-18T14:50:58.604Z"
   },
   {
    "duration": 809,
    "start_time": "2025-02-18T14:50:58.863Z"
   },
   {
    "duration": 734,
    "start_time": "2025-02-18T14:50:59.676Z"
   },
   {
    "duration": 694,
    "start_time": "2025-02-18T14:51:00.412Z"
   },
   {
    "duration": 935,
    "start_time": "2025-02-18T14:51:01.108Z"
   },
   {
    "duration": 339,
    "start_time": "2025-02-18T14:51:02.045Z"
   },
   {
    "duration": 6,
    "start_time": "2025-02-18T14:51:02.386Z"
   },
   {
    "duration": 32,
    "start_time": "2025-02-18T14:51:02.393Z"
   },
   {
    "duration": 36,
    "start_time": "2025-02-18T14:51:02.426Z"
   },
   {
    "duration": 20,
    "start_time": "2025-02-18T14:51:02.464Z"
   },
   {
    "duration": 27,
    "start_time": "2025-02-18T14:51:02.485Z"
   },
   {
    "duration": 22,
    "start_time": "2025-02-18T14:51:02.514Z"
   },
   {
    "duration": 395,
    "start_time": "2025-02-18T14:51:02.538Z"
   },
   {
    "duration": 3679,
    "start_time": "2025-02-18T14:51:02.934Z"
   },
   {
    "duration": 2752,
    "start_time": "2025-02-18T14:54:54.228Z"
   },
   {
    "duration": 4,
    "start_time": "2025-02-18T15:26:55.197Z"
   },
   {
    "duration": 1377,
    "start_time": "2025-02-18T17:44:39.312Z"
   },
   {
    "duration": 42,
    "start_time": "2025-02-18T17:44:40.691Z"
   },
   {
    "duration": 30,
    "start_time": "2025-02-18T17:44:40.735Z"
   },
   {
    "duration": 4,
    "start_time": "2025-02-18T17:44:40.768Z"
   },
   {
    "duration": 24,
    "start_time": "2025-02-18T17:44:40.773Z"
   },
   {
    "duration": 6,
    "start_time": "2025-02-18T17:44:40.799Z"
   },
   {
    "duration": 35,
    "start_time": "2025-02-18T17:44:40.807Z"
   },
   {
    "duration": 13,
    "start_time": "2025-02-18T17:44:40.843Z"
   },
   {
    "duration": 17,
    "start_time": "2025-02-18T17:44:40.858Z"
   },
   {
    "duration": 12,
    "start_time": "2025-02-18T17:44:40.878Z"
   },
   {
    "duration": 972,
    "start_time": "2025-02-18T17:44:40.891Z"
   },
   {
    "duration": 10,
    "start_time": "2025-02-18T17:44:41.865Z"
   },
   {
    "duration": 14,
    "start_time": "2025-02-18T17:44:41.876Z"
   },
   {
    "duration": 29,
    "start_time": "2025-02-18T17:44:41.892Z"
   },
   {
    "duration": 15,
    "start_time": "2025-02-18T17:44:41.923Z"
   },
   {
    "duration": 20,
    "start_time": "2025-02-18T17:44:41.940Z"
   },
   {
    "duration": 17,
    "start_time": "2025-02-18T17:44:41.962Z"
   },
   {
    "duration": 10,
    "start_time": "2025-02-18T17:44:41.981Z"
   },
   {
    "duration": 356,
    "start_time": "2025-02-18T17:44:41.993Z"
   },
   {
    "duration": 282,
    "start_time": "2025-02-18T17:44:42.350Z"
   },
   {
    "duration": 343,
    "start_time": "2025-02-18T17:44:42.634Z"
   },
   {
    "duration": 275,
    "start_time": "2025-02-18T17:44:42.979Z"
   },
   {
    "duration": 6438,
    "start_time": "2025-02-18T17:44:43.256Z"
   },
   {
    "duration": 6585,
    "start_time": "2025-02-18T17:44:49.696Z"
   },
   {
    "duration": 362,
    "start_time": "2025-02-18T17:44:56.283Z"
   },
   {
    "duration": 253,
    "start_time": "2025-02-18T17:44:56.648Z"
   },
   {
    "duration": 873,
    "start_time": "2025-02-18T17:44:56.903Z"
   },
   {
    "duration": 724,
    "start_time": "2025-02-18T17:44:57.781Z"
   },
   {
    "duration": 714,
    "start_time": "2025-02-18T17:44:58.507Z"
   },
   {
    "duration": 882,
    "start_time": "2025-02-18T17:44:59.223Z"
   },
   {
    "duration": 366,
    "start_time": "2025-02-18T17:45:00.106Z"
   },
   {
    "duration": 6,
    "start_time": "2025-02-18T17:45:00.474Z"
   },
   {
    "duration": 46,
    "start_time": "2025-02-18T17:45:00.482Z"
   },
   {
    "duration": 16,
    "start_time": "2025-02-18T17:45:00.530Z"
   },
   {
    "duration": 20,
    "start_time": "2025-02-18T17:45:00.548Z"
   },
   {
    "duration": 7,
    "start_time": "2025-02-18T17:45:00.570Z"
   },
   {
    "duration": 9,
    "start_time": "2025-02-18T17:45:00.579Z"
   },
   {
    "duration": 2723,
    "start_time": "2025-02-18T17:45:00.590Z"
   },
   {
    "duration": 1457,
    "start_time": "2025-02-19T16:14:05.259Z"
   },
   {
    "duration": 137,
    "start_time": "2025-02-19T16:14:06.718Z"
   },
   {
    "duration": 28,
    "start_time": "2025-02-19T16:14:06.857Z"
   },
   {
    "duration": 35,
    "start_time": "2025-02-19T16:14:06.887Z"
   },
   {
    "duration": 34,
    "start_time": "2025-02-19T16:14:06.924Z"
   },
   {
    "duration": 63,
    "start_time": "2025-02-19T16:14:06.959Z"
   },
   {
    "duration": 108,
    "start_time": "2025-02-19T16:14:07.023Z"
   },
   {
    "duration": 12,
    "start_time": "2025-02-19T16:14:07.133Z"
   },
   {
    "duration": 13,
    "start_time": "2025-02-19T16:14:07.146Z"
   },
   {
    "duration": 7,
    "start_time": "2025-02-19T16:14:07.161Z"
   },
   {
    "duration": 893,
    "start_time": "2025-02-19T16:14:07.169Z"
   },
   {
    "duration": 10,
    "start_time": "2025-02-19T16:14:08.064Z"
   },
   {
    "duration": 26,
    "start_time": "2025-02-19T16:14:08.076Z"
   },
   {
    "duration": 46,
    "start_time": "2025-02-19T16:14:08.104Z"
   },
   {
    "duration": 22,
    "start_time": "2025-02-19T16:14:08.151Z"
   },
   {
    "duration": 18,
    "start_time": "2025-02-19T16:14:08.175Z"
   },
   {
    "duration": 15,
    "start_time": "2025-02-19T16:14:08.195Z"
   },
   {
    "duration": 25,
    "start_time": "2025-02-19T16:14:08.211Z"
   },
   {
    "duration": 317,
    "start_time": "2025-02-19T16:14:08.238Z"
   },
   {
    "duration": 260,
    "start_time": "2025-02-19T16:14:08.557Z"
   },
   {
    "duration": 321,
    "start_time": "2025-02-19T16:14:08.819Z"
   },
   {
    "duration": 255,
    "start_time": "2025-02-19T16:14:09.142Z"
   },
   {
    "duration": 5902,
    "start_time": "2025-02-19T16:14:09.402Z"
   },
   {
    "duration": 5977,
    "start_time": "2025-02-19T16:14:15.306Z"
   },
   {
    "duration": 332,
    "start_time": "2025-02-19T16:14:21.285Z"
   },
   {
    "duration": 230,
    "start_time": "2025-02-19T16:14:21.618Z"
   },
   {
    "duration": 706,
    "start_time": "2025-02-19T16:14:21.850Z"
   },
   {
    "duration": 659,
    "start_time": "2025-02-19T16:14:22.560Z"
   },
   {
    "duration": 636,
    "start_time": "2025-02-19T16:14:23.221Z"
   },
   {
    "duration": 929,
    "start_time": "2025-02-19T16:14:23.858Z"
   },
   {
    "duration": 349,
    "start_time": "2025-02-19T16:14:24.789Z"
   },
   {
    "duration": 6,
    "start_time": "2025-02-19T16:14:25.141Z"
   },
   {
    "duration": 12,
    "start_time": "2025-02-19T16:14:25.148Z"
   },
   {
    "duration": 11,
    "start_time": "2025-02-19T16:14:25.162Z"
   },
   {
    "duration": 8,
    "start_time": "2025-02-19T16:14:25.174Z"
   },
   {
    "duration": 5,
    "start_time": "2025-02-19T16:14:25.203Z"
   },
   {
    "duration": 7,
    "start_time": "2025-02-19T16:14:25.210Z"
   },
   {
    "duration": 2501,
    "start_time": "2025-02-19T16:14:25.219Z"
   },
   {
    "duration": 71,
    "start_time": "2025-02-19T20:15:20.802Z"
   },
   {
    "duration": 1501,
    "start_time": "2025-02-19T20:15:25.987Z"
   },
   {
    "duration": 42,
    "start_time": "2025-02-19T20:15:27.491Z"
   },
   {
    "duration": 77,
    "start_time": "2025-02-19T20:15:27.535Z"
   },
   {
    "duration": 4,
    "start_time": "2025-02-19T20:15:27.614Z"
   },
   {
    "duration": 19,
    "start_time": "2025-02-19T20:15:27.619Z"
   },
   {
    "duration": 5,
    "start_time": "2025-02-19T20:15:27.640Z"
   },
   {
    "duration": 128,
    "start_time": "2025-02-19T20:15:27.647Z"
   },
   {
    "duration": 14,
    "start_time": "2025-02-19T20:15:27.777Z"
   },
   {
    "duration": 8,
    "start_time": "2025-02-19T20:15:27.792Z"
   },
   {
    "duration": 4,
    "start_time": "2025-02-19T20:15:27.803Z"
   },
   {
    "duration": 1028,
    "start_time": "2025-02-19T20:15:27.808Z"
   },
   {
    "duration": 21,
    "start_time": "2025-02-19T20:15:28.837Z"
   },
   {
    "duration": 18,
    "start_time": "2025-02-19T20:15:28.860Z"
   },
   {
    "duration": 11,
    "start_time": "2025-02-19T20:15:28.881Z"
   },
   {
    "duration": 20,
    "start_time": "2025-02-19T20:15:28.894Z"
   },
   {
    "duration": 43,
    "start_time": "2025-02-19T20:15:28.916Z"
   },
   {
    "duration": 24,
    "start_time": "2025-02-19T20:15:28.961Z"
   },
   {
    "duration": 4,
    "start_time": "2025-02-19T20:15:28.986Z"
   },
   {
    "duration": 377,
    "start_time": "2025-02-19T20:15:28.992Z"
   },
   {
    "duration": 273,
    "start_time": "2025-02-19T20:15:29.371Z"
   },
   {
    "duration": 338,
    "start_time": "2025-02-19T20:15:29.647Z"
   },
   {
    "duration": 286,
    "start_time": "2025-02-19T20:15:29.988Z"
   },
   {
    "duration": 6016,
    "start_time": "2025-02-19T20:15:30.276Z"
   },
   {
    "duration": 6267,
    "start_time": "2025-02-19T20:15:36.294Z"
   },
   {
    "duration": 334,
    "start_time": "2025-02-19T20:15:42.563Z"
   },
   {
    "duration": 244,
    "start_time": "2025-02-19T20:15:42.899Z"
   },
   {
    "duration": 815,
    "start_time": "2025-02-19T20:15:43.148Z"
   },
   {
    "duration": 690,
    "start_time": "2025-02-19T20:15:43.966Z"
   },
   {
    "duration": 676,
    "start_time": "2025-02-19T20:15:44.661Z"
   },
   {
    "duration": 120,
    "start_time": "2025-02-19T20:15:45.339Z"
   },
   {
    "duration": 0,
    "start_time": "2025-02-19T20:15:45.461Z"
   },
   {
    "duration": 0,
    "start_time": "2025-02-19T20:15:45.463Z"
   },
   {
    "duration": 0,
    "start_time": "2025-02-19T20:15:45.465Z"
   },
   {
    "duration": 0,
    "start_time": "2025-02-19T20:15:45.466Z"
   },
   {
    "duration": 0,
    "start_time": "2025-02-19T20:15:45.467Z"
   },
   {
    "duration": 0,
    "start_time": "2025-02-19T20:15:45.468Z"
   },
   {
    "duration": 0,
    "start_time": "2025-02-19T20:15:45.469Z"
   },
   {
    "duration": 0,
    "start_time": "2025-02-19T20:15:45.470Z"
   },
   {
    "duration": 12,
    "start_time": "2025-02-19T20:17:27.466Z"
   },
   {
    "duration": 570,
    "start_time": "2025-02-19T20:18:22.191Z"
   },
   {
    "duration": 1343,
    "start_time": "2025-02-19T20:18:35.420Z"
   },
   {
    "duration": 31,
    "start_time": "2025-02-19T20:18:36.765Z"
   },
   {
    "duration": 146,
    "start_time": "2025-02-19T20:18:36.797Z"
   },
   {
    "duration": 4,
    "start_time": "2025-02-19T20:18:36.945Z"
   },
   {
    "duration": 27,
    "start_time": "2025-02-19T20:18:36.951Z"
   },
   {
    "duration": 16,
    "start_time": "2025-02-19T20:18:36.980Z"
   },
   {
    "duration": 48,
    "start_time": "2025-02-19T20:18:36.997Z"
   },
   {
    "duration": 13,
    "start_time": "2025-02-19T20:18:37.047Z"
   },
   {
    "duration": 15,
    "start_time": "2025-02-19T20:18:37.061Z"
   },
   {
    "duration": 17,
    "start_time": "2025-02-19T20:18:37.079Z"
   },
   {
    "duration": 920,
    "start_time": "2025-02-19T20:18:37.098Z"
   },
   {
    "duration": 9,
    "start_time": "2025-02-19T20:18:38.019Z"
   },
   {
    "duration": 39,
    "start_time": "2025-02-19T20:18:38.029Z"
   },
   {
    "duration": 10,
    "start_time": "2025-02-19T20:18:38.070Z"
   },
   {
    "duration": 11,
    "start_time": "2025-02-19T20:18:38.081Z"
   },
   {
    "duration": 14,
    "start_time": "2025-02-19T20:18:38.094Z"
   },
   {
    "duration": 16,
    "start_time": "2025-02-19T20:18:38.109Z"
   },
   {
    "duration": 4,
    "start_time": "2025-02-19T20:18:38.147Z"
   },
   {
    "duration": 359,
    "start_time": "2025-02-19T20:18:38.152Z"
   },
   {
    "duration": 282,
    "start_time": "2025-02-19T20:18:38.513Z"
   },
   {
    "duration": 325,
    "start_time": "2025-02-19T20:18:38.797Z"
   },
   {
    "duration": 248,
    "start_time": "2025-02-19T20:18:39.124Z"
   },
   {
    "duration": 5948,
    "start_time": "2025-02-19T20:18:39.374Z"
   },
   {
    "duration": 6215,
    "start_time": "2025-02-19T20:18:45.324Z"
   },
   {
    "duration": 339,
    "start_time": "2025-02-19T20:18:51.547Z"
   },
   {
    "duration": 227,
    "start_time": "2025-02-19T20:18:51.887Z"
   },
   {
    "duration": 783,
    "start_time": "2025-02-19T20:18:52.116Z"
   },
   {
    "duration": 689,
    "start_time": "2025-02-19T20:18:52.902Z"
   },
   {
    "duration": 683,
    "start_time": "2025-02-19T20:18:53.593Z"
   },
   {
    "duration": 497,
    "start_time": "2025-02-19T20:18:54.278Z"
   },
   {
    "duration": 275,
    "start_time": "2025-02-19T20:18:54.777Z"
   },
   {
    "duration": 6,
    "start_time": "2025-02-19T20:18:55.054Z"
   },
   {
    "duration": 39,
    "start_time": "2025-02-19T20:18:55.061Z"
   },
   {
    "duration": 11,
    "start_time": "2025-02-19T20:18:55.101Z"
   },
   {
    "duration": 6,
    "start_time": "2025-02-19T20:18:55.114Z"
   },
   {
    "duration": 12,
    "start_time": "2025-02-19T20:18:55.122Z"
   },
   {
    "duration": 15,
    "start_time": "2025-02-19T20:18:55.135Z"
   },
   {
    "duration": 2605,
    "start_time": "2025-02-19T20:18:55.152Z"
   },
   {
    "duration": 445,
    "start_time": "2025-02-19T20:35:44.321Z"
   },
   {
    "duration": 420,
    "start_time": "2025-02-19T20:36:01.289Z"
   },
   {
    "duration": 430,
    "start_time": "2025-02-19T20:41:44.629Z"
   },
   {
    "duration": 465,
    "start_time": "2025-02-19T21:04:21.953Z"
   },
   {
    "duration": 1629,
    "start_time": "2025-02-21T10:40:05.817Z"
   },
   {
    "duration": 45,
    "start_time": "2025-02-21T10:40:07.450Z"
   },
   {
    "duration": 95,
    "start_time": "2025-02-21T10:40:07.498Z"
   },
   {
    "duration": 20,
    "start_time": "2025-02-21T10:40:07.595Z"
   },
   {
    "duration": 26,
    "start_time": "2025-02-21T10:40:07.616Z"
   },
   {
    "duration": 11,
    "start_time": "2025-02-21T10:40:07.643Z"
   },
   {
    "duration": 50,
    "start_time": "2025-02-21T10:40:07.656Z"
   },
   {
    "duration": 24,
    "start_time": "2025-02-21T10:40:07.708Z"
   },
   {
    "duration": 12,
    "start_time": "2025-02-21T10:40:07.733Z"
   },
   {
    "duration": 15,
    "start_time": "2025-02-21T10:40:07.748Z"
   },
   {
    "duration": 1048,
    "start_time": "2025-02-21T10:40:07.765Z"
   },
   {
    "duration": 10,
    "start_time": "2025-02-21T10:40:08.815Z"
   },
   {
    "duration": 141,
    "start_time": "2025-02-21T10:40:08.827Z"
   },
   {
    "duration": 8,
    "start_time": "2025-02-21T10:40:08.970Z"
   },
   {
    "duration": 28,
    "start_time": "2025-02-21T10:40:08.980Z"
   },
   {
    "duration": 24,
    "start_time": "2025-02-21T10:40:09.010Z"
   },
   {
    "duration": 22,
    "start_time": "2025-02-21T10:40:09.036Z"
   },
   {
    "duration": 33,
    "start_time": "2025-02-21T10:40:09.061Z"
   },
   {
    "duration": 366,
    "start_time": "2025-02-21T10:40:09.096Z"
   },
   {
    "duration": 287,
    "start_time": "2025-02-21T10:40:09.464Z"
   },
   {
    "duration": 349,
    "start_time": "2025-02-21T10:40:09.755Z"
   },
   {
    "duration": 287,
    "start_time": "2025-02-21T10:40:10.105Z"
   },
   {
    "duration": 6485,
    "start_time": "2025-02-21T10:40:10.394Z"
   },
   {
    "duration": 6523,
    "start_time": "2025-02-21T10:40:16.881Z"
   },
   {
    "duration": 371,
    "start_time": "2025-02-21T10:40:23.406Z"
   },
   {
    "duration": 262,
    "start_time": "2025-02-21T10:40:23.779Z"
   },
   {
    "duration": 864,
    "start_time": "2025-02-21T10:40:24.044Z"
   },
   {
    "duration": 738,
    "start_time": "2025-02-21T10:40:24.913Z"
   },
   {
    "duration": 724,
    "start_time": "2025-02-21T10:40:25.655Z"
   },
   {
    "duration": 577,
    "start_time": "2025-02-21T10:40:26.381Z"
   },
   {
    "duration": 307,
    "start_time": "2025-02-21T10:40:26.960Z"
   },
   {
    "duration": 6,
    "start_time": "2025-02-21T10:40:27.269Z"
   },
   {
    "duration": 27,
    "start_time": "2025-02-21T10:40:27.277Z"
   },
   {
    "duration": 37,
    "start_time": "2025-02-21T10:40:27.306Z"
   },
   {
    "duration": 210,
    "start_time": "2025-02-21T10:40:27.345Z"
   },
   {
    "duration": 29,
    "start_time": "2025-02-21T10:40:27.558Z"
   },
   {
    "duration": 40,
    "start_time": "2025-02-21T10:40:27.589Z"
   },
   {
    "duration": 514,
    "start_time": "2025-02-21T10:40:27.631Z"
   },
   {
    "duration": 1393,
    "start_time": "2025-02-21T10:52:16.534Z"
   },
   {
    "duration": 32,
    "start_time": "2025-02-21T10:52:17.929Z"
   },
   {
    "duration": 30,
    "start_time": "2025-02-21T10:52:17.963Z"
   },
   {
    "duration": 4,
    "start_time": "2025-02-21T10:52:17.995Z"
   },
   {
    "duration": 15,
    "start_time": "2025-02-21T10:52:18.001Z"
   },
   {
    "duration": 7,
    "start_time": "2025-02-21T10:52:18.018Z"
   },
   {
    "duration": 42,
    "start_time": "2025-02-21T10:52:18.027Z"
   },
   {
    "duration": 15,
    "start_time": "2025-02-21T10:52:18.071Z"
   },
   {
    "duration": 7,
    "start_time": "2025-02-21T10:52:18.087Z"
   },
   {
    "duration": 6,
    "start_time": "2025-02-21T10:52:18.097Z"
   },
   {
    "duration": 943,
    "start_time": "2025-02-21T10:52:18.105Z"
   },
   {
    "duration": 11,
    "start_time": "2025-02-21T10:52:19.050Z"
   },
   {
    "duration": 21,
    "start_time": "2025-02-21T10:52:19.063Z"
   },
   {
    "duration": 13,
    "start_time": "2025-02-21T10:52:19.085Z"
   },
   {
    "duration": 12,
    "start_time": "2025-02-21T10:52:19.100Z"
   },
   {
    "duration": 17,
    "start_time": "2025-02-21T10:52:19.113Z"
   },
   {
    "duration": 30,
    "start_time": "2025-02-21T10:52:19.132Z"
   },
   {
    "duration": 4,
    "start_time": "2025-02-21T10:52:19.163Z"
   },
   {
    "duration": 331,
    "start_time": "2025-02-21T10:52:19.168Z"
   },
   {
    "duration": 284,
    "start_time": "2025-02-21T10:52:19.501Z"
   },
   {
    "duration": 341,
    "start_time": "2025-02-21T10:52:19.786Z"
   },
   {
    "duration": 278,
    "start_time": "2025-02-21T10:52:20.128Z"
   },
   {
    "duration": 6248,
    "start_time": "2025-02-21T10:52:20.408Z"
   },
   {
    "duration": 6359,
    "start_time": "2025-02-21T10:52:26.658Z"
   },
   {
    "duration": 372,
    "start_time": "2025-02-21T10:52:33.019Z"
   },
   {
    "duration": 257,
    "start_time": "2025-02-21T10:52:33.393Z"
   },
   {
    "duration": 845,
    "start_time": "2025-02-21T10:52:33.652Z"
   },
   {
    "duration": 778,
    "start_time": "2025-02-21T10:52:34.501Z"
   },
   {
    "duration": 692,
    "start_time": "2025-02-21T10:52:35.280Z"
   },
   {
    "duration": 511,
    "start_time": "2025-02-21T10:52:35.974Z"
   },
   {
    "duration": 309,
    "start_time": "2025-02-21T10:52:36.486Z"
   },
   {
    "duration": 6,
    "start_time": "2025-02-21T10:52:36.797Z"
   },
   {
    "duration": 105,
    "start_time": "2025-02-21T10:52:36.804Z"
   },
   {
    "duration": 29,
    "start_time": "2025-02-21T10:52:36.910Z"
   },
   {
    "duration": 24,
    "start_time": "2025-02-21T10:52:36.941Z"
   },
   {
    "duration": 20,
    "start_time": "2025-02-21T10:52:36.967Z"
   },
   {
    "duration": 25,
    "start_time": "2025-02-21T10:52:36.989Z"
   },
   {
    "duration": 488,
    "start_time": "2025-02-21T10:52:37.015Z"
   },
   {
    "duration": 362,
    "start_time": "2025-02-21T11:06:58.051Z"
   },
   {
    "duration": 662,
    "start_time": "2025-02-21T11:07:33.364Z"
   },
   {
    "duration": 293,
    "start_time": "2025-02-21T11:10:11.374Z"
   },
   {
    "duration": 266,
    "start_time": "2025-02-21T11:14:22.638Z"
   },
   {
    "duration": 6398,
    "start_time": "2025-02-21T11:22:14.972Z"
   },
   {
    "duration": 335,
    "start_time": "2025-02-21T11:23:46.755Z"
   },
   {
    "duration": 335,
    "start_time": "2025-02-21T11:56:40.394Z"
   },
   {
    "duration": 1079,
    "start_time": "2025-02-21T11:57:02.054Z"
   },
   {
    "duration": 202,
    "start_time": "2025-02-21T11:57:23.299Z"
   },
   {
    "duration": 401,
    "start_time": "2025-02-21T11:57:50.915Z"
   },
   {
    "duration": 1383,
    "start_time": "2025-02-21T11:57:59.595Z"
   },
   {
    "duration": 33,
    "start_time": "2025-02-21T11:58:00.980Z"
   },
   {
    "duration": 136,
    "start_time": "2025-02-21T11:58:01.015Z"
   },
   {
    "duration": 4,
    "start_time": "2025-02-21T11:58:01.153Z"
   },
   {
    "duration": 53,
    "start_time": "2025-02-21T11:58:01.159Z"
   },
   {
    "duration": 168,
    "start_time": "2025-02-21T11:58:01.214Z"
   },
   {
    "duration": 41,
    "start_time": "2025-02-21T11:58:01.384Z"
   },
   {
    "duration": 31,
    "start_time": "2025-02-21T11:58:01.427Z"
   },
   {
    "duration": 55,
    "start_time": "2025-02-21T11:58:01.460Z"
   },
   {
    "duration": 18,
    "start_time": "2025-02-21T11:58:01.518Z"
   },
   {
    "duration": 1111,
    "start_time": "2025-02-21T11:58:01.538Z"
   },
   {
    "duration": 13,
    "start_time": "2025-02-21T11:58:02.651Z"
   },
   {
    "duration": 80,
    "start_time": "2025-02-21T11:58:02.666Z"
   },
   {
    "duration": 110,
    "start_time": "2025-02-21T11:58:02.749Z"
   },
   {
    "duration": 64,
    "start_time": "2025-02-21T11:58:02.861Z"
   },
   {
    "duration": 169,
    "start_time": "2025-02-21T11:58:02.927Z"
   },
   {
    "duration": 79,
    "start_time": "2025-02-21T11:58:03.098Z"
   },
   {
    "duration": 78,
    "start_time": "2025-02-21T11:58:03.179Z"
   },
   {
    "duration": 435,
    "start_time": "2025-02-21T11:58:03.259Z"
   },
   {
    "duration": 309,
    "start_time": "2025-02-21T11:58:03.696Z"
   },
   {
    "duration": 364,
    "start_time": "2025-02-21T11:58:04.007Z"
   },
   {
    "duration": 328,
    "start_time": "2025-02-21T11:58:04.374Z"
   },
   {
    "duration": 6696,
    "start_time": "2025-02-21T11:58:04.705Z"
   },
   {
    "duration": 6832,
    "start_time": "2025-02-21T11:58:11.403Z"
   },
   {
    "duration": 404,
    "start_time": "2025-02-21T11:58:18.236Z"
   },
   {
    "duration": 281,
    "start_time": "2025-02-21T11:58:18.643Z"
   },
   {
    "duration": 724,
    "start_time": "2025-02-21T11:58:18.926Z"
   },
   {
    "duration": 704,
    "start_time": "2025-02-21T11:58:19.654Z"
   },
   {
    "duration": 698,
    "start_time": "2025-02-21T11:58:20.360Z"
   },
   {
    "duration": 645,
    "start_time": "2025-02-21T11:58:21.060Z"
   },
   {
    "duration": 353,
    "start_time": "2025-02-21T11:58:21.707Z"
   },
   {
    "duration": 6,
    "start_time": "2025-02-21T11:58:22.062Z"
   },
   {
    "duration": 18,
    "start_time": "2025-02-21T11:58:22.069Z"
   },
   {
    "duration": 25,
    "start_time": "2025-02-21T11:58:22.089Z"
   },
   {
    "duration": 7,
    "start_time": "2025-02-21T11:58:22.116Z"
   },
   {
    "duration": 7,
    "start_time": "2025-02-21T11:58:22.125Z"
   },
   {
    "duration": 24,
    "start_time": "2025-02-21T11:58:22.134Z"
   },
   {
    "duration": 487,
    "start_time": "2025-02-21T11:58:22.160Z"
   }
  ],
  "kernelspec": {
   "display_name": "Python 3 (ipykernel)",
   "language": "python",
   "name": "python3"
  },
  "language_info": {
   "codemirror_mode": {
    "name": "ipython",
    "version": 3
   },
   "file_extension": ".py",
   "mimetype": "text/x-python",
   "name": "python",
   "nbconvert_exporter": "python",
   "pygments_lexer": "ipython3",
   "version": "3.9.5"
  },
  "toc": {
   "base_numbering": 1,
   "nav_menu": {},
   "number_sections": true,
   "sideBar": true,
   "skip_h1_title": true,
   "title_cell": "Table of Contents",
   "title_sidebar": "Contents",
   "toc_cell": false,
   "toc_position": {},
   "toc_section_display": true,
   "toc_window_display": false
  }
 },
 "nbformat": 4,
 "nbformat_minor": 2
}
