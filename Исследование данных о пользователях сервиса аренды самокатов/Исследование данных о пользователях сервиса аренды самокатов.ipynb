{
 "cells": [
  {
   "cell_type": "markdown",
   "id": "9811e29b",
   "metadata": {},
   "source": [
    "# Исследование пользователей сервиса аренды самокатов\n",
    "\n",
    "В рамках данного исследования планируется выполнить следующие этапы:\n",
    "1. Загрузить и предобработать данные о пользователях, подписках и поездах сервиса GoFast\n",
    "2. Проанализировать и визуализировать информацию о пользователях и поездках\n",
    "3. Объединить данные в новые датафреймы\n",
    "4. Рассчитать суммарные расстояние, количество поездок, суммарное время и суммарную выручку\n",
    "5. Проверить гипотезы, чтобы выяснить насколько целесообразны акции, которые собираются проводить продакт-менеджеры\n",
    "\n",
    "Исследование проводится, чтобы помочь продакт-менеджерам принять решение о проведении акций для увеличения количества пользователей с подпиской. Необходимо выяснить насколько различаются показатели между пользователями с подпиской и без нее.\n"
   ]
  },
  {
   "cell_type": "code",
   "execution_count": 1,
   "id": "72576667",
   "metadata": {},
   "outputs": [],
   "source": [
    "import pandas as pd\n",
    "from scipy import stats as st\n",
    "import numpy as np\n",
    "import matplotlib.pyplot as plt"
   ]
  },
  {
   "cell_type": "markdown",
   "id": "c42cbe00",
   "metadata": {},
   "source": [
    "#### Шаг 1. Загрузка данных"
   ]
  },
  {
   "cell_type": "code",
   "execution_count": 2,
   "id": "eff9f206",
   "metadata": {},
   "outputs": [],
   "source": [
    "users = pd.read_csv('/datasets/users_go.csv')\n",
    "rides = pd.read_csv('/datasets/rides_go.csv')\n",
    "subscriptions = pd.read_csv('/datasets/subscriptions_go.csv')"
   ]
  },
  {
   "cell_type": "code",
   "execution_count": 3,
   "id": "5067c886",
   "metadata": {},
   "outputs": [],
   "source": [
    "def check_df (df):\n",
    "\n",
    "    display(df.info())\n",
    "\n",
    "    display(df.head())"
   ]
  },
  {
   "cell_type": "code",
   "execution_count": 4,
   "id": "44b9e4b1",
   "metadata": {
    "scrolled": true
   },
   "outputs": [
    {
     "name": "stdout",
     "output_type": "stream",
     "text": [
      "<class 'pandas.core.frame.DataFrame'>\n",
      "RangeIndex: 1565 entries, 0 to 1564\n",
      "Data columns (total 5 columns):\n",
      " #   Column             Non-Null Count  Dtype \n",
      "---  ------             --------------  ----- \n",
      " 0   user_id            1565 non-null   int64 \n",
      " 1   name               1565 non-null   object\n",
      " 2   age                1565 non-null   int64 \n",
      " 3   city               1565 non-null   object\n",
      " 4   subscription_type  1565 non-null   object\n",
      "dtypes: int64(2), object(3)\n",
      "memory usage: 61.3+ KB\n"
     ]
    },
    {
     "data": {
      "text/plain": [
       "None"
      ]
     },
     "metadata": {},
     "output_type": "display_data"
    },
    {
     "data": {
      "text/html": [
       "<div>\n",
       "<style scoped>\n",
       "    .dataframe tbody tr th:only-of-type {\n",
       "        vertical-align: middle;\n",
       "    }\n",
       "\n",
       "    .dataframe tbody tr th {\n",
       "        vertical-align: top;\n",
       "    }\n",
       "\n",
       "    .dataframe thead th {\n",
       "        text-align: right;\n",
       "    }\n",
       "</style>\n",
       "<table border=\"1\" class=\"dataframe\">\n",
       "  <thead>\n",
       "    <tr style=\"text-align: right;\">\n",
       "      <th></th>\n",
       "      <th>user_id</th>\n",
       "      <th>name</th>\n",
       "      <th>age</th>\n",
       "      <th>city</th>\n",
       "      <th>subscription_type</th>\n",
       "    </tr>\n",
       "  </thead>\n",
       "  <tbody>\n",
       "    <tr>\n",
       "      <th>0</th>\n",
       "      <td>1</td>\n",
       "      <td>Кира</td>\n",
       "      <td>22</td>\n",
       "      <td>Тюмень</td>\n",
       "      <td>ultra</td>\n",
       "    </tr>\n",
       "    <tr>\n",
       "      <th>1</th>\n",
       "      <td>2</td>\n",
       "      <td>Станислав</td>\n",
       "      <td>31</td>\n",
       "      <td>Омск</td>\n",
       "      <td>ultra</td>\n",
       "    </tr>\n",
       "    <tr>\n",
       "      <th>2</th>\n",
       "      <td>3</td>\n",
       "      <td>Алексей</td>\n",
       "      <td>20</td>\n",
       "      <td>Москва</td>\n",
       "      <td>ultra</td>\n",
       "    </tr>\n",
       "    <tr>\n",
       "      <th>3</th>\n",
       "      <td>4</td>\n",
       "      <td>Константин</td>\n",
       "      <td>26</td>\n",
       "      <td>Ростов-на-Дону</td>\n",
       "      <td>ultra</td>\n",
       "    </tr>\n",
       "    <tr>\n",
       "      <th>4</th>\n",
       "      <td>5</td>\n",
       "      <td>Адель</td>\n",
       "      <td>28</td>\n",
       "      <td>Омск</td>\n",
       "      <td>ultra</td>\n",
       "    </tr>\n",
       "  </tbody>\n",
       "</table>\n",
       "</div>"
      ],
      "text/plain": [
       "   user_id        name  age            city subscription_type\n",
       "0        1        Кира   22          Тюмень             ultra\n",
       "1        2   Станислав   31            Омск             ultra\n",
       "2        3     Алексей   20          Москва             ultra\n",
       "3        4  Константин   26  Ростов-на-Дону             ultra\n",
       "4        5       Адель   28            Омск             ultra"
      ]
     },
     "metadata": {},
     "output_type": "display_data"
    }
   ],
   "source": [
    "check_df(users)"
   ]
  },
  {
   "cell_type": "code",
   "execution_count": 5,
   "id": "d34eaebd",
   "metadata": {
    "scrolled": false
   },
   "outputs": [
    {
     "name": "stdout",
     "output_type": "stream",
     "text": [
      "<class 'pandas.core.frame.DataFrame'>\n",
      "RangeIndex: 18068 entries, 0 to 18067\n",
      "Data columns (total 4 columns):\n",
      " #   Column    Non-Null Count  Dtype  \n",
      "---  ------    --------------  -----  \n",
      " 0   user_id   18068 non-null  int64  \n",
      " 1   distance  18068 non-null  float64\n",
      " 2   duration  18068 non-null  float64\n",
      " 3   date      18068 non-null  object \n",
      "dtypes: float64(2), int64(1), object(1)\n",
      "memory usage: 564.8+ KB\n"
     ]
    },
    {
     "data": {
      "text/plain": [
       "None"
      ]
     },
     "metadata": {},
     "output_type": "display_data"
    },
    {
     "data": {
      "text/html": [
       "<div>\n",
       "<style scoped>\n",
       "    .dataframe tbody tr th:only-of-type {\n",
       "        vertical-align: middle;\n",
       "    }\n",
       "\n",
       "    .dataframe tbody tr th {\n",
       "        vertical-align: top;\n",
       "    }\n",
       "\n",
       "    .dataframe thead th {\n",
       "        text-align: right;\n",
       "    }\n",
       "</style>\n",
       "<table border=\"1\" class=\"dataframe\">\n",
       "  <thead>\n",
       "    <tr style=\"text-align: right;\">\n",
       "      <th></th>\n",
       "      <th>user_id</th>\n",
       "      <th>distance</th>\n",
       "      <th>duration</th>\n",
       "      <th>date</th>\n",
       "    </tr>\n",
       "  </thead>\n",
       "  <tbody>\n",
       "    <tr>\n",
       "      <th>0</th>\n",
       "      <td>1</td>\n",
       "      <td>4409.919140</td>\n",
       "      <td>25.599769</td>\n",
       "      <td>2021-01-01</td>\n",
       "    </tr>\n",
       "    <tr>\n",
       "      <th>1</th>\n",
       "      <td>1</td>\n",
       "      <td>2617.592153</td>\n",
       "      <td>15.816871</td>\n",
       "      <td>2021-01-18</td>\n",
       "    </tr>\n",
       "    <tr>\n",
       "      <th>2</th>\n",
       "      <td>1</td>\n",
       "      <td>754.159807</td>\n",
       "      <td>6.232113</td>\n",
       "      <td>2021-04-20</td>\n",
       "    </tr>\n",
       "    <tr>\n",
       "      <th>3</th>\n",
       "      <td>1</td>\n",
       "      <td>2694.783254</td>\n",
       "      <td>18.511000</td>\n",
       "      <td>2021-08-11</td>\n",
       "    </tr>\n",
       "    <tr>\n",
       "      <th>4</th>\n",
       "      <td>1</td>\n",
       "      <td>4028.687306</td>\n",
       "      <td>26.265803</td>\n",
       "      <td>2021-08-28</td>\n",
       "    </tr>\n",
       "  </tbody>\n",
       "</table>\n",
       "</div>"
      ],
      "text/plain": [
       "   user_id     distance   duration        date\n",
       "0        1  4409.919140  25.599769  2021-01-01\n",
       "1        1  2617.592153  15.816871  2021-01-18\n",
       "2        1   754.159807   6.232113  2021-04-20\n",
       "3        1  2694.783254  18.511000  2021-08-11\n",
       "4        1  4028.687306  26.265803  2021-08-28"
      ]
     },
     "metadata": {},
     "output_type": "display_data"
    }
   ],
   "source": [
    "check_df(rides)"
   ]
  },
  {
   "cell_type": "code",
   "execution_count": 6,
   "id": "d0054f3d",
   "metadata": {},
   "outputs": [
    {
     "data": {
      "image/png": "[encoded data removed]",
      "text/plain": [
       "<Figure size 648x864 with 4 Axes>"
      ]
     },
     "metadata": {
      "needs_background": "light"
     },
     "output_type": "display_data"
    }
   ],
   "source": [
    "rides.hist(figsize=(9,12))\n",
    "plt.show()"
   ]
  },
  {
   "cell_type": "code",
   "execution_count": 7,
   "id": "da56353f",
   "metadata": {
    "scrolled": true
   },
   "outputs": [
    {
     "name": "stdout",
     "output_type": "stream",
     "text": [
      "<class 'pandas.core.frame.DataFrame'>\n",
      "RangeIndex: 2 entries, 0 to 1\n",
      "Data columns (total 4 columns):\n",
      " #   Column             Non-Null Count  Dtype \n",
      "---  ------             --------------  ----- \n",
      " 0   subscription_type  2 non-null      object\n",
      " 1   minute_price       2 non-null      int64 \n",
      " 2   start_ride_price   2 non-null      int64 \n",
      " 3   subscription_fee   2 non-null      int64 \n",
      "dtypes: int64(3), object(1)\n",
      "memory usage: 192.0+ bytes\n"
     ]
    },
    {
     "data": {
      "text/plain": [
       "None"
      ]
     },
     "metadata": {},
     "output_type": "display_data"
    },
    {
     "data": {
      "text/html": [
       "<div>\n",
       "<style scoped>\n",
       "    .dataframe tbody tr th:only-of-type {\n",
       "        vertical-align: middle;\n",
       "    }\n",
       "\n",
       "    .dataframe tbody tr th {\n",
       "        vertical-align: top;\n",
       "    }\n",
       "\n",
       "    .dataframe thead th {\n",
       "        text-align: right;\n",
       "    }\n",
       "</style>\n",
       "<table border=\"1\" class=\"dataframe\">\n",
       "  <thead>\n",
       "    <tr style=\"text-align: right;\">\n",
       "      <th></th>\n",
       "      <th>subscription_type</th>\n",
       "      <th>minute_price</th>\n",
       "      <th>start_ride_price</th>\n",
       "      <th>subscription_fee</th>\n",
       "    </tr>\n",
       "  </thead>\n",
       "  <tbody>\n",
       "    <tr>\n",
       "      <th>0</th>\n",
       "      <td>free</td>\n",
       "      <td>8</td>\n",
       "      <td>50</td>\n",
       "      <td>0</td>\n",
       "    </tr>\n",
       "    <tr>\n",
       "      <th>1</th>\n",
       "      <td>ultra</td>\n",
       "      <td>6</td>\n",
       "      <td>0</td>\n",
       "      <td>199</td>\n",
       "    </tr>\n",
       "  </tbody>\n",
       "</table>\n",
       "</div>"
      ],
      "text/plain": [
       "  subscription_type  minute_price  start_ride_price  subscription_fee\n",
       "0              free             8                50                 0\n",
       "1             ultra             6                 0               199"
      ]
     },
     "metadata": {},
     "output_type": "display_data"
    }
   ],
   "source": [
    "check_df(subscriptions)"
   ]
  },
  {
   "cell_type": "markdown",
   "id": "950f2e4e",
   "metadata": {},
   "source": [
    "Из общей информации по имеющимся данным можно сказать, что с первого взгляда особых проблем не видно. Тип данных в столбце date не соответствует необходимому datetime.  "
   ]
  },
  {
   "cell_type": "markdown",
   "id": "e95ebca7",
   "metadata": {},
   "source": [
    "#### Шаг 2. Предобработка данных"
   ]
  },
  {
   "cell_type": "code",
   "execution_count": 8,
   "id": "af6d202c",
   "metadata": {
    "scrolled": true
   },
   "outputs": [
    {
     "name": "stdout",
     "output_type": "stream",
     "text": [
      "<class 'pandas.core.frame.DataFrame'>\n",
      "RangeIndex: 18068 entries, 0 to 18067\n",
      "Data columns (total 4 columns):\n",
      " #   Column    Non-Null Count  Dtype         \n",
      "---  ------    --------------  -----         \n",
      " 0   user_id   18068 non-null  int64         \n",
      " 1   distance  18068 non-null  float64       \n",
      " 2   duration  18068 non-null  float64       \n",
      " 3   date      18068 non-null  datetime64[ns]\n",
      "dtypes: datetime64[ns](1), float64(2), int64(1)\n",
      "memory usage: 564.8 KB\n"
     ]
    }
   ],
   "source": [
    "# Изменим тип данных в столбце date датафрейма rides\n",
    "rides['date'] = pd.to_datetime(rides['date'], format='%Y-%m-%d')\n",
    "rides.info()"
   ]
  },
  {
   "cell_type": "code",
   "execution_count": 9,
   "id": "16d09871",
   "metadata": {
    "scrolled": true
   },
   "outputs": [
    {
     "data": {
      "text/plain": [
       "31"
      ]
     },
     "execution_count": 9,
     "metadata": {},
     "output_type": "execute_result"
    }
   ],
   "source": [
    "users.duplicated().sum()"
   ]
  },
  {
   "cell_type": "code",
   "execution_count": 10,
   "id": "8ec7a641",
   "metadata": {
    "scrolled": true
   },
   "outputs": [
    {
     "name": "stdout",
     "output_type": "stream",
     "text": [
      "<class 'pandas.core.frame.DataFrame'>\n",
      "RangeIndex: 1534 entries, 0 to 1533\n",
      "Data columns (total 5 columns):\n",
      " #   Column             Non-Null Count  Dtype \n",
      "---  ------             --------------  ----- \n",
      " 0   user_id            1534 non-null   int64 \n",
      " 1   name               1534 non-null   object\n",
      " 2   age                1534 non-null   int64 \n",
      " 3   city               1534 non-null   object\n",
      " 4   subscription_type  1534 non-null   object\n",
      "dtypes: int64(2), object(3)\n",
      "memory usage: 60.0+ KB\n"
     ]
    }
   ],
   "source": [
    "# Очистим таблицу users от дубликатов\n",
    "users = users.drop_duplicates().reset_index(drop=True)\n",
    "users.info()"
   ]
  },
  {
   "cell_type": "code",
   "execution_count": 11,
   "id": "05b1527c",
   "metadata": {},
   "outputs": [
    {
     "data": {
      "text/plain": [
       "0"
      ]
     },
     "execution_count": 11,
     "metadata": {},
     "output_type": "execute_result"
    }
   ],
   "source": [
    "rides.duplicated().sum()"
   ]
  },
  {
   "cell_type": "code",
   "execution_count": 12,
   "id": "0af02b3f",
   "metadata": {
    "scrolled": false
   },
   "outputs": [
    {
     "data": {
      "text/html": [
       "<div>\n",
       "<style scoped>\n",
       "    .dataframe tbody tr th:only-of-type {\n",
       "        vertical-align: middle;\n",
       "    }\n",
       "\n",
       "    .dataframe tbody tr th {\n",
       "        vertical-align: top;\n",
       "    }\n",
       "\n",
       "    .dataframe thead th {\n",
       "        text-align: right;\n",
       "    }\n",
       "</style>\n",
       "<table border=\"1\" class=\"dataframe\">\n",
       "  <thead>\n",
       "    <tr style=\"text-align: right;\">\n",
       "      <th></th>\n",
       "      <th>user_id</th>\n",
       "      <th>distance</th>\n",
       "      <th>duration</th>\n",
       "      <th>date</th>\n",
       "      <th>month</th>\n",
       "    </tr>\n",
       "  </thead>\n",
       "  <tbody>\n",
       "    <tr>\n",
       "      <th>0</th>\n",
       "      <td>1</td>\n",
       "      <td>4409.919140</td>\n",
       "      <td>25.599769</td>\n",
       "      <td>2021-01-01</td>\n",
       "      <td>1</td>\n",
       "    </tr>\n",
       "    <tr>\n",
       "      <th>1</th>\n",
       "      <td>1</td>\n",
       "      <td>2617.592153</td>\n",
       "      <td>15.816871</td>\n",
       "      <td>2021-01-18</td>\n",
       "      <td>1</td>\n",
       "    </tr>\n",
       "    <tr>\n",
       "      <th>2</th>\n",
       "      <td>1</td>\n",
       "      <td>754.159807</td>\n",
       "      <td>6.232113</td>\n",
       "      <td>2021-04-20</td>\n",
       "      <td>4</td>\n",
       "    </tr>\n",
       "    <tr>\n",
       "      <th>3</th>\n",
       "      <td>1</td>\n",
       "      <td>2694.783254</td>\n",
       "      <td>18.511000</td>\n",
       "      <td>2021-08-11</td>\n",
       "      <td>8</td>\n",
       "    </tr>\n",
       "    <tr>\n",
       "      <th>4</th>\n",
       "      <td>1</td>\n",
       "      <td>4028.687306</td>\n",
       "      <td>26.265803</td>\n",
       "      <td>2021-08-28</td>\n",
       "      <td>8</td>\n",
       "    </tr>\n",
       "  </tbody>\n",
       "</table>\n",
       "</div>"
      ],
      "text/plain": [
       "   user_id     distance   duration       date  month\n",
       "0        1  4409.919140  25.599769 2021-01-01      1\n",
       "1        1  2617.592153  15.816871 2021-01-18      1\n",
       "2        1   754.159807   6.232113 2021-04-20      4\n",
       "3        1  2694.783254  18.511000 2021-08-11      8\n",
       "4        1  4028.687306  26.265803 2021-08-28      8"
      ]
     },
     "execution_count": 12,
     "metadata": {},
     "output_type": "execute_result"
    }
   ],
   "source": [
    "# Добавим столбец с месяцем, в который была совершена поездка\n",
    "rides['month'] = rides['date'].dt.month\n",
    "rides.head()"
   ]
  },
  {
   "cell_type": "code",
   "execution_count": 13,
   "id": "92385bff",
   "metadata": {
    "scrolled": false
   },
   "outputs": [
    {
     "data": {
      "text/html": [
       "<div>\n",
       "<style scoped>\n",
       "    .dataframe tbody tr th:only-of-type {\n",
       "        vertical-align: middle;\n",
       "    }\n",
       "\n",
       "    .dataframe tbody tr th {\n",
       "        vertical-align: top;\n",
       "    }\n",
       "\n",
       "    .dataframe thead th {\n",
       "        text-align: right;\n",
       "    }\n",
       "</style>\n",
       "<table border=\"1\" class=\"dataframe\">\n",
       "  <thead>\n",
       "    <tr style=\"text-align: right;\">\n",
       "      <th></th>\n",
       "      <th>user_id</th>\n",
       "      <th>distance</th>\n",
       "      <th>duration</th>\n",
       "      <th>date</th>\n",
       "      <th>month</th>\n",
       "    </tr>\n",
       "  </thead>\n",
       "  <tbody>\n",
       "    <tr>\n",
       "      <th>0</th>\n",
       "      <td>1</td>\n",
       "      <td>4410</td>\n",
       "      <td>25.6</td>\n",
       "      <td>2021-01-01</td>\n",
       "      <td>1</td>\n",
       "    </tr>\n",
       "    <tr>\n",
       "      <th>1</th>\n",
       "      <td>1</td>\n",
       "      <td>2618</td>\n",
       "      <td>15.8</td>\n",
       "      <td>2021-01-18</td>\n",
       "      <td>1</td>\n",
       "    </tr>\n",
       "    <tr>\n",
       "      <th>2</th>\n",
       "      <td>1</td>\n",
       "      <td>754</td>\n",
       "      <td>6.2</td>\n",
       "      <td>2021-04-20</td>\n",
       "      <td>4</td>\n",
       "    </tr>\n",
       "    <tr>\n",
       "      <th>3</th>\n",
       "      <td>1</td>\n",
       "      <td>2695</td>\n",
       "      <td>18.5</td>\n",
       "      <td>2021-08-11</td>\n",
       "      <td>8</td>\n",
       "    </tr>\n",
       "    <tr>\n",
       "      <th>4</th>\n",
       "      <td>1</td>\n",
       "      <td>4029</td>\n",
       "      <td>26.3</td>\n",
       "      <td>2021-08-28</td>\n",
       "      <td>8</td>\n",
       "    </tr>\n",
       "    <tr>\n",
       "      <th>5</th>\n",
       "      <td>1</td>\n",
       "      <td>2771</td>\n",
       "      <td>16.7</td>\n",
       "      <td>2021-10-09</td>\n",
       "      <td>10</td>\n",
       "    </tr>\n",
       "    <tr>\n",
       "      <th>6</th>\n",
       "      <td>1</td>\n",
       "      <td>3039</td>\n",
       "      <td>14.9</td>\n",
       "      <td>2021-10-19</td>\n",
       "      <td>10</td>\n",
       "    </tr>\n",
       "    <tr>\n",
       "      <th>7</th>\n",
       "      <td>1</td>\n",
       "      <td>2842</td>\n",
       "      <td>23.1</td>\n",
       "      <td>2021-11-06</td>\n",
       "      <td>11</td>\n",
       "    </tr>\n",
       "    <tr>\n",
       "      <th>8</th>\n",
       "      <td>1</td>\n",
       "      <td>3413</td>\n",
       "      <td>15.2</td>\n",
       "      <td>2021-11-14</td>\n",
       "      <td>11</td>\n",
       "    </tr>\n",
       "    <tr>\n",
       "      <th>9</th>\n",
       "      <td>1</td>\n",
       "      <td>749</td>\n",
       "      <td>15.0</td>\n",
       "      <td>2021-11-22</td>\n",
       "      <td>11</td>\n",
       "    </tr>\n",
       "  </tbody>\n",
       "</table>\n",
       "</div>"
      ],
      "text/plain": [
       "   user_id  distance  duration       date  month\n",
       "0        1      4410      25.6 2021-01-01      1\n",
       "1        1      2618      15.8 2021-01-18      1\n",
       "2        1       754       6.2 2021-04-20      4\n",
       "3        1      2695      18.5 2021-08-11      8\n",
       "4        1      4029      26.3 2021-08-28      8\n",
       "5        1      2771      16.7 2021-10-09     10\n",
       "6        1      3039      14.9 2021-10-19     10\n",
       "7        1      2842      23.1 2021-11-06     11\n",
       "8        1      3413      15.2 2021-11-14     11\n",
       "9        1       749      15.0 2021-11-22     11"
      ]
     },
     "execution_count": 13,
     "metadata": {},
     "output_type": "execute_result"
    }
   ],
   "source": [
    "# Округлим данные в столбцах distance и duration до целых и одного знака после запятой соответственно\n",
    "rides['distance'] = rides['distance'].round(0)\n",
    "rides['distance'] = rides['distance'].astype(dtype='int')\n",
    "rides['duration'] = rides['duration'].round(1)\n",
    "rides.head(10)"
   ]
  },
  {
   "cell_type": "code",
   "execution_count": 14,
   "id": "4b1f08ab",
   "metadata": {},
   "outputs": [
    {
     "data": {
      "text/plain": [
       "user_id     0\n",
       "distance    0\n",
       "duration    0\n",
       "date        0\n",
       "month       0\n",
       "dtype: int64"
      ]
     },
     "execution_count": 14,
     "metadata": {},
     "output_type": "execute_result"
    }
   ],
   "source": [
    "rides.isna().sum()"
   ]
  },
  {
   "cell_type": "code",
   "execution_count": 15,
   "id": "963e4acc",
   "metadata": {},
   "outputs": [
    {
     "data": {
      "text/plain": [
       "user_id              0\n",
       "name                 0\n",
       "age                  0\n",
       "city                 0\n",
       "subscription_type    0\n",
       "dtype: int64"
      ]
     },
     "execution_count": 15,
     "metadata": {},
     "output_type": "execute_result"
    }
   ],
   "source": [
    "users.isna().sum()"
   ]
  },
  {
   "cell_type": "markdown",
   "id": "4794e521",
   "metadata": {},
   "source": [
    "Пропущенных значений в данных не обнаружено, найденные дубликаты в таблице users были удалены. "
   ]
  },
  {
   "cell_type": "markdown",
   "id": "212593c7",
   "metadata": {},
   "source": [
    "#### Шаг 3. Исследовательский анализ данных"
   ]
  },
  {
   "cell_type": "code",
   "execution_count": 16,
   "id": "e3a4274c",
   "metadata": {
    "scrolled": true
   },
   "outputs": [
    {
     "data": {
      "image/png": "[encoded data removed]",
      "text/plain": [
       "<Figure size 432x288 with 1 Axes>"
      ]
     },
     "metadata": {
      "needs_background": "light"
     },
     "output_type": "display_data"
    }
   ],
   "source": [
    "users_city = users.pivot_table(values='user_id', index='city', aggfunc='count')\n",
    "users_city = users_city.sort_values(by='user_id',ascending=True)\n",
    "users_city.plot(kind='bar')\n",
    "plt.title('Распределение пользователей по городам')\n",
    "plt.xlabel('Город')\n",
    "plt.ylabel('Число пользователей')\n",
    "\n",
    "plt.show()"
   ]
  },
  {
   "cell_type": "code",
   "execution_count": 17,
   "id": "95ff2536",
   "metadata": {
    "scrolled": true
   },
   "outputs": [
    {
     "data": {
      "text/html": [
       "<div>\n",
       "<style scoped>\n",
       "    .dataframe tbody tr th:only-of-type {\n",
       "        vertical-align: middle;\n",
       "    }\n",
       "\n",
       "    .dataframe tbody tr th {\n",
       "        vertical-align: top;\n",
       "    }\n",
       "\n",
       "    .dataframe thead th {\n",
       "        text-align: right;\n",
       "    }\n",
       "</style>\n",
       "<table border=\"1\" class=\"dataframe\">\n",
       "  <thead>\n",
       "    <tr style=\"text-align: right;\">\n",
       "      <th></th>\n",
       "      <th>user_id</th>\n",
       "    </tr>\n",
       "    <tr>\n",
       "      <th>city</th>\n",
       "      <th></th>\n",
       "    </tr>\n",
       "  </thead>\n",
       "  <tbody>\n",
       "    <tr>\n",
       "      <th>Москва</th>\n",
       "      <td>168</td>\n",
       "    </tr>\n",
       "    <tr>\n",
       "      <th>Тюмень</th>\n",
       "      <td>180</td>\n",
       "    </tr>\n",
       "    <tr>\n",
       "      <th>Омск</th>\n",
       "      <td>183</td>\n",
       "    </tr>\n",
       "    <tr>\n",
       "      <th>Сочи</th>\n",
       "      <td>189</td>\n",
       "    </tr>\n",
       "    <tr>\n",
       "      <th>Краснодар</th>\n",
       "      <td>193</td>\n",
       "    </tr>\n",
       "    <tr>\n",
       "      <th>Ростов-на-Дону</th>\n",
       "      <td>198</td>\n",
       "    </tr>\n",
       "    <tr>\n",
       "      <th>Екатеринбург</th>\n",
       "      <td>204</td>\n",
       "    </tr>\n",
       "    <tr>\n",
       "      <th>Пятигорск</th>\n",
       "      <td>219</td>\n",
       "    </tr>\n",
       "  </tbody>\n",
       "</table>\n",
       "</div>"
      ],
      "text/plain": [
       "                user_id\n",
       "city                   \n",
       "Москва              168\n",
       "Тюмень              180\n",
       "Омск                183\n",
       "Сочи                189\n",
       "Краснодар           193\n",
       "Ростов-на-Дону      198\n",
       "Екатеринбург        204\n",
       "Пятигорск           219"
      ]
     },
     "metadata": {},
     "output_type": "display_data"
    }
   ],
   "source": [
    "display(users_city)"
   ]
  },
  {
   "cell_type": "markdown",
   "id": "d70279f8",
   "metadata": {},
   "source": [
    "Как можно заметить на графике, сервис действует в 8 городах. Наибольшее количество пользователей в Пятигорске (219), наименьшее в Москве (168), В остальном отрыв по количеству пользователей между городами не так велик."
   ]
  },
  {
   "cell_type": "code",
   "execution_count": 18,
   "id": "195335cd",
   "metadata": {},
   "outputs": [
    {
     "data": {
      "text/html": [
       "<div>\n",
       "<style scoped>\n",
       "    .dataframe tbody tr th:only-of-type {\n",
       "        vertical-align: middle;\n",
       "    }\n",
       "\n",
       "    .dataframe tbody tr th {\n",
       "        vertical-align: top;\n",
       "    }\n",
       "\n",
       "    .dataframe thead th {\n",
       "        text-align: right;\n",
       "    }\n",
       "</style>\n",
       "<table border=\"1\" class=\"dataframe\">\n",
       "  <thead>\n",
       "    <tr style=\"text-align: right;\">\n",
       "      <th></th>\n",
       "      <th>user_id</th>\n",
       "    </tr>\n",
       "    <tr>\n",
       "      <th>subscription_type</th>\n",
       "      <th></th>\n",
       "    </tr>\n",
       "  </thead>\n",
       "  <tbody>\n",
       "    <tr>\n",
       "      <th>free</th>\n",
       "      <td>835</td>\n",
       "    </tr>\n",
       "    <tr>\n",
       "      <th>ultra</th>\n",
       "      <td>699</td>\n",
       "    </tr>\n",
       "  </tbody>\n",
       "</table>\n",
       "</div>"
      ],
      "text/plain": [
       "                   user_id\n",
       "subscription_type         \n",
       "free                   835\n",
       "ultra                  699"
      ]
     },
     "metadata": {},
     "output_type": "display_data"
    },
    {
     "data": {
      "image/png": "[encoded data removed]",
      "text/plain": [
       "<Figure size 432x288 with 1 Axes>"
      ]
     },
     "metadata": {
      "needs_background": "light"
     },
     "output_type": "display_data"
    }
   ],
   "source": [
    "users_sub = users.pivot_table(values='user_id', index='subscription_type', aggfunc='count')\n",
    "display(users_sub)\n",
    "users_sub.plot(kind='bar')\n",
    "plt.title('Соотношение пользователей с подпиской и без нее')\n",
    "plt.xlabel('Тип подписки')\n",
    "plt.ylabel('Число пользователей')\n",
    "\n",
    "plt.show()"
   ]
  },
  {
   "cell_type": "code",
   "execution_count": 19,
   "id": "29c33113",
   "metadata": {},
   "outputs": [
    {
     "name": "stdout",
     "output_type": "stream",
     "text": [
      "Процент пользователей без подписки составляет: 54%\n",
      "Процент пользователей с подпиской составляет: 46%\n"
     ]
    }
   ],
   "source": [
    "users_free = users.loc[users['subscription_type'] == \"free\", 'user_id'].count()\n",
    "users_ultra = users.loc[users['subscription_type'] == \"ultra\", 'user_id'].count()\n",
    "print('Процент пользователей без подписки составляет:', \"{:.0%}\".format(users_free / (users_free + users_ultra)))\n",
    "print('Процент пользователей с подпиской составляет:', \"{:.0%}\".format(users_ultra / (users_free + users_ultra)))"
   ]
  },
  {
   "cell_type": "markdown",
   "id": "483bf19b",
   "metadata": {},
   "source": [
    "В общем количестве пользователей разница между количеством пользователей с подпиской и без нее составляет 8%. Это достаточно хороший результат, видимо, подписка действительно выгодна пользователям."
   ]
  },
  {
   "cell_type": "code",
   "execution_count": 20,
   "id": "a9c844a0",
   "metadata": {},
   "outputs": [
    {
     "data": {
      "image/png": "[encoded data removed]",
      "text/plain": [
       "<Figure size 432x288 with 1 Axes>"
      ]
     },
     "metadata": {
      "needs_background": "light"
     },
     "output_type": "display_data"
    }
   ],
   "source": [
    "users_age = users.pivot_table(values='user_id', index='age', aggfunc='count')\n",
    "users_age.plot(kind='bar')\n",
    "plt.title('Распределение пользователей по возрасту')\n",
    "plt.xlabel('Возраст')\n",
    "plt.ylabel('Число пользователей')\n",
    "\n",
    "plt.show()"
   ]
  },
  {
   "cell_type": "code",
   "execution_count": 21,
   "id": "fab94e67",
   "metadata": {},
   "outputs": [
    {
     "data": {
      "text/plain": [
       "count    1534.000000\n",
       "mean       24.903520\n",
       "std         4.572367\n",
       "min        12.000000\n",
       "25%        22.000000\n",
       "50%        25.000000\n",
       "75%        28.000000\n",
       "max        43.000000\n",
       "Name: age, dtype: float64"
      ]
     },
     "execution_count": 21,
     "metadata": {},
     "output_type": "execute_result"
    }
   ],
   "source": [
    "users['age'].describe()"
   ]
  },
  {
   "cell_type": "markdown",
   "id": "a4b10633",
   "metadata": {},
   "source": [
    "Распределение возраста близко к нормальному, можно заметить, что среднее и медиана практически равны и приходятся на 25 лет."
   ]
  },
  {
   "cell_type": "code",
   "execution_count": 22,
   "id": "3acf1d23",
   "metadata": {},
   "outputs": [
    {
     "name": "stdout",
     "output_type": "stream",
     "text": [
      "Среднее расстояние преодоленное за одну поездку: 3070.659010405136\n",
      "Медианное расстояние преодоленное за одну поездку: 3134.0\n"
     ]
    }
   ],
   "source": [
    "print('Среднее расстояние преодоленное за одну поездку:', rides['distance'].mean())\n",
    "print('Медианное расстояние преодоленное за одну поездку:', rides['distance'].median())"
   ]
  },
  {
   "cell_type": "code",
   "execution_count": 23,
   "id": "ffa449f2",
   "metadata": {},
   "outputs": [
    {
     "data": {
      "image/png": "[encoded data removed]",
      "text/plain": [
       "<Figure size 432x288 with 1 Axes>"
      ]
     },
     "metadata": {
      "needs_background": "light"
     },
     "output_type": "display_data"
    }
   ],
   "source": [
    "rides.boxplot(column=['distance'])\n",
    "plt.title('Размах расстояния преодолеваемого пользователями за одну поездку')\n",
    "plt.ylabel('Расстояние преодоленное за одну поездку')\n",
    "\n",
    "plt.show()"
   ]
  },
  {
   "cell_type": "code",
   "execution_count": 24,
   "id": "ea40a68a",
   "metadata": {},
   "outputs": [
    {
     "name": "stdout",
     "output_type": "stream",
     "text": [
      "Среднее время одной поездки: 17.804920301084792\n",
      "Медианное время одной поездки: 17.7\n"
     ]
    }
   ],
   "source": [
    "print('Среднее время одной поездки:', rides['duration'].mean())\n",
    "print('Медианное время одной поездки:', rides['duration'].median())"
   ]
  },
  {
   "cell_type": "code",
   "execution_count": 25,
   "id": "066354ff",
   "metadata": {
    "scrolled": true
   },
   "outputs": [
    {
     "data": {
      "image/png": "[encoded data removed]",
      "text/plain": [
       "<Figure size 432x288 with 1 Axes>"
      ]
     },
     "metadata": {
      "needs_background": "light"
     },
     "output_type": "display_data"
    }
   ],
   "source": [
    "rides.boxplot(column=['duration'])\n",
    "plt.title('Размах времени затрачиваемого пользователями на одну поездку')\n",
    "plt.ylabel('Время потраченное на одну поездку')\n",
    "\n",
    "plt.show()"
   ]
  },
  {
   "cell_type": "markdown",
   "id": "ae928c3d",
   "metadata": {},
   "source": [
    "Распределение пользователей по городам приблизительно равное, наименьшее число пользователей в Москве (168 человек), а наибольшее в Пятигорске (219 человек). Процент пользователей без подписки составил 54% (835 человек), а пользователей с подпиской - 46% (699 человек).\n",
    "\n",
    "Медианное расстояние, преодоленное за одну поездку составляет 3134 метра, по диаграмме видно, что много поездок составляют менее 800 метров, эти значения тянут вниз среднее, которое оказалось меньше медианы. По длительности поездки среднее и медиана почти сравнялись и равны 17,7-17,8 минут."
   ]
  },
  {
   "cell_type": "markdown",
   "id": "4ef51331",
   "metadata": {},
   "source": [
    "#### Шаг 4. Объединение данных"
   ]
  },
  {
   "cell_type": "code",
   "execution_count": 26,
   "id": "6bf288b5",
   "metadata": {},
   "outputs": [],
   "source": [
    "# Создадим методом merge() объединенный датафрейм\n",
    "users_and_rides = users.merge(\n",
    "    rides,\n",
    "    on='user_id',\n",
    "    how='inner')"
   ]
  },
  {
   "cell_type": "code",
   "execution_count": 27,
   "id": "e8fef36f",
   "metadata": {
    "scrolled": true
   },
   "outputs": [
    {
     "data": {
      "text/html": [
       "<div>\n",
       "<style scoped>\n",
       "    .dataframe tbody tr th:only-of-type {\n",
       "        vertical-align: middle;\n",
       "    }\n",
       "\n",
       "    .dataframe tbody tr th {\n",
       "        vertical-align: top;\n",
       "    }\n",
       "\n",
       "    .dataframe thead th {\n",
       "        text-align: right;\n",
       "    }\n",
       "</style>\n",
       "<table border=\"1\" class=\"dataframe\">\n",
       "  <thead>\n",
       "    <tr style=\"text-align: right;\">\n",
       "      <th></th>\n",
       "      <th>user_id</th>\n",
       "      <th>name</th>\n",
       "      <th>age</th>\n",
       "      <th>city</th>\n",
       "      <th>subscription_type</th>\n",
       "      <th>distance</th>\n",
       "      <th>duration</th>\n",
       "      <th>date</th>\n",
       "      <th>month</th>\n",
       "      <th>minute_price</th>\n",
       "      <th>start_ride_price</th>\n",
       "      <th>subscription_fee</th>\n",
       "    </tr>\n",
       "  </thead>\n",
       "  <tbody>\n",
       "    <tr>\n",
       "      <th>0</th>\n",
       "      <td>1</td>\n",
       "      <td>Кира</td>\n",
       "      <td>22</td>\n",
       "      <td>Тюмень</td>\n",
       "      <td>ultra</td>\n",
       "      <td>4410</td>\n",
       "      <td>25.6</td>\n",
       "      <td>2021-01-01</td>\n",
       "      <td>1</td>\n",
       "      <td>6</td>\n",
       "      <td>0</td>\n",
       "      <td>199</td>\n",
       "    </tr>\n",
       "    <tr>\n",
       "      <th>1</th>\n",
       "      <td>1</td>\n",
       "      <td>Кира</td>\n",
       "      <td>22</td>\n",
       "      <td>Тюмень</td>\n",
       "      <td>ultra</td>\n",
       "      <td>2618</td>\n",
       "      <td>15.8</td>\n",
       "      <td>2021-01-18</td>\n",
       "      <td>1</td>\n",
       "      <td>6</td>\n",
       "      <td>0</td>\n",
       "      <td>199</td>\n",
       "    </tr>\n",
       "    <tr>\n",
       "      <th>2</th>\n",
       "      <td>1</td>\n",
       "      <td>Кира</td>\n",
       "      <td>22</td>\n",
       "      <td>Тюмень</td>\n",
       "      <td>ultra</td>\n",
       "      <td>754</td>\n",
       "      <td>6.2</td>\n",
       "      <td>2021-04-20</td>\n",
       "      <td>4</td>\n",
       "      <td>6</td>\n",
       "      <td>0</td>\n",
       "      <td>199</td>\n",
       "    </tr>\n",
       "    <tr>\n",
       "      <th>3</th>\n",
       "      <td>1</td>\n",
       "      <td>Кира</td>\n",
       "      <td>22</td>\n",
       "      <td>Тюмень</td>\n",
       "      <td>ultra</td>\n",
       "      <td>2695</td>\n",
       "      <td>18.5</td>\n",
       "      <td>2021-08-11</td>\n",
       "      <td>8</td>\n",
       "      <td>6</td>\n",
       "      <td>0</td>\n",
       "      <td>199</td>\n",
       "    </tr>\n",
       "    <tr>\n",
       "      <th>4</th>\n",
       "      <td>1</td>\n",
       "      <td>Кира</td>\n",
       "      <td>22</td>\n",
       "      <td>Тюмень</td>\n",
       "      <td>ultra</td>\n",
       "      <td>4029</td>\n",
       "      <td>26.3</td>\n",
       "      <td>2021-08-28</td>\n",
       "      <td>8</td>\n",
       "      <td>6</td>\n",
       "      <td>0</td>\n",
       "      <td>199</td>\n",
       "    </tr>\n",
       "    <tr>\n",
       "      <th>...</th>\n",
       "      <td>...</td>\n",
       "      <td>...</td>\n",
       "      <td>...</td>\n",
       "      <td>...</td>\n",
       "      <td>...</td>\n",
       "      <td>...</td>\n",
       "      <td>...</td>\n",
       "      <td>...</td>\n",
       "      <td>...</td>\n",
       "      <td>...</td>\n",
       "      <td>...</td>\n",
       "      <td>...</td>\n",
       "    </tr>\n",
       "    <tr>\n",
       "      <th>18063</th>\n",
       "      <td>1534</td>\n",
       "      <td>Альберт</td>\n",
       "      <td>25</td>\n",
       "      <td>Краснодар</td>\n",
       "      <td>free</td>\n",
       "      <td>3781</td>\n",
       "      <td>19.8</td>\n",
       "      <td>2021-11-04</td>\n",
       "      <td>11</td>\n",
       "      <td>8</td>\n",
       "      <td>50</td>\n",
       "      <td>0</td>\n",
       "    </tr>\n",
       "    <tr>\n",
       "      <th>18064</th>\n",
       "      <td>1534</td>\n",
       "      <td>Альберт</td>\n",
       "      <td>25</td>\n",
       "      <td>Краснодар</td>\n",
       "      <td>free</td>\n",
       "      <td>2840</td>\n",
       "      <td>21.4</td>\n",
       "      <td>2021-11-16</td>\n",
       "      <td>11</td>\n",
       "      <td>8</td>\n",
       "      <td>50</td>\n",
       "      <td>0</td>\n",
       "    </tr>\n",
       "    <tr>\n",
       "      <th>18065</th>\n",
       "      <td>1534</td>\n",
       "      <td>Альберт</td>\n",
       "      <td>25</td>\n",
       "      <td>Краснодар</td>\n",
       "      <td>free</td>\n",
       "      <td>3826</td>\n",
       "      <td>18.4</td>\n",
       "      <td>2021-11-18</td>\n",
       "      <td>11</td>\n",
       "      <td>8</td>\n",
       "      <td>50</td>\n",
       "      <td>0</td>\n",
       "    </tr>\n",
       "    <tr>\n",
       "      <th>18066</th>\n",
       "      <td>1534</td>\n",
       "      <td>Альберт</td>\n",
       "      <td>25</td>\n",
       "      <td>Краснодар</td>\n",
       "      <td>free</td>\n",
       "      <td>2902</td>\n",
       "      <td>16.7</td>\n",
       "      <td>2021-11-27</td>\n",
       "      <td>11</td>\n",
       "      <td>8</td>\n",
       "      <td>50</td>\n",
       "      <td>0</td>\n",
       "    </tr>\n",
       "    <tr>\n",
       "      <th>18067</th>\n",
       "      <td>1534</td>\n",
       "      <td>Альберт</td>\n",
       "      <td>25</td>\n",
       "      <td>Краснодар</td>\n",
       "      <td>free</td>\n",
       "      <td>2372</td>\n",
       "      <td>15.9</td>\n",
       "      <td>2021-12-29</td>\n",
       "      <td>12</td>\n",
       "      <td>8</td>\n",
       "      <td>50</td>\n",
       "      <td>0</td>\n",
       "    </tr>\n",
       "  </tbody>\n",
       "</table>\n",
       "<p>18068 rows × 12 columns</p>\n",
       "</div>"
      ],
      "text/plain": [
       "       user_id     name  age       city subscription_type  distance  duration  \\\n",
       "0            1     Кира   22     Тюмень             ultra      4410      25.6   \n",
       "1            1     Кира   22     Тюмень             ultra      2618      15.8   \n",
       "2            1     Кира   22     Тюмень             ultra       754       6.2   \n",
       "3            1     Кира   22     Тюмень             ultra      2695      18.5   \n",
       "4            1     Кира   22     Тюмень             ultra      4029      26.3   \n",
       "...        ...      ...  ...        ...               ...       ...       ...   \n",
       "18063     1534  Альберт   25  Краснодар              free      3781      19.8   \n",
       "18064     1534  Альберт   25  Краснодар              free      2840      21.4   \n",
       "18065     1534  Альберт   25  Краснодар              free      3826      18.4   \n",
       "18066     1534  Альберт   25  Краснодар              free      2902      16.7   \n",
       "18067     1534  Альберт   25  Краснодар              free      2372      15.9   \n",
       "\n",
       "            date  month  minute_price  start_ride_price  subscription_fee  \n",
       "0     2021-01-01      1             6                 0               199  \n",
       "1     2021-01-18      1             6                 0               199  \n",
       "2     2021-04-20      4             6                 0               199  \n",
       "3     2021-08-11      8             6                 0               199  \n",
       "4     2021-08-28      8             6                 0               199  \n",
       "...          ...    ...           ...               ...               ...  \n",
       "18063 2021-11-04     11             8                50                 0  \n",
       "18064 2021-11-16     11             8                50                 0  \n",
       "18065 2021-11-18     11             8                50                 0  \n",
       "18066 2021-11-27     11             8                50                 0  \n",
       "18067 2021-12-29     12             8                50                 0  \n",
       "\n",
       "[18068 rows x 12 columns]"
      ]
     },
     "metadata": {},
     "output_type": "display_data"
    }
   ],
   "source": [
    "data_merge = users_and_rides.merge(\n",
    "    subscriptions,\n",
    "    on='subscription_type',\n",
    "    how='inner')\n",
    "display(data_merge)"
   ]
  },
  {
   "cell_type": "code",
   "execution_count": 28,
   "id": "068bb6a3",
   "metadata": {},
   "outputs": [],
   "source": [
    "# Создадим отдельно таблицы для пользователей с подпиской и без нее\n",
    "data_sub_ultra = data_merge.query('subscription_type == \"ultra\"')\n",
    "\n",
    "data_sub_free = data_merge.query('subscription_type == \"free\"')"
   ]
  },
  {
   "cell_type": "code",
   "execution_count": 29,
   "id": "9a24cecf",
   "metadata": {},
   "outputs": [
    {
     "data": {
      "image/png": "[encoded data removed]",
      "text/plain": [
       "<Figure size 720x576 with 4 Axes>"
      ]
     },
     "metadata": {
      "needs_background": "light"
     },
     "output_type": "display_data"
    }
   ],
   "source": [
    "# Построим диаграммы размаха для созданных таблиц по столбцам duration и distance\n",
    "fig, axs = plt.subplots(2, 2, figsize=(10, 8))\n",
    "\n",
    "colors = ['lightblue', 'lightyellow']\n",
    "# Диаграмма размаха 1: Размах расстояния преодолеваемого пользователями (с подпиской) за одну поездку\n",
    "axs[0, 0].boxplot(data_sub_ultra['distance'], patch_artist=True,\n",
    "                  boxprops=dict(facecolor=colors[0]),\n",
    "                  medianprops=dict(color='red', linewidth=2))\n",
    "axs[0, 0].set_title('Расстояние преодолеваемое пользователями за одну поездку')\n",
    "axs[0, 0].set_xlabel('С подпиской')\n",
    "axs[0, 0].set_ylabel('Дистанция (км)')\n",
    "axs[0, 0].grid(True, axis='y', linestyle='--', color='grey', linewidth=0.7)\n",
    "\n",
    "# Диаграмма размаха 2: Размах расстояния преодолеваемого пользователями (без подписки) за одну поездку\n",
    "axs[0, 1].boxplot(data_sub_free['distance'], patch_artist=True, \n",
    "                 boxprops=dict(facecolor=colors[1]),\n",
    "                 medianprops=dict(color='red', linewidth=2))\n",
    "axs[0, 1].set_title('Расстояние преодолеваемое пользователями за одну поездку')\n",
    "axs[0, 1].set_xlabel('Без подписки')\n",
    "axs[0, 1].set_ylabel('Дистанция (км)')\n",
    "axs[0, 1].grid(True, axis='y', linestyle='--', color='grey', linewidth=0.7)\n",
    "\n",
    "# Диаграмма размаха 3: Среднее время с подпиской\n",
    "axs[1, 0].boxplot(data_sub_ultra['duration'], patch_artist=True,\n",
    "                  boxprops=dict(facecolor=colors[0]),\n",
    "                  medianprops=dict(color='red', linewidth=2))\n",
    "axs[1, 0].set_title('Время затрачиваемое пользователями на одну поездку')\n",
    "axs[1, 0].set_xlabel('С подпиской')\n",
    "axs[1, 0].set_ylabel('Время (мин)')\n",
    "axs[1, 0].grid(True, axis='y', linestyle='--', color='grey', linewidth=0.7)\n",
    "\n",
    "# Диаграмма размаха 4: Среднее время без подписки\n",
    "axs[1, 1].boxplot(data_sub_free['duration'], patch_artist=True,\n",
    "                  boxprops=dict(facecolor=colors[1]),\n",
    "                  medianprops=dict(color='red', linewidth=2))\n",
    "axs[1, 1].set_title('Время затрачиваемое пользователями  на одну поездку')\n",
    "axs[1, 1].set_xlabel('Без подписки')\n",
    "axs[1, 1].set_ylabel('Время (мин)')\n",
    "axs[1, 1].grid(True, axis='y', linestyle='--', color='grey', linewidth=0.7)\n",
    "\n",
    "# Оформление пространства между графиками\n",
    "plt.tight_layout()\n",
    "plt.subplots_adjust(wspace=0.6, hspace=0.3)\n",
    "# Показ графиков\n",
    "plt.show()"
   ]
  },
  {
   "cell_type": "code",
   "execution_count": 30,
   "id": "85c9b3bf",
   "metadata": {},
   "outputs": [],
   "source": [
    "# Создадим отдельный датафрейма для построения гистограмм\n",
    "distance_and_duration = pd.DataFrame(columns=['distance_ultra', 'distance_free', 'duration_ultra', 'duration_free'])\n",
    "distance_and_duration['distance_ultra'] = data_sub_ultra['distance']\n",
    "distance_and_duration['duration_ultra'] = data_sub_ultra['duration']"
   ]
  },
  {
   "cell_type": "code",
   "execution_count": 31,
   "id": "1e1af51b",
   "metadata": {},
   "outputs": [],
   "source": [
    "data_sub_free = data_sub_free.reset_index(drop=True)\n",
    "distance_and_duration['distance_free'] = data_sub_free['distance']\n",
    "distance_and_duration['duration_free'] = data_sub_free['duration']"
   ]
  },
  {
   "cell_type": "code",
   "execution_count": 32,
   "id": "d66207bc",
   "metadata": {
    "scrolled": true
   },
   "outputs": [
    {
     "data": {
      "image/png": "[encoded data removed]",
      "text/plain": [
       "<Figure size 720x576 with 4 Axes>"
      ]
     },
     "metadata": {
      "needs_background": "light"
     },
     "output_type": "display_data"
    }
   ],
   "source": [
    "# Построим гистограммы для созданного датафрейма\n",
    "fig, axs = plt.subplots(2, 2, figsize=(10, 8), sharey='row')\n",
    "\n",
    "# Гистограмма 1: Средняя дистанция с подпиской\n",
    "axs[0, 0].hist(distance_and_duration['distance_ultra'].dropna(), color='blue', alpha=0.7)\n",
    "axs[0, 0].set_title('Средняя дистанция поездки (с подпиской)')\n",
    "axs[0, 0].set_xlabel('Дистанция (км)')\n",
    "axs[0, 0].set_ylabel('Частота')\n",
    "\n",
    "# Гистограмма 2: Средняя дистанция без подписки\n",
    "axs[0, 1].hist(distance_and_duration['distance_free'].dropna(), color='orange', alpha=0.7)\n",
    "axs[0, 1].set_title('Средняя дистанция поездки (без подписки)')\n",
    "axs[0, 1].set_xlabel('Дистанция (км)')\n",
    "axs[0, 1].set_ylabel('Частота')\n",
    "\n",
    "# Гистограмма 3: Среднее время с подпиской\n",
    "axs[1, 0].hist(distance_and_duration['duration_ultra'].dropna(), color='blue', alpha=0.7)\n",
    "axs[1, 0].set_title('Среднее время поездки (с подпиской)')\n",
    "axs[1, 0].set_xlabel('Время (мин)')\n",
    "axs[1, 0].set_ylabel('Частота')\n",
    "\n",
    "# Гистограмма 4: Среднее время без подписки\n",
    "axs[1, 1].hist(distance_and_duration['duration_free'].dropna(), color='orange', alpha=0.7)\n",
    "axs[1, 1].set_title('Среднее время поездки (без подписки)')\n",
    "axs[1, 1].set_xlabel('Время (мин)')\n",
    "axs[1, 1].set_ylabel('Частота')\n",
    "\n",
    "# Оформление пространства между графиками\n",
    "plt.tight_layout()\n",
    "\n",
    "# Показ графиков\n",
    "plt.show()"
   ]
  },
  {
   "cell_type": "markdown",
   "id": "1345dc2f",
   "metadata": {},
   "source": [
    "Обратив внимание на диаграммы, видно, что несмотря на примерно равную медиану (около 3100 метров) люди с подпиской совершают более однородные поездки, межквартильный размах на диаграмме для них меньше. Также у пользователей с подпиской больше поездок дольше 25 минут, возможно, с подпиской действительно дешевле совершать долгие поездки.\n",
    "\n",
    "Проанализировав диаграммы, видно, что пользователи без подписки чаще совершают поездки менее 2 километров, в свою очередь у пользователей с подпиской ярко выраженный пик в области от 3 до 3,5 километров."
   ]
  },
  {
   "cell_type": "markdown",
   "id": "402d620f",
   "metadata": {},
   "source": [
    "#### Шаг 5. Подсчёт выручки"
   ]
  },
  {
   "cell_type": "code",
   "execution_count": 34,
   "id": "53049e0a",
   "metadata": {},
   "outputs": [
    {
     "data": {
      "text/html": [
       "<div>\n",
       "<style scoped>\n",
       "    .dataframe tbody tr th:only-of-type {\n",
       "        vertical-align: middle;\n",
       "    }\n",
       "\n",
       "    .dataframe tbody tr th {\n",
       "        vertical-align: top;\n",
       "    }\n",
       "\n",
       "    .dataframe thead tr th {\n",
       "        text-align: left;\n",
       "    }\n",
       "\n",
       "    .dataframe thead tr:last-of-type th {\n",
       "        text-align: right;\n",
       "    }\n",
       "</style>\n",
       "<table border=\"1\" class=\"dataframe\">\n",
       "  <thead>\n",
       "    <tr>\n",
       "      <th></th>\n",
       "      <th></th>\n",
       "      <th colspan=\"2\" halign=\"left\">distance</th>\n",
       "      <th colspan=\"2\" halign=\"left\">duration</th>\n",
       "      <th colspan=\"2\" halign=\"left\">minute_price</th>\n",
       "      <th colspan=\"2\" halign=\"left\">start_ride_price</th>\n",
       "      <th colspan=\"2\" halign=\"left\">subscription_fee</th>\n",
       "    </tr>\n",
       "    <tr>\n",
       "      <th></th>\n",
       "      <th></th>\n",
       "      <th>count</th>\n",
       "      <th>sum</th>\n",
       "      <th>count</th>\n",
       "      <th>sum</th>\n",
       "      <th>count</th>\n",
       "      <th>sum</th>\n",
       "      <th>count</th>\n",
       "      <th>sum</th>\n",
       "      <th>count</th>\n",
       "      <th>sum</th>\n",
       "    </tr>\n",
       "    <tr>\n",
       "      <th>user_id</th>\n",
       "      <th>month</th>\n",
       "      <th></th>\n",
       "      <th></th>\n",
       "      <th></th>\n",
       "      <th></th>\n",
       "      <th></th>\n",
       "      <th></th>\n",
       "      <th></th>\n",
       "      <th></th>\n",
       "      <th></th>\n",
       "      <th></th>\n",
       "    </tr>\n",
       "  </thead>\n",
       "  <tbody>\n",
       "    <tr>\n",
       "      <th rowspan=\"5\" valign=\"top\">1</th>\n",
       "      <th>1</th>\n",
       "      <td>2</td>\n",
       "      <td>7028</td>\n",
       "      <td>2</td>\n",
       "      <td>42.0</td>\n",
       "      <td>2</td>\n",
       "      <td>12</td>\n",
       "      <td>2</td>\n",
       "      <td>0</td>\n",
       "      <td>2</td>\n",
       "      <td>398</td>\n",
       "    </tr>\n",
       "    <tr>\n",
       "      <th>4</th>\n",
       "      <td>1</td>\n",
       "      <td>754</td>\n",
       "      <td>1</td>\n",
       "      <td>7.0</td>\n",
       "      <td>1</td>\n",
       "      <td>6</td>\n",
       "      <td>1</td>\n",
       "      <td>0</td>\n",
       "      <td>1</td>\n",
       "      <td>199</td>\n",
       "    </tr>\n",
       "    <tr>\n",
       "      <th>8</th>\n",
       "      <td>2</td>\n",
       "      <td>6724</td>\n",
       "      <td>2</td>\n",
       "      <td>46.0</td>\n",
       "      <td>2</td>\n",
       "      <td>12</td>\n",
       "      <td>2</td>\n",
       "      <td>0</td>\n",
       "      <td>2</td>\n",
       "      <td>398</td>\n",
       "    </tr>\n",
       "    <tr>\n",
       "      <th>10</th>\n",
       "      <td>2</td>\n",
       "      <td>5810</td>\n",
       "      <td>2</td>\n",
       "      <td>32.0</td>\n",
       "      <td>2</td>\n",
       "      <td>12</td>\n",
       "      <td>2</td>\n",
       "      <td>0</td>\n",
       "      <td>2</td>\n",
       "      <td>398</td>\n",
       "    </tr>\n",
       "    <tr>\n",
       "      <th>11</th>\n",
       "      <td>3</td>\n",
       "      <td>7004</td>\n",
       "      <td>3</td>\n",
       "      <td>55.0</td>\n",
       "      <td>3</td>\n",
       "      <td>18</td>\n",
       "      <td>3</td>\n",
       "      <td>0</td>\n",
       "      <td>3</td>\n",
       "      <td>597</td>\n",
       "    </tr>\n",
       "  </tbody>\n",
       "</table>\n",
       "</div>"
      ],
      "text/plain": [
       "              distance       duration       minute_price     start_ride_price  \\\n",
       "                 count   sum    count   sum        count sum            count   \n",
       "user_id month                                                                   \n",
       "1       1            2  7028        2  42.0            2  12                2   \n",
       "        4            1   754        1   7.0            1   6                1   \n",
       "        8            2  6724        2  46.0            2  12                2   \n",
       "        10           2  5810        2  32.0            2  12                2   \n",
       "        11           3  7004        3  55.0            3  18                3   \n",
       "\n",
       "                  subscription_fee       \n",
       "              sum            count  sum  \n",
       "user_id month                            \n",
       "1       1       0                2  398  \n",
       "        4       0                1  199  \n",
       "        8       0                2  398  \n",
       "        10      0                2  398  \n",
       "        11      0                3  597  "
      ]
     },
     "execution_count": 34,
     "metadata": {},
     "output_type": "execute_result"
    }
   ],
   "source": [
    "data_merge['duration'] = np.ceil(data_merge['duration'])\n",
    "data_pivot = data_merge.pivot_table(\n",
    "    values=('distance', 'duration', 'minute_price', 'start_ride_price', 'subscription_fee'),\n",
    "    index=('user_id', 'month'),\n",
    "    aggfunc=('sum', 'count'))\n",
    "data_pivot.head(5)"
   ]
  },
  {
   "cell_type": "code",
   "execution_count": 35,
   "id": "d6e86ef5",
   "metadata": {},
   "outputs": [
    {
     "name": "stdout",
     "output_type": "stream",
     "text": [
      "<class 'pandas.core.frame.DataFrame'>\n",
      "MultiIndex: 11331 entries, (1, 1) to (1534, 12)\n",
      "Data columns (total 10 columns):\n",
      " #   Column                     Non-Null Count  Dtype  \n",
      "---  ------                     --------------  -----  \n",
      " 0   (distance, count)          11331 non-null  int64  \n",
      " 1   (distance, sum)            11331 non-null  int64  \n",
      " 2   (duration, count)          11331 non-null  int64  \n",
      " 3   (duration, sum)            11331 non-null  float64\n",
      " 4   (minute_price, count)      11331 non-null  int64  \n",
      " 5   (minute_price, sum)        11331 non-null  int64  \n",
      " 6   (start_ride_price, count)  11331 non-null  int64  \n",
      " 7   (start_ride_price, sum)    11331 non-null  int64  \n",
      " 8   (subscription_fee, count)  11331 non-null  int64  \n",
      " 9   (subscription_fee, sum)    11331 non-null  int64  \n",
      "dtypes: float64(1), int64(9)\n",
      "memory usage: 930.6 KB\n"
     ]
    }
   ],
   "source": [
    "data_pivot.info()"
   ]
  },
  {
   "cell_type": "code",
   "execution_count": 36,
   "id": "d6b3a02d",
   "metadata": {
    "scrolled": false
   },
   "outputs": [
    {
     "data": {
      "text/html": [
       "<div>\n",
       "<style scoped>\n",
       "    .dataframe tbody tr th:only-of-type {\n",
       "        vertical-align: middle;\n",
       "    }\n",
       "\n",
       "    .dataframe tbody tr th {\n",
       "        vertical-align: top;\n",
       "    }\n",
       "\n",
       "    .dataframe thead th {\n",
       "        text-align: right;\n",
       "    }\n",
       "</style>\n",
       "<table border=\"1\" class=\"dataframe\">\n",
       "  <thead>\n",
       "    <tr style=\"text-align: right;\">\n",
       "      <th></th>\n",
       "      <th></th>\n",
       "      <th>number_of_rides</th>\n",
       "      <th>distance</th>\n",
       "      <th>duration</th>\n",
       "      <th>minute_price</th>\n",
       "      <th>start_ride_price</th>\n",
       "      <th>subscription_fee</th>\n",
       "    </tr>\n",
       "    <tr>\n",
       "      <th>user_id</th>\n",
       "      <th>month</th>\n",
       "      <th></th>\n",
       "      <th></th>\n",
       "      <th></th>\n",
       "      <th></th>\n",
       "      <th></th>\n",
       "      <th></th>\n",
       "    </tr>\n",
       "  </thead>\n",
       "  <tbody>\n",
       "    <tr>\n",
       "      <th rowspan=\"5\" valign=\"top\">1</th>\n",
       "      <th>1</th>\n",
       "      <td>2</td>\n",
       "      <td>7028</td>\n",
       "      <td>42.0</td>\n",
       "      <td>12</td>\n",
       "      <td>0</td>\n",
       "      <td>398</td>\n",
       "    </tr>\n",
       "    <tr>\n",
       "      <th>4</th>\n",
       "      <td>1</td>\n",
       "      <td>754</td>\n",
       "      <td>7.0</td>\n",
       "      <td>6</td>\n",
       "      <td>0</td>\n",
       "      <td>199</td>\n",
       "    </tr>\n",
       "    <tr>\n",
       "      <th>8</th>\n",
       "      <td>2</td>\n",
       "      <td>6724</td>\n",
       "      <td>46.0</td>\n",
       "      <td>12</td>\n",
       "      <td>0</td>\n",
       "      <td>398</td>\n",
       "    </tr>\n",
       "    <tr>\n",
       "      <th>10</th>\n",
       "      <td>2</td>\n",
       "      <td>5810</td>\n",
       "      <td>32.0</td>\n",
       "      <td>12</td>\n",
       "      <td>0</td>\n",
       "      <td>398</td>\n",
       "    </tr>\n",
       "    <tr>\n",
       "      <th>11</th>\n",
       "      <td>3</td>\n",
       "      <td>7004</td>\n",
       "      <td>55.0</td>\n",
       "      <td>18</td>\n",
       "      <td>0</td>\n",
       "      <td>597</td>\n",
       "    </tr>\n",
       "  </tbody>\n",
       "</table>\n",
       "</div>"
      ],
      "text/plain": [
       "               number_of_rides  distance  duration  minute_price  \\\n",
       "user_id month                                                      \n",
       "1       1                    2      7028      42.0            12   \n",
       "        4                    1       754       7.0             6   \n",
       "        8                    2      6724      46.0            12   \n",
       "        10                   2      5810      32.0            12   \n",
       "        11                   3      7004      55.0            18   \n",
       "\n",
       "               start_ride_price  subscription_fee  \n",
       "user_id month                                      \n",
       "1       1                     0               398  \n",
       "        4                     0               199  \n",
       "        8                     0               398  \n",
       "        10                    0               398  \n",
       "        11                    0               597  "
      ]
     },
     "execution_count": 36,
     "metadata": {},
     "output_type": "execute_result"
    }
   ],
   "source": [
    "# Переименуем столбцы, удалим ненужные повторяющиеся столбцы, созданные функцией count\n",
    "data_pivot.columns=[\n",
    "    'number_of_rides', 'distance', 'number2', 'duration', 'number3', \n",
    "    'minute_price', 'number4', 'start_ride_price', 'number5', 'subscription_fee']\n",
    "data_pivot = data_pivot.drop(['number2', 'number3', 'number4', 'number5'], axis=1)\n",
    "data_pivot.head()"
   ]
  },
  {
   "cell_type": "code",
   "execution_count": 37,
   "id": "85da6283",
   "metadata": {
    "scrolled": true
   },
   "outputs": [],
   "source": [
    "# Как мы знаем из условий поездки у пользователей с подпиской цена старта 0 рублей, а цена за минуту 6 рублей\n",
    "# заменим значения в столбцах minute_price, start_ride_price и subscription_fee исходя из условий поездки\n",
    "data_pivot.loc[data_pivot['start_ride_price'] == 0, 'minute_price'] = 6\n",
    "data_pivot.loc[data_pivot['subscription_fee'] >= 199, 'subscription_fee'] = 199"
   ]
  },
  {
   "cell_type": "code",
   "execution_count": 38,
   "id": "c3adeea2",
   "metadata": {},
   "outputs": [],
   "source": [
    "data_pivot.loc[data_pivot['start_ride_price'] >= 50, 'start_ride_price'] = 50"
   ]
  },
  {
   "cell_type": "code",
   "execution_count": 39,
   "id": "a2fada26",
   "metadata": {},
   "outputs": [],
   "source": [
    "data_pivot.loc[data_pivot['start_ride_price'] == 50, 'minute_price'] = 8"
   ]
  },
  {
   "cell_type": "code",
   "execution_count": 40,
   "id": "465eb418",
   "metadata": {},
   "outputs": [
    {
     "data": {
      "text/html": [
       "<div>\n",
       "<style scoped>\n",
       "    .dataframe tbody tr th:only-of-type {\n",
       "        vertical-align: middle;\n",
       "    }\n",
       "\n",
       "    .dataframe tbody tr th {\n",
       "        vertical-align: top;\n",
       "    }\n",
       "\n",
       "    .dataframe thead th {\n",
       "        text-align: right;\n",
       "    }\n",
       "</style>\n",
       "<table border=\"1\" class=\"dataframe\">\n",
       "  <thead>\n",
       "    <tr style=\"text-align: right;\">\n",
       "      <th></th>\n",
       "      <th></th>\n",
       "      <th>number_of_rides</th>\n",
       "      <th>distance</th>\n",
       "      <th>duration</th>\n",
       "      <th>minute_price</th>\n",
       "      <th>start_ride_price</th>\n",
       "      <th>subscription_fee</th>\n",
       "    </tr>\n",
       "    <tr>\n",
       "      <th>user_id</th>\n",
       "      <th>month</th>\n",
       "      <th></th>\n",
       "      <th></th>\n",
       "      <th></th>\n",
       "      <th></th>\n",
       "      <th></th>\n",
       "      <th></th>\n",
       "    </tr>\n",
       "  </thead>\n",
       "  <tbody>\n",
       "    <tr>\n",
       "      <th rowspan=\"6\" valign=\"top\">1</th>\n",
       "      <th>1</th>\n",
       "      <td>2</td>\n",
       "      <td>7028</td>\n",
       "      <td>42.0</td>\n",
       "      <td>6</td>\n",
       "      <td>0</td>\n",
       "      <td>199</td>\n",
       "    </tr>\n",
       "    <tr>\n",
       "      <th>4</th>\n",
       "      <td>1</td>\n",
       "      <td>754</td>\n",
       "      <td>7.0</td>\n",
       "      <td>6</td>\n",
       "      <td>0</td>\n",
       "      <td>199</td>\n",
       "    </tr>\n",
       "    <tr>\n",
       "      <th>8</th>\n",
       "      <td>2</td>\n",
       "      <td>6724</td>\n",
       "      <td>46.0</td>\n",
       "      <td>6</td>\n",
       "      <td>0</td>\n",
       "      <td>199</td>\n",
       "    </tr>\n",
       "    <tr>\n",
       "      <th>10</th>\n",
       "      <td>2</td>\n",
       "      <td>5810</td>\n",
       "      <td>32.0</td>\n",
       "      <td>6</td>\n",
       "      <td>0</td>\n",
       "      <td>199</td>\n",
       "    </tr>\n",
       "    <tr>\n",
       "      <th>11</th>\n",
       "      <td>3</td>\n",
       "      <td>7004</td>\n",
       "      <td>55.0</td>\n",
       "      <td>6</td>\n",
       "      <td>0</td>\n",
       "      <td>199</td>\n",
       "    </tr>\n",
       "    <tr>\n",
       "      <th>12</th>\n",
       "      <td>2</td>\n",
       "      <td>6752</td>\n",
       "      <td>28.0</td>\n",
       "      <td>6</td>\n",
       "      <td>0</td>\n",
       "      <td>199</td>\n",
       "    </tr>\n",
       "    <tr>\n",
       "      <th rowspan=\"4\" valign=\"top\">2</th>\n",
       "      <th>3</th>\n",
       "      <td>3</td>\n",
       "      <td>10188</td>\n",
       "      <td>63.0</td>\n",
       "      <td>6</td>\n",
       "      <td>0</td>\n",
       "      <td>199</td>\n",
       "    </tr>\n",
       "    <tr>\n",
       "      <th>4</th>\n",
       "      <td>2</td>\n",
       "      <td>6165</td>\n",
       "      <td>40.0</td>\n",
       "      <td>6</td>\n",
       "      <td>0</td>\n",
       "      <td>199</td>\n",
       "    </tr>\n",
       "    <tr>\n",
       "      <th>6</th>\n",
       "      <td>1</td>\n",
       "      <td>3255</td>\n",
       "      <td>14.0</td>\n",
       "      <td>6</td>\n",
       "      <td>0</td>\n",
       "      <td>199</td>\n",
       "    </tr>\n",
       "    <tr>\n",
       "      <th>7</th>\n",
       "      <td>2</td>\n",
       "      <td>6781</td>\n",
       "      <td>47.0</td>\n",
       "      <td>6</td>\n",
       "      <td>0</td>\n",
       "      <td>199</td>\n",
       "    </tr>\n",
       "  </tbody>\n",
       "</table>\n",
       "</div>"
      ],
      "text/plain": [
       "               number_of_rides  distance  duration  minute_price  \\\n",
       "user_id month                                                      \n",
       "1       1                    2      7028      42.0             6   \n",
       "        4                    1       754       7.0             6   \n",
       "        8                    2      6724      46.0             6   \n",
       "        10                   2      5810      32.0             6   \n",
       "        11                   3      7004      55.0             6   \n",
       "        12                   2      6752      28.0             6   \n",
       "2       3                    3     10188      63.0             6   \n",
       "        4                    2      6165      40.0             6   \n",
       "        6                    1      3255      14.0             6   \n",
       "        7                    2      6781      47.0             6   \n",
       "\n",
       "               start_ride_price  subscription_fee  \n",
       "user_id month                                      \n",
       "1       1                     0               199  \n",
       "        4                     0               199  \n",
       "        8                     0               199  \n",
       "        10                    0               199  \n",
       "        11                    0               199  \n",
       "        12                    0               199  \n",
       "2       3                     0               199  \n",
       "        4                     0               199  \n",
       "        6                     0               199  \n",
       "        7                     0               199  "
      ]
     },
     "execution_count": 40,
     "metadata": {},
     "output_type": "execute_result"
    }
   ],
   "source": [
    "data_pivot.head(10)"
   ]
  },
  {
   "cell_type": "code",
   "execution_count": 41,
   "id": "69a1b94a",
   "metadata": {},
   "outputs": [
    {
     "data": {
      "text/plain": [
       "array([6, 8])"
      ]
     },
     "metadata": {},
     "output_type": "display_data"
    },
    {
     "data": {
      "text/plain": [
       "array([ 0, 50])"
      ]
     },
     "metadata": {},
     "output_type": "display_data"
    }
   ],
   "source": [
    "display(data_pivot['minute_price'].unique())\n",
    "display(data_pivot['start_ride_price'].unique())"
   ]
  },
  {
   "cell_type": "code",
   "execution_count": 42,
   "id": "af1aadcb",
   "metadata": {
    "scrolled": false
   },
   "outputs": [
    {
     "data": {
      "text/html": [
       "<div>\n",
       "<style scoped>\n",
       "    .dataframe tbody tr th:only-of-type {\n",
       "        vertical-align: middle;\n",
       "    }\n",
       "\n",
       "    .dataframe tbody tr th {\n",
       "        vertical-align: top;\n",
       "    }\n",
       "\n",
       "    .dataframe thead th {\n",
       "        text-align: right;\n",
       "    }\n",
       "</style>\n",
       "<table border=\"1\" class=\"dataframe\">\n",
       "  <thead>\n",
       "    <tr style=\"text-align: right;\">\n",
       "      <th></th>\n",
       "      <th></th>\n",
       "      <th>number_of_rides</th>\n",
       "      <th>distance</th>\n",
       "      <th>duration</th>\n",
       "      <th>minute_price</th>\n",
       "      <th>start_ride_price</th>\n",
       "      <th>subscription_fee</th>\n",
       "      <th>revenue</th>\n",
       "    </tr>\n",
       "    <tr>\n",
       "      <th>user_id</th>\n",
       "      <th>month</th>\n",
       "      <th></th>\n",
       "      <th></th>\n",
       "      <th></th>\n",
       "      <th></th>\n",
       "      <th></th>\n",
       "      <th></th>\n",
       "      <th></th>\n",
       "    </tr>\n",
       "  </thead>\n",
       "  <tbody>\n",
       "    <tr>\n",
       "      <th rowspan=\"6\" valign=\"top\">1</th>\n",
       "      <th>1</th>\n",
       "      <td>2</td>\n",
       "      <td>7028</td>\n",
       "      <td>42.0</td>\n",
       "      <td>6</td>\n",
       "      <td>0</td>\n",
       "      <td>199</td>\n",
       "      <td>451.0</td>\n",
       "    </tr>\n",
       "    <tr>\n",
       "      <th>4</th>\n",
       "      <td>1</td>\n",
       "      <td>754</td>\n",
       "      <td>7.0</td>\n",
       "      <td>6</td>\n",
       "      <td>0</td>\n",
       "      <td>199</td>\n",
       "      <td>241.0</td>\n",
       "    </tr>\n",
       "    <tr>\n",
       "      <th>8</th>\n",
       "      <td>2</td>\n",
       "      <td>6724</td>\n",
       "      <td>46.0</td>\n",
       "      <td>6</td>\n",
       "      <td>0</td>\n",
       "      <td>199</td>\n",
       "      <td>475.0</td>\n",
       "    </tr>\n",
       "    <tr>\n",
       "      <th>10</th>\n",
       "      <td>2</td>\n",
       "      <td>5810</td>\n",
       "      <td>32.0</td>\n",
       "      <td>6</td>\n",
       "      <td>0</td>\n",
       "      <td>199</td>\n",
       "      <td>391.0</td>\n",
       "    </tr>\n",
       "    <tr>\n",
       "      <th>11</th>\n",
       "      <td>3</td>\n",
       "      <td>7004</td>\n",
       "      <td>55.0</td>\n",
       "      <td>6</td>\n",
       "      <td>0</td>\n",
       "      <td>199</td>\n",
       "      <td>529.0</td>\n",
       "    </tr>\n",
       "    <tr>\n",
       "      <th>12</th>\n",
       "      <td>2</td>\n",
       "      <td>6752</td>\n",
       "      <td>28.0</td>\n",
       "      <td>6</td>\n",
       "      <td>0</td>\n",
       "      <td>199</td>\n",
       "      <td>367.0</td>\n",
       "    </tr>\n",
       "    <tr>\n",
       "      <th rowspan=\"4\" valign=\"top\">2</th>\n",
       "      <th>3</th>\n",
       "      <td>3</td>\n",
       "      <td>10188</td>\n",
       "      <td>63.0</td>\n",
       "      <td>6</td>\n",
       "      <td>0</td>\n",
       "      <td>199</td>\n",
       "      <td>577.0</td>\n",
       "    </tr>\n",
       "    <tr>\n",
       "      <th>4</th>\n",
       "      <td>2</td>\n",
       "      <td>6165</td>\n",
       "      <td>40.0</td>\n",
       "      <td>6</td>\n",
       "      <td>0</td>\n",
       "      <td>199</td>\n",
       "      <td>439.0</td>\n",
       "    </tr>\n",
       "    <tr>\n",
       "      <th>6</th>\n",
       "      <td>1</td>\n",
       "      <td>3255</td>\n",
       "      <td>14.0</td>\n",
       "      <td>6</td>\n",
       "      <td>0</td>\n",
       "      <td>199</td>\n",
       "      <td>283.0</td>\n",
       "    </tr>\n",
       "    <tr>\n",
       "      <th>7</th>\n",
       "      <td>2</td>\n",
       "      <td>6781</td>\n",
       "      <td>47.0</td>\n",
       "      <td>6</td>\n",
       "      <td>0</td>\n",
       "      <td>199</td>\n",
       "      <td>481.0</td>\n",
       "    </tr>\n",
       "  </tbody>\n",
       "</table>\n",
       "</div>"
      ],
      "text/plain": [
       "               number_of_rides  distance  duration  minute_price  \\\n",
       "user_id month                                                      \n",
       "1       1                    2      7028      42.0             6   \n",
       "        4                    1       754       7.0             6   \n",
       "        8                    2      6724      46.0             6   \n",
       "        10                   2      5810      32.0             6   \n",
       "        11                   3      7004      55.0             6   \n",
       "        12                   2      6752      28.0             6   \n",
       "2       3                    3     10188      63.0             6   \n",
       "        4                    2      6165      40.0             6   \n",
       "        6                    1      3255      14.0             6   \n",
       "        7                    2      6781      47.0             6   \n",
       "\n",
       "               start_ride_price  subscription_fee  revenue  \n",
       "user_id month                                               \n",
       "1       1                     0               199    451.0  \n",
       "        4                     0               199    241.0  \n",
       "        8                     0               199    475.0  \n",
       "        10                    0               199    391.0  \n",
       "        11                    0               199    529.0  \n",
       "        12                    0               199    367.0  \n",
       "2       3                     0               199    577.0  \n",
       "        4                     0               199    439.0  \n",
       "        6                     0               199    283.0  \n",
       "        7                     0               199    481.0  "
      ]
     },
     "execution_count": 42,
     "metadata": {},
     "output_type": "execute_result"
    }
   ],
   "source": [
    "# Добавим столбец с выручкой от каждого пользователя за каждый месяц\n",
    "def sum_revenue(row):\n",
    "    if row['start_ride_price'] == 0:\n",
    "        return (row['duration'] * row['minute_price'] + row['subscription_fee'])\n",
    "    else:\n",
    "        return (row['duration'] * row['minute_price'] + row['number_of_rides'] * row['start_ride_price'])\n",
    "\n",
    "data_pivot['revenue'] = data_pivot.apply(sum_revenue, axis=1)\n",
    "data_pivot.head(10)"
   ]
  },
  {
   "cell_type": "markdown",
   "id": "c5fe7eba",
   "metadata": {},
   "source": [
    "Подготовили таблицу с выручкой для дальнейшей проверки гипотез."
   ]
  },
  {
   "cell_type": "markdown",
   "id": "41545ac0",
   "metadata": {},
   "source": [
    "#### Шаг 6. Проверка гипотез"
   ]
  },
  {
   "cell_type": "markdown",
   "id": "7d58d852",
   "metadata": {},
   "source": [
    "В рамках этого шага планируется проверить три гипотезы:\n",
    "1. Тратят ли пользователи с подпиской больше времени на поездки? \n",
    "    1. H0 - время, которое тратят на поездку пользователи с подпиской равно времени, которое тратят пользователи без подписки;\n",
    "    2. H1 - время, которое тратят на поездку пользователи с подпиской больше времени, которое тратят пользователи без подписки;\n",
    "2. Можно ли сказать, что среднее расстояние, которое проезжают за одну поездку пользователи с подпиской не превышает 3130 метров?\n",
    "    1. H0 - среднее расстояние равно 3130 метрам;\n",
    "    2. Н1 - среднее расстояние больше 3130 метров;\n",
    "3. Будет ли помесячная выручка от пользователей с подпиской по месяцам выше, чем выручка от пользователей без подписки?\n",
    "    1. H0 - помесячная выручка от пользователей с подпиской равна или меньше выручки от пользователей без подписки;\n",
    "    2. H1 - помесячная выручка от пользователей с подпиской больше выручки от пользователей без подписки."
   ]
  },
  {
   "cell_type": "code",
   "execution_count": 43,
   "id": "23ea867b",
   "metadata": {
    "scrolled": true
   },
   "outputs": [
    {
     "name": "stdout",
     "output_type": "stream",
     "text": [
      "1.3448182372889e-34\n",
      "Отвергаем нулевую гипотезу\n"
     ]
    }
   ],
   "source": [
    "# Тратят ли пользователи с подпиской больше времени на поездки?\n",
    "alpha = 0.05\n",
    "results1 = st.ttest_ind(data_sub_ultra['duration'], data_sub_free['duration'], alternative='greater')\n",
    "print(results1.pvalue)\n",
    "if results1.pvalue < alpha:\n",
    "    print('Отвергаем нулевую гипотезу')\n",
    "else:\n",
    "    print('Не получилось отвергнуть нулевую гипотезу') "
   ]
  },
  {
   "cell_type": "markdown",
   "id": "f310321b",
   "metadata": {},
   "source": [
    "P-value оказалось настолько мало, что позволяет отвергнуть гипотезу о том, что люди с подпиской тратят столько же (меньше) времени, как и люди без подписки, в пользу гипотезы о том, что люди с подпиской тратят больше времени на поездки."
   ]
  },
  {
   "cell_type": "code",
   "execution_count": 44,
   "id": "dcf6f975",
   "metadata": {
    "scrolled": true,
    "slideshow": {
     "slide_type": "-"
    }
   },
   "outputs": [
    {
     "name": "stdout",
     "output_type": "stream",
     "text": [
      "0.9195649894697724\n",
      "Не получилось отвергнуть нулевую гипотезу\n"
     ]
    }
   ],
   "source": [
    "# Можно ли сказать, что среднее расстояние, которое проезжают пользователи с подпиской за одну поездку, не превышает 3130 метров?\n",
    "results2 = st.ttest_1samp(data_sub_ultra['distance'], 3130, alternative='greater')\n",
    "print(results2.pvalue)\n",
    "if results2.pvalue < alpha:\n",
    "    print('Отвергаем нулевую гипотезу')\n",
    "else:\n",
    "    print('Не получилось отвергнуть нулевую гипотезу') "
   ]
  },
  {
   "cell_type": "markdown",
   "id": "3c34520a",
   "metadata": {},
   "source": [
    "Значение p-value составляет 0,91, таким образом вероятность, что расстояние преодоленное за поездку будет менее 3130 составляет 91%.\n",
    "\n",
    "Это позволяет нам согласиться с тем, что среднее расстояние в большинстве поездок не превышает 3130 метров."
   ]
  },
  {
   "cell_type": "code",
   "execution_count": 45,
   "id": "2982b697",
   "metadata": {
    "scrolled": true
   },
   "outputs": [
    {
     "name": "stdout",
     "output_type": "stream",
     "text": [
      "5.015631474144602e-32\n",
      "Отвергаем нулевую гипотезу\n"
     ]
    }
   ],
   "source": [
    "# Будет ли помесячная выручка от пользователей с подпиской по месяцам выше, чем выручка от пользователей без подписки?\n",
    "data_pivot_ultra = data_pivot.query('start_ride_price == 0')\n",
    "\n",
    "data_pivot_free = data_pivot.query('start_ride_price == 50')\n",
    "\n",
    "results3 = st.ttest_ind(data_pivot_ultra['revenue'], data_pivot_free['revenue'], alternative='greater')\n",
    "print(results3.pvalue)\n",
    "if results3.pvalue < alpha:\n",
    "    print('Отвергаем нулевую гипотезу')\n",
    "else:\n",
    "    print('Не получилось отвергнуть нулевую гипотезу') "
   ]
  },
  {
   "cell_type": "markdown",
   "id": "2dfa8657",
   "metadata": {},
   "source": [
    "Данные позволяют отвергнуть гипотезу H0 в пользу гипотезы о том, что помесячная выручка от пользователей с подпиской выше, чем от пользователей без подписки. Даже если бы показатель alpha был равен 0.01, значение p-value было бы меньше, и гипотеза также была бы отвергнута. Получается продакт-менеджеры не зря концентрируют внимание на пользователях с подпиской."
   ]
  },
  {
   "cell_type": "markdown",
   "id": "61213c5e",
   "metadata": {},
   "source": [
    "#### Общий вывод"
   ]
  },
  {
   "cell_type": "markdown",
   "id": "6bd786ad",
   "metadata": {},
   "source": [
    "В ходе данного исследования были сделаны следующие выводы:\n",
    " 1. Изначальные данные достаточно хорошие, пропусков не обнаружено, в таблице users были дубликаты около 2% от всех данных;\n",
    " 2. В выборке людей без подписки на 19% больше, чем людей с подпиской;\n",
    " 3. Медианное расстояние, преодоленное за одну поездку составляет 3134 метра. Медианная длительность одной поездки составляет почти 18 минут;\n",
    " 4. У пользователей с подпиской больше поездок дольше 35 минут, возможно, с подпиской действительно дешевле совершать долгие поездки;\n",
    " 5. После проверки гипотез мы отвергли гипотезу о том, что люди с подпиской тратят столько же (или меньше) времени на поездку, как и люди без подписки. Однако, данные не позволили отвергнуть гипотезы, что среднее расстояние поездки у людей с подпиской равно или меньше 3130 метрам. Также отвергли гипотезу о том, что помесячная выручка от пользователей с подпиской равна выручке от пользователей без подписки в пользу гипотезы о том, что выручка от пользователей с подпиской выше.\n",
    "\n",
    "Таким образом, данные показывают, что у продакт-менеджеров есть все причины концентрировать свое внимание на пользователях с подпиской, они осуществляют более долгие поездки, при этом в большинстве поездок не превышая оптимального расстояния для одной поездки, и приносят больше выручки."
   ]
  }
 ],
 "metadata": {
  "ExecuteTimeLog": [
   {
    "duration": 1370,
    "start_time": "2024-09-29T12:15:13.638Z"
   },
   {
    "duration": 360,
    "start_time": "2024-09-29T12:25:38.032Z"
   },
   {
    "duration": 19,
    "start_time": "2024-09-29T12:26:07.732Z"
   },
   {
    "duration": 22,
    "start_time": "2024-09-29T12:26:34.319Z"
   },
   {
    "duration": 104,
    "start_time": "2024-09-29T12:27:42.766Z"
   },
   {
    "duration": 18,
    "start_time": "2024-09-29T12:27:52.002Z"
   },
   {
    "duration": 13,
    "start_time": "2024-09-29T12:29:02.719Z"
   },
   {
    "duration": 15,
    "start_time": "2024-09-29T12:29:08.263Z"
   },
   {
    "duration": 15,
    "start_time": "2024-09-29T12:38:11.560Z"
   },
   {
    "duration": 22,
    "start_time": "2024-09-29T12:38:21.238Z"
   },
   {
    "duration": 74,
    "start_time": "2024-09-29T12:40:22.887Z"
   },
   {
    "duration": 203,
    "start_time": "2024-09-29T12:40:38.546Z"
   },
   {
    "duration": 7,
    "start_time": "2024-09-29T12:41:15.822Z"
   },
   {
    "duration": 7,
    "start_time": "2024-09-29T12:41:45.148Z"
   },
   {
    "duration": 7,
    "start_time": "2024-09-29T12:41:49.457Z"
   },
   {
    "duration": 6,
    "start_time": "2024-09-29T12:41:54.418Z"
   },
   {
    "duration": 7,
    "start_time": "2024-09-29T12:42:00.986Z"
   },
   {
    "duration": 14,
    "start_time": "2024-09-29T12:42:42.191Z"
   },
   {
    "duration": 11,
    "start_time": "2024-09-29T12:43:18.929Z"
   },
   {
    "duration": 6,
    "start_time": "2024-09-29T13:09:20.358Z"
   },
   {
    "duration": 18,
    "start_time": "2024-09-29T13:10:43.748Z"
   },
   {
    "duration": 13,
    "start_time": "2024-09-29T13:10:56.512Z"
   },
   {
    "duration": 10,
    "start_time": "2024-09-29T13:11:25.680Z"
   },
   {
    "duration": 1146,
    "start_time": "2024-09-29T14:14:34.720Z"
   },
   {
    "duration": 13,
    "start_time": "2024-09-29T14:14:45.534Z"
   },
   {
    "duration": 12,
    "start_time": "2024-09-29T14:16:57.874Z"
   },
   {
    "duration": 13,
    "start_time": "2024-09-29T14:19:33.571Z"
   },
   {
    "duration": 1168,
    "start_time": "2024-09-29T14:20:19.347Z"
   },
   {
    "duration": 134,
    "start_time": "2024-09-29T14:20:22.746Z"
   },
   {
    "duration": 21,
    "start_time": "2024-09-29T14:20:25.474Z"
   },
   {
    "duration": 18,
    "start_time": "2024-09-29T14:20:29.633Z"
   },
   {
    "duration": 406,
    "start_time": "2024-09-29T14:21:12.337Z"
   },
   {
    "duration": 15,
    "start_time": "2024-09-29T14:21:47.945Z"
   },
   {
    "duration": 1158,
    "start_time": "2024-09-29T14:21:59.772Z"
   },
   {
    "duration": 133,
    "start_time": "2024-09-29T14:22:01.566Z"
   },
   {
    "duration": 23,
    "start_time": "2024-09-29T14:22:02.604Z"
   },
   {
    "duration": 19,
    "start_time": "2024-09-29T14:22:03.502Z"
   },
   {
    "duration": 407,
    "start_time": "2024-09-29T14:22:04.329Z"
   },
   {
    "duration": 17,
    "start_time": "2024-09-29T14:22:06.139Z"
   },
   {
    "duration": 17,
    "start_time": "2024-09-29T14:22:08.972Z"
   },
   {
    "duration": 7,
    "start_time": "2024-09-29T14:22:12.993Z"
   },
   {
    "duration": 13,
    "start_time": "2024-09-29T14:22:16.019Z"
   },
   {
    "duration": 10,
    "start_time": "2024-09-29T14:22:17.604Z"
   },
   {
    "duration": 13,
    "start_time": "2024-09-29T14:22:19.224Z"
   },
   {
    "duration": 13,
    "start_time": "2024-09-29T14:22:21.812Z"
   },
   {
    "duration": 97,
    "start_time": "2024-09-29T14:23:04.750Z"
   },
   {
    "duration": 745,
    "start_time": "2024-09-29T14:23:09.807Z"
   },
   {
    "duration": 101,
    "start_time": "2024-09-29T14:24:23.200Z"
   },
   {
    "duration": 7,
    "start_time": "2024-09-29T14:24:30.857Z"
   },
   {
    "duration": 6,
    "start_time": "2024-09-29T14:24:39.271Z"
   },
   {
    "duration": 10,
    "start_time": "2024-09-29T14:24:56.060Z"
   },
   {
    "duration": 7,
    "start_time": "2024-09-29T14:25:00.086Z"
   },
   {
    "duration": 200,
    "start_time": "2024-09-29T14:29:01.148Z"
   },
   {
    "duration": 16,
    "start_time": "2024-09-29T14:30:01.661Z"
   },
   {
    "duration": 16,
    "start_time": "2024-09-29T14:31:18.962Z"
   },
   {
    "duration": 12,
    "start_time": "2024-09-29T14:31:25.681Z"
   },
   {
    "duration": 243,
    "start_time": "2024-09-29T14:31:44.142Z"
   },
   {
    "duration": 163,
    "start_time": "2024-09-29T14:32:19.425Z"
   },
   {
    "duration": 163,
    "start_time": "2024-09-29T14:33:50.769Z"
   },
   {
    "duration": 255,
    "start_time": "2024-09-29T14:34:00.891Z"
   },
   {
    "duration": 146,
    "start_time": "2024-09-29T14:35:08.664Z"
   },
   {
    "duration": 144,
    "start_time": "2024-09-29T14:35:27.305Z"
   },
   {
    "duration": 4,
    "start_time": "2024-09-29T15:13:24.348Z"
   },
   {
    "duration": 5,
    "start_time": "2024-09-29T15:13:37.950Z"
   },
   {
    "duration": 4,
    "start_time": "2024-09-29T15:14:25.839Z"
   },
   {
    "duration": 11,
    "start_time": "2024-09-29T15:15:08.831Z"
   },
   {
    "duration": 16,
    "start_time": "2024-09-29T15:15:20.937Z"
   },
   {
    "duration": 1122,
    "start_time": "2024-09-29T15:16:17.963Z"
   },
   {
    "duration": 11,
    "start_time": "2024-09-29T15:16:27.391Z"
   },
   {
    "duration": 11,
    "start_time": "2024-09-29T15:17:24.967Z"
   },
   {
    "duration": 14,
    "start_time": "2024-09-29T15:20:15.831Z"
   },
   {
    "duration": 279,
    "start_time": "2024-09-29T15:20:42.535Z"
   },
   {
    "duration": 1617,
    "start_time": "2024-09-29T16:01:55.310Z"
   },
   {
    "duration": 7,
    "start_time": "2024-09-29T16:02:23.288Z"
   },
   {
    "duration": 129,
    "start_time": "2024-09-29T16:14:08.861Z"
   },
   {
    "duration": 132,
    "start_time": "2024-09-29T16:48:38.393Z"
   },
   {
    "duration": 1208,
    "start_time": "2024-09-30T16:07:49.329Z"
   },
   {
    "duration": 471,
    "start_time": "2024-09-30T16:07:50.539Z"
   },
   {
    "duration": 21,
    "start_time": "2024-09-30T16:07:51.012Z"
   },
   {
    "duration": 18,
    "start_time": "2024-09-30T16:07:51.034Z"
   },
   {
    "duration": 444,
    "start_time": "2024-09-30T16:07:51.054Z"
   },
   {
    "duration": 21,
    "start_time": "2024-09-30T16:07:51.500Z"
   },
   {
    "duration": 14,
    "start_time": "2024-09-30T16:07:51.523Z"
   },
   {
    "duration": 17,
    "start_time": "2024-09-30T16:07:51.539Z"
   },
   {
    "duration": 15,
    "start_time": "2024-09-30T16:07:51.558Z"
   },
   {
    "duration": 23,
    "start_time": "2024-09-30T16:07:51.574Z"
   },
   {
    "duration": 27,
    "start_time": "2024-09-30T16:07:51.599Z"
   },
   {
    "duration": 19,
    "start_time": "2024-09-30T16:07:51.627Z"
   },
   {
    "duration": 6,
    "start_time": "2024-09-30T16:07:51.647Z"
   },
   {
    "duration": 25,
    "start_time": "2024-09-30T16:07:51.656Z"
   },
   {
    "duration": 156,
    "start_time": "2024-09-30T16:07:51.682Z"
   },
   {
    "duration": 140,
    "start_time": "2024-09-30T16:07:51.840Z"
   },
   {
    "duration": 279,
    "start_time": "2024-09-30T16:07:51.981Z"
   },
   {
    "duration": 5,
    "start_time": "2024-09-30T16:07:52.262Z"
   },
   {
    "duration": 207,
    "start_time": "2024-09-30T16:07:52.269Z"
   },
   {
    "duration": 5,
    "start_time": "2024-09-30T16:07:52.478Z"
   },
   {
    "duration": 135,
    "start_time": "2024-09-30T16:07:52.485Z"
   },
   {
    "duration": 1072,
    "start_time": "2024-10-01T06:08:41.355Z"
   },
   {
    "duration": 309,
    "start_time": "2024-10-01T06:08:42.429Z"
   },
   {
    "duration": 23,
    "start_time": "2024-10-01T06:08:42.740Z"
   },
   {
    "duration": 32,
    "start_time": "2024-10-01T06:08:42.765Z"
   },
   {
    "duration": 300,
    "start_time": "2024-10-01T06:08:42.799Z"
   },
   {
    "duration": 14,
    "start_time": "2024-10-01T06:08:43.100Z"
   },
   {
    "duration": 12,
    "start_time": "2024-10-01T06:08:43.115Z"
   },
   {
    "duration": 7,
    "start_time": "2024-10-01T06:08:43.128Z"
   },
   {
    "duration": 20,
    "start_time": "2024-10-01T06:08:43.136Z"
   },
   {
    "duration": 16,
    "start_time": "2024-10-01T06:08:43.157Z"
   },
   {
    "duration": 19,
    "start_time": "2024-10-01T06:08:43.174Z"
   },
   {
    "duration": 11,
    "start_time": "2024-10-01T06:08:43.194Z"
   },
   {
    "duration": 7,
    "start_time": "2024-10-01T06:08:43.207Z"
   },
   {
    "duration": 6,
    "start_time": "2024-10-01T06:08:43.216Z"
   },
   {
    "duration": 157,
    "start_time": "2024-10-01T06:08:43.224Z"
   },
   {
    "duration": 116,
    "start_time": "2024-10-01T06:08:43.382Z"
   },
   {
    "duration": 207,
    "start_time": "2024-10-01T06:08:43.506Z"
   },
   {
    "duration": 5,
    "start_time": "2024-10-01T06:08:43.714Z"
   },
   {
    "duration": 294,
    "start_time": "2024-10-01T06:08:43.720Z"
   },
   {
    "duration": 4,
    "start_time": "2024-10-01T06:08:44.016Z"
   },
   {
    "duration": 109,
    "start_time": "2024-10-01T06:08:44.021Z"
   },
   {
    "duration": 70,
    "start_time": "2024-10-01T06:21:22.984Z"
   },
   {
    "duration": 22,
    "start_time": "2024-10-01T06:21:52.958Z"
   },
   {
    "duration": 8,
    "start_time": "2024-10-01T06:30:20.350Z"
   },
   {
    "duration": 89,
    "start_time": "2024-10-01T06:35:50.694Z"
   },
   {
    "duration": 7,
    "start_time": "2024-10-01T06:36:09.632Z"
   },
   {
    "duration": 20,
    "start_time": "2024-10-01T06:36:19.085Z"
   },
   {
    "duration": 1362,
    "start_time": "2024-10-01T15:57:53.809Z"
   },
   {
    "duration": 339,
    "start_time": "2024-10-01T15:57:55.173Z"
   },
   {
    "duration": 24,
    "start_time": "2024-10-01T15:57:55.514Z"
   },
   {
    "duration": 18,
    "start_time": "2024-10-01T15:57:55.540Z"
   },
   {
    "duration": 423,
    "start_time": "2024-10-01T15:57:55.561Z"
   },
   {
    "duration": 16,
    "start_time": "2024-10-01T15:57:55.985Z"
   },
   {
    "duration": 27,
    "start_time": "2024-10-01T15:57:56.003Z"
   },
   {
    "duration": 7,
    "start_time": "2024-10-01T15:57:56.032Z"
   },
   {
    "duration": 15,
    "start_time": "2024-10-01T15:57:56.041Z"
   },
   {
    "duration": 9,
    "start_time": "2024-10-01T15:57:56.058Z"
   },
   {
    "duration": 12,
    "start_time": "2024-10-01T15:57:56.068Z"
   },
   {
    "duration": 13,
    "start_time": "2024-10-01T15:57:56.120Z"
   },
   {
    "duration": 6,
    "start_time": "2024-10-01T15:57:56.135Z"
   },
   {
    "duration": 7,
    "start_time": "2024-10-01T15:57:56.143Z"
   },
   {
    "duration": 194,
    "start_time": "2024-10-01T15:57:56.152Z"
   },
   {
    "duration": 157,
    "start_time": "2024-10-01T15:57:56.348Z"
   },
   {
    "duration": 316,
    "start_time": "2024-10-01T15:57:56.507Z"
   },
   {
    "duration": 7,
    "start_time": "2024-10-01T15:57:56.825Z"
   },
   {
    "duration": 143,
    "start_time": "2024-10-01T15:57:56.834Z"
   },
   {
    "duration": 5,
    "start_time": "2024-10-01T15:57:56.979Z"
   },
   {
    "duration": 147,
    "start_time": "2024-10-01T15:57:56.986Z"
   },
   {
    "duration": 12,
    "start_time": "2024-10-01T15:57:57.135Z"
   },
   {
    "duration": 45,
    "start_time": "2024-10-01T15:57:57.149Z"
   },
   {
    "duration": 14,
    "start_time": "2024-10-01T15:57:57.196Z"
   },
   {
    "duration": 153,
    "start_time": "2024-10-01T15:57:57.221Z"
   },
   {
    "duration": 139,
    "start_time": "2024-10-01T15:57:57.376Z"
   },
   {
    "duration": 198,
    "start_time": "2024-10-01T16:01:52.950Z"
   },
   {
    "duration": 1182,
    "start_time": "2024-10-01T16:08:21.420Z"
   },
   {
    "duration": 122,
    "start_time": "2024-10-01T16:08:22.604Z"
   },
   {
    "duration": 20,
    "start_time": "2024-10-01T16:08:22.728Z"
   },
   {
    "duration": 18,
    "start_time": "2024-10-01T16:08:22.750Z"
   },
   {
    "duration": 395,
    "start_time": "2024-10-01T16:08:22.769Z"
   },
   {
    "duration": 14,
    "start_time": "2024-10-01T16:08:23.166Z"
   },
   {
    "duration": 16,
    "start_time": "2024-10-01T16:08:23.182Z"
   },
   {
    "duration": 8,
    "start_time": "2024-10-01T16:08:23.220Z"
   },
   {
    "duration": 13,
    "start_time": "2024-10-01T16:08:23.230Z"
   },
   {
    "duration": 8,
    "start_time": "2024-10-01T16:08:23.246Z"
   },
   {
    "duration": 15,
    "start_time": "2024-10-01T16:08:23.256Z"
   },
   {
    "duration": 19,
    "start_time": "2024-10-01T16:08:23.273Z"
   },
   {
    "duration": 7,
    "start_time": "2024-10-01T16:08:23.322Z"
   },
   {
    "duration": 7,
    "start_time": "2024-10-01T16:08:23.331Z"
   },
   {
    "duration": 190,
    "start_time": "2024-10-01T16:08:23.340Z"
   },
   {
    "duration": 164,
    "start_time": "2024-10-01T16:08:23.532Z"
   },
   {
    "duration": 290,
    "start_time": "2024-10-01T16:08:23.698Z"
   },
   {
    "duration": 6,
    "start_time": "2024-10-01T16:08:23.990Z"
   },
   {
    "duration": 137,
    "start_time": "2024-10-01T16:08:23.998Z"
   },
   {
    "duration": 5,
    "start_time": "2024-10-01T16:08:24.137Z"
   },
   {
    "duration": 134,
    "start_time": "2024-10-01T16:08:24.144Z"
   },
   {
    "duration": 11,
    "start_time": "2024-10-01T16:08:24.280Z"
   },
   {
    "duration": 44,
    "start_time": "2024-10-01T16:08:24.292Z"
   },
   {
    "duration": 14,
    "start_time": "2024-10-01T16:08:24.338Z"
   },
   {
    "duration": 129,
    "start_time": "2024-10-01T16:08:24.354Z"
   },
   {
    "duration": 129,
    "start_time": "2024-10-01T16:08:24.485Z"
   },
   {
    "duration": 207,
    "start_time": "2024-10-01T16:08:24.616Z"
   },
   {
    "duration": 130,
    "start_time": "2024-10-01T16:08:24.827Z"
   },
   {
    "duration": 40,
    "start_time": "2024-10-01T18:07:02.375Z"
   },
   {
    "duration": 1171,
    "start_time": "2024-10-01T19:03:07.477Z"
   },
   {
    "duration": 126,
    "start_time": "2024-10-01T19:03:08.650Z"
   },
   {
    "duration": 30,
    "start_time": "2024-10-01T19:03:08.777Z"
   },
   {
    "duration": 18,
    "start_time": "2024-10-01T19:03:08.809Z"
   },
   {
    "duration": 403,
    "start_time": "2024-10-01T19:03:08.830Z"
   },
   {
    "duration": 16,
    "start_time": "2024-10-01T19:03:09.235Z"
   },
   {
    "duration": 15,
    "start_time": "2024-10-01T19:03:09.253Z"
   },
   {
    "duration": 10,
    "start_time": "2024-10-01T19:03:09.269Z"
   },
   {
    "duration": 40,
    "start_time": "2024-10-01T19:03:09.281Z"
   },
   {
    "duration": 49,
    "start_time": "2024-10-01T19:03:09.323Z"
   },
   {
    "duration": 22,
    "start_time": "2024-10-01T19:03:09.374Z"
   },
   {
    "duration": 12,
    "start_time": "2024-10-01T19:03:09.398Z"
   },
   {
    "duration": 20,
    "start_time": "2024-10-01T19:03:09.411Z"
   },
   {
    "duration": 14,
    "start_time": "2024-10-01T19:03:09.434Z"
   },
   {
    "duration": 180,
    "start_time": "2024-10-01T19:03:09.449Z"
   },
   {
    "duration": 170,
    "start_time": "2024-10-01T19:03:09.630Z"
   },
   {
    "duration": 301,
    "start_time": "2024-10-01T19:03:09.802Z"
   },
   {
    "duration": 6,
    "start_time": "2024-10-01T19:03:10.105Z"
   },
   {
    "duration": 143,
    "start_time": "2024-10-01T19:03:10.121Z"
   },
   {
    "duration": 6,
    "start_time": "2024-10-01T19:03:10.266Z"
   },
   {
    "duration": 147,
    "start_time": "2024-10-01T19:03:10.273Z"
   },
   {
    "duration": 11,
    "start_time": "2024-10-01T19:03:10.422Z"
   },
   {
    "duration": 26,
    "start_time": "2024-10-01T19:03:10.435Z"
   },
   {
    "duration": 13,
    "start_time": "2024-10-01T19:03:10.463Z"
   },
   {
    "duration": 148,
    "start_time": "2024-10-01T19:03:10.478Z"
   },
   {
    "duration": 130,
    "start_time": "2024-10-01T19:03:10.628Z"
   },
   {
    "duration": 190,
    "start_time": "2024-10-01T19:03:10.760Z"
   },
   {
    "duration": 121,
    "start_time": "2024-10-01T19:03:10.951Z"
   },
   {
    "duration": 36,
    "start_time": "2024-10-01T19:03:11.074Z"
   },
   {
    "duration": 11,
    "start_time": "2024-10-01T19:06:20.553Z"
   },
   {
    "duration": 1297,
    "start_time": "2024-10-01T19:13:16.818Z"
   },
   {
    "duration": 1358,
    "start_time": "2024-10-01T19:13:55.056Z"
   },
   {
    "duration": 13,
    "start_time": "2024-10-01T19:14:14.523Z"
   },
   {
    "duration": 14,
    "start_time": "2024-10-01T19:14:24.513Z"
   },
   {
    "duration": 13,
    "start_time": "2024-10-01T19:14:38.427Z"
   },
   {
    "duration": 9,
    "start_time": "2024-10-01T19:18:06.858Z"
   },
   {
    "duration": 11,
    "start_time": "2024-10-01T19:18:16.486Z"
   },
   {
    "duration": 62,
    "start_time": "2024-10-01T19:24:12.522Z"
   },
   {
    "duration": 13,
    "start_time": "2024-10-01T19:24:17.605Z"
   },
   {
    "duration": 55,
    "start_time": "2024-10-01T19:27:42.916Z"
   },
   {
    "duration": 12,
    "start_time": "2024-10-01T19:33:44.338Z"
   },
   {
    "duration": 12,
    "start_time": "2024-10-01T19:40:20.335Z"
   },
   {
    "duration": 14,
    "start_time": "2024-10-01T19:40:26.824Z"
   },
   {
    "duration": 15,
    "start_time": "2024-10-01T19:43:35.608Z"
   },
   {
    "duration": 14,
    "start_time": "2024-10-01T19:43:43.466Z"
   },
   {
    "duration": 15,
    "start_time": "2024-10-01T19:43:51.402Z"
   },
   {
    "duration": 198,
    "start_time": "2024-10-01T19:52:28.994Z"
   },
   {
    "duration": 9,
    "start_time": "2024-10-01T20:00:44.407Z"
   },
   {
    "duration": 128,
    "start_time": "2024-10-01T20:05:26.776Z"
   },
   {
    "duration": 5,
    "start_time": "2024-10-01T20:05:33.964Z"
   },
   {
    "duration": 125,
    "start_time": "2024-10-01T20:05:55.511Z"
   },
   {
    "duration": 96,
    "start_time": "2024-10-01T20:28:53.910Z"
   },
   {
    "duration": 5,
    "start_time": "2024-10-01T20:29:20.847Z"
   },
   {
    "duration": 6,
    "start_time": "2024-10-01T20:29:42.582Z"
   },
   {
    "duration": 6,
    "start_time": "2024-10-01T20:30:16.183Z"
   },
   {
    "duration": 7,
    "start_time": "2024-10-01T20:30:31.369Z"
   },
   {
    "duration": 6,
    "start_time": "2024-10-01T20:31:33.619Z"
   },
   {
    "duration": 5,
    "start_time": "2024-10-01T20:34:49.395Z"
   },
   {
    "duration": 5,
    "start_time": "2024-10-01T20:35:02.219Z"
   },
   {
    "duration": 5,
    "start_time": "2024-10-01T20:35:12.428Z"
   },
   {
    "duration": 6,
    "start_time": "2024-10-01T20:35:20.402Z"
   },
   {
    "duration": 5,
    "start_time": "2024-10-01T20:39:46.467Z"
   },
   {
    "duration": 1117,
    "start_time": "2024-10-01T20:46:47.354Z"
   },
   {
    "duration": 125,
    "start_time": "2024-10-01T20:46:48.472Z"
   },
   {
    "duration": 22,
    "start_time": "2024-10-01T20:46:48.599Z"
   },
   {
    "duration": 35,
    "start_time": "2024-10-01T20:46:48.623Z"
   },
   {
    "duration": 405,
    "start_time": "2024-10-01T20:46:48.660Z"
   },
   {
    "duration": 17,
    "start_time": "2024-10-01T20:46:49.066Z"
   },
   {
    "duration": 38,
    "start_time": "2024-10-01T20:46:49.085Z"
   },
   {
    "duration": 6,
    "start_time": "2024-10-01T20:46:49.126Z"
   },
   {
    "duration": 13,
    "start_time": "2024-10-01T20:46:49.134Z"
   },
   {
    "duration": 8,
    "start_time": "2024-10-01T20:46:49.150Z"
   },
   {
    "duration": 14,
    "start_time": "2024-10-01T20:46:49.160Z"
   },
   {
    "duration": 56,
    "start_time": "2024-10-01T20:46:49.175Z"
   },
   {
    "duration": 24,
    "start_time": "2024-10-01T20:46:49.232Z"
   },
   {
    "duration": 6,
    "start_time": "2024-10-01T20:46:49.258Z"
   },
   {
    "duration": 219,
    "start_time": "2024-10-01T20:46:49.266Z"
   },
   {
    "duration": 7,
    "start_time": "2024-10-01T20:46:49.487Z"
   },
   {
    "duration": 178,
    "start_time": "2024-10-01T20:46:49.495Z"
   },
   {
    "duration": 302,
    "start_time": "2024-10-01T20:46:49.675Z"
   },
   {
    "duration": 6,
    "start_time": "2024-10-01T20:46:49.978Z"
   },
   {
    "duration": 140,
    "start_time": "2024-10-01T20:46:49.985Z"
   },
   {
    "duration": 5,
    "start_time": "2024-10-01T20:46:50.127Z"
   },
   {
    "duration": 145,
    "start_time": "2024-10-01T20:46:50.134Z"
   },
   {
    "duration": 13,
    "start_time": "2024-10-01T20:46:50.281Z"
   },
   {
    "duration": 47,
    "start_time": "2024-10-01T20:46:50.296Z"
   },
   {
    "duration": 27,
    "start_time": "2024-10-01T20:46:50.345Z"
   },
   {
    "duration": 120,
    "start_time": "2024-10-01T20:46:50.374Z"
   },
   {
    "duration": 150,
    "start_time": "2024-10-01T20:46:50.497Z"
   },
   {
    "duration": 206,
    "start_time": "2024-10-01T20:46:50.652Z"
   },
   {
    "duration": 120,
    "start_time": "2024-10-01T20:46:50.860Z"
   },
   {
    "duration": 73,
    "start_time": "2024-10-01T20:46:50.981Z"
   },
   {
    "duration": 13,
    "start_time": "2024-10-01T20:46:51.055Z"
   },
   {
    "duration": 11,
    "start_time": "2024-10-01T20:46:51.070Z"
   },
   {
    "duration": 41,
    "start_time": "2024-10-01T20:46:51.083Z"
   },
   {
    "duration": 205,
    "start_time": "2024-10-01T20:46:51.126Z"
   },
   {
    "duration": 7,
    "start_time": "2024-10-01T20:46:51.332Z"
   },
   {
    "duration": 16,
    "start_time": "2024-10-01T20:46:51.340Z"
   },
   {
    "duration": 87,
    "start_time": "2024-10-01T20:46:51.358Z"
   },
   {
    "duration": 104,
    "start_time": "2024-10-01T20:51:04.680Z"
   },
   {
    "duration": 11,
    "start_time": "2024-10-01T20:51:26.201Z"
   },
   {
    "duration": 11,
    "start_time": "2024-10-01T20:51:40.456Z"
   },
   {
    "duration": 1131,
    "start_time": "2024-10-01T21:05:26.584Z"
   },
   {
    "duration": 128,
    "start_time": "2024-10-01T21:05:27.717Z"
   },
   {
    "duration": 22,
    "start_time": "2024-10-01T21:05:27.847Z"
   },
   {
    "duration": 25,
    "start_time": "2024-10-01T21:05:27.871Z"
   },
   {
    "duration": 397,
    "start_time": "2024-10-01T21:05:27.897Z"
   },
   {
    "duration": 32,
    "start_time": "2024-10-01T21:05:28.296Z"
   },
   {
    "duration": 37,
    "start_time": "2024-10-01T21:05:28.329Z"
   },
   {
    "duration": 7,
    "start_time": "2024-10-01T21:05:28.368Z"
   },
   {
    "duration": 15,
    "start_time": "2024-10-01T21:05:28.377Z"
   },
   {
    "duration": 8,
    "start_time": "2024-10-01T21:05:28.395Z"
   },
   {
    "duration": 12,
    "start_time": "2024-10-01T21:05:28.420Z"
   },
   {
    "duration": 22,
    "start_time": "2024-10-01T21:05:28.434Z"
   },
   {
    "duration": 9,
    "start_time": "2024-10-01T21:05:28.458Z"
   },
   {
    "duration": 12,
    "start_time": "2024-10-01T21:05:28.469Z"
   },
   {
    "duration": 202,
    "start_time": "2024-10-01T21:05:28.483Z"
   },
   {
    "duration": 7,
    "start_time": "2024-10-01T21:05:28.687Z"
   },
   {
    "duration": 167,
    "start_time": "2024-10-01T21:05:28.696Z"
   },
   {
    "duration": 285,
    "start_time": "2024-10-01T21:05:28.865Z"
   },
   {
    "duration": 7,
    "start_time": "2024-10-01T21:05:29.151Z"
   },
   {
    "duration": 139,
    "start_time": "2024-10-01T21:05:29.159Z"
   },
   {
    "duration": 5,
    "start_time": "2024-10-01T21:05:29.300Z"
   },
   {
    "duration": 132,
    "start_time": "2024-10-01T21:05:29.320Z"
   },
   {
    "duration": 11,
    "start_time": "2024-10-01T21:05:29.454Z"
   },
   {
    "duration": 27,
    "start_time": "2024-10-01T21:05:29.467Z"
   },
   {
    "duration": 41,
    "start_time": "2024-10-01T21:05:29.496Z"
   },
   {
    "duration": 142,
    "start_time": "2024-10-01T21:05:29.539Z"
   },
   {
    "duration": 143,
    "start_time": "2024-10-01T21:05:29.683Z"
   },
   {
    "duration": 198,
    "start_time": "2024-10-01T21:05:29.830Z"
   },
   {
    "duration": 126,
    "start_time": "2024-10-01T21:05:30.030Z"
   },
   {
    "duration": 70,
    "start_time": "2024-10-01T21:05:30.158Z"
   },
   {
    "duration": 14,
    "start_time": "2024-10-01T21:05:30.229Z"
   },
   {
    "duration": 13,
    "start_time": "2024-10-01T21:05:30.245Z"
   },
   {
    "duration": 25,
    "start_time": "2024-10-01T21:05:30.260Z"
   },
   {
    "duration": 230,
    "start_time": "2024-10-01T21:05:30.287Z"
   },
   {
    "duration": 6,
    "start_time": "2024-10-01T21:05:30.520Z"
   },
   {
    "duration": 40,
    "start_time": "2024-10-01T21:05:30.527Z"
   },
   {
    "duration": 24,
    "start_time": "2024-10-01T21:05:30.569Z"
   },
   {
    "duration": 1101,
    "start_time": "2024-10-01T21:08:53.333Z"
   },
   {
    "duration": 108,
    "start_time": "2024-10-01T21:08:54.436Z"
   },
   {
    "duration": 23,
    "start_time": "2024-10-01T21:08:54.546Z"
   },
   {
    "duration": 24,
    "start_time": "2024-10-01T21:08:54.571Z"
   },
   {
    "duration": 454,
    "start_time": "2024-10-01T21:08:54.597Z"
   },
   {
    "duration": 15,
    "start_time": "2024-10-01T21:08:55.053Z"
   },
   {
    "duration": 54,
    "start_time": "2024-10-01T21:08:55.070Z"
   },
   {
    "duration": 10,
    "start_time": "2024-10-01T21:08:55.126Z"
   },
   {
    "duration": 19,
    "start_time": "2024-10-01T21:08:55.139Z"
   },
   {
    "duration": 10,
    "start_time": "2024-10-01T21:08:55.162Z"
   },
   {
    "duration": 58,
    "start_time": "2024-10-01T21:08:55.174Z"
   },
   {
    "duration": 14,
    "start_time": "2024-10-01T21:08:55.235Z"
   },
   {
    "duration": 6,
    "start_time": "2024-10-01T21:08:55.251Z"
   },
   {
    "duration": 7,
    "start_time": "2024-10-01T21:08:55.259Z"
   },
   {
    "duration": 199,
    "start_time": "2024-10-01T21:08:55.268Z"
   },
   {
    "duration": 6,
    "start_time": "2024-10-01T21:08:55.469Z"
   },
   {
    "duration": 178,
    "start_time": "2024-10-01T21:08:55.477Z"
   },
   {
    "duration": 320,
    "start_time": "2024-10-01T21:08:55.657Z"
   },
   {
    "duration": 6,
    "start_time": "2024-10-01T21:08:55.978Z"
   },
   {
    "duration": 163,
    "start_time": "2024-10-01T21:08:55.986Z"
   },
   {
    "duration": 17,
    "start_time": "2024-10-01T21:08:56.151Z"
   },
   {
    "duration": 146,
    "start_time": "2024-10-01T21:08:56.169Z"
   },
   {
    "duration": 19,
    "start_time": "2024-10-01T21:08:56.316Z"
   },
   {
    "duration": 25,
    "start_time": "2024-10-01T21:08:56.337Z"
   },
   {
    "duration": 12,
    "start_time": "2024-10-01T21:08:56.363Z"
   },
   {
    "duration": 158,
    "start_time": "2024-10-01T21:08:56.377Z"
   },
   {
    "duration": 127,
    "start_time": "2024-10-01T21:08:56.536Z"
   },
   {
    "duration": 212,
    "start_time": "2024-10-01T21:08:56.666Z"
   },
   {
    "duration": 127,
    "start_time": "2024-10-01T21:08:56.880Z"
   },
   {
    "duration": 70,
    "start_time": "2024-10-01T21:08:57.009Z"
   },
   {
    "duration": 15,
    "start_time": "2024-10-01T21:08:57.081Z"
   },
   {
    "duration": 47,
    "start_time": "2024-10-01T21:08:57.098Z"
   },
   {
    "duration": 26,
    "start_time": "2024-10-01T21:08:57.146Z"
   },
   {
    "duration": 237,
    "start_time": "2024-10-01T21:08:57.174Z"
   },
   {
    "duration": 15,
    "start_time": "2024-10-01T21:08:57.414Z"
   },
   {
    "duration": 6,
    "start_time": "2024-10-01T21:08:57.434Z"
   },
   {
    "duration": 12,
    "start_time": "2024-10-01T21:08:57.442Z"
   },
   {
    "duration": 1141,
    "start_time": "2024-10-02T10:04:52.810Z"
   },
   {
    "duration": 133,
    "start_time": "2024-10-02T10:04:53.954Z"
   },
   {
    "duration": 23,
    "start_time": "2024-10-02T10:04:54.088Z"
   },
   {
    "duration": 26,
    "start_time": "2024-10-02T10:04:54.113Z"
   },
   {
    "duration": 429,
    "start_time": "2024-10-02T10:04:54.141Z"
   },
   {
    "duration": 16,
    "start_time": "2024-10-02T10:04:54.572Z"
   },
   {
    "duration": 16,
    "start_time": "2024-10-02T10:04:54.590Z"
   },
   {
    "duration": 21,
    "start_time": "2024-10-02T10:04:54.607Z"
   },
   {
    "duration": 82,
    "start_time": "2024-10-02T10:04:54.630Z"
   },
   {
    "duration": 48,
    "start_time": "2024-10-02T10:04:54.715Z"
   },
   {
    "duration": 115,
    "start_time": "2024-10-02T10:04:54.765Z"
   },
   {
    "duration": 34,
    "start_time": "2024-10-02T10:04:54.882Z"
   },
   {
    "duration": 18,
    "start_time": "2024-10-02T10:04:54.918Z"
   },
   {
    "duration": 32,
    "start_time": "2024-10-02T10:04:54.938Z"
   },
   {
    "duration": 193,
    "start_time": "2024-10-02T10:04:54.973Z"
   },
   {
    "duration": 7,
    "start_time": "2024-10-02T10:04:55.168Z"
   },
   {
    "duration": 194,
    "start_time": "2024-10-02T10:04:55.177Z"
   },
   {
    "duration": 303,
    "start_time": "2024-10-02T10:04:55.373Z"
   },
   {
    "duration": 6,
    "start_time": "2024-10-02T10:04:55.678Z"
   },
   {
    "duration": 146,
    "start_time": "2024-10-02T10:04:55.686Z"
   },
   {
    "duration": 6,
    "start_time": "2024-10-02T10:04:55.834Z"
   },
   {
    "duration": 142,
    "start_time": "2024-10-02T10:04:55.856Z"
   },
   {
    "duration": 11,
    "start_time": "2024-10-02T10:04:56.000Z"
   },
   {
    "duration": 27,
    "start_time": "2024-10-02T10:04:56.013Z"
   },
   {
    "duration": 13,
    "start_time": "2024-10-02T10:04:56.055Z"
   },
   {
    "duration": 140,
    "start_time": "2024-10-02T10:04:56.070Z"
   },
   {
    "duration": 134,
    "start_time": "2024-10-02T10:04:56.212Z"
   },
   {
    "duration": 209,
    "start_time": "2024-10-02T10:04:56.357Z"
   },
   {
    "duration": 126,
    "start_time": "2024-10-02T10:04:56.568Z"
   },
   {
    "duration": 86,
    "start_time": "2024-10-02T10:04:56.697Z"
   },
   {
    "duration": 16,
    "start_time": "2024-10-02T10:04:56.784Z"
   },
   {
    "duration": 62,
    "start_time": "2024-10-02T10:04:56.802Z"
   },
   {
    "duration": 39,
    "start_time": "2024-10-02T10:04:56.866Z"
   },
   {
    "duration": 213,
    "start_time": "2024-10-02T10:04:56.907Z"
   },
   {
    "duration": 6,
    "start_time": "2024-10-02T10:04:57.122Z"
   },
   {
    "duration": 24,
    "start_time": "2024-10-02T10:04:57.130Z"
   },
   {
    "duration": 22,
    "start_time": "2024-10-02T10:04:57.156Z"
   },
   {
    "duration": 49,
    "start_time": "2024-10-02T15:48:46.895Z"
   },
   {
    "duration": 1098,
    "start_time": "2024-10-02T15:48:51.649Z"
   },
   {
    "duration": 128,
    "start_time": "2024-10-02T15:48:52.749Z"
   },
   {
    "duration": 20,
    "start_time": "2024-10-02T15:48:52.878Z"
   },
   {
    "duration": 18,
    "start_time": "2024-10-02T15:48:52.899Z"
   },
   {
    "duration": 377,
    "start_time": "2024-10-02T15:48:52.919Z"
   },
   {
    "duration": 14,
    "start_time": "2024-10-02T15:48:53.298Z"
   },
   {
    "duration": 32,
    "start_time": "2024-10-02T15:48:53.314Z"
   },
   {
    "duration": 6,
    "start_time": "2024-10-02T15:48:53.347Z"
   },
   {
    "duration": 11,
    "start_time": "2024-10-02T15:48:53.355Z"
   },
   {
    "duration": 7,
    "start_time": "2024-10-02T15:48:53.368Z"
   },
   {
    "duration": 17,
    "start_time": "2024-10-02T15:48:53.377Z"
   },
   {
    "duration": 12,
    "start_time": "2024-10-02T15:48:53.395Z"
   },
   {
    "duration": 39,
    "start_time": "2024-10-02T15:48:53.408Z"
   },
   {
    "duration": 5,
    "start_time": "2024-10-02T15:48:53.450Z"
   },
   {
    "duration": 166,
    "start_time": "2024-10-02T15:48:53.457Z"
   },
   {
    "duration": 6,
    "start_time": "2024-10-02T15:48:53.625Z"
   },
   {
    "duration": 154,
    "start_time": "2024-10-02T15:48:53.633Z"
   },
   {
    "duration": 286,
    "start_time": "2024-10-02T15:48:53.789Z"
   },
   {
    "duration": 7,
    "start_time": "2024-10-02T15:48:54.077Z"
   },
   {
    "duration": 141,
    "start_time": "2024-10-02T15:48:54.086Z"
   },
   {
    "duration": 15,
    "start_time": "2024-10-02T15:48:54.228Z"
   },
   {
    "duration": 131,
    "start_time": "2024-10-02T15:48:54.245Z"
   },
   {
    "duration": 10,
    "start_time": "2024-10-02T15:48:54.378Z"
   },
   {
    "duration": 25,
    "start_time": "2024-10-02T15:48:54.390Z"
   },
   {
    "duration": 30,
    "start_time": "2024-10-02T15:48:54.417Z"
   },
   {
    "duration": 124,
    "start_time": "2024-10-02T15:48:54.448Z"
   },
   {
    "duration": 130,
    "start_time": "2024-10-02T15:48:54.574Z"
   },
   {
    "duration": 199,
    "start_time": "2024-10-02T15:48:54.706Z"
   },
   {
    "duration": 111,
    "start_time": "2024-10-02T15:48:54.907Z"
   },
   {
    "duration": 65,
    "start_time": "2024-10-02T15:48:55.020Z"
   },
   {
    "duration": 12,
    "start_time": "2024-10-02T15:48:55.086Z"
   },
   {
    "duration": 10,
    "start_time": "2024-10-02T15:48:55.100Z"
   },
   {
    "duration": 35,
    "start_time": "2024-10-02T15:48:55.112Z"
   },
   {
    "duration": 13,
    "start_time": "2024-10-02T15:48:55.149Z"
   },
   {
    "duration": 215,
    "start_time": "2024-10-02T15:48:55.163Z"
   },
   {
    "duration": 6,
    "start_time": "2024-10-02T15:48:55.379Z"
   },
   {
    "duration": 5,
    "start_time": "2024-10-02T15:48:55.387Z"
   },
   {
    "duration": 11,
    "start_time": "2024-10-02T15:48:55.393Z"
   },
   {
    "duration": 12,
    "start_time": "2024-10-02T15:51:30.092Z"
   },
   {
    "duration": 1070,
    "start_time": "2024-10-02T15:52:52.658Z"
   },
   {
    "duration": 105,
    "start_time": "2024-10-02T15:52:53.730Z"
   },
   {
    "duration": 20,
    "start_time": "2024-10-02T15:52:53.838Z"
   },
   {
    "duration": 50,
    "start_time": "2024-10-02T15:52:53.860Z"
   },
   {
    "duration": 385,
    "start_time": "2024-10-02T15:52:53.912Z"
   },
   {
    "duration": 15,
    "start_time": "2024-10-02T15:52:54.299Z"
   },
   {
    "duration": 28,
    "start_time": "2024-10-02T15:52:54.315Z"
   },
   {
    "duration": 7,
    "start_time": "2024-10-02T15:52:54.344Z"
   },
   {
    "duration": 21,
    "start_time": "2024-10-02T15:52:54.352Z"
   },
   {
    "duration": 8,
    "start_time": "2024-10-02T15:52:54.374Z"
   },
   {
    "duration": 12,
    "start_time": "2024-10-02T15:52:54.383Z"
   },
   {
    "duration": 18,
    "start_time": "2024-10-02T15:52:54.397Z"
   },
   {
    "duration": 28,
    "start_time": "2024-10-02T15:52:54.416Z"
   },
   {
    "duration": 6,
    "start_time": "2024-10-02T15:52:54.447Z"
   },
   {
    "duration": 189,
    "start_time": "2024-10-02T15:52:54.454Z"
   },
   {
    "duration": 8,
    "start_time": "2024-10-02T15:52:54.644Z"
   },
   {
    "duration": 167,
    "start_time": "2024-10-02T15:52:54.654Z"
   },
   {
    "duration": 276,
    "start_time": "2024-10-02T15:52:54.823Z"
   },
   {
    "duration": 5,
    "start_time": "2024-10-02T15:52:55.101Z"
   },
   {
    "duration": 127,
    "start_time": "2024-10-02T15:52:55.107Z"
   },
   {
    "duration": 5,
    "start_time": "2024-10-02T15:52:55.242Z"
   },
   {
    "duration": 132,
    "start_time": "2024-10-02T15:52:55.249Z"
   },
   {
    "duration": 10,
    "start_time": "2024-10-02T15:52:55.383Z"
   },
   {
    "duration": 26,
    "start_time": "2024-10-02T15:52:55.394Z"
   },
   {
    "duration": 30,
    "start_time": "2024-10-02T15:52:55.421Z"
   },
   {
    "duration": 127,
    "start_time": "2024-10-02T15:52:55.453Z"
   },
   {
    "duration": 125,
    "start_time": "2024-10-02T15:52:55.582Z"
   },
   {
    "duration": 197,
    "start_time": "2024-10-02T15:52:55.709Z"
   },
   {
    "duration": 113,
    "start_time": "2024-10-02T15:52:55.908Z"
   },
   {
    "duration": 69,
    "start_time": "2024-10-02T15:52:56.022Z"
   },
   {
    "duration": 12,
    "start_time": "2024-10-02T15:52:56.093Z"
   },
   {
    "duration": 11,
    "start_time": "2024-10-02T15:52:56.107Z"
   },
   {
    "duration": 37,
    "start_time": "2024-10-02T15:52:56.120Z"
   },
   {
    "duration": 228,
    "start_time": "2024-10-02T15:52:56.159Z"
   },
   {
    "duration": 6,
    "start_time": "2024-10-02T15:52:56.389Z"
   },
   {
    "duration": 7,
    "start_time": "2024-10-02T15:52:56.396Z"
   },
   {
    "duration": 13,
    "start_time": "2024-10-02T15:52:56.404Z"
   },
   {
    "duration": 1041,
    "start_time": "2024-10-02T17:37:15.749Z"
   },
   {
    "duration": 126,
    "start_time": "2024-10-02T17:37:16.793Z"
   },
   {
    "duration": 20,
    "start_time": "2024-10-02T17:37:16.920Z"
   },
   {
    "duration": 54,
    "start_time": "2024-10-02T17:37:16.941Z"
   },
   {
    "duration": 375,
    "start_time": "2024-10-02T17:37:16.997Z"
   },
   {
    "duration": 15,
    "start_time": "2024-10-02T17:37:17.374Z"
   },
   {
    "duration": 77,
    "start_time": "2024-10-02T17:37:17.391Z"
   },
   {
    "duration": 6,
    "start_time": "2024-10-02T17:37:17.470Z"
   },
   {
    "duration": 12,
    "start_time": "2024-10-02T17:37:17.478Z"
   },
   {
    "duration": 9,
    "start_time": "2024-10-02T17:37:17.492Z"
   },
   {
    "duration": 12,
    "start_time": "2024-10-02T17:37:17.503Z"
   },
   {
    "duration": 36,
    "start_time": "2024-10-02T17:37:17.516Z"
   },
   {
    "duration": 5,
    "start_time": "2024-10-02T17:37:17.554Z"
   },
   {
    "duration": 6,
    "start_time": "2024-10-02T17:37:17.562Z"
   },
   {
    "duration": 182,
    "start_time": "2024-10-02T17:37:17.569Z"
   },
   {
    "duration": 6,
    "start_time": "2024-10-02T17:37:17.753Z"
   },
   {
    "duration": 155,
    "start_time": "2024-10-02T17:37:17.761Z"
   },
   {
    "duration": 280,
    "start_time": "2024-10-02T17:37:17.918Z"
   },
   {
    "duration": 6,
    "start_time": "2024-10-02T17:37:18.199Z"
   },
   {
    "duration": 154,
    "start_time": "2024-10-02T17:37:18.206Z"
   },
   {
    "duration": 5,
    "start_time": "2024-10-02T17:37:18.362Z"
   },
   {
    "duration": 177,
    "start_time": "2024-10-02T17:37:18.369Z"
   },
   {
    "duration": 11,
    "start_time": "2024-10-02T17:37:18.547Z"
   },
   {
    "duration": 24,
    "start_time": "2024-10-02T17:37:18.560Z"
   },
   {
    "duration": 13,
    "start_time": "2024-10-02T17:37:18.586Z"
   },
   {
    "duration": 132,
    "start_time": "2024-10-02T17:37:18.600Z"
   },
   {
    "duration": 129,
    "start_time": "2024-10-02T17:37:18.734Z"
   },
   {
    "duration": 191,
    "start_time": "2024-10-02T17:37:18.864Z"
   },
   {
    "duration": 115,
    "start_time": "2024-10-02T17:37:19.057Z"
   },
   {
    "duration": 58,
    "start_time": "2024-10-02T17:37:19.173Z"
   },
   {
    "duration": 13,
    "start_time": "2024-10-02T17:37:19.244Z"
   },
   {
    "duration": 13,
    "start_time": "2024-10-02T17:37:19.258Z"
   },
   {
    "duration": 14,
    "start_time": "2024-10-02T17:37:19.273Z"
   },
   {
    "duration": 242,
    "start_time": "2024-10-02T17:37:19.289Z"
   },
   {
    "duration": 5,
    "start_time": "2024-10-02T17:37:19.533Z"
   },
   {
    "duration": 5,
    "start_time": "2024-10-02T17:37:19.542Z"
   },
   {
    "duration": 36,
    "start_time": "2024-10-02T17:37:19.548Z"
   },
   {
    "duration": 61,
    "start_time": "2024-10-04T12:40:00.474Z"
   },
   {
    "duration": 1223,
    "start_time": "2024-10-04T14:08:42.765Z"
   },
   {
    "duration": 467,
    "start_time": "2024-10-04T14:08:43.990Z"
   },
   {
    "duration": 3,
    "start_time": "2024-10-04T14:08:44.459Z"
   },
   {
    "duration": 24,
    "start_time": "2024-10-04T14:08:44.465Z"
   },
   {
    "duration": 20,
    "start_time": "2024-10-04T14:08:44.491Z"
   },
   {
    "duration": 389,
    "start_time": "2024-10-04T14:08:44.513Z"
   },
   {
    "duration": 27,
    "start_time": "2024-10-04T14:08:44.904Z"
   },
   {
    "duration": 26,
    "start_time": "2024-10-04T14:08:44.933Z"
   },
   {
    "duration": 7,
    "start_time": "2024-10-04T14:08:44.962Z"
   },
   {
    "duration": 13,
    "start_time": "2024-10-04T14:08:44.972Z"
   },
   {
    "duration": 35,
    "start_time": "2024-10-04T14:08:44.987Z"
   },
   {
    "duration": 15,
    "start_time": "2024-10-04T14:08:45.024Z"
   },
   {
    "duration": 28,
    "start_time": "2024-10-04T14:08:45.041Z"
   },
   {
    "duration": 15,
    "start_time": "2024-10-04T14:08:45.071Z"
   },
   {
    "duration": 13,
    "start_time": "2024-10-04T14:08:45.088Z"
   },
   {
    "duration": 138,
    "start_time": "2024-10-04T14:08:45.103Z"
   },
   {
    "duration": 0,
    "start_time": "2024-10-04T14:08:45.243Z"
   },
   {
    "duration": 0,
    "start_time": "2024-10-04T14:08:45.244Z"
   },
   {
    "duration": 0,
    "start_time": "2024-10-04T14:08:45.246Z"
   },
   {
    "duration": 1,
    "start_time": "2024-10-04T14:08:45.247Z"
   },
   {
    "duration": 0,
    "start_time": "2024-10-04T14:08:45.249Z"
   },
   {
    "duration": 0,
    "start_time": "2024-10-04T14:08:45.251Z"
   },
   {
    "duration": 0,
    "start_time": "2024-10-04T14:08:45.252Z"
   },
   {
    "duration": 0,
    "start_time": "2024-10-04T14:08:45.254Z"
   },
   {
    "duration": 0,
    "start_time": "2024-10-04T14:08:45.256Z"
   },
   {
    "duration": 0,
    "start_time": "2024-10-04T14:08:45.257Z"
   },
   {
    "duration": 0,
    "start_time": "2024-10-04T14:08:45.259Z"
   },
   {
    "duration": 0,
    "start_time": "2024-10-04T14:08:45.261Z"
   },
   {
    "duration": 0,
    "start_time": "2024-10-04T14:08:45.262Z"
   },
   {
    "duration": 0,
    "start_time": "2024-10-04T14:08:45.264Z"
   },
   {
    "duration": 0,
    "start_time": "2024-10-04T14:08:45.265Z"
   },
   {
    "duration": 0,
    "start_time": "2024-10-04T14:08:45.267Z"
   },
   {
    "duration": 0,
    "start_time": "2024-10-04T14:08:45.269Z"
   },
   {
    "duration": 0,
    "start_time": "2024-10-04T14:08:45.270Z"
   },
   {
    "duration": 0,
    "start_time": "2024-10-04T14:08:45.271Z"
   },
   {
    "duration": 0,
    "start_time": "2024-10-04T14:08:45.272Z"
   },
   {
    "duration": 0,
    "start_time": "2024-10-04T14:08:45.273Z"
   },
   {
    "duration": 0,
    "start_time": "2024-10-04T14:08:45.274Z"
   },
   {
    "duration": 165,
    "start_time": "2024-10-04T14:09:23.757Z"
   },
   {
    "duration": 1076,
    "start_time": "2024-10-04T14:10:26.083Z"
   },
   {
    "duration": 138,
    "start_time": "2024-10-04T14:10:27.161Z"
   },
   {
    "duration": 4,
    "start_time": "2024-10-04T14:10:27.301Z"
   },
   {
    "duration": 29,
    "start_time": "2024-10-04T14:10:27.308Z"
   },
   {
    "duration": 19,
    "start_time": "2024-10-04T14:10:27.339Z"
   },
   {
    "duration": 396,
    "start_time": "2024-10-04T14:10:27.360Z"
   },
   {
    "duration": 15,
    "start_time": "2024-10-04T14:10:27.758Z"
   },
   {
    "duration": 37,
    "start_time": "2024-10-04T14:10:27.775Z"
   },
   {
    "duration": 8,
    "start_time": "2024-10-04T14:10:27.813Z"
   },
   {
    "duration": 11,
    "start_time": "2024-10-04T14:10:27.823Z"
   },
   {
    "duration": 7,
    "start_time": "2024-10-04T14:10:27.836Z"
   },
   {
    "duration": 10,
    "start_time": "2024-10-04T14:10:27.845Z"
   },
   {
    "duration": 11,
    "start_time": "2024-10-04T14:10:27.857Z"
   },
   {
    "duration": 6,
    "start_time": "2024-10-04T14:10:27.869Z"
   },
   {
    "duration": 50,
    "start_time": "2024-10-04T14:10:27.877Z"
   },
   {
    "duration": 192,
    "start_time": "2024-10-04T14:10:27.928Z"
   },
   {
    "duration": 7,
    "start_time": "2024-10-04T14:10:28.122Z"
   },
   {
    "duration": 162,
    "start_time": "2024-10-04T14:10:28.131Z"
   },
   {
    "duration": 265,
    "start_time": "2024-10-04T14:10:28.295Z"
   },
   {
    "duration": 5,
    "start_time": "2024-10-04T14:10:28.562Z"
   },
   {
    "duration": 133,
    "start_time": "2024-10-04T14:10:28.568Z"
   },
   {
    "duration": 18,
    "start_time": "2024-10-04T14:10:28.703Z"
   },
   {
    "duration": 135,
    "start_time": "2024-10-04T14:10:28.722Z"
   },
   {
    "duration": 11,
    "start_time": "2024-10-04T14:10:28.858Z"
   },
   {
    "duration": 97,
    "start_time": "2024-10-04T14:10:28.871Z"
   },
   {
    "duration": 11,
    "start_time": "2024-10-04T14:10:28.969Z"
   },
   {
    "duration": 112,
    "start_time": "2024-10-04T14:10:28.982Z"
   },
   {
    "duration": 125,
    "start_time": "2024-10-04T14:10:29.097Z"
   },
   {
    "duration": 179,
    "start_time": "2024-10-04T14:10:29.224Z"
   },
   {
    "duration": 118,
    "start_time": "2024-10-04T14:10:29.405Z"
   },
   {
    "duration": 57,
    "start_time": "2024-10-04T14:10:29.525Z"
   },
   {
    "duration": 13,
    "start_time": "2024-10-04T14:10:29.584Z"
   },
   {
    "duration": 13,
    "start_time": "2024-10-04T14:10:29.621Z"
   },
   {
    "duration": 40,
    "start_time": "2024-10-04T14:10:29.635Z"
   },
   {
    "duration": 215,
    "start_time": "2024-10-04T14:10:29.676Z"
   },
   {
    "duration": 6,
    "start_time": "2024-10-04T14:10:29.892Z"
   },
   {
    "duration": 5,
    "start_time": "2024-10-04T14:10:29.899Z"
   },
   {
    "duration": 19,
    "start_time": "2024-10-04T14:10:29.905Z"
   },
   {
    "duration": 822,
    "start_time": "2024-10-04T14:18:23.613Z"
   },
   {
    "duration": 843,
    "start_time": "2024-10-04T14:21:16.334Z"
   },
   {
    "duration": 757,
    "start_time": "2024-10-04T14:21:41.670Z"
   },
   {
    "duration": 924,
    "start_time": "2024-10-04T14:54:35.908Z"
   },
   {
    "duration": 720,
    "start_time": "2024-10-04T14:54:54.047Z"
   },
   {
    "duration": 718,
    "start_time": "2024-10-04T14:59:24.398Z"
   },
   {
    "duration": 726,
    "start_time": "2024-10-04T15:01:52.991Z"
   },
   {
    "duration": 8,
    "start_time": "2024-10-04T15:03:35.412Z"
   },
   {
    "duration": 12,
    "start_time": "2024-10-04T15:03:40.379Z"
   },
   {
    "duration": 10,
    "start_time": "2024-10-04T15:04:04.254Z"
   },
   {
    "duration": 12,
    "start_time": "2024-10-04T15:12:02.711Z"
   },
   {
    "duration": 6,
    "start_time": "2024-10-04T15:13:53.445Z"
   },
   {
    "duration": 6,
    "start_time": "2024-10-04T15:15:23.923Z"
   },
   {
    "duration": 6,
    "start_time": "2024-10-04T15:27:04.373Z"
   },
   {
    "duration": 155,
    "start_time": "2024-10-04T15:29:25.179Z"
   },
   {
    "duration": 147,
    "start_time": "2024-10-04T15:37:39.726Z"
   },
   {
    "duration": 12,
    "start_time": "2024-10-04T15:44:18.883Z"
   },
   {
    "duration": 6,
    "start_time": "2024-10-04T17:01:20.910Z"
   },
   {
    "duration": 8,
    "start_time": "2024-10-04T17:01:57.508Z"
   },
   {
    "duration": 17,
    "start_time": "2024-10-04T17:39:26.102Z"
   },
   {
    "duration": 188,
    "start_time": "2024-10-04T17:39:33.594Z"
   },
   {
    "duration": 997,
    "start_time": "2024-10-04T17:39:52.969Z"
   },
   {
    "duration": 105,
    "start_time": "2024-10-04T17:39:53.968Z"
   },
   {
    "duration": 3,
    "start_time": "2024-10-04T17:39:54.075Z"
   },
   {
    "duration": 35,
    "start_time": "2024-10-04T17:39:54.080Z"
   },
   {
    "duration": 24,
    "start_time": "2024-10-04T17:39:54.117Z"
   },
   {
    "duration": 383,
    "start_time": "2024-10-04T17:39:54.143Z"
   },
   {
    "duration": 17,
    "start_time": "2024-10-04T17:39:54.528Z"
   },
   {
    "duration": 15,
    "start_time": "2024-10-04T17:39:54.547Z"
   },
   {
    "duration": 7,
    "start_time": "2024-10-04T17:39:54.564Z"
   },
   {
    "duration": 47,
    "start_time": "2024-10-04T17:39:54.575Z"
   },
   {
    "duration": 9,
    "start_time": "2024-10-04T17:39:54.624Z"
   },
   {
    "duration": 11,
    "start_time": "2024-10-04T17:39:54.635Z"
   },
   {
    "duration": 12,
    "start_time": "2024-10-04T17:39:54.648Z"
   },
   {
    "duration": 13,
    "start_time": "2024-10-04T17:39:54.662Z"
   },
   {
    "duration": 20,
    "start_time": "2024-10-04T17:39:54.676Z"
   },
   {
    "duration": 185,
    "start_time": "2024-10-04T17:39:54.698Z"
   },
   {
    "duration": 7,
    "start_time": "2024-10-04T17:39:54.885Z"
   },
   {
    "duration": 154,
    "start_time": "2024-10-04T17:39:54.894Z"
   },
   {
    "duration": 6,
    "start_time": "2024-10-04T17:39:55.051Z"
   },
   {
    "duration": 309,
    "start_time": "2024-10-04T17:39:55.059Z"
   },
   {
    "duration": 8,
    "start_time": "2024-10-04T17:39:55.370Z"
   },
   {
    "duration": 22,
    "start_time": "2024-10-04T17:39:55.380Z"
   },
   {
    "duration": 149,
    "start_time": "2024-10-04T17:39:55.404Z"
   },
   {
    "duration": 6,
    "start_time": "2024-10-04T17:39:55.555Z"
   },
   {
    "duration": 131,
    "start_time": "2024-10-04T17:39:55.563Z"
   },
   {
    "duration": 25,
    "start_time": "2024-10-04T17:39:55.696Z"
   },
   {
    "duration": 29,
    "start_time": "2024-10-04T17:39:55.722Z"
   },
   {
    "duration": 14,
    "start_time": "2024-10-04T17:39:55.755Z"
   },
   {
    "duration": 199,
    "start_time": "2024-10-04T17:39:55.770Z"
   },
   {
    "duration": 123,
    "start_time": "2024-10-04T17:39:55.971Z"
   },
   {
    "duration": 187,
    "start_time": "2024-10-04T17:39:56.096Z"
   },
   {
    "duration": 115,
    "start_time": "2024-10-04T17:39:56.285Z"
   },
   {
    "duration": 69,
    "start_time": "2024-10-04T17:39:56.402Z"
   },
   {
    "duration": 11,
    "start_time": "2024-10-04T17:39:56.473Z"
   },
   {
    "duration": 11,
    "start_time": "2024-10-04T17:39:56.486Z"
   },
   {
    "duration": 35,
    "start_time": "2024-10-04T17:39:56.499Z"
   },
   {
    "duration": 199,
    "start_time": "2024-10-04T17:39:56.536Z"
   },
   {
    "duration": 6,
    "start_time": "2024-10-04T17:39:56.737Z"
   },
   {
    "duration": 7,
    "start_time": "2024-10-04T17:39:56.745Z"
   },
   {
    "duration": 68,
    "start_time": "2024-10-04T17:39:56.753Z"
   },
   {
    "duration": 4,
    "start_time": "2024-10-04T17:40:30.119Z"
   },
   {
    "duration": 11,
    "start_time": "2024-10-04T17:41:40.699Z"
   },
   {
    "duration": 5,
    "start_time": "2024-10-04T17:42:25.411Z"
   },
   {
    "duration": 16,
    "start_time": "2024-10-04T17:42:44.472Z"
   },
   {
    "duration": 190,
    "start_time": "2024-10-04T17:42:48.567Z"
   },
   {
    "duration": 4,
    "start_time": "2024-10-04T17:42:54.196Z"
   },
   {
    "duration": 4,
    "start_time": "2024-10-04T17:43:14.214Z"
   },
   {
    "duration": 991,
    "start_time": "2024-10-04T17:43:25.677Z"
   },
   {
    "duration": 132,
    "start_time": "2024-10-04T17:43:26.670Z"
   },
   {
    "duration": 2,
    "start_time": "2024-10-04T17:43:26.804Z"
   },
   {
    "duration": 36,
    "start_time": "2024-10-04T17:43:26.808Z"
   },
   {
    "duration": 17,
    "start_time": "2024-10-04T17:43:26.846Z"
   },
   {
    "duration": 386,
    "start_time": "2024-10-04T17:43:26.865Z"
   },
   {
    "duration": 14,
    "start_time": "2024-10-04T17:43:27.252Z"
   },
   {
    "duration": 35,
    "start_time": "2024-10-04T17:43:27.268Z"
   },
   {
    "duration": 20,
    "start_time": "2024-10-04T17:43:27.305Z"
   },
   {
    "duration": 12,
    "start_time": "2024-10-04T17:43:27.326Z"
   },
   {
    "duration": 18,
    "start_time": "2024-10-04T17:43:27.340Z"
   },
   {
    "duration": 32,
    "start_time": "2024-10-04T17:43:27.359Z"
   },
   {
    "duration": 12,
    "start_time": "2024-10-04T17:43:27.393Z"
   },
   {
    "duration": 17,
    "start_time": "2024-10-04T17:43:27.408Z"
   },
   {
    "duration": 6,
    "start_time": "2024-10-04T17:43:27.426Z"
   },
   {
    "duration": 180,
    "start_time": "2024-10-04T17:43:27.433Z"
   },
   {
    "duration": 8,
    "start_time": "2024-10-04T17:43:27.614Z"
   },
   {
    "duration": 156,
    "start_time": "2024-10-04T17:43:27.623Z"
   },
   {
    "duration": 5,
    "start_time": "2024-10-04T17:43:27.781Z"
   },
   {
    "duration": 275,
    "start_time": "2024-10-04T17:43:27.788Z"
   },
   {
    "duration": 8,
    "start_time": "2024-10-04T17:43:28.065Z"
   },
   {
    "duration": 5,
    "start_time": "2024-10-04T17:43:28.075Z"
   },
   {
    "duration": 140,
    "start_time": "2024-10-04T17:43:28.081Z"
   },
   {
    "duration": 5,
    "start_time": "2024-10-04T17:43:28.223Z"
   },
   {
    "duration": 133,
    "start_time": "2024-10-04T17:43:28.229Z"
   },
   {
    "duration": 11,
    "start_time": "2024-10-04T17:43:28.363Z"
   },
   {
    "duration": 32,
    "start_time": "2024-10-04T17:43:28.376Z"
   },
   {
    "duration": 21,
    "start_time": "2024-10-04T17:43:28.410Z"
   },
   {
    "duration": 117,
    "start_time": "2024-10-04T17:43:28.433Z"
   },
   {
    "duration": 126,
    "start_time": "2024-10-04T17:43:28.552Z"
   },
   {
    "duration": 194,
    "start_time": "2024-10-04T17:43:28.680Z"
   },
   {
    "duration": 111,
    "start_time": "2024-10-04T17:43:28.876Z"
   },
   {
    "duration": 65,
    "start_time": "2024-10-04T17:43:28.989Z"
   },
   {
    "duration": 11,
    "start_time": "2024-10-04T17:43:29.056Z"
   },
   {
    "duration": 19,
    "start_time": "2024-10-04T17:43:29.069Z"
   },
   {
    "duration": 115,
    "start_time": "2024-10-04T17:43:29.090Z"
   },
   {
    "duration": 189,
    "start_time": "2024-10-04T17:43:29.206Z"
   },
   {
    "duration": 5,
    "start_time": "2024-10-04T17:43:29.397Z"
   },
   {
    "duration": 6,
    "start_time": "2024-10-04T17:43:29.403Z"
   },
   {
    "duration": 10,
    "start_time": "2024-10-04T17:43:29.420Z"
   },
   {
    "duration": 4,
    "start_time": "2024-10-04T17:44:01.542Z"
   },
   {
    "duration": 5,
    "start_time": "2024-10-04T17:44:30.977Z"
   },
   {
    "duration": 16,
    "start_time": "2024-10-04T17:44:38.023Z"
   },
   {
    "duration": 5,
    "start_time": "2024-10-04T17:44:44.942Z"
   },
   {
    "duration": 998,
    "start_time": "2024-10-04T17:45:13.575Z"
   },
   {
    "duration": 132,
    "start_time": "2024-10-04T17:45:16.902Z"
   },
   {
    "duration": 3,
    "start_time": "2024-10-04T17:45:18.769Z"
   },
   {
    "duration": 22,
    "start_time": "2024-10-04T17:45:20.313Z"
   },
   {
    "duration": 17,
    "start_time": "2024-10-04T17:45:22.506Z"
   },
   {
    "duration": 362,
    "start_time": "2024-10-04T17:45:23.307Z"
   },
   {
    "duration": 15,
    "start_time": "2024-10-04T17:45:25.899Z"
   },
   {
    "duration": 16,
    "start_time": "2024-10-04T17:45:29.322Z"
   },
   {
    "duration": 7,
    "start_time": "2024-10-04T17:45:31.603Z"
   },
   {
    "duration": 13,
    "start_time": "2024-10-04T17:45:33.356Z"
   },
   {
    "duration": 7,
    "start_time": "2024-10-04T17:45:36.319Z"
   },
   {
    "duration": 12,
    "start_time": "2024-10-04T17:45:38.393Z"
   },
   {
    "duration": 12,
    "start_time": "2024-10-04T17:45:40.013Z"
   },
   {
    "duration": 6,
    "start_time": "2024-10-04T17:45:43.839Z"
   },
   {
    "duration": 6,
    "start_time": "2024-10-04T17:45:45.397Z"
   },
   {
    "duration": 148,
    "start_time": "2024-10-04T17:45:48.946Z"
   },
   {
    "duration": 7,
    "start_time": "2024-10-04T17:45:50.653Z"
   },
   {
    "duration": 131,
    "start_time": "2024-10-04T17:45:53.282Z"
   },
   {
    "duration": 6,
    "start_time": "2024-10-04T17:45:56.237Z"
   },
   {
    "duration": 258,
    "start_time": "2024-10-04T17:45:59.233Z"
   },
   {
    "duration": 8,
    "start_time": "2024-10-04T17:46:01.982Z"
   },
   {
    "duration": 5,
    "start_time": "2024-10-04T17:46:04.673Z"
   },
   {
    "duration": 122,
    "start_time": "2024-10-04T17:46:06.023Z"
   },
   {
    "duration": 5,
    "start_time": "2024-10-04T17:46:07.672Z"
   },
   {
    "duration": 112,
    "start_time": "2024-10-04T17:46:08.200Z"
   },
   {
    "duration": 11,
    "start_time": "2024-10-04T17:46:10.620Z"
   },
   {
    "duration": 23,
    "start_time": "2024-10-04T17:46:11.256Z"
   },
   {
    "duration": 12,
    "start_time": "2024-10-04T17:46:13.598Z"
   },
   {
    "duration": 109,
    "start_time": "2024-10-04T17:46:14.365Z"
   },
   {
    "duration": 107,
    "start_time": "2024-10-04T17:46:15.958Z"
   },
   {
    "duration": 166,
    "start_time": "2024-10-04T17:46:18.932Z"
   },
   {
    "duration": 100,
    "start_time": "2024-10-04T17:46:21.158Z"
   },
   {
    "duration": 203,
    "start_time": "2024-10-04T17:47:49.297Z"
   },
   {
    "duration": 169,
    "start_time": "2024-10-04T17:48:29.246Z"
   },
   {
    "duration": 54,
    "start_time": "2024-10-04T17:48:40.323Z"
   },
   {
    "duration": 12,
    "start_time": "2024-10-04T17:48:43.001Z"
   },
   {
    "duration": 12,
    "start_time": "2024-10-04T17:48:49.910Z"
   },
   {
    "duration": 16,
    "start_time": "2024-10-04T17:48:55.346Z"
   },
   {
    "duration": 194,
    "start_time": "2024-10-04T17:48:58.631Z"
   },
   {
    "duration": 6,
    "start_time": "2024-10-04T17:49:07.573Z"
   },
   {
    "duration": 6,
    "start_time": "2024-10-04T17:50:02.721Z"
   },
   {
    "duration": 15,
    "start_time": "2024-10-04T17:50:11.098Z"
   },
   {
    "duration": 6,
    "start_time": "2024-10-04T17:50:13.906Z"
   },
   {
    "duration": 1057,
    "start_time": "2024-10-04T17:52:10.101Z"
   },
   {
    "duration": 106,
    "start_time": "2024-10-04T17:52:11.160Z"
   },
   {
    "duration": 3,
    "start_time": "2024-10-04T17:52:11.267Z"
   },
   {
    "duration": 24,
    "start_time": "2024-10-04T17:52:11.271Z"
   },
   {
    "duration": 17,
    "start_time": "2024-10-04T17:52:11.297Z"
   },
   {
    "duration": 376,
    "start_time": "2024-10-04T17:52:11.316Z"
   },
   {
    "duration": 30,
    "start_time": "2024-10-04T17:52:11.694Z"
   },
   {
    "duration": 13,
    "start_time": "2024-10-04T17:52:11.725Z"
   },
   {
    "duration": 5,
    "start_time": "2024-10-04T17:52:11.740Z"
   },
   {
    "duration": 13,
    "start_time": "2024-10-04T17:52:11.746Z"
   },
   {
    "duration": 7,
    "start_time": "2024-10-04T17:52:11.760Z"
   },
   {
    "duration": 12,
    "start_time": "2024-10-04T17:52:11.769Z"
   },
   {
    "duration": 45,
    "start_time": "2024-10-04T17:52:11.782Z"
   },
   {
    "duration": 6,
    "start_time": "2024-10-04T17:52:11.830Z"
   },
   {
    "duration": 5,
    "start_time": "2024-10-04T17:52:11.837Z"
   },
   {
    "duration": 181,
    "start_time": "2024-10-04T17:52:11.844Z"
   },
   {
    "duration": 6,
    "start_time": "2024-10-04T17:52:12.027Z"
   },
   {
    "duration": 152,
    "start_time": "2024-10-04T17:52:12.034Z"
   },
   {
    "duration": 6,
    "start_time": "2024-10-04T17:52:12.188Z"
   },
   {
    "duration": 279,
    "start_time": "2024-10-04T17:52:12.195Z"
   },
   {
    "duration": 9,
    "start_time": "2024-10-04T17:52:12.476Z"
   },
   {
    "duration": 6,
    "start_time": "2024-10-04T17:52:12.486Z"
   },
   {
    "duration": 136,
    "start_time": "2024-10-04T17:52:12.494Z"
   },
   {
    "duration": 6,
    "start_time": "2024-10-04T17:52:12.632Z"
   },
   {
    "duration": 134,
    "start_time": "2024-10-04T17:52:12.639Z"
   },
   {
    "duration": 12,
    "start_time": "2024-10-04T17:52:12.775Z"
   },
   {
    "duration": 38,
    "start_time": "2024-10-04T17:52:12.788Z"
   },
   {
    "duration": 32,
    "start_time": "2024-10-04T17:52:12.827Z"
   },
   {
    "duration": 133,
    "start_time": "2024-10-04T17:52:12.861Z"
   },
   {
    "duration": 118,
    "start_time": "2024-10-04T17:52:12.996Z"
   },
   {
    "duration": 189,
    "start_time": "2024-10-04T17:52:13.116Z"
   },
   {
    "duration": 121,
    "start_time": "2024-10-04T17:52:13.307Z"
   },
   {
    "duration": 209,
    "start_time": "2024-10-04T17:52:13.430Z"
   },
   {
    "duration": 53,
    "start_time": "2024-10-04T17:52:13.641Z"
   },
   {
    "duration": 30,
    "start_time": "2024-10-04T17:52:13.697Z"
   },
   {
    "duration": 11,
    "start_time": "2024-10-04T17:52:13.729Z"
   },
   {
    "duration": 5,
    "start_time": "2024-10-04T17:52:13.742Z"
   },
   {
    "duration": 4,
    "start_time": "2024-10-04T17:52:13.749Z"
   },
   {
    "duration": 21,
    "start_time": "2024-10-04T17:52:13.754Z"
   },
   {
    "duration": 11,
    "start_time": "2024-10-04T17:52:13.777Z"
   },
   {
    "duration": 8,
    "start_time": "2024-10-04T17:52:13.792Z"
   },
   {
    "duration": 198,
    "start_time": "2024-10-04T17:52:13.822Z"
   },
   {
    "duration": 5,
    "start_time": "2024-10-04T17:52:14.022Z"
   },
   {
    "duration": 5,
    "start_time": "2024-10-04T17:52:14.028Z"
   },
   {
    "duration": 10,
    "start_time": "2024-10-04T17:52:14.035Z"
   },
   {
    "duration": 49,
    "start_time": "2024-10-04T17:59:26.317Z"
   },
   {
    "duration": 1342,
    "start_time": "2024-10-05T08:39:48.995Z"
   },
   {
    "duration": 340,
    "start_time": "2024-10-05T08:39:50.340Z"
   },
   {
    "duration": 3,
    "start_time": "2024-10-05T08:39:50.681Z"
   },
   {
    "duration": 63,
    "start_time": "2024-10-05T08:39:50.686Z"
   },
   {
    "duration": 22,
    "start_time": "2024-10-05T08:39:50.751Z"
   },
   {
    "duration": 420,
    "start_time": "2024-10-05T08:39:50.775Z"
   },
   {
    "duration": 27,
    "start_time": "2024-10-05T08:39:51.197Z"
   },
   {
    "duration": 48,
    "start_time": "2024-10-05T08:39:51.225Z"
   },
   {
    "duration": 7,
    "start_time": "2024-10-05T08:39:51.275Z"
   },
   {
    "duration": 25,
    "start_time": "2024-10-05T08:39:51.284Z"
   },
   {
    "duration": 34,
    "start_time": "2024-10-05T08:39:51.310Z"
   },
   {
    "duration": 37,
    "start_time": "2024-10-05T08:39:51.346Z"
   },
   {
    "duration": 48,
    "start_time": "2024-10-05T08:39:51.385Z"
   },
   {
    "duration": 52,
    "start_time": "2024-10-05T08:39:51.435Z"
   },
   {
    "duration": 28,
    "start_time": "2024-10-05T08:39:51.489Z"
   },
   {
    "duration": 180,
    "start_time": "2024-10-05T08:39:51.519Z"
   },
   {
    "duration": 7,
    "start_time": "2024-10-05T08:39:51.700Z"
   },
   {
    "duration": 192,
    "start_time": "2024-10-05T08:39:51.708Z"
   },
   {
    "duration": 7,
    "start_time": "2024-10-05T08:39:51.901Z"
   },
   {
    "duration": 313,
    "start_time": "2024-10-05T08:39:51.910Z"
   },
   {
    "duration": 9,
    "start_time": "2024-10-05T08:39:52.224Z"
   },
   {
    "duration": 18,
    "start_time": "2024-10-05T08:39:52.235Z"
   },
   {
    "duration": 133,
    "start_time": "2024-10-05T08:39:52.255Z"
   },
   {
    "duration": 6,
    "start_time": "2024-10-05T08:39:52.390Z"
   },
   {
    "duration": 156,
    "start_time": "2024-10-05T08:39:52.398Z"
   },
   {
    "duration": 16,
    "start_time": "2024-10-05T08:39:52.556Z"
   },
   {
    "duration": 45,
    "start_time": "2024-10-05T08:39:52.575Z"
   },
   {
    "duration": 12,
    "start_time": "2024-10-05T08:39:52.624Z"
   },
   {
    "duration": 135,
    "start_time": "2024-10-05T08:39:52.638Z"
   },
   {
    "duration": 146,
    "start_time": "2024-10-05T08:39:52.775Z"
   },
   {
    "duration": 188,
    "start_time": "2024-10-05T08:39:52.923Z"
   },
   {
    "duration": 117,
    "start_time": "2024-10-05T08:39:53.113Z"
   },
   {
    "duration": 645,
    "start_time": "2024-10-05T08:39:53.232Z"
   },
   {
    "duration": 67,
    "start_time": "2024-10-05T08:39:53.878Z"
   },
   {
    "duration": 12,
    "start_time": "2024-10-05T08:39:53.947Z"
   },
   {
    "duration": 11,
    "start_time": "2024-10-05T08:39:53.961Z"
   },
   {
    "duration": 14,
    "start_time": "2024-10-05T08:39:53.973Z"
   },
   {
    "duration": 11,
    "start_time": "2024-10-05T08:39:53.989Z"
   },
   {
    "duration": 41,
    "start_time": "2024-10-05T08:39:54.002Z"
   },
   {
    "duration": 26,
    "start_time": "2024-10-05T08:39:54.045Z"
   },
   {
    "duration": 20,
    "start_time": "2024-10-05T08:39:54.073Z"
   },
   {
    "duration": 214,
    "start_time": "2024-10-05T08:39:54.095Z"
   },
   {
    "duration": 9,
    "start_time": "2024-10-05T08:39:54.311Z"
   },
   {
    "duration": 27,
    "start_time": "2024-10-05T08:39:54.322Z"
   },
   {
    "duration": 11,
    "start_time": "2024-10-05T08:39:54.351Z"
   },
   {
    "duration": 432,
    "start_time": "2024-10-05T08:43:24.173Z"
   },
   {
    "duration": 420,
    "start_time": "2024-10-05T09:22:52.644Z"
   },
   {
    "duration": 487,
    "start_time": "2024-10-05T09:23:26.557Z"
   },
   {
    "duration": 492,
    "start_time": "2024-10-05T09:26:47.174Z"
   },
   {
    "duration": 10,
    "start_time": "2024-10-05T09:30:30.664Z"
   },
   {
    "duration": 513,
    "start_time": "2024-10-05T09:30:35.799Z"
   },
   {
    "duration": 13,
    "start_time": "2024-10-05T09:30:53.506Z"
   },
   {
    "duration": 489,
    "start_time": "2024-10-05T09:31:46.260Z"
   },
   {
    "duration": 576,
    "start_time": "2024-10-05T09:31:59.711Z"
   },
   {
    "duration": 463,
    "start_time": "2024-10-05T09:32:06.832Z"
   },
   {
    "duration": 501,
    "start_time": "2024-10-05T09:42:07.086Z"
   },
   {
    "duration": 12,
    "start_time": "2024-10-05T09:42:12.409Z"
   },
   {
    "duration": 500,
    "start_time": "2024-10-05T09:42:28.722Z"
   },
   {
    "duration": 12,
    "start_time": "2024-10-05T09:42:34.331Z"
   },
   {
    "duration": 520,
    "start_time": "2024-10-05T10:09:20.582Z"
   },
   {
    "duration": 466,
    "start_time": "2024-10-05T10:09:36.363Z"
   },
   {
    "duration": 584,
    "start_time": "2024-10-05T10:10:49.324Z"
   },
   {
    "duration": 489,
    "start_time": "2024-10-05T10:11:50.919Z"
   },
   {
    "duration": 143,
    "start_time": "2024-10-05T10:13:44.957Z"
   },
   {
    "duration": 165,
    "start_time": "2024-10-05T10:16:08.207Z"
   },
   {
    "duration": 475,
    "start_time": "2024-10-05T10:16:23.605Z"
   },
   {
    "duration": 471,
    "start_time": "2024-10-05T10:26:10.888Z"
   },
   {
    "duration": 615,
    "start_time": "2024-10-05T10:26:25.409Z"
   },
   {
    "duration": 467,
    "start_time": "2024-10-05T10:30:22.978Z"
   },
   {
    "duration": 119,
    "start_time": "2024-10-05T10:31:11.538Z"
   },
   {
    "duration": 479,
    "start_time": "2024-10-05T10:32:53.866Z"
   },
   {
    "duration": 1177,
    "start_time": "2024-10-05T10:48:02.502Z"
   },
   {
    "duration": 125,
    "start_time": "2024-10-05T10:48:03.681Z"
   },
   {
    "duration": 3,
    "start_time": "2024-10-05T10:48:03.808Z"
   },
   {
    "duration": 75,
    "start_time": "2024-10-05T10:48:03.813Z"
   },
   {
    "duration": 39,
    "start_time": "2024-10-05T10:48:03.889Z"
   },
   {
    "duration": 401,
    "start_time": "2024-10-05T10:48:03.930Z"
   },
   {
    "duration": 15,
    "start_time": "2024-10-05T10:48:04.333Z"
   },
   {
    "duration": 13,
    "start_time": "2024-10-05T10:48:04.350Z"
   },
   {
    "duration": 21,
    "start_time": "2024-10-05T10:48:04.364Z"
   },
   {
    "duration": 12,
    "start_time": "2024-10-05T10:48:04.388Z"
   },
   {
    "duration": 26,
    "start_time": "2024-10-05T10:48:04.402Z"
   },
   {
    "duration": 44,
    "start_time": "2024-10-05T10:48:04.430Z"
   },
   {
    "duration": 14,
    "start_time": "2024-10-05T10:48:04.476Z"
   },
   {
    "duration": 40,
    "start_time": "2024-10-05T10:48:04.491Z"
   },
   {
    "duration": 23,
    "start_time": "2024-10-05T10:48:04.533Z"
   },
   {
    "duration": 191,
    "start_time": "2024-10-05T10:48:04.558Z"
   },
   {
    "duration": 6,
    "start_time": "2024-10-05T10:48:04.750Z"
   },
   {
    "duration": 181,
    "start_time": "2024-10-05T10:48:04.758Z"
   },
   {
    "duration": 6,
    "start_time": "2024-10-05T10:48:04.941Z"
   },
   {
    "duration": 308,
    "start_time": "2024-10-05T10:48:04.949Z"
   },
   {
    "duration": 8,
    "start_time": "2024-10-05T10:48:05.258Z"
   },
   {
    "duration": 18,
    "start_time": "2024-10-05T10:48:05.268Z"
   },
   {
    "duration": 140,
    "start_time": "2024-10-05T10:48:05.288Z"
   },
   {
    "duration": 6,
    "start_time": "2024-10-05T10:48:05.429Z"
   },
   {
    "duration": 143,
    "start_time": "2024-10-05T10:48:05.437Z"
   },
   {
    "duration": 12,
    "start_time": "2024-10-05T10:48:05.582Z"
   },
   {
    "duration": 113,
    "start_time": "2024-10-05T10:48:05.596Z"
   },
   {
    "duration": 26,
    "start_time": "2024-10-05T10:48:05.712Z"
   },
   {
    "duration": 158,
    "start_time": "2024-10-05T10:48:05.740Z"
   },
   {
    "duration": 150,
    "start_time": "2024-10-05T10:48:05.899Z"
   },
   {
    "duration": 194,
    "start_time": "2024-10-05T10:48:06.050Z"
   },
   {
    "duration": 120,
    "start_time": "2024-10-05T10:48:06.246Z"
   },
   {
    "duration": 7,
    "start_time": "2024-10-05T10:48:06.368Z"
   },
   {
    "duration": 486,
    "start_time": "2024-10-05T10:48:06.376Z"
   },
   {
    "duration": 62,
    "start_time": "2024-10-05T10:48:06.864Z"
   },
   {
    "duration": 14,
    "start_time": "2024-10-05T10:48:06.927Z"
   },
   {
    "duration": 25,
    "start_time": "2024-10-05T10:48:06.942Z"
   },
   {
    "duration": 7,
    "start_time": "2024-10-05T10:48:06.968Z"
   },
   {
    "duration": 14,
    "start_time": "2024-10-05T10:48:06.977Z"
   },
   {
    "duration": 4,
    "start_time": "2024-10-05T10:48:06.993Z"
   },
   {
    "duration": 23,
    "start_time": "2024-10-05T10:48:06.998Z"
   },
   {
    "duration": 22,
    "start_time": "2024-10-05T10:48:07.023Z"
   },
   {
    "duration": 200,
    "start_time": "2024-10-05T10:48:07.046Z"
   },
   {
    "duration": 6,
    "start_time": "2024-10-05T10:48:07.247Z"
   },
   {
    "duration": 7,
    "start_time": "2024-10-05T10:48:07.254Z"
   },
   {
    "duration": 10,
    "start_time": "2024-10-05T10:48:07.262Z"
   },
   {
    "duration": 1221,
    "start_time": "2024-10-06T05:53:10.357Z"
   },
   {
    "duration": 339,
    "start_time": "2024-10-06T05:53:11.581Z"
   },
   {
    "duration": 4,
    "start_time": "2024-10-06T05:53:11.921Z"
   },
   {
    "duration": 55,
    "start_time": "2024-10-06T05:53:11.926Z"
   },
   {
    "duration": 16,
    "start_time": "2024-10-06T05:53:11.984Z"
   },
   {
    "duration": 399,
    "start_time": "2024-10-06T05:53:12.001Z"
   },
   {
    "duration": 15,
    "start_time": "2024-10-06T05:53:12.402Z"
   },
   {
    "duration": 15,
    "start_time": "2024-10-06T05:53:12.419Z"
   },
   {
    "duration": 5,
    "start_time": "2024-10-06T05:53:12.436Z"
   },
   {
    "duration": 39,
    "start_time": "2024-10-06T05:53:12.442Z"
   },
   {
    "duration": 8,
    "start_time": "2024-10-06T05:53:12.482Z"
   },
   {
    "duration": 64,
    "start_time": "2024-10-06T05:53:12.491Z"
   },
   {
    "duration": 12,
    "start_time": "2024-10-06T05:53:12.556Z"
   },
   {
    "duration": 5,
    "start_time": "2024-10-06T05:53:12.571Z"
   },
   {
    "duration": 16,
    "start_time": "2024-10-06T05:53:12.578Z"
   },
   {
    "duration": 157,
    "start_time": "2024-10-06T05:53:12.596Z"
   },
   {
    "duration": 6,
    "start_time": "2024-10-06T05:53:12.755Z"
   },
   {
    "duration": 162,
    "start_time": "2024-10-06T05:53:12.763Z"
   },
   {
    "duration": 6,
    "start_time": "2024-10-06T05:53:12.927Z"
   },
   {
    "duration": 271,
    "start_time": "2024-10-06T05:53:12.934Z"
   },
   {
    "duration": 8,
    "start_time": "2024-10-06T05:53:13.207Z"
   },
   {
    "duration": 5,
    "start_time": "2024-10-06T05:53:13.216Z"
   },
   {
    "duration": 140,
    "start_time": "2024-10-06T05:53:13.223Z"
   },
   {
    "duration": 13,
    "start_time": "2024-10-06T05:53:13.365Z"
   },
   {
    "duration": 139,
    "start_time": "2024-10-06T05:53:13.379Z"
   },
   {
    "duration": 11,
    "start_time": "2024-10-06T05:53:13.519Z"
   },
   {
    "duration": 24,
    "start_time": "2024-10-06T05:53:13.531Z"
   },
   {
    "duration": 28,
    "start_time": "2024-10-06T05:53:13.557Z"
   },
   {
    "duration": 122,
    "start_time": "2024-10-06T05:53:13.587Z"
   },
   {
    "duration": 124,
    "start_time": "2024-10-06T05:53:13.710Z"
   },
   {
    "duration": 195,
    "start_time": "2024-10-06T05:53:13.836Z"
   },
   {
    "duration": 114,
    "start_time": "2024-10-06T05:53:14.032Z"
   },
   {
    "duration": 8,
    "start_time": "2024-10-06T05:53:14.147Z"
   },
   {
    "duration": 472,
    "start_time": "2024-10-06T05:53:14.156Z"
   },
   {
    "duration": 56,
    "start_time": "2024-10-06T05:53:14.629Z"
   },
   {
    "duration": 11,
    "start_time": "2024-10-06T05:53:14.687Z"
   },
   {
    "duration": 17,
    "start_time": "2024-10-06T05:53:14.699Z"
   },
   {
    "duration": 4,
    "start_time": "2024-10-06T05:53:14.717Z"
   },
   {
    "duration": 4,
    "start_time": "2024-10-06T05:53:14.723Z"
   },
   {
    "duration": 6,
    "start_time": "2024-10-06T05:53:14.728Z"
   },
   {
    "duration": 8,
    "start_time": "2024-10-06T05:53:14.738Z"
   },
   {
    "duration": 32,
    "start_time": "2024-10-06T05:53:14.748Z"
   },
   {
    "duration": 198,
    "start_time": "2024-10-06T05:53:14.781Z"
   },
   {
    "duration": 6,
    "start_time": "2024-10-06T05:53:14.980Z"
   },
   {
    "duration": 4,
    "start_time": "2024-10-06T05:53:14.987Z"
   },
   {
    "duration": 15,
    "start_time": "2024-10-06T05:53:14.992Z"
   },
   {
    "duration": 1088,
    "start_time": "2024-10-06T05:58:40.742Z"
   },
   {
    "duration": 121,
    "start_time": "2024-10-06T05:58:41.833Z"
   },
   {
    "duration": 3,
    "start_time": "2024-10-06T05:58:41.955Z"
   },
   {
    "duration": 56,
    "start_time": "2024-10-06T05:58:41.959Z"
   },
   {
    "duration": 19,
    "start_time": "2024-10-06T05:58:42.017Z"
   },
   {
    "duration": 375,
    "start_time": "2024-10-06T05:58:42.037Z"
   },
   {
    "duration": 15,
    "start_time": "2024-10-06T05:58:42.413Z"
   },
   {
    "duration": 24,
    "start_time": "2024-10-06T05:58:42.430Z"
   },
   {
    "duration": 21,
    "start_time": "2024-10-06T05:58:42.456Z"
   },
   {
    "duration": 11,
    "start_time": "2024-10-06T05:58:42.479Z"
   },
   {
    "duration": 7,
    "start_time": "2024-10-06T05:58:42.492Z"
   },
   {
    "duration": 11,
    "start_time": "2024-10-06T05:58:42.500Z"
   },
   {
    "duration": 62,
    "start_time": "2024-10-06T05:58:42.512Z"
   },
   {
    "duration": 6,
    "start_time": "2024-10-06T05:58:42.576Z"
   },
   {
    "duration": 11,
    "start_time": "2024-10-06T05:58:42.583Z"
   },
   {
    "duration": 168,
    "start_time": "2024-10-06T05:58:42.595Z"
   },
   {
    "duration": 12,
    "start_time": "2024-10-06T05:58:42.765Z"
   },
   {
    "duration": 156,
    "start_time": "2024-10-06T05:58:42.779Z"
   },
   {
    "duration": 6,
    "start_time": "2024-10-06T05:58:42.937Z"
   },
   {
    "duration": 271,
    "start_time": "2024-10-06T05:58:42.944Z"
   },
   {
    "duration": 8,
    "start_time": "2024-10-06T05:58:43.216Z"
   },
   {
    "duration": 16,
    "start_time": "2024-10-06T05:58:43.226Z"
   },
   {
    "duration": 120,
    "start_time": "2024-10-06T05:58:43.244Z"
   },
   {
    "duration": 14,
    "start_time": "2024-10-06T05:58:43.365Z"
   },
   {
    "duration": 157,
    "start_time": "2024-10-06T05:58:43.380Z"
   },
   {
    "duration": 13,
    "start_time": "2024-10-06T05:58:43.539Z"
   },
   {
    "duration": 35,
    "start_time": "2024-10-06T05:58:43.553Z"
   },
   {
    "duration": 12,
    "start_time": "2024-10-06T05:58:43.589Z"
   },
   {
    "duration": 126,
    "start_time": "2024-10-06T05:58:43.602Z"
   },
   {
    "duration": 123,
    "start_time": "2024-10-06T05:58:43.730Z"
   },
   {
    "duration": 187,
    "start_time": "2024-10-06T05:58:43.855Z"
   },
   {
    "duration": 115,
    "start_time": "2024-10-06T05:58:44.043Z"
   },
   {
    "duration": 20,
    "start_time": "2024-10-06T05:58:44.161Z"
   },
   {
    "duration": 467,
    "start_time": "2024-10-06T05:58:44.183Z"
   },
   {
    "duration": 62,
    "start_time": "2024-10-06T05:58:44.652Z"
   },
   {
    "duration": 13,
    "start_time": "2024-10-06T05:58:44.716Z"
   },
   {
    "duration": 11,
    "start_time": "2024-10-06T05:58:44.731Z"
   },
   {
    "duration": 5,
    "start_time": "2024-10-06T05:58:44.744Z"
   },
   {
    "duration": 4,
    "start_time": "2024-10-06T05:58:44.777Z"
   },
   {
    "duration": 11,
    "start_time": "2024-10-06T05:58:44.783Z"
   },
   {
    "duration": 10,
    "start_time": "2024-10-06T05:58:44.799Z"
   },
   {
    "duration": 6,
    "start_time": "2024-10-06T05:58:44.810Z"
   },
   {
    "duration": 224,
    "start_time": "2024-10-06T05:58:44.818Z"
   },
   {
    "duration": 5,
    "start_time": "2024-10-06T05:58:45.044Z"
   },
   {
    "duration": 19,
    "start_time": "2024-10-06T05:58:45.051Z"
   },
   {
    "duration": 18,
    "start_time": "2024-10-06T05:58:45.075Z"
   },
   {
    "duration": 12,
    "start_time": "2024-10-06T06:16:48.100Z"
   },
   {
    "duration": 17,
    "start_time": "2024-10-06T06:16:56.950Z"
   },
   {
    "duration": 4,
    "start_time": "2024-10-06T06:18:37.030Z"
   },
   {
    "duration": 14,
    "start_time": "2024-10-06T06:19:14.293Z"
   },
   {
    "duration": 14,
    "start_time": "2024-10-06T06:19:23.685Z"
   },
   {
    "duration": 14,
    "start_time": "2024-10-06T06:19:39.166Z"
   },
   {
    "duration": 11,
    "start_time": "2024-10-06T06:20:24.149Z"
   },
   {
    "duration": 11,
    "start_time": "2024-10-06T06:20:47.413Z"
   },
   {
    "duration": 1122,
    "start_time": "2024-10-06T06:22:00.164Z"
   },
   {
    "duration": 123,
    "start_time": "2024-10-06T06:22:01.288Z"
   },
   {
    "duration": 3,
    "start_time": "2024-10-06T06:22:01.412Z"
   },
   {
    "duration": 46,
    "start_time": "2024-10-06T06:22:01.416Z"
   },
   {
    "duration": 21,
    "start_time": "2024-10-06T06:22:01.464Z"
   },
   {
    "duration": 391,
    "start_time": "2024-10-06T06:22:01.487Z"
   },
   {
    "duration": 17,
    "start_time": "2024-10-06T06:22:01.879Z"
   },
   {
    "duration": 29,
    "start_time": "2024-10-06T06:22:01.897Z"
   },
   {
    "duration": 11,
    "start_time": "2024-10-06T06:22:01.928Z"
   },
   {
    "duration": 23,
    "start_time": "2024-10-06T06:22:01.940Z"
   },
   {
    "duration": 13,
    "start_time": "2024-10-06T06:22:01.965Z"
   },
   {
    "duration": 17,
    "start_time": "2024-10-06T06:22:01.980Z"
   },
   {
    "duration": 56,
    "start_time": "2024-10-06T06:22:01.999Z"
   },
   {
    "duration": 11,
    "start_time": "2024-10-06T06:22:02.058Z"
   },
   {
    "duration": 23,
    "start_time": "2024-10-06T06:22:02.071Z"
   },
   {
    "duration": 183,
    "start_time": "2024-10-06T06:22:02.096Z"
   },
   {
    "duration": 7,
    "start_time": "2024-10-06T06:22:02.280Z"
   },
   {
    "duration": 185,
    "start_time": "2024-10-06T06:22:02.289Z"
   },
   {
    "duration": 7,
    "start_time": "2024-10-06T06:22:02.476Z"
   },
   {
    "duration": 328,
    "start_time": "2024-10-06T06:22:02.485Z"
   },
   {
    "duration": 9,
    "start_time": "2024-10-06T06:22:02.815Z"
   },
   {
    "duration": 8,
    "start_time": "2024-10-06T06:22:02.825Z"
   },
   {
    "duration": 135,
    "start_time": "2024-10-06T06:22:02.835Z"
   },
   {
    "duration": 5,
    "start_time": "2024-10-06T06:22:02.975Z"
   },
   {
    "duration": 136,
    "start_time": "2024-10-06T06:22:02.982Z"
   },
   {
    "duration": 10,
    "start_time": "2024-10-06T06:22:03.119Z"
   },
   {
    "duration": 24,
    "start_time": "2024-10-06T06:22:03.131Z"
   },
   {
    "duration": 29,
    "start_time": "2024-10-06T06:22:03.156Z"
   },
   {
    "duration": 122,
    "start_time": "2024-10-06T06:22:03.186Z"
   },
   {
    "duration": 119,
    "start_time": "2024-10-06T06:22:03.310Z"
   },
   {
    "duration": 184,
    "start_time": "2024-10-06T06:22:03.431Z"
   },
   {
    "duration": 111,
    "start_time": "2024-10-06T06:22:03.616Z"
   },
   {
    "duration": 7,
    "start_time": "2024-10-06T06:22:03.728Z"
   },
   {
    "duration": 501,
    "start_time": "2024-10-06T06:22:03.736Z"
   },
   {
    "duration": 62,
    "start_time": "2024-10-06T06:22:04.238Z"
   },
   {
    "duration": 13,
    "start_time": "2024-10-06T06:22:04.301Z"
   },
   {
    "duration": 11,
    "start_time": "2024-10-06T06:22:04.316Z"
   },
   {
    "duration": 12,
    "start_time": "2024-10-06T06:22:04.328Z"
   },
   {
    "duration": 45,
    "start_time": "2024-10-06T06:22:04.342Z"
   },
   {
    "duration": 14,
    "start_time": "2024-10-06T06:22:04.389Z"
   },
   {
    "duration": 12,
    "start_time": "2024-10-06T06:22:04.407Z"
   },
   {
    "duration": 17,
    "start_time": "2024-10-06T06:22:04.421Z"
   },
   {
    "duration": 202,
    "start_time": "2024-10-06T06:22:04.440Z"
   },
   {
    "duration": 11,
    "start_time": "2024-10-06T06:22:04.644Z"
   },
   {
    "duration": 19,
    "start_time": "2024-10-06T06:22:04.657Z"
   },
   {
    "duration": 5,
    "start_time": "2024-10-06T06:22:04.678Z"
   },
   {
    "duration": 15,
    "start_time": "2024-10-06T06:22:04.685Z"
   },
   {
    "duration": 1010,
    "start_time": "2024-10-06T06:24:42.011Z"
   },
   {
    "duration": 125,
    "start_time": "2024-10-06T06:24:43.023Z"
   },
   {
    "duration": 2,
    "start_time": "2024-10-06T06:24:43.150Z"
   },
   {
    "duration": 20,
    "start_time": "2024-10-06T06:24:43.153Z"
   },
   {
    "duration": 17,
    "start_time": "2024-10-06T06:24:43.175Z"
   },
   {
    "duration": 374,
    "start_time": "2024-10-06T06:24:43.193Z"
   },
   {
    "duration": 19,
    "start_time": "2024-10-06T06:24:43.569Z"
   },
   {
    "duration": 13,
    "start_time": "2024-10-06T06:24:43.590Z"
   },
   {
    "duration": 6,
    "start_time": "2024-10-06T06:24:43.604Z"
   },
   {
    "duration": 13,
    "start_time": "2024-10-06T06:24:43.611Z"
   },
   {
    "duration": 7,
    "start_time": "2024-10-06T06:24:43.625Z"
   },
   {
    "duration": 44,
    "start_time": "2024-10-06T06:24:43.633Z"
   },
   {
    "duration": 2,
    "start_time": "2024-10-06T06:24:43.679Z"
   },
   {
    "duration": 6,
    "start_time": "2024-10-06T06:24:43.684Z"
   },
   {
    "duration": 50,
    "start_time": "2024-10-06T06:24:43.691Z"
   },
   {
    "duration": 221,
    "start_time": "2024-10-06T06:24:43.742Z"
   },
   {
    "duration": 6,
    "start_time": "2024-10-06T06:24:43.964Z"
   },
   {
    "duration": 143,
    "start_time": "2024-10-06T06:24:43.972Z"
   },
   {
    "duration": 6,
    "start_time": "2024-10-06T06:24:44.116Z"
   },
   {
    "duration": 277,
    "start_time": "2024-10-06T06:24:44.123Z"
   },
   {
    "duration": 10,
    "start_time": "2024-10-06T06:24:44.401Z"
   },
   {
    "duration": 13,
    "start_time": "2024-10-06T06:24:44.412Z"
   },
   {
    "duration": 131,
    "start_time": "2024-10-06T06:24:44.427Z"
   },
   {
    "duration": 5,
    "start_time": "2024-10-06T06:24:44.560Z"
   },
   {
    "duration": 175,
    "start_time": "2024-10-06T06:24:44.576Z"
   },
   {
    "duration": 10,
    "start_time": "2024-10-06T06:24:44.752Z"
   },
   {
    "duration": 33,
    "start_time": "2024-10-06T06:24:44.764Z"
   },
   {
    "duration": 12,
    "start_time": "2024-10-06T06:24:44.799Z"
   },
   {
    "duration": 126,
    "start_time": "2024-10-06T06:24:44.812Z"
   },
   {
    "duration": 121,
    "start_time": "2024-10-06T06:24:44.940Z"
   },
   {
    "duration": 197,
    "start_time": "2024-10-06T06:24:45.063Z"
   },
   {
    "duration": 117,
    "start_time": "2024-10-06T06:24:45.262Z"
   },
   {
    "duration": 7,
    "start_time": "2024-10-06T06:24:45.382Z"
   },
   {
    "duration": 478,
    "start_time": "2024-10-06T06:24:45.391Z"
   },
   {
    "duration": 53,
    "start_time": "2024-10-06T06:24:45.870Z"
   },
   {
    "duration": 13,
    "start_time": "2024-10-06T06:24:45.925Z"
   },
   {
    "duration": 10,
    "start_time": "2024-10-06T06:24:45.940Z"
   },
   {
    "duration": 27,
    "start_time": "2024-10-06T06:24:45.952Z"
   },
   {
    "duration": 3,
    "start_time": "2024-10-06T06:24:45.981Z"
   },
   {
    "duration": 54,
    "start_time": "2024-10-06T06:24:45.986Z"
   },
   {
    "duration": 21,
    "start_time": "2024-10-06T06:24:46.044Z"
   },
   {
    "duration": 5,
    "start_time": "2024-10-06T06:24:46.067Z"
   },
   {
    "duration": 206,
    "start_time": "2024-10-06T06:24:46.073Z"
   },
   {
    "duration": 5,
    "start_time": "2024-10-06T06:24:46.281Z"
   },
   {
    "duration": 4,
    "start_time": "2024-10-06T06:24:46.288Z"
   },
   {
    "duration": 12,
    "start_time": "2024-10-06T06:24:46.293Z"
   },
   {
    "duration": 1072,
    "start_time": "2024-10-06T06:25:20.864Z"
   },
   {
    "duration": 132,
    "start_time": "2024-10-06T06:25:21.938Z"
   },
   {
    "duration": 3,
    "start_time": "2024-10-06T06:25:22.072Z"
   },
   {
    "duration": 23,
    "start_time": "2024-10-06T06:25:22.076Z"
   },
   {
    "duration": 17,
    "start_time": "2024-10-06T06:25:22.101Z"
   },
   {
    "duration": 407,
    "start_time": "2024-10-06T06:25:22.120Z"
   },
   {
    "duration": 16,
    "start_time": "2024-10-06T06:25:22.529Z"
   },
   {
    "duration": 31,
    "start_time": "2024-10-06T06:25:22.546Z"
   },
   {
    "duration": 6,
    "start_time": "2024-10-06T06:25:22.578Z"
   },
   {
    "duration": 50,
    "start_time": "2024-10-06T06:25:22.586Z"
   },
   {
    "duration": 8,
    "start_time": "2024-10-06T06:25:22.638Z"
   },
   {
    "duration": 11,
    "start_time": "2024-10-06T06:25:22.647Z"
   },
   {
    "duration": 2,
    "start_time": "2024-10-06T06:25:22.660Z"
   },
   {
    "duration": 6,
    "start_time": "2024-10-06T06:25:22.665Z"
   },
   {
    "duration": 5,
    "start_time": "2024-10-06T06:25:22.673Z"
   },
   {
    "duration": 179,
    "start_time": "2024-10-06T06:25:22.679Z"
   },
   {
    "duration": 6,
    "start_time": "2024-10-06T06:25:22.860Z"
   },
   {
    "duration": 152,
    "start_time": "2024-10-06T06:25:22.867Z"
   },
   {
    "duration": 6,
    "start_time": "2024-10-06T06:25:23.020Z"
   },
   {
    "duration": 283,
    "start_time": "2024-10-06T06:25:23.028Z"
   },
   {
    "duration": 9,
    "start_time": "2024-10-06T06:25:23.312Z"
   },
   {
    "duration": 6,
    "start_time": "2024-10-06T06:25:23.322Z"
   },
   {
    "duration": 145,
    "start_time": "2024-10-06T06:25:23.330Z"
   },
   {
    "duration": 4,
    "start_time": "2024-10-06T06:25:23.478Z"
   },
   {
    "duration": 133,
    "start_time": "2024-10-06T06:25:23.484Z"
   },
   {
    "duration": 10,
    "start_time": "2024-10-06T06:25:23.618Z"
   },
   {
    "duration": 23,
    "start_time": "2024-10-06T06:25:23.630Z"
   },
   {
    "duration": 29,
    "start_time": "2024-10-06T06:25:23.655Z"
   },
   {
    "duration": 128,
    "start_time": "2024-10-06T06:25:23.686Z"
   },
   {
    "duration": 117,
    "start_time": "2024-10-06T06:25:23.816Z"
   },
   {
    "duration": 186,
    "start_time": "2024-10-06T06:25:23.935Z"
   },
   {
    "duration": 113,
    "start_time": "2024-10-06T06:25:24.123Z"
   },
   {
    "duration": 8,
    "start_time": "2024-10-06T06:25:24.237Z"
   },
   {
    "duration": 484,
    "start_time": "2024-10-06T06:25:24.246Z"
   },
   {
    "duration": 56,
    "start_time": "2024-10-06T06:25:24.732Z"
   },
   {
    "duration": 12,
    "start_time": "2024-10-06T06:25:24.789Z"
   },
   {
    "duration": 11,
    "start_time": "2024-10-06T06:25:24.803Z"
   },
   {
    "duration": 7,
    "start_time": "2024-10-06T06:25:24.816Z"
   },
   {
    "duration": 3,
    "start_time": "2024-10-06T06:25:24.825Z"
   },
   {
    "duration": 5,
    "start_time": "2024-10-06T06:25:24.829Z"
   },
   {
    "duration": 39,
    "start_time": "2024-10-06T06:25:24.838Z"
   },
   {
    "duration": 6,
    "start_time": "2024-10-06T06:25:24.879Z"
   },
   {
    "duration": 213,
    "start_time": "2024-10-06T06:25:24.887Z"
   },
   {
    "duration": 5,
    "start_time": "2024-10-06T06:25:25.102Z"
   },
   {
    "duration": 5,
    "start_time": "2024-10-06T06:25:25.108Z"
   },
   {
    "duration": 12,
    "start_time": "2024-10-06T06:25:25.115Z"
   },
   {
    "duration": 1221,
    "start_time": "2024-10-06T10:04:19.864Z"
   },
   {
    "duration": 356,
    "start_time": "2024-10-06T10:04:21.087Z"
   },
   {
    "duration": 3,
    "start_time": "2024-10-06T10:04:21.445Z"
   },
   {
    "duration": 38,
    "start_time": "2024-10-06T10:04:21.450Z"
   },
   {
    "duration": 28,
    "start_time": "2024-10-06T10:04:21.490Z"
   },
   {
    "duration": 399,
    "start_time": "2024-10-06T10:04:21.520Z"
   },
   {
    "duration": 15,
    "start_time": "2024-10-06T10:04:21.920Z"
   },
   {
    "duration": 63,
    "start_time": "2024-10-06T10:04:21.937Z"
   },
   {
    "duration": 30,
    "start_time": "2024-10-06T10:04:22.002Z"
   },
   {
    "duration": 16,
    "start_time": "2024-10-06T10:04:22.035Z"
   },
   {
    "duration": 9,
    "start_time": "2024-10-06T10:04:22.053Z"
   },
   {
    "duration": 28,
    "start_time": "2024-10-06T10:04:22.064Z"
   },
   {
    "duration": 3,
    "start_time": "2024-10-06T10:04:22.094Z"
   },
   {
    "duration": 28,
    "start_time": "2024-10-06T10:04:22.099Z"
   },
   {
    "duration": 13,
    "start_time": "2024-10-06T10:04:22.129Z"
   },
   {
    "duration": 176,
    "start_time": "2024-10-06T10:04:22.145Z"
   },
   {
    "duration": 8,
    "start_time": "2024-10-06T10:04:22.323Z"
   },
   {
    "duration": 158,
    "start_time": "2024-10-06T10:04:22.333Z"
   },
   {
    "duration": 6,
    "start_time": "2024-10-06T10:04:22.493Z"
   },
   {
    "duration": 279,
    "start_time": "2024-10-06T10:04:22.501Z"
   },
   {
    "duration": 9,
    "start_time": "2024-10-06T10:04:22.782Z"
   },
   {
    "duration": 15,
    "start_time": "2024-10-06T10:04:22.792Z"
   },
   {
    "duration": 148,
    "start_time": "2024-10-06T10:04:22.809Z"
   },
   {
    "duration": 5,
    "start_time": "2024-10-06T10:04:22.958Z"
   },
   {
    "duration": 138,
    "start_time": "2024-10-06T10:04:22.964Z"
   },
   {
    "duration": 15,
    "start_time": "2024-10-06T10:04:23.103Z"
   },
   {
    "duration": 38,
    "start_time": "2024-10-06T10:04:23.120Z"
   },
   {
    "duration": 12,
    "start_time": "2024-10-06T10:04:23.161Z"
   },
   {
    "duration": 141,
    "start_time": "2024-10-06T10:04:23.175Z"
   },
   {
    "duration": 126,
    "start_time": "2024-10-06T10:04:23.318Z"
   },
   {
    "duration": 188,
    "start_time": "2024-10-06T10:04:23.446Z"
   },
   {
    "duration": 121,
    "start_time": "2024-10-06T10:04:23.636Z"
   },
   {
    "duration": 7,
    "start_time": "2024-10-06T10:04:23.759Z"
   },
   {
    "duration": 464,
    "start_time": "2024-10-06T10:04:23.768Z"
   },
   {
    "duration": 61,
    "start_time": "2024-10-06T10:04:24.233Z"
   },
   {
    "duration": 16,
    "start_time": "2024-10-06T10:04:24.296Z"
   },
   {
    "duration": 14,
    "start_time": "2024-10-06T10:04:24.314Z"
   },
   {
    "duration": 25,
    "start_time": "2024-10-06T10:04:24.330Z"
   },
   {
    "duration": 5,
    "start_time": "2024-10-06T10:04:24.358Z"
   },
   {
    "duration": 6,
    "start_time": "2024-10-06T10:04:24.364Z"
   },
   {
    "duration": 12,
    "start_time": "2024-10-06T10:04:24.371Z"
   },
   {
    "duration": 12,
    "start_time": "2024-10-06T10:04:24.386Z"
   },
   {
    "duration": 249,
    "start_time": "2024-10-06T10:04:24.399Z"
   },
   {
    "duration": 5,
    "start_time": "2024-10-06T10:04:24.656Z"
   },
   {
    "duration": 6,
    "start_time": "2024-10-06T10:04:24.663Z"
   },
   {
    "duration": 11,
    "start_time": "2024-10-06T10:04:24.670Z"
   },
   {
    "duration": 150,
    "start_time": "2024-10-06T10:10:50.889Z"
   },
   {
    "duration": 289,
    "start_time": "2024-10-06T10:11:37.808Z"
   },
   {
    "duration": 140,
    "start_time": "2024-10-06T10:14:59.292Z"
   },
   {
    "duration": 139,
    "start_time": "2024-10-06T10:15:28.381Z"
   },
   {
    "duration": 235,
    "start_time": "2024-10-06T10:15:32.487Z"
   },
   {
    "duration": 141,
    "start_time": "2024-10-06T10:15:45.420Z"
   },
   {
    "duration": 134,
    "start_time": "2024-10-06T10:25:54.796Z"
   },
   {
    "duration": 138,
    "start_time": "2024-10-06T10:59:09.223Z"
   },
   {
    "duration": 150,
    "start_time": "2024-10-06T10:59:52.831Z"
   },
   {
    "duration": 150,
    "start_time": "2024-10-06T11:00:07.614Z"
   },
   {
    "duration": 467,
    "start_time": "2024-10-06T11:11:00.130Z"
   },
   {
    "duration": 741,
    "start_time": "2024-10-06T11:15:33.511Z"
   },
   {
    "duration": 125,
    "start_time": "2024-10-06T11:19:27.308Z"
   },
   {
    "duration": 121,
    "start_time": "2024-10-06T11:19:33.686Z"
   },
   {
    "duration": 5,
    "start_time": "2024-10-06T11:19:57.825Z"
   },
   {
    "duration": 440,
    "start_time": "2024-10-06T11:31:20.312Z"
   },
   {
    "duration": 322,
    "start_time": "2024-10-06T11:34:30.635Z"
   },
   {
    "duration": 551,
    "start_time": "2024-10-06T11:35:39.192Z"
   },
   {
    "duration": 335,
    "start_time": "2024-10-06T11:36:18.492Z"
   },
   {
    "duration": 588,
    "start_time": "2024-10-06T11:45:37.421Z"
   },
   {
    "duration": 507,
    "start_time": "2024-10-06T11:50:02.012Z"
   },
   {
    "duration": 648,
    "start_time": "2024-10-06T11:50:44.656Z"
   },
   {
    "duration": 556,
    "start_time": "2024-10-06T11:50:54.765Z"
   },
   {
    "duration": 531,
    "start_time": "2024-10-06T11:51:01.002Z"
   },
   {
    "duration": 556,
    "start_time": "2024-10-06T11:54:46.464Z"
   },
   {
    "duration": 550,
    "start_time": "2024-10-06T12:00:23.661Z"
   },
   {
    "duration": 1076,
    "start_time": "2024-10-06T12:06:01.074Z"
   },
   {
    "duration": 128,
    "start_time": "2024-10-06T12:06:02.152Z"
   },
   {
    "duration": 3,
    "start_time": "2024-10-06T12:06:02.281Z"
   },
   {
    "duration": 134,
    "start_time": "2024-10-06T12:06:02.286Z"
   },
   {
    "duration": 47,
    "start_time": "2024-10-06T12:06:02.421Z"
   },
   {
    "duration": 392,
    "start_time": "2024-10-06T12:06:02.470Z"
   },
   {
    "duration": 16,
    "start_time": "2024-10-06T12:06:02.863Z"
   },
   {
    "duration": 30,
    "start_time": "2024-10-06T12:06:02.881Z"
   },
   {
    "duration": 22,
    "start_time": "2024-10-06T12:06:02.913Z"
   },
   {
    "duration": 43,
    "start_time": "2024-10-06T12:06:02.938Z"
   },
   {
    "duration": 35,
    "start_time": "2024-10-06T12:06:02.983Z"
   },
   {
    "duration": 40,
    "start_time": "2024-10-06T12:06:03.020Z"
   },
   {
    "duration": 22,
    "start_time": "2024-10-06T12:06:03.062Z"
   },
   {
    "duration": 112,
    "start_time": "2024-10-06T12:06:03.086Z"
   },
   {
    "duration": 38,
    "start_time": "2024-10-06T12:06:03.199Z"
   },
   {
    "duration": 186,
    "start_time": "2024-10-06T12:06:03.238Z"
   },
   {
    "duration": 6,
    "start_time": "2024-10-06T12:06:03.426Z"
   },
   {
    "duration": 174,
    "start_time": "2024-10-06T12:06:03.433Z"
   },
   {
    "duration": 6,
    "start_time": "2024-10-06T12:06:03.608Z"
   },
   {
    "duration": 301,
    "start_time": "2024-10-06T12:06:03.616Z"
   },
   {
    "duration": 8,
    "start_time": "2024-10-06T12:06:03.919Z"
   },
   {
    "duration": 33,
    "start_time": "2024-10-06T12:06:03.929Z"
   },
   {
    "duration": 196,
    "start_time": "2024-10-06T12:06:03.964Z"
   },
   {
    "duration": 5,
    "start_time": "2024-10-06T12:06:04.162Z"
   },
   {
    "duration": 210,
    "start_time": "2024-10-06T12:06:04.168Z"
   },
   {
    "duration": 12,
    "start_time": "2024-10-06T12:06:04.381Z"
   },
   {
    "duration": 60,
    "start_time": "2024-10-06T12:06:04.395Z"
   },
   {
    "duration": 25,
    "start_time": "2024-10-06T12:06:04.460Z"
   },
   {
    "duration": 555,
    "start_time": "2024-10-06T12:06:04.487Z"
   },
   {
    "duration": 13,
    "start_time": "2024-10-06T12:06:05.044Z"
   },
   {
    "duration": 40,
    "start_time": "2024-10-06T12:06:05.058Z"
   },
   {
    "duration": 817,
    "start_time": "2024-10-06T12:06:05.100Z"
   },
   {
    "duration": 61,
    "start_time": "2024-10-06T12:06:05.918Z"
   },
   {
    "duration": 13,
    "start_time": "2024-10-06T12:06:05.980Z"
   },
   {
    "duration": 29,
    "start_time": "2024-10-06T12:06:05.994Z"
   },
   {
    "duration": 29,
    "start_time": "2024-10-06T12:06:06.025Z"
   },
   {
    "duration": 48,
    "start_time": "2024-10-06T12:06:06.056Z"
   },
   {
    "duration": 21,
    "start_time": "2024-10-06T12:06:06.105Z"
   },
   {
    "duration": 13,
    "start_time": "2024-10-06T12:06:06.128Z"
   },
   {
    "duration": 75,
    "start_time": "2024-10-06T12:06:06.143Z"
   },
   {
    "duration": 197,
    "start_time": "2024-10-06T12:06:06.219Z"
   },
   {
    "duration": 5,
    "start_time": "2024-10-06T12:06:06.418Z"
   },
   {
    "duration": 32,
    "start_time": "2024-10-06T12:06:06.424Z"
   },
   {
    "duration": 17,
    "start_time": "2024-10-06T12:06:06.458Z"
   },
   {
    "duration": 668,
    "start_time": "2024-10-06T12:06:23.690Z"
   },
   {
    "duration": 597,
    "start_time": "2024-10-06T12:06:35.948Z"
   },
   {
    "duration": 693,
    "start_time": "2024-10-06T12:06:41.275Z"
   },
   {
    "duration": 151,
    "start_time": "2024-10-06T12:06:56.948Z"
   },
   {
    "duration": 167,
    "start_time": "2024-10-06T12:07:00.917Z"
   },
   {
    "duration": 289,
    "start_time": "2024-10-06T12:07:12.016Z"
   },
   {
    "duration": 139,
    "start_time": "2024-10-06T12:07:19.556Z"
   },
   {
    "duration": 132,
    "start_time": "2024-10-06T12:07:24.184Z"
   },
   {
    "duration": 1186,
    "start_time": "2024-10-06T12:09:25.973Z"
   },
   {
    "duration": 172,
    "start_time": "2024-10-06T12:09:27.161Z"
   },
   {
    "duration": 4,
    "start_time": "2024-10-06T12:09:27.336Z"
   },
   {
    "duration": 34,
    "start_time": "2024-10-06T12:09:27.342Z"
   },
   {
    "duration": 20,
    "start_time": "2024-10-06T12:09:27.378Z"
   },
   {
    "duration": 413,
    "start_time": "2024-10-06T12:09:27.399Z"
   },
   {
    "duration": 16,
    "start_time": "2024-10-06T12:09:27.814Z"
   },
   {
    "duration": 31,
    "start_time": "2024-10-06T12:09:27.831Z"
   },
   {
    "duration": 6,
    "start_time": "2024-10-06T12:09:27.863Z"
   },
   {
    "duration": 13,
    "start_time": "2024-10-06T12:09:27.871Z"
   },
   {
    "duration": 7,
    "start_time": "2024-10-06T12:09:27.885Z"
   },
   {
    "duration": 11,
    "start_time": "2024-10-06T12:09:27.893Z"
   },
   {
    "duration": 3,
    "start_time": "2024-10-06T12:09:27.905Z"
   },
   {
    "duration": 15,
    "start_time": "2024-10-06T12:09:27.909Z"
   },
   {
    "duration": 35,
    "start_time": "2024-10-06T12:09:27.925Z"
   },
   {
    "duration": 174,
    "start_time": "2024-10-06T12:09:27.961Z"
   },
   {
    "duration": 6,
    "start_time": "2024-10-06T12:09:28.137Z"
   },
   {
    "duration": 151,
    "start_time": "2024-10-06T12:09:28.156Z"
   },
   {
    "duration": 7,
    "start_time": "2024-10-06T12:09:28.309Z"
   },
   {
    "duration": 342,
    "start_time": "2024-10-06T12:09:28.317Z"
   },
   {
    "duration": 9,
    "start_time": "2024-10-06T12:09:28.661Z"
   },
   {
    "duration": 5,
    "start_time": "2024-10-06T12:09:28.672Z"
   },
   {
    "duration": 173,
    "start_time": "2024-10-06T12:09:28.679Z"
   },
   {
    "duration": 5,
    "start_time": "2024-10-06T12:09:28.854Z"
   },
   {
    "duration": 147,
    "start_time": "2024-10-06T12:09:28.860Z"
   },
   {
    "duration": 10,
    "start_time": "2024-10-06T12:09:29.009Z"
   },
   {
    "duration": 36,
    "start_time": "2024-10-06T12:09:29.020Z"
   },
   {
    "duration": 12,
    "start_time": "2024-10-06T12:09:29.060Z"
   },
   {
    "duration": 569,
    "start_time": "2024-10-06T12:09:29.073Z"
   },
   {
    "duration": 13,
    "start_time": "2024-10-06T12:09:29.644Z"
   },
   {
    "duration": 5,
    "start_time": "2024-10-06T12:09:29.659Z"
   },
   {
    "duration": 795,
    "start_time": "2024-10-06T12:09:29.666Z"
   },
   {
    "duration": 51,
    "start_time": "2024-10-06T12:09:30.463Z"
   },
   {
    "duration": 12,
    "start_time": "2024-10-06T12:09:30.516Z"
   },
   {
    "duration": 31,
    "start_time": "2024-10-06T12:09:30.530Z"
   },
   {
    "duration": 7,
    "start_time": "2024-10-06T12:09:30.563Z"
   },
   {
    "duration": 6,
    "start_time": "2024-10-06T12:09:30.572Z"
   },
   {
    "duration": 10,
    "start_time": "2024-10-06T12:09:30.579Z"
   },
   {
    "duration": 23,
    "start_time": "2024-10-06T12:09:30.591Z"
   },
   {
    "duration": 23,
    "start_time": "2024-10-06T12:09:30.616Z"
   },
   {
    "duration": 211,
    "start_time": "2024-10-06T12:09:30.641Z"
   },
   {
    "duration": 4,
    "start_time": "2024-10-06T12:09:30.854Z"
   },
   {
    "duration": 20,
    "start_time": "2024-10-06T12:09:30.860Z"
   },
   {
    "duration": 23,
    "start_time": "2024-10-06T12:09:30.882Z"
   },
   {
    "duration": 1076,
    "start_time": "2024-10-06T13:14:11.653Z"
   },
   {
    "duration": 99,
    "start_time": "2024-10-06T13:14:12.731Z"
   },
   {
    "duration": 4,
    "start_time": "2024-10-06T13:14:12.831Z"
   },
   {
    "duration": 22,
    "start_time": "2024-10-06T13:14:12.836Z"
   },
   {
    "duration": 24,
    "start_time": "2024-10-06T13:14:12.861Z"
   },
   {
    "duration": 375,
    "start_time": "2024-10-06T13:14:12.887Z"
   },
   {
    "duration": 27,
    "start_time": "2024-10-06T13:14:13.264Z"
   },
   {
    "duration": 24,
    "start_time": "2024-10-06T13:14:13.293Z"
   },
   {
    "duration": 6,
    "start_time": "2024-10-06T13:14:13.319Z"
   },
   {
    "duration": 21,
    "start_time": "2024-10-06T13:14:13.327Z"
   },
   {
    "duration": 26,
    "start_time": "2024-10-06T13:14:13.350Z"
   },
   {
    "duration": 12,
    "start_time": "2024-10-06T13:14:13.378Z"
   },
   {
    "duration": 3,
    "start_time": "2024-10-06T13:14:13.392Z"
   },
   {
    "duration": 7,
    "start_time": "2024-10-06T13:14:13.397Z"
   },
   {
    "duration": 5,
    "start_time": "2024-10-06T13:14:13.405Z"
   },
   {
    "duration": 193,
    "start_time": "2024-10-06T13:14:13.411Z"
   },
   {
    "duration": 6,
    "start_time": "2024-10-06T13:14:13.606Z"
   },
   {
    "duration": 161,
    "start_time": "2024-10-06T13:14:13.614Z"
   },
   {
    "duration": 6,
    "start_time": "2024-10-06T13:14:13.777Z"
   },
   {
    "duration": 321,
    "start_time": "2024-10-06T13:14:13.785Z"
   },
   {
    "duration": 8,
    "start_time": "2024-10-06T13:14:14.108Z"
   },
   {
    "duration": 5,
    "start_time": "2024-10-06T13:14:14.118Z"
   },
   {
    "duration": 162,
    "start_time": "2024-10-06T13:14:14.124Z"
   },
   {
    "duration": 5,
    "start_time": "2024-10-06T13:14:14.288Z"
   },
   {
    "duration": 154,
    "start_time": "2024-10-06T13:14:14.295Z"
   },
   {
    "duration": 10,
    "start_time": "2024-10-06T13:14:14.450Z"
   },
   {
    "duration": 35,
    "start_time": "2024-10-06T13:14:14.462Z"
   },
   {
    "duration": 13,
    "start_time": "2024-10-06T13:14:14.499Z"
   },
   {
    "duration": 563,
    "start_time": "2024-10-06T13:14:14.513Z"
   },
   {
    "duration": 7,
    "start_time": "2024-10-06T13:14:15.078Z"
   },
   {
    "duration": 39,
    "start_time": "2024-10-06T13:14:15.086Z"
   },
   {
    "duration": 698,
    "start_time": "2024-10-06T13:14:15.126Z"
   },
   {
    "duration": 53,
    "start_time": "2024-10-06T13:14:15.825Z"
   },
   {
    "duration": 12,
    "start_time": "2024-10-06T13:14:15.880Z"
   },
   {
    "duration": 15,
    "start_time": "2024-10-06T13:14:15.894Z"
   },
   {
    "duration": 7,
    "start_time": "2024-10-06T13:14:15.911Z"
   },
   {
    "duration": 6,
    "start_time": "2024-10-06T13:14:15.920Z"
   },
   {
    "duration": 4,
    "start_time": "2024-10-06T13:14:15.928Z"
   },
   {
    "duration": 16,
    "start_time": "2024-10-06T13:14:15.933Z"
   },
   {
    "duration": 7,
    "start_time": "2024-10-06T13:14:15.975Z"
   },
   {
    "duration": 218,
    "start_time": "2024-10-06T13:14:15.985Z"
   },
   {
    "duration": 5,
    "start_time": "2024-10-06T13:14:16.204Z"
   },
   {
    "duration": 6,
    "start_time": "2024-10-06T13:14:16.211Z"
   },
   {
    "duration": 11,
    "start_time": "2024-10-06T13:14:16.218Z"
   },
   {
    "duration": 1125,
    "start_time": "2024-10-06T13:20:35.371Z"
   },
   {
    "duration": 99,
    "start_time": "2024-10-06T13:20:36.498Z"
   },
   {
    "duration": 3,
    "start_time": "2024-10-06T13:20:36.598Z"
   },
   {
    "duration": 30,
    "start_time": "2024-10-06T13:20:36.603Z"
   },
   {
    "duration": 17,
    "start_time": "2024-10-06T13:20:36.635Z"
   },
   {
    "duration": 389,
    "start_time": "2024-10-06T13:20:36.653Z"
   },
   {
    "duration": 18,
    "start_time": "2024-10-06T13:20:37.044Z"
   },
   {
    "duration": 18,
    "start_time": "2024-10-06T13:20:37.076Z"
   },
   {
    "duration": 5,
    "start_time": "2024-10-06T13:20:37.096Z"
   },
   {
    "duration": 17,
    "start_time": "2024-10-06T13:20:37.104Z"
   },
   {
    "duration": 16,
    "start_time": "2024-10-06T13:20:37.123Z"
   },
   {
    "duration": 12,
    "start_time": "2024-10-06T13:20:37.140Z"
   },
   {
    "duration": 31,
    "start_time": "2024-10-06T13:20:37.176Z"
   },
   {
    "duration": 20,
    "start_time": "2024-10-06T13:20:37.209Z"
   },
   {
    "duration": 6,
    "start_time": "2024-10-06T13:20:37.230Z"
   },
   {
    "duration": 171,
    "start_time": "2024-10-06T13:20:37.237Z"
   },
   {
    "duration": 6,
    "start_time": "2024-10-06T13:20:37.410Z"
   },
   {
    "duration": 169,
    "start_time": "2024-10-06T13:20:37.417Z"
   },
   {
    "duration": 6,
    "start_time": "2024-10-06T13:20:37.587Z"
   },
   {
    "duration": 306,
    "start_time": "2024-10-06T13:20:37.595Z"
   },
   {
    "duration": 9,
    "start_time": "2024-10-06T13:20:37.902Z"
   },
   {
    "duration": 5,
    "start_time": "2024-10-06T13:20:37.912Z"
   },
   {
    "duration": 162,
    "start_time": "2024-10-06T13:20:37.918Z"
   },
   {
    "duration": 5,
    "start_time": "2024-10-06T13:20:38.082Z"
   },
   {
    "duration": 179,
    "start_time": "2024-10-06T13:20:38.089Z"
   },
   {
    "duration": 10,
    "start_time": "2024-10-06T13:20:38.275Z"
   },
   {
    "duration": 70,
    "start_time": "2024-10-06T13:20:38.286Z"
   },
   {
    "duration": 13,
    "start_time": "2024-10-06T13:20:38.360Z"
   },
   {
    "duration": 581,
    "start_time": "2024-10-06T13:20:38.374Z"
   },
   {
    "duration": 19,
    "start_time": "2024-10-06T13:20:38.957Z"
   },
   {
    "duration": 6,
    "start_time": "2024-10-06T13:20:38.977Z"
   },
   {
    "duration": 767,
    "start_time": "2024-10-06T13:20:38.984Z"
   },
   {
    "duration": 61,
    "start_time": "2024-10-06T13:20:39.752Z"
   },
   {
    "duration": 13,
    "start_time": "2024-10-06T13:20:39.814Z"
   },
   {
    "duration": 46,
    "start_time": "2024-10-06T13:20:39.828Z"
   },
   {
    "duration": 7,
    "start_time": "2024-10-06T13:20:39.876Z"
   },
   {
    "duration": 5,
    "start_time": "2024-10-06T13:20:39.884Z"
   },
   {
    "duration": 5,
    "start_time": "2024-10-06T13:20:39.890Z"
   },
   {
    "duration": 15,
    "start_time": "2024-10-06T13:20:39.897Z"
   },
   {
    "duration": 8,
    "start_time": "2024-10-06T13:20:39.914Z"
   },
   {
    "duration": 258,
    "start_time": "2024-10-06T13:20:39.924Z"
   },
   {
    "duration": 6,
    "start_time": "2024-10-06T13:20:40.183Z"
   },
   {
    "duration": 7,
    "start_time": "2024-10-06T13:20:40.190Z"
   },
   {
    "duration": 12,
    "start_time": "2024-10-06T13:20:40.198Z"
   },
   {
    "duration": 1002,
    "start_time": "2024-10-06T13:21:05.728Z"
   },
   {
    "duration": 101,
    "start_time": "2024-10-06T13:21:06.732Z"
   },
   {
    "duration": 3,
    "start_time": "2024-10-06T13:21:06.835Z"
   },
   {
    "duration": 22,
    "start_time": "2024-10-06T13:21:06.840Z"
   },
   {
    "duration": 19,
    "start_time": "2024-10-06T13:21:06.864Z"
   },
   {
    "duration": 395,
    "start_time": "2024-10-06T13:21:06.885Z"
   },
   {
    "duration": 17,
    "start_time": "2024-10-06T13:21:07.282Z"
   },
   {
    "duration": 69,
    "start_time": "2024-10-06T13:21:07.301Z"
   },
   {
    "duration": 6,
    "start_time": "2024-10-06T13:21:07.372Z"
   },
   {
    "duration": 28,
    "start_time": "2024-10-06T13:21:07.380Z"
   },
   {
    "duration": 8,
    "start_time": "2024-10-06T13:21:07.410Z"
   },
   {
    "duration": 17,
    "start_time": "2024-10-06T13:21:07.420Z"
   },
   {
    "duration": 3,
    "start_time": "2024-10-06T13:21:07.438Z"
   },
   {
    "duration": 6,
    "start_time": "2024-10-06T13:21:07.445Z"
   },
   {
    "duration": 24,
    "start_time": "2024-10-06T13:21:07.453Z"
   },
   {
    "duration": 176,
    "start_time": "2024-10-06T13:21:07.479Z"
   },
   {
    "duration": 5,
    "start_time": "2024-10-06T13:21:07.657Z"
   },
   {
    "duration": 168,
    "start_time": "2024-10-06T13:21:07.676Z"
   },
   {
    "duration": 6,
    "start_time": "2024-10-06T13:21:07.845Z"
   },
   {
    "duration": 445,
    "start_time": "2024-10-06T13:21:07.852Z"
   },
   {
    "duration": 8,
    "start_time": "2024-10-06T13:21:08.298Z"
   },
   {
    "duration": 36,
    "start_time": "2024-10-06T13:21:08.307Z"
   },
   {
    "duration": 141,
    "start_time": "2024-10-06T13:21:08.345Z"
   },
   {
    "duration": 5,
    "start_time": "2024-10-06T13:21:08.488Z"
   },
   {
    "duration": 154,
    "start_time": "2024-10-06T13:21:08.495Z"
   },
   {
    "duration": 9,
    "start_time": "2024-10-06T13:21:08.651Z"
   },
   {
    "duration": 38,
    "start_time": "2024-10-06T13:21:08.662Z"
   },
   {
    "duration": 13,
    "start_time": "2024-10-06T13:21:08.702Z"
   },
   {
    "duration": 568,
    "start_time": "2024-10-06T13:21:08.717Z"
   },
   {
    "duration": 7,
    "start_time": "2024-10-06T13:21:09.287Z"
   },
   {
    "duration": 38,
    "start_time": "2024-10-06T13:21:09.296Z"
   },
   {
    "duration": 697,
    "start_time": "2024-10-06T13:21:09.335Z"
   },
   {
    "duration": 59,
    "start_time": "2024-10-06T13:21:10.033Z"
   },
   {
    "duration": 12,
    "start_time": "2024-10-06T13:21:10.093Z"
   },
   {
    "duration": 12,
    "start_time": "2024-10-06T13:21:10.106Z"
   },
   {
    "duration": 12,
    "start_time": "2024-10-06T13:21:10.120Z"
   },
   {
    "duration": 4,
    "start_time": "2024-10-06T13:21:10.134Z"
   },
   {
    "duration": 5,
    "start_time": "2024-10-06T13:21:10.140Z"
   },
   {
    "duration": 39,
    "start_time": "2024-10-06T13:21:10.146Z"
   },
   {
    "duration": 6,
    "start_time": "2024-10-06T13:21:10.187Z"
   },
   {
    "duration": 220,
    "start_time": "2024-10-06T13:21:10.197Z"
   },
   {
    "duration": 7,
    "start_time": "2024-10-06T13:21:10.418Z"
   },
   {
    "duration": 10,
    "start_time": "2024-10-06T13:21:10.427Z"
   },
   {
    "duration": 14,
    "start_time": "2024-10-06T13:21:10.439Z"
   },
   {
    "duration": 1019,
    "start_time": "2024-10-06T13:21:41.218Z"
   },
   {
    "duration": 122,
    "start_time": "2024-10-06T13:21:42.238Z"
   },
   {
    "duration": 3,
    "start_time": "2024-10-06T13:21:42.362Z"
   },
   {
    "duration": 23,
    "start_time": "2024-10-06T13:21:42.368Z"
   },
   {
    "duration": 19,
    "start_time": "2024-10-06T13:21:42.392Z"
   },
   {
    "duration": 399,
    "start_time": "2024-10-06T13:21:42.412Z"
   },
   {
    "duration": 17,
    "start_time": "2024-10-06T13:21:42.813Z"
   },
   {
    "duration": 18,
    "start_time": "2024-10-06T13:21:42.831Z"
   },
   {
    "duration": 30,
    "start_time": "2024-10-06T13:21:42.851Z"
   },
   {
    "duration": 13,
    "start_time": "2024-10-06T13:21:42.883Z"
   },
   {
    "duration": 7,
    "start_time": "2024-10-06T13:21:42.898Z"
   },
   {
    "duration": 11,
    "start_time": "2024-10-06T13:21:42.906Z"
   },
   {
    "duration": 13,
    "start_time": "2024-10-06T13:21:42.919Z"
   },
   {
    "duration": 44,
    "start_time": "2024-10-06T13:21:42.933Z"
   },
   {
    "duration": 7,
    "start_time": "2024-10-06T13:21:42.978Z"
   },
   {
    "duration": 180,
    "start_time": "2024-10-06T13:21:42.987Z"
   },
   {
    "duration": 6,
    "start_time": "2024-10-06T13:21:43.175Z"
   },
   {
    "duration": 173,
    "start_time": "2024-10-06T13:21:43.182Z"
   },
   {
    "duration": 6,
    "start_time": "2024-10-06T13:21:43.356Z"
   },
   {
    "duration": 280,
    "start_time": "2024-10-06T13:21:43.364Z"
   },
   {
    "duration": 8,
    "start_time": "2024-10-06T13:21:43.645Z"
   },
   {
    "duration": 21,
    "start_time": "2024-10-06T13:21:43.655Z"
   },
   {
    "duration": 147,
    "start_time": "2024-10-06T13:21:43.677Z"
   },
   {
    "duration": 6,
    "start_time": "2024-10-06T13:21:43.826Z"
   },
   {
    "duration": 159,
    "start_time": "2024-10-06T13:21:43.833Z"
   },
   {
    "duration": 10,
    "start_time": "2024-10-06T13:21:43.994Z"
   },
   {
    "duration": 25,
    "start_time": "2024-10-06T13:21:44.005Z"
   },
   {
    "duration": 12,
    "start_time": "2024-10-06T13:21:44.033Z"
   },
   {
    "duration": 623,
    "start_time": "2024-10-06T13:21:44.047Z"
   },
   {
    "duration": 7,
    "start_time": "2024-10-06T13:21:44.675Z"
   },
   {
    "duration": 7,
    "start_time": "2024-10-06T13:21:44.684Z"
   },
   {
    "duration": 756,
    "start_time": "2024-10-06T13:21:44.693Z"
   },
   {
    "duration": 69,
    "start_time": "2024-10-06T13:21:45.451Z"
   },
   {
    "duration": 12,
    "start_time": "2024-10-06T13:21:45.522Z"
   },
   {
    "duration": 11,
    "start_time": "2024-10-06T13:21:45.536Z"
   },
   {
    "duration": 10,
    "start_time": "2024-10-06T13:21:45.548Z"
   },
   {
    "duration": 5,
    "start_time": "2024-10-06T13:21:45.575Z"
   },
   {
    "duration": 7,
    "start_time": "2024-10-06T13:21:45.582Z"
   },
   {
    "duration": 12,
    "start_time": "2024-10-06T13:21:45.591Z"
   },
   {
    "duration": 11,
    "start_time": "2024-10-06T13:21:45.604Z"
   },
   {
    "duration": 223,
    "start_time": "2024-10-06T13:21:45.616Z"
   },
   {
    "duration": 6,
    "start_time": "2024-10-06T13:21:45.840Z"
   },
   {
    "duration": 26,
    "start_time": "2024-10-06T13:21:45.847Z"
   },
   {
    "duration": 18,
    "start_time": "2024-10-06T13:21:45.875Z"
   },
   {
    "duration": 1161,
    "start_time": "2025-03-01T09:47:31.202Z"
   },
   {
    "duration": 137,
    "start_time": "2025-03-01T09:47:32.365Z"
   },
   {
    "duration": 3,
    "start_time": "2025-03-01T09:47:32.503Z"
   },
   {
    "duration": 26,
    "start_time": "2025-03-01T09:47:32.507Z"
   },
   {
    "duration": 20,
    "start_time": "2025-03-01T09:47:32.535Z"
   },
   {
    "duration": 359,
    "start_time": "2025-03-01T09:47:32.556Z"
   },
   {
    "duration": 14,
    "start_time": "2025-03-01T09:47:32.916Z"
   },
   {
    "duration": 31,
    "start_time": "2025-03-01T09:47:32.931Z"
   },
   {
    "duration": 5,
    "start_time": "2025-03-01T09:47:32.964Z"
   },
   {
    "duration": 30,
    "start_time": "2025-03-01T09:47:32.972Z"
   },
   {
    "duration": 12,
    "start_time": "2025-03-01T09:47:33.004Z"
   },
   {
    "duration": 10,
    "start_time": "2025-03-01T09:47:33.017Z"
   },
   {
    "duration": 28,
    "start_time": "2025-03-01T09:47:33.028Z"
   },
   {
    "duration": 7,
    "start_time": "2025-03-01T09:47:33.060Z"
   },
   {
    "duration": 26,
    "start_time": "2025-03-01T09:47:33.068Z"
   },
   {
    "duration": 158,
    "start_time": "2025-03-01T09:47:33.096Z"
   },
   {
    "duration": 7,
    "start_time": "2025-03-01T09:47:33.255Z"
   },
   {
    "duration": 161,
    "start_time": "2025-03-01T09:47:33.263Z"
   },
   {
    "duration": 6,
    "start_time": "2025-03-01T09:47:33.425Z"
   },
   {
    "duration": 286,
    "start_time": "2025-03-01T09:47:33.432Z"
   },
   {
    "duration": 8,
    "start_time": "2025-03-01T09:47:33.720Z"
   },
   {
    "duration": 9,
    "start_time": "2025-03-01T09:47:33.729Z"
   },
   {
    "duration": 171,
    "start_time": "2025-03-01T09:47:33.749Z"
   },
   {
    "duration": 5,
    "start_time": "2025-03-01T09:47:33.921Z"
   },
   {
    "duration": 233,
    "start_time": "2025-03-01T09:47:33.927Z"
   },
   {
    "duration": 39,
    "start_time": "2025-03-01T09:47:34.162Z"
   },
   {
    "duration": 22,
    "start_time": "2025-03-01T09:47:34.203Z"
   },
   {
    "duration": 11,
    "start_time": "2025-03-01T09:47:34.228Z"
   },
   {
    "duration": 580,
    "start_time": "2025-03-01T09:47:34.241Z"
   },
   {
    "duration": 7,
    "start_time": "2025-03-01T09:47:34.822Z"
   },
   {
    "duration": 61,
    "start_time": "2025-03-01T09:47:34.830Z"
   },
   {
    "duration": 687,
    "start_time": "2025-03-01T09:47:34.893Z"
   },
   {
    "duration": 104,
    "start_time": "2025-03-01T09:47:35.582Z"
   },
   {
    "duration": 0,
    "start_time": "2025-03-01T09:47:35.687Z"
   },
   {
    "duration": 0,
    "start_time": "2025-03-01T09:47:35.688Z"
   },
   {
    "duration": 0,
    "start_time": "2025-03-01T09:47:35.689Z"
   },
   {
    "duration": 0,
    "start_time": "2025-03-01T09:47:35.690Z"
   },
   {
    "duration": 0,
    "start_time": "2025-03-01T09:47:35.691Z"
   },
   {
    "duration": 0,
    "start_time": "2025-03-01T09:47:35.692Z"
   },
   {
    "duration": 0,
    "start_time": "2025-03-01T09:47:35.693Z"
   },
   {
    "duration": 0,
    "start_time": "2025-03-01T09:47:35.694Z"
   },
   {
    "duration": 0,
    "start_time": "2025-03-01T09:47:35.695Z"
   },
   {
    "duration": 0,
    "start_time": "2025-03-01T09:47:35.696Z"
   },
   {
    "duration": 0,
    "start_time": "2025-03-01T09:47:35.697Z"
   },
   {
    "duration": 0,
    "start_time": "2025-03-01T09:47:35.698Z"
   },
   {
    "duration": 202,
    "start_time": "2025-03-01T09:51:57.447Z"
   },
   {
    "duration": 605,
    "start_time": "2025-03-01T10:14:07.826Z"
   },
   {
    "duration": 148,
    "start_time": "2025-03-01T10:14:42.351Z"
   },
   {
    "duration": 212,
    "start_time": "2025-03-01T10:15:37.931Z"
   },
   {
    "duration": 185,
    "start_time": "2025-03-01T10:25:48.587Z"
   },
   {
    "duration": 1051,
    "start_time": "2025-03-01T10:35:24.169Z"
   },
   {
    "duration": 112,
    "start_time": "2025-03-01T10:35:25.222Z"
   },
   {
    "duration": 3,
    "start_time": "2025-03-01T10:35:25.335Z"
   },
   {
    "duration": 86,
    "start_time": "2025-03-01T10:35:25.340Z"
   },
   {
    "duration": 16,
    "start_time": "2025-03-01T10:35:25.427Z"
   },
   {
    "duration": 360,
    "start_time": "2025-03-01T10:35:25.444Z"
   },
   {
    "duration": 16,
    "start_time": "2025-03-01T10:35:25.806Z"
   },
   {
    "duration": 31,
    "start_time": "2025-03-01T10:35:25.825Z"
   },
   {
    "duration": 11,
    "start_time": "2025-03-01T10:35:25.858Z"
   },
   {
    "duration": 13,
    "start_time": "2025-03-01T10:35:25.872Z"
   },
   {
    "duration": 8,
    "start_time": "2025-03-01T10:35:25.886Z"
   },
   {
    "duration": 18,
    "start_time": "2025-03-01T10:35:25.895Z"
   },
   {
    "duration": 37,
    "start_time": "2025-03-01T10:35:25.914Z"
   },
   {
    "duration": 8,
    "start_time": "2025-03-01T10:35:25.953Z"
   },
   {
    "duration": 15,
    "start_time": "2025-03-01T10:35:25.963Z"
   },
   {
    "duration": 191,
    "start_time": "2025-03-01T10:35:25.980Z"
   },
   {
    "duration": 7,
    "start_time": "2025-03-01T10:35:26.173Z"
   },
   {
    "duration": 149,
    "start_time": "2025-03-01T10:35:26.181Z"
   },
   {
    "duration": 6,
    "start_time": "2025-03-01T10:35:26.331Z"
   },
   {
    "duration": 313,
    "start_time": "2025-03-01T10:35:26.339Z"
   },
   {
    "duration": 7,
    "start_time": "2025-03-01T10:35:26.654Z"
   },
   {
    "duration": 6,
    "start_time": "2025-03-01T10:35:26.662Z"
   },
   {
    "duration": 154,
    "start_time": "2025-03-01T10:35:26.670Z"
   },
   {
    "duration": 5,
    "start_time": "2025-03-01T10:35:26.826Z"
   },
   {
    "duration": 137,
    "start_time": "2025-03-01T10:35:26.832Z"
   },
   {
    "duration": 10,
    "start_time": "2025-03-01T10:35:26.970Z"
   },
   {
    "duration": 52,
    "start_time": "2025-03-01T10:35:26.981Z"
   },
   {
    "duration": 88,
    "start_time": "2025-03-01T10:35:27.037Z"
   },
   {
    "duration": 574,
    "start_time": "2025-03-01T10:35:27.127Z"
   },
   {
    "duration": 7,
    "start_time": "2025-03-01T10:35:27.703Z"
   },
   {
    "duration": 32,
    "start_time": "2025-03-01T10:35:27.711Z"
   },
   {
    "duration": 707,
    "start_time": "2025-03-01T10:35:27.744Z"
   },
   {
    "duration": 53,
    "start_time": "2025-03-01T10:35:28.453Z"
   },
   {
    "duration": 11,
    "start_time": "2025-03-01T10:35:28.508Z"
   },
   {
    "duration": 29,
    "start_time": "2025-03-01T10:35:28.520Z"
   },
   {
    "duration": 6,
    "start_time": "2025-03-01T10:35:28.551Z"
   },
   {
    "duration": 4,
    "start_time": "2025-03-01T10:35:28.559Z"
   },
   {
    "duration": 7,
    "start_time": "2025-03-01T10:35:28.565Z"
   },
   {
    "duration": 10,
    "start_time": "2025-03-01T10:35:28.573Z"
   },
   {
    "duration": 11,
    "start_time": "2025-03-01T10:35:28.584Z"
   },
   {
    "duration": 222,
    "start_time": "2025-03-01T10:35:28.596Z"
   },
   {
    "duration": 4,
    "start_time": "2025-03-01T10:35:28.820Z"
   },
   {
    "duration": 4,
    "start_time": "2025-03-01T10:35:28.826Z"
   },
   {
    "duration": 25,
    "start_time": "2025-03-01T10:35:28.832Z"
   },
   {
    "duration": 45,
    "start_time": "2025-03-02T08:58:19.562Z"
   },
   {
    "duration": 1179,
    "start_time": "2025-03-02T08:58:24.184Z"
   },
   {
    "duration": 120,
    "start_time": "2025-03-02T08:58:25.365Z"
   },
   {
    "duration": 2,
    "start_time": "2025-03-02T08:58:25.487Z"
   },
   {
    "duration": 82,
    "start_time": "2025-03-02T08:58:25.491Z"
   },
   {
    "duration": 25,
    "start_time": "2025-03-02T08:58:25.574Z"
   },
   {
    "duration": 363,
    "start_time": "2025-03-02T08:58:25.600Z"
   },
   {
    "duration": 14,
    "start_time": "2025-03-02T08:58:25.964Z"
   },
   {
    "duration": 21,
    "start_time": "2025-03-02T08:58:25.980Z"
   },
   {
    "duration": 7,
    "start_time": "2025-03-02T08:58:26.003Z"
   },
   {
    "duration": 35,
    "start_time": "2025-03-02T08:58:26.013Z"
   },
   {
    "duration": 8,
    "start_time": "2025-03-02T08:58:26.050Z"
   },
   {
    "duration": 13,
    "start_time": "2025-03-02T08:58:26.059Z"
   },
   {
    "duration": 11,
    "start_time": "2025-03-02T08:58:26.074Z"
   },
   {
    "duration": 18,
    "start_time": "2025-03-02T08:58:26.086Z"
   },
   {
    "duration": 8,
    "start_time": "2025-03-02T08:58:26.106Z"
   },
   {
    "duration": 170,
    "start_time": "2025-03-02T08:58:26.115Z"
   },
   {
    "duration": 5,
    "start_time": "2025-03-02T08:58:26.287Z"
   },
   {
    "duration": 146,
    "start_time": "2025-03-02T08:58:26.294Z"
   },
   {
    "duration": 6,
    "start_time": "2025-03-02T08:58:26.447Z"
   },
   {
    "duration": 326,
    "start_time": "2025-03-02T08:58:26.454Z"
   },
   {
    "duration": 9,
    "start_time": "2025-03-02T08:58:26.781Z"
   },
   {
    "duration": 6,
    "start_time": "2025-03-02T08:58:26.791Z"
   },
   {
    "duration": 152,
    "start_time": "2025-03-02T08:58:26.799Z"
   },
   {
    "duration": 5,
    "start_time": "2025-03-02T08:58:26.953Z"
   },
   {
    "duration": 137,
    "start_time": "2025-03-02T08:58:26.960Z"
   },
   {
    "duration": 9,
    "start_time": "2025-03-02T08:58:27.099Z"
   },
   {
    "duration": 53,
    "start_time": "2025-03-02T08:58:27.110Z"
   },
   {
    "duration": 82,
    "start_time": "2025-03-02T08:58:27.166Z"
   },
   {
    "duration": 580,
    "start_time": "2025-03-02T08:58:27.250Z"
   },
   {
    "duration": 7,
    "start_time": "2025-03-02T08:58:27.832Z"
   },
   {
    "duration": 11,
    "start_time": "2025-03-02T08:58:27.840Z"
   },
   {
    "duration": 652,
    "start_time": "2025-03-02T08:58:27.852Z"
   },
   {
    "duration": 116,
    "start_time": "2025-03-02T08:58:28.506Z"
   },
   {
    "duration": 58,
    "start_time": "2025-03-02T08:58:28.624Z"
   },
   {
    "duration": 13,
    "start_time": "2025-03-02T08:58:28.684Z"
   },
   {
    "duration": 11,
    "start_time": "2025-03-02T08:58:28.698Z"
   },
   {
    "duration": 12,
    "start_time": "2025-03-02T08:58:28.711Z"
   },
   {
    "duration": 25,
    "start_time": "2025-03-02T08:58:28.724Z"
   },
   {
    "duration": 4,
    "start_time": "2025-03-02T08:58:28.751Z"
   },
   {
    "duration": 35,
    "start_time": "2025-03-02T08:58:28.757Z"
   },
   {
    "duration": 6,
    "start_time": "2025-03-02T08:58:28.794Z"
   },
   {
    "duration": 169,
    "start_time": "2025-03-02T08:58:28.802Z"
   },
   {
    "duration": 5,
    "start_time": "2025-03-02T08:58:28.973Z"
   },
   {
    "duration": 11,
    "start_time": "2025-03-02T08:58:28.980Z"
   },
   {
    "duration": 11,
    "start_time": "2025-03-02T08:58:28.992Z"
   },
   {
    "duration": 125,
    "start_time": "2025-03-02T09:06:55.451Z"
   },
   {
    "duration": 142,
    "start_time": "2025-03-02T09:12:59.333Z"
   },
   {
    "duration": 151,
    "start_time": "2025-03-02T09:13:12.717Z"
   }
  ],
  "celltoolbar": "Отсутствует",
  "kernelspec": {
   "display_name": "Python 3 (ipykernel)",
   "language": "python",
   "name": "python3"
  },
  "language_info": {
   "codemirror_mode": {
    "name": "ipython",
    "version": 3
   },
   "file_extension": ".py",
   "mimetype": "text/x-python",
   "name": "python",
   "nbconvert_exporter": "python",
   "pygments_lexer": "ipython3",
   "version": "3.9.5"
  },
  "toc": {
   "base_numbering": 1,
   "nav_menu": {
    "height": "11.6px",
    "width": "265.6px"
   },
   "number_sections": true,
   "sideBar": true,
   "skip_h1_title": true,
   "title_cell": "Table of Contents",
   "title_sidebar": "Contents",
   "toc_cell": false,
   "toc_position": {
    "height": "calc(100% - 180px)",
    "left": "10px",
    "top": "150px",
    "width": "303.837px"
   },
   "toc_section_display": true,
   "toc_window_display": false
  }
 },
 "nbformat": 4,
 "nbformat_minor": 5
}
